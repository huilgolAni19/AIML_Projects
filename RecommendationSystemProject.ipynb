{
 "cells": [
  {
   "cell_type": "markdown",
   "metadata": {
    "id": "JXUrS43K8V31"
   },
   "source": [
    "<center><h3><u><b>Recommendation Systems Project</b></u></h3></center>\n",
    "\n",
    "<b><h4><u>Domain:</u></h4></b> E-commerce \n",
    "\n",
    "<h4><b><u>Data Description:</u></b></h4>\n",
    "Amazon Reviews data (data source) The repository has several datasets. For this\n",
    "case study, we are using the Electronics dataset.\n",
    "</p>\n",
    "\n",
    "<h4><b><u>Context:</u></b></h4>\n",
    "<p>Online E-commerce websites like Amazon, Flipkart uses different\n",
    "recommendation models to provide different suggestions to different users.\n",
    "Amazon currently uses item-to-item collaborative filtering, which scales to\n",
    "massive data sets and produces high-quality recommendations in real-time.\n",
    "</p>\n",
    "<h4><b><u>Attribute Information:</u></b></h4>\n",
    "<ul>\n",
    "  <li>userId &nbsp;&nbsp;&nbsp;&nbsp;&nbsp;&nbsp;&nbsp;&nbsp; : Every user identified with a unique id</li>\n",
    "  <li>productId &nbsp;&nbsp;&nbsp;: Every product identified with a unique id</li>\n",
    "  <li>Rating &nbsp;&nbsp;&nbsp;&nbsp;&nbsp;&nbsp;&nbsp;&nbsp;&nbsp;: Rating of the corresponding product by the corresponding\n",
    "user</li>\n",
    "  <li>timestamp &nbsp;: Time of the rating ( ignore this column for this exercise)</li>\n",
    "</ul>"
   ]
  },
  {
   "cell_type": "markdown",
   "metadata": {
    "id": "hPLv-Jfs_U9G"
   },
   "source": [
    "**Importing necessarylibraries**"
   ]
  },
  {
   "cell_type": "code",
   "execution_count": 1,
   "metadata": {
    "id": "vPIzIsbLNnRh"
   },
   "outputs": [],
   "source": [
    "import numpy as np\n",
    "import pandas as pd\n",
    "import math\n",
    "import json\n",
    "import time\n",
    "import matplotlib.pyplot as plt\n",
    "import seaborn as sns\n",
    "from sklearn.metrics.pairwise import cosine_similarity\n",
    "from sklearn.model_selection import train_test_split\n",
    "from sklearn.neighbors import NearestNeighbors\n",
    "import scipy.sparse\n",
    "from scipy.sparse import csr_matrix\n",
    "import warnings\n",
    "warnings.simplefilter('ignore')\n",
    "%matplotlib inline"
   ]
  },
  {
   "cell_type": "code",
   "execution_count": 2,
   "metadata": {
    "id": "MD0Em4Jf4GAb"
   },
   "outputs": [],
   "source": [
    "dataset_path = \"/content/drive/My Drive/GreatLearning/Recommendation Systems/ratings_Electronics.csv\""
   ]
  },
  {
   "cell_type": "code",
   "execution_count": 3,
   "metadata": {
    "colab": {
     "base_uri": "https://localhost:8080/",
     "height": 204
    },
    "id": "HCby1Xnb4RCo",
    "outputId": "9f422d01-ecfd-4925-b8fb-964404b71e7a"
   },
   "outputs": [
    {
     "data": {
      "text/html": [
       "<div>\n",
       "<style scoped>\n",
       "    .dataframe tbody tr th:only-of-type {\n",
       "        vertical-align: middle;\n",
       "    }\n",
       "\n",
       "    .dataframe tbody tr th {\n",
       "        vertical-align: top;\n",
       "    }\n",
       "\n",
       "    .dataframe thead th {\n",
       "        text-align: right;\n",
       "    }\n",
       "</style>\n",
       "<table border=\"1\" class=\"dataframe\">\n",
       "  <thead>\n",
       "    <tr style=\"text-align: right;\">\n",
       "      <th></th>\n",
       "      <th>UserID</th>\n",
       "      <th>ProductID</th>\n",
       "      <th>ProductRating</th>\n",
       "    </tr>\n",
       "  </thead>\n",
       "  <tbody>\n",
       "    <tr>\n",
       "      <th>0</th>\n",
       "      <td>AKM1MP6P0OYPR</td>\n",
       "      <td>0132793040</td>\n",
       "      <td>5.0</td>\n",
       "    </tr>\n",
       "    <tr>\n",
       "      <th>1</th>\n",
       "      <td>A2CX7LUOHB2NDG</td>\n",
       "      <td>0321732944</td>\n",
       "      <td>5.0</td>\n",
       "    </tr>\n",
       "    <tr>\n",
       "      <th>2</th>\n",
       "      <td>A2NWSAGRHCP8N5</td>\n",
       "      <td>0439886341</td>\n",
       "      <td>1.0</td>\n",
       "    </tr>\n",
       "    <tr>\n",
       "      <th>3</th>\n",
       "      <td>A2WNBOD3WNDNKT</td>\n",
       "      <td>0439886341</td>\n",
       "      <td>3.0</td>\n",
       "    </tr>\n",
       "    <tr>\n",
       "      <th>4</th>\n",
       "      <td>A1GI0U4ZRJA8WN</td>\n",
       "      <td>0439886341</td>\n",
       "      <td>1.0</td>\n",
       "    </tr>\n",
       "  </tbody>\n",
       "</table>\n",
       "</div>"
      ],
      "text/plain": [
       "           UserID   ProductID  ProductRating\n",
       "0   AKM1MP6P0OYPR  0132793040            5.0\n",
       "1  A2CX7LUOHB2NDG  0321732944            5.0\n",
       "2  A2NWSAGRHCP8N5  0439886341            1.0\n",
       "3  A2WNBOD3WNDNKT  0439886341            3.0\n",
       "4  A1GI0U4ZRJA8WN  0439886341            1.0"
      ]
     },
     "execution_count": 3,
     "metadata": {
      "tags": []
     },
     "output_type": "execute_result"
    }
   ],
   "source": [
    "product_dataset = pd.read_csv(dataset_path, header=None)\n",
    "product_dataset.columns = ['UserID', 'ProductID', 'ProductRating', 'Timestamp']\n",
    "product_dataset = product_dataset.iloc[:, :-1]\n",
    "product_dataset.head()"
   ]
  },
  {
   "cell_type": "code",
   "execution_count": 4,
   "metadata": {
    "colab": {
     "base_uri": "https://localhost:8080/",
     "height": 85
    },
    "id": "zfdA_WrLI6Ii",
    "outputId": "66d0427c-0965-4cab-e33f-116e95b34427"
   },
   "outputs": [
    {
     "data": {
      "text/plain": [
       "UserID            object\n",
       "ProductID         object\n",
       "ProductRating    float64\n",
       "dtype: object"
      ]
     },
     "execution_count": 4,
     "metadata": {
      "tags": []
     },
     "output_type": "execute_result"
    }
   ],
   "source": [
    "product_dataset.dtypes"
   ]
  },
  {
   "cell_type": "code",
   "execution_count": 5,
   "metadata": {
    "colab": {
     "base_uri": "https://localhost:8080/",
     "height": 34
    },
    "id": "DjkCIjxwOH6Z",
    "outputId": "a61bf86f-7112-487a-fc18-7ccfcb546fac"
   },
   "outputs": [
    {
     "data": {
      "text/plain": [
       "(7824482, 3)"
      ]
     },
     "execution_count": 5,
     "metadata": {
      "tags": []
     },
     "output_type": "execute_result"
    }
   ],
   "source": [
    "product_dataset.shape"
   ]
  },
  {
   "cell_type": "code",
   "execution_count": 6,
   "metadata": {
    "colab": {
     "base_uri": "https://localhost:8080/",
     "height": 142
    },
    "id": "hlZwmxH0EHGw",
    "outputId": "0caf17ae-06a2-4ed9-8aee-8027d4c5f1cb"
   },
   "outputs": [
    {
     "data": {
      "text/html": [
       "<div>\n",
       "<style scoped>\n",
       "    .dataframe tbody tr th:only-of-type {\n",
       "        vertical-align: middle;\n",
       "    }\n",
       "\n",
       "    .dataframe tbody tr th {\n",
       "        vertical-align: top;\n",
       "    }\n",
       "\n",
       "    .dataframe thead th {\n",
       "        text-align: right;\n",
       "    }\n",
       "</style>\n",
       "<table border=\"1\" class=\"dataframe\">\n",
       "  <thead>\n",
       "    <tr style=\"text-align: right;\">\n",
       "      <th></th>\n",
       "      <th>Column</th>\n",
       "      <th>Null Count</th>\n",
       "      <th>Is Null</th>\n",
       "    </tr>\n",
       "  </thead>\n",
       "  <tbody>\n",
       "    <tr>\n",
       "      <th>0</th>\n",
       "      <td>UserID</td>\n",
       "      <td>0</td>\n",
       "      <td>False</td>\n",
       "    </tr>\n",
       "    <tr>\n",
       "      <th>1</th>\n",
       "      <td>ProductID</td>\n",
       "      <td>0</td>\n",
       "      <td>False</td>\n",
       "    </tr>\n",
       "    <tr>\n",
       "      <th>2</th>\n",
       "      <td>ProductRating</td>\n",
       "      <td>0</td>\n",
       "      <td>False</td>\n",
       "    </tr>\n",
       "  </tbody>\n",
       "</table>\n",
       "</div>"
      ],
      "text/plain": [
       "          Column  Null Count  Is Null\n",
       "0         UserID           0    False\n",
       "1      ProductID           0    False\n",
       "2  ProductRating           0    False"
      ]
     },
     "execution_count": 6,
     "metadata": {
      "tags": []
     },
     "output_type": "execute_result"
    }
   ],
   "source": [
    "null_val_df = pd.DataFrame(product_dataset.isnull().sum().index, columns=[\"Column\"])\n",
    "null_val_df[\"Null Count\"] = list(product_dataset.isnull().sum())\n",
    "null_val_df[\"Is Null\"] = list(product_dataset.isnull().any())\n",
    "null_val_df"
   ]
  },
  {
   "cell_type": "markdown",
   "metadata": {
    "id": "yJe5-Ll_FS4K"
   },
   "source": [
    "<b><h4><u>Observation:</u></h4></b>\n",
    "<p>There are no missing values</p>"
   ]
  },
  {
   "cell_type": "code",
   "execution_count": 7,
   "metadata": {
    "colab": {
     "base_uri": "https://localhost:8080/",
     "height": 80
    },
    "id": "wpqItjx_RKcM",
    "outputId": "2be091d9-ddb4-4d1c-829b-e3c38ee8df22"
   },
   "outputs": [
    {
     "data": {
      "text/html": [
       "<div>\n",
       "<style scoped>\n",
       "    .dataframe tbody tr th:only-of-type {\n",
       "        vertical-align: middle;\n",
       "    }\n",
       "\n",
       "    .dataframe tbody tr th {\n",
       "        vertical-align: top;\n",
       "    }\n",
       "\n",
       "    .dataframe thead th {\n",
       "        text-align: right;\n",
       "    }\n",
       "</style>\n",
       "<table border=\"1\" class=\"dataframe\">\n",
       "  <thead>\n",
       "    <tr style=\"text-align: right;\">\n",
       "      <th></th>\n",
       "      <th>count</th>\n",
       "      <th>mean</th>\n",
       "      <th>std</th>\n",
       "      <th>min</th>\n",
       "      <th>25%</th>\n",
       "      <th>50%</th>\n",
       "      <th>75%</th>\n",
       "      <th>max</th>\n",
       "    </tr>\n",
       "  </thead>\n",
       "  <tbody>\n",
       "    <tr>\n",
       "      <th>ProductRating</th>\n",
       "      <td>7824482.0</td>\n",
       "      <td>4.012337</td>\n",
       "      <td>1.38091</td>\n",
       "      <td>1.0</td>\n",
       "      <td>3.0</td>\n",
       "      <td>5.0</td>\n",
       "      <td>5.0</td>\n",
       "      <td>5.0</td>\n",
       "    </tr>\n",
       "  </tbody>\n",
       "</table>\n",
       "</div>"
      ],
      "text/plain": [
       "                   count      mean      std  min  25%  50%  75%  max\n",
       "ProductRating  7824482.0  4.012337  1.38091  1.0  3.0  5.0  5.0  5.0"
      ]
     },
     "execution_count": 7,
     "metadata": {
      "tags": []
     },
     "output_type": "execute_result"
    }
   ],
   "source": [
    "product_dataset.describe().T"
   ]
  },
  {
   "cell_type": "markdown",
   "metadata": {
    "id": "tubecEu3FhYN"
   },
   "source": [
    "**Finding out unique values in product rating**"
   ]
  },
  {
   "cell_type": "code",
   "execution_count": 8,
   "metadata": {
    "colab": {
     "base_uri": "https://localhost:8080/",
     "height": 34
    },
    "id": "kyKYg_hHROUC",
    "outputId": "13341c4d-6f7e-4236-dfd3-b00342f1dccf"
   },
   "outputs": [
    {
     "data": {
      "text/plain": [
       "array([5., 1., 3., 2., 4.])"
      ]
     },
     "execution_count": 8,
     "metadata": {
      "tags": []
     },
     "output_type": "execute_result"
    }
   ],
   "source": [
    "product_dataset.ProductRating.unique()"
   ]
  },
  {
   "cell_type": "markdown",
   "metadata": {
    "id": "3puCMfZkFnjz"
   },
   "source": [
    "**Finding out unique values in product id**"
   ]
  },
  {
   "cell_type": "code",
   "execution_count": 9,
   "metadata": {
    "colab": {
     "base_uri": "https://localhost:8080/",
     "height": 51
    },
    "id": "0NQGC7CuSlEz",
    "outputId": "6589be76-caee-4ff8-e7d0-1a0819b46002"
   },
   "outputs": [
    {
     "data": {
      "text/plain": [
       "array(['0132793040', '0321732944', '0439886341', ..., 'BT008T2BGK',\n",
       "       'BT008UKTMW', 'BT008V9J9U'], dtype=object)"
      ]
     },
     "execution_count": 9,
     "metadata": {
      "tags": []
     },
     "output_type": "execute_result"
    }
   ],
   "source": [
    "product_dataset.ProductID.unique()"
   ]
  },
  {
   "cell_type": "markdown",
   "metadata": {
    "id": "4CizlQcVFveg"
   },
   "source": [
    "**Finding out unique values in UserID**"
   ]
  },
  {
   "cell_type": "code",
   "execution_count": 10,
   "metadata": {
    "colab": {
     "base_uri": "https://localhost:8080/",
     "height": 51
    },
    "id": "hbM8zdvyW2UY",
    "outputId": "a1227ec2-a847-453f-8f55-1a42ae44559c"
   },
   "outputs": [
    {
     "data": {
      "text/plain": [
       "array(['AKM1MP6P0OYPR', 'A2CX7LUOHB2NDG', 'A2NWSAGRHCP8N5', ...,\n",
       "       'A180UGKKYCPDH0', 'A2IGIIABRZ5LAB', 'A10M2KEFPEQDHN'], dtype=object)"
      ]
     },
     "execution_count": 10,
     "metadata": {
      "tags": []
     },
     "output_type": "execute_result"
    }
   ],
   "source": [
    "product_dataset.UserID.unique()"
   ]
  },
  {
   "cell_type": "code",
   "execution_count": 11,
   "metadata": {
    "colab": {
     "base_uri": "https://localhost:8080/",
     "height": 307
    },
    "id": "1JrnOtYlW8TG",
    "outputId": "6e7f6342-17b8-4635-8dba-56dfe25d35a2"
   },
   "outputs": [
    {
     "data": {
      "text/plain": [
       "<matplotlib.axes._subplots.AxesSubplot at 0x7fec8b0ef748>"
      ]
     },
     "execution_count": 11,
     "metadata": {
      "tags": []
     },
     "output_type": "execute_result"
    },
    {
     "data": {
      "image/png": "[encoded data removed]",
      "text/plain": [
       "<Figure size 432x288 with 1 Axes>"
      ]
     },
     "metadata": {
      "needs_background": "light",
      "tags": []
     },
     "output_type": "display_data"
    }
   ],
   "source": [
    "sns.countplot(data=product_dataset , x='ProductRating')"
   ]
  },
  {
   "cell_type": "markdown",
   "metadata": {
    "id": "31vibHQfF7Wj"
   },
   "source": [
    "<h4><b><u>Observation:</u></b></h4>\n",
    "<p>We can see that there are many product whose raiting is 5.0</p>"
   ]
  },
  {
   "cell_type": "markdown",
   "metadata": {
    "id": "E9YS1_VuHnUW"
   },
   "source": [
    "**For more accurate results only consider users who have rated atleast 50 or more Product**"
   ]
  },
  {
   "cell_type": "code",
   "execution_count": 12,
   "metadata": {
    "colab": {
     "base_uri": "https://localhost:8080/",
     "height": 359
    },
    "id": "8w1kc6KyHXIM",
    "outputId": "70ee1a12-432c-4563-d5ab-36516ad412dd"
   },
   "outputs": [
    {
     "data": {
      "text/html": [
       "<div>\n",
       "<style scoped>\n",
       "    .dataframe tbody tr th:only-of-type {\n",
       "        vertical-align: middle;\n",
       "    }\n",
       "\n",
       "    .dataframe tbody tr th {\n",
       "        vertical-align: top;\n",
       "    }\n",
       "\n",
       "    .dataframe thead th {\n",
       "        text-align: right;\n",
       "    }\n",
       "</style>\n",
       "<table border=\"1\" class=\"dataframe\">\n",
       "  <thead>\n",
       "    <tr style=\"text-align: right;\">\n",
       "      <th></th>\n",
       "      <th>UserID</th>\n",
       "      <th>ProductID</th>\n",
       "      <th>ProductRating</th>\n",
       "    </tr>\n",
       "  </thead>\n",
       "  <tbody>\n",
       "    <tr>\n",
       "      <th>94</th>\n",
       "      <td>A3BY5KCNQZXV5U</td>\n",
       "      <td>0594451647</td>\n",
       "      <td>5.0</td>\n",
       "    </tr>\n",
       "    <tr>\n",
       "      <th>118</th>\n",
       "      <td>AT09WGFUM934H</td>\n",
       "      <td>0594481813</td>\n",
       "      <td>3.0</td>\n",
       "    </tr>\n",
       "    <tr>\n",
       "      <th>177</th>\n",
       "      <td>A32HSNCNPRUMTR</td>\n",
       "      <td>0970407998</td>\n",
       "      <td>1.0</td>\n",
       "    </tr>\n",
       "    <tr>\n",
       "      <th>178</th>\n",
       "      <td>A17HMM1M7T9PJ1</td>\n",
       "      <td>0970407998</td>\n",
       "      <td>4.0</td>\n",
       "    </tr>\n",
       "    <tr>\n",
       "      <th>492</th>\n",
       "      <td>A3CLWR1UUZT6TG</td>\n",
       "      <td>0972683275</td>\n",
       "      <td>5.0</td>\n",
       "    </tr>\n",
       "    <tr>\n",
       "      <th>631</th>\n",
       "      <td>A3TAS1AG6FMBQW</td>\n",
       "      <td>0972683275</td>\n",
       "      <td>5.0</td>\n",
       "    </tr>\n",
       "    <tr>\n",
       "      <th>1003</th>\n",
       "      <td>A2Y4H3PXB07WQI</td>\n",
       "      <td>0972683275</td>\n",
       "      <td>4.0</td>\n",
       "    </tr>\n",
       "    <tr>\n",
       "      <th>1138</th>\n",
       "      <td>A25RTRAPQAJBDJ</td>\n",
       "      <td>0972683275</td>\n",
       "      <td>5.0</td>\n",
       "    </tr>\n",
       "    <tr>\n",
       "      <th>1310</th>\n",
       "      <td>A3LDPF5FMB782Z</td>\n",
       "      <td>1400501466</td>\n",
       "      <td>5.0</td>\n",
       "    </tr>\n",
       "    <tr>\n",
       "      <th>1322</th>\n",
       "      <td>A1A5KUIIIHFF4U</td>\n",
       "      <td>1400501466</td>\n",
       "      <td>1.0</td>\n",
       "    </tr>\n",
       "  </tbody>\n",
       "</table>\n",
       "</div>"
      ],
      "text/plain": [
       "              UserID   ProductID  ProductRating\n",
       "94    A3BY5KCNQZXV5U  0594451647            5.0\n",
       "118    AT09WGFUM934H  0594481813            3.0\n",
       "177   A32HSNCNPRUMTR  0970407998            1.0\n",
       "178   A17HMM1M7T9PJ1  0970407998            4.0\n",
       "492   A3CLWR1UUZT6TG  0972683275            5.0\n",
       "631   A3TAS1AG6FMBQW  0972683275            5.0\n",
       "1003  A2Y4H3PXB07WQI  0972683275            4.0\n",
       "1138  A25RTRAPQAJBDJ  0972683275            5.0\n",
       "1310  A3LDPF5FMB782Z  1400501466            5.0\n",
       "1322  A1A5KUIIIHFF4U  1400501466            1.0"
      ]
     },
     "execution_count": 12,
     "metadata": {
      "tags": []
     },
     "output_type": "execute_result"
    }
   ],
   "source": [
    "user_counts = product_dataset.UserID.value_counts()\n",
    "new_product_dataset = product_dataset[product_dataset['UserID'].isin(user_counts[user_counts >= 50].index)]\n",
    "new_product_dataset.head(10)"
   ]
  },
  {
   "cell_type": "code",
   "execution_count": 13,
   "metadata": {
    "colab": {
     "base_uri": "https://localhost:8080/",
     "height": 34
    },
    "id": "J2sXDKpHIZ8H",
    "outputId": "cae77f41-8e2c-4125-c22f-2614c3f9289b"
   },
   "outputs": [
    {
     "data": {
      "text/plain": [
       "(125871, 3)"
      ]
     },
     "execution_count": 13,
     "metadata": {
      "tags": []
     },
     "output_type": "execute_result"
    }
   ],
   "source": [
    "new_product_dataset.shape"
   ]
  },
  {
   "cell_type": "markdown",
   "metadata": {
    "id": "IE-otgSAhABd"
   },
   "source": [
    "**Count Plot for new dataset**"
   ]
  },
  {
   "cell_type": "code",
   "execution_count": 14,
   "metadata": {
    "colab": {
     "base_uri": "https://localhost:8080/",
     "height": 296
    },
    "id": "4sOuC3kvg4lr",
    "outputId": "f2e591c3-3474-482e-dbf0-afc9c4461fad"
   },
   "outputs": [
    {
     "data": {
      "text/plain": [
       "<matplotlib.axes._subplots.AxesSubplot at 0x7fec8abb6b38>"
      ]
     },
     "execution_count": 14,
     "metadata": {
      "tags": []
     },
     "output_type": "execute_result"
    },
    {
     "data": {
      "image/png": "[encoded data removed]",
      "text/plain": [
       "<Figure size 432x288 with 1 Axes>"
      ]
     },
     "metadata": {
      "needs_background": "light",
      "tags": []
     },
     "output_type": "display_data"
    }
   ],
   "source": [
    "sns.countplot(data=new_product_dataset , x='ProductRating')"
   ]
  },
  {
   "cell_type": "markdown",
   "metadata": {
    "id": "ZimPBHIzI96D"
   },
   "source": [
    "#### **Building Popularity Recommender model**"
   ]
  },
  {
   "cell_type": "code",
   "execution_count": 15,
   "metadata": {
    "colab": {
     "base_uri": "https://localhost:8080/",
     "height": 204
    },
    "id": "koXzgaMcIe43",
    "outputId": "c039b90d-8e8d-4e90-ff17-9ad7f49579a5"
   },
   "outputs": [
    {
     "data": {
      "text/html": [
       "<div>\n",
       "<style scoped>\n",
       "    .dataframe tbody tr th:only-of-type {\n",
       "        vertical-align: middle;\n",
       "    }\n",
       "\n",
       "    .dataframe tbody tr th {\n",
       "        vertical-align: top;\n",
       "    }\n",
       "\n",
       "    .dataframe thead th {\n",
       "        text-align: right;\n",
       "    }\n",
       "</style>\n",
       "<table border=\"1\" class=\"dataframe\">\n",
       "  <thead>\n",
       "    <tr style=\"text-align: right;\">\n",
       "      <th></th>\n",
       "      <th>ProductID</th>\n",
       "      <th>MeanRating</th>\n",
       "    </tr>\n",
       "  </thead>\n",
       "  <tbody>\n",
       "    <tr>\n",
       "      <th>0</th>\n",
       "      <td>0594451647</td>\n",
       "      <td>5.000000</td>\n",
       "    </tr>\n",
       "    <tr>\n",
       "      <th>1</th>\n",
       "      <td>0594481813</td>\n",
       "      <td>3.000000</td>\n",
       "    </tr>\n",
       "    <tr>\n",
       "      <th>2</th>\n",
       "      <td>0970407998</td>\n",
       "      <td>2.500000</td>\n",
       "    </tr>\n",
       "    <tr>\n",
       "      <th>3</th>\n",
       "      <td>0972683275</td>\n",
       "      <td>4.750000</td>\n",
       "    </tr>\n",
       "    <tr>\n",
       "      <th>4</th>\n",
       "      <td>1400501466</td>\n",
       "      <td>3.333333</td>\n",
       "    </tr>\n",
       "  </tbody>\n",
       "</table>\n",
       "</div>"
      ],
      "text/plain": [
       "    ProductID  MeanRating\n",
       "0  0594451647    5.000000\n",
       "1  0594481813    3.000000\n",
       "2  0970407998    2.500000\n",
       "3  0972683275    4.750000\n",
       "4  1400501466    3.333333"
      ]
     },
     "execution_count": 15,
     "metadata": {
      "tags": []
     },
     "output_type": "execute_result"
    }
   ],
   "source": [
    "new_product_dataset_mean_df = pd.DataFrame(list(new_product_dataset.groupby('ProductID')['ProductRating'].mean().head().index), columns=[\"ProductID\"])\n",
    "new_product_dataset_mean_df[\"MeanRating\"] = list(new_product_dataset.groupby('ProductID')['ProductRating'].mean().head().values)\n",
    "new_product_dataset_mean_df"
   ]
  },
  {
   "cell_type": "code",
   "execution_count": 16,
   "metadata": {
    "colab": {
     "base_uri": "https://localhost:8080/",
     "height": 204
    },
    "id": "XTp-E5csJiAQ",
    "outputId": "0bf8c680-0b88-404e-e1fc-274c3db03c45"
   },
   "outputs": [
    {
     "data": {
      "text/html": [
       "<div>\n",
       "<style scoped>\n",
       "    .dataframe tbody tr th:only-of-type {\n",
       "        vertical-align: middle;\n",
       "    }\n",
       "\n",
       "    .dataframe tbody tr th {\n",
       "        vertical-align: top;\n",
       "    }\n",
       "\n",
       "    .dataframe thead th {\n",
       "        text-align: right;\n",
       "    }\n",
       "</style>\n",
       "<table border=\"1\" class=\"dataframe\">\n",
       "  <thead>\n",
       "    <tr style=\"text-align: right;\">\n",
       "      <th></th>\n",
       "      <th>ProductID</th>\n",
       "      <th>MeanRating</th>\n",
       "    </tr>\n",
       "  </thead>\n",
       "  <tbody>\n",
       "    <tr>\n",
       "      <th>0</th>\n",
       "      <td>B00LKG1MC8</td>\n",
       "      <td>5.0</td>\n",
       "    </tr>\n",
       "    <tr>\n",
       "      <th>1</th>\n",
       "      <td>B002QUZM3M</td>\n",
       "      <td>5.0</td>\n",
       "    </tr>\n",
       "    <tr>\n",
       "      <th>2</th>\n",
       "      <td>B002QWNZHU</td>\n",
       "      <td>5.0</td>\n",
       "    </tr>\n",
       "    <tr>\n",
       "      <th>3</th>\n",
       "      <td>B002QXZPFE</td>\n",
       "      <td>5.0</td>\n",
       "    </tr>\n",
       "    <tr>\n",
       "      <th>4</th>\n",
       "      <td>B002R0DWNS</td>\n",
       "      <td>5.0</td>\n",
       "    </tr>\n",
       "  </tbody>\n",
       "</table>\n",
       "</div>"
      ],
      "text/plain": [
       "    ProductID  MeanRating\n",
       "0  B00LKG1MC8         5.0\n",
       "1  B002QUZM3M         5.0\n",
       "2  B002QWNZHU         5.0\n",
       "3  B002QXZPFE         5.0\n",
       "4  B002R0DWNS         5.0"
      ]
     },
     "execution_count": 16,
     "metadata": {
      "tags": []
     },
     "output_type": "execute_result"
    }
   ],
   "source": [
    "new_product_dataset_mean_s_df = pd.DataFrame(list(new_product_dataset.groupby('ProductID')['ProductRating'].mean().sort_values(ascending=False).head().index), columns=[\"ProductID\"])\n",
    "new_product_dataset_mean_s_df[\"MeanRating\"] = list(new_product_dataset.groupby('ProductID')['ProductRating'].mean().sort_values(ascending=False).head().values)\n",
    "new_product_dataset_mean_s_df"
   ]
  },
  {
   "cell_type": "code",
   "execution_count": 17,
   "metadata": {
    "colab": {
     "base_uri": "https://localhost:8080/",
     "height": 204
    },
    "id": "Dh0sagy7JwFx",
    "outputId": "5a6f4440-7731-4d3b-be20-69ad6191e520"
   },
   "outputs": [
    {
     "data": {
      "text/html": [
       "<div>\n",
       "<style scoped>\n",
       "    .dataframe tbody tr th:only-of-type {\n",
       "        vertical-align: middle;\n",
       "    }\n",
       "\n",
       "    .dataframe tbody tr th {\n",
       "        vertical-align: top;\n",
       "    }\n",
       "\n",
       "    .dataframe thead th {\n",
       "        text-align: right;\n",
       "    }\n",
       "</style>\n",
       "<table border=\"1\" class=\"dataframe\">\n",
       "  <thead>\n",
       "    <tr style=\"text-align: right;\">\n",
       "      <th></th>\n",
       "      <th>ProductID</th>\n",
       "      <th>RatingCount</th>\n",
       "    </tr>\n",
       "  </thead>\n",
       "  <tbody>\n",
       "    <tr>\n",
       "      <th>0</th>\n",
       "      <td>B0088CJT4U</td>\n",
       "      <td>206</td>\n",
       "    </tr>\n",
       "    <tr>\n",
       "      <th>1</th>\n",
       "      <td>B003ES5ZUU</td>\n",
       "      <td>184</td>\n",
       "    </tr>\n",
       "    <tr>\n",
       "      <th>2</th>\n",
       "      <td>B000N99BBC</td>\n",
       "      <td>167</td>\n",
       "    </tr>\n",
       "    <tr>\n",
       "      <th>3</th>\n",
       "      <td>B007WTAJTO</td>\n",
       "      <td>164</td>\n",
       "    </tr>\n",
       "    <tr>\n",
       "      <th>4</th>\n",
       "      <td>B00829TIEK</td>\n",
       "      <td>149</td>\n",
       "    </tr>\n",
       "  </tbody>\n",
       "</table>\n",
       "</div>"
      ],
      "text/plain": [
       "    ProductID  RatingCount\n",
       "0  B0088CJT4U          206\n",
       "1  B003ES5ZUU          184\n",
       "2  B000N99BBC          167\n",
       "3  B007WTAJTO          164\n",
       "4  B00829TIEK          149"
      ]
     },
     "execution_count": 17,
     "metadata": {
      "tags": []
     },
     "output_type": "execute_result"
    }
   ],
   "source": [
    "new_product_dataset_mean_c_df = pd.DataFrame(list(new_product_dataset.groupby('ProductID')['ProductRating'].count().sort_values(ascending=False).head(5).index), columns=[\"ProductID\"])\n",
    "new_product_dataset_mean_c_df[\"RatingCount\"] = list(new_product_dataset.groupby('ProductID')['ProductRating'].count().sort_values(ascending=False).head(5).values)\n",
    "new_product_dataset_mean_c_df"
   ]
  },
  {
   "cell_type": "code",
   "execution_count": 18,
   "metadata": {
    "colab": {
     "base_uri": "https://localhost:8080/",
     "height": 427
    },
    "id": "Rjhk16JfJ13d",
    "outputId": "879de9d3-a74e-4049-b837-a199b6026179"
   },
   "outputs": [
    {
     "name": "stdout",
     "output_type": "stream",
     "text": [
      "***********************************************\n",
      "* Recommending Most Raited (Popular) Products *\n",
      "***********************************************\n",
      "\n"
     ]
    },
    {
     "data": {
      "text/html": [
       "<div>\n",
       "<style scoped>\n",
       "    .dataframe tbody tr th:only-of-type {\n",
       "        vertical-align: middle;\n",
       "    }\n",
       "\n",
       "    .dataframe tbody tr th {\n",
       "        vertical-align: top;\n",
       "    }\n",
       "\n",
       "    .dataframe thead th {\n",
       "        text-align: right;\n",
       "    }\n",
       "</style>\n",
       "<table border=\"1\" class=\"dataframe\">\n",
       "  <thead>\n",
       "    <tr style=\"text-align: right;\">\n",
       "      <th></th>\n",
       "      <th>ProductID</th>\n",
       "      <th>AvgRating</th>\n",
       "      <th>RatingCounts</th>\n",
       "    </tr>\n",
       "  </thead>\n",
       "  <tbody>\n",
       "    <tr>\n",
       "      <th>39003</th>\n",
       "      <td>B0088CJT4U</td>\n",
       "      <td>4.218447</td>\n",
       "      <td>206</td>\n",
       "    </tr>\n",
       "    <tr>\n",
       "      <th>24827</th>\n",
       "      <td>B003ES5ZUU</td>\n",
       "      <td>4.864130</td>\n",
       "      <td>184</td>\n",
       "    </tr>\n",
       "    <tr>\n",
       "      <th>11078</th>\n",
       "      <td>B000N99BBC</td>\n",
       "      <td>4.772455</td>\n",
       "      <td>167</td>\n",
       "    </tr>\n",
       "    <tr>\n",
       "      <th>38250</th>\n",
       "      <td>B007WTAJTO</td>\n",
       "      <td>4.701220</td>\n",
       "      <td>164</td>\n",
       "    </tr>\n",
       "    <tr>\n",
       "      <th>38615</th>\n",
       "      <td>B00829TIEK</td>\n",
       "      <td>4.436242</td>\n",
       "      <td>149</td>\n",
       "    </tr>\n",
       "    <tr>\n",
       "      <th>38611</th>\n",
       "      <td>B00829THK0</td>\n",
       "      <td>4.416058</td>\n",
       "      <td>137</td>\n",
       "    </tr>\n",
       "    <tr>\n",
       "      <th>39338</th>\n",
       "      <td>B008DWCRQW</td>\n",
       "      <td>4.094891</td>\n",
       "      <td>137</td>\n",
       "    </tr>\n",
       "    <tr>\n",
       "      <th>21982</th>\n",
       "      <td>B002R5AM7C</td>\n",
       "      <td>4.125000</td>\n",
       "      <td>128</td>\n",
       "    </tr>\n",
       "    <tr>\n",
       "      <th>28761</th>\n",
       "      <td>B004CLYEDC</td>\n",
       "      <td>4.669492</td>\n",
       "      <td>118</td>\n",
       "    </tr>\n",
       "    <tr>\n",
       "      <th>22210</th>\n",
       "      <td>B002SZEOLG</td>\n",
       "      <td>4.247788</td>\n",
       "      <td>113</td>\n",
       "    </tr>\n",
       "  </tbody>\n",
       "</table>\n",
       "</div>"
      ],
      "text/plain": [
       "        ProductID  AvgRating  RatingCounts\n",
       "39003  B0088CJT4U   4.218447           206\n",
       "24827  B003ES5ZUU   4.864130           184\n",
       "11078  B000N99BBC   4.772455           167\n",
       "38250  B007WTAJTO   4.701220           164\n",
       "38615  B00829TIEK   4.436242           149\n",
       "38611  B00829THK0   4.416058           137\n",
       "39338  B008DWCRQW   4.094891           137\n",
       "21982  B002R5AM7C   4.125000           128\n",
       "28761  B004CLYEDC   4.669492           118\n",
       "22210  B002SZEOLG   4.247788           113"
      ]
     },
     "execution_count": 18,
     "metadata": {
      "tags": []
     },
     "output_type": "execute_result"
    }
   ],
   "source": [
    "print(\"***********************************************\")\n",
    "print(\"* Recommending Most Raited (Popular) Products *\")\n",
    "print(\"***********************************************\\n\")\n",
    "ratings_mean_count = pd.DataFrame(list(new_product_dataset.groupby('ProductID')['ProductRating'].mean().index), columns=[\"ProductID\"]) \n",
    "ratings_mean_count[\"AvgRating\"] = list(new_product_dataset.groupby('ProductID')['ProductRating'].mean().values)\n",
    "ratings_mean_count[\"RatingCounts\"] = list(new_product_dataset.groupby('ProductID')['ProductRating'].count().values)\n",
    "ratings_mean_count = ratings_mean_count[(ratings_mean_count[\"AvgRating\"] >= 4) & (ratings_mean_count[\"RatingCounts\"] >= 100)]\n",
    "ratings_mean_count.sort_values(by=['RatingCounts'], ascending=False).head(10)"
   ]
  },
  {
   "cell_type": "markdown",
   "metadata": {
    "id": "QLd36phdik91"
   },
   "source": [
    "**Intalling surprise library**"
   ]
  },
  {
   "cell_type": "code",
   "execution_count": 19,
   "metadata": {
    "colab": {
     "base_uri": "https://localhost:8080/",
     "height": 139
    },
    "id": "lZJsX2UnLA88",
    "outputId": "c77cf45a-67db-43c7-9af0-6797524aa618"
   },
   "outputs": [
    {
     "name": "stdout",
     "output_type": "stream",
     "text": [
      "Requirement already satisfied: surprise in /usr/local/lib/python3.6/dist-packages (0.1)\n",
      "Requirement already satisfied: scikit-surprise in /usr/local/lib/python3.6/dist-packages (from surprise) (1.1.1)\n",
      "Requirement already satisfied: numpy>=1.11.2 in /usr/local/lib/python3.6/dist-packages (from scikit-surprise->surprise) (1.18.5)\n",
      "Requirement already satisfied: six>=1.10.0 in /usr/local/lib/python3.6/dist-packages (from scikit-surprise->surprise) (1.15.0)\n",
      "Requirement already satisfied: scipy>=1.0.0 in /usr/local/lib/python3.6/dist-packages (from scikit-surprise->surprise) (1.4.1)\n",
      "Requirement already satisfied: joblib>=0.11 in /usr/local/lib/python3.6/dist-packages (from scikit-surprise->surprise) (0.17.0)\n"
     ]
    }
   ],
   "source": [
    "!pip install surprise"
   ]
  },
  {
   "cell_type": "markdown",
   "metadata": {
    "id": "acnsHb44m_Kl"
   },
   "source": [
    "#### **Collaborative Filtering Based Recommendation Systems**"
   ]
  },
  {
   "cell_type": "code",
   "execution_count": 20,
   "metadata": {
    "id": "lrRtUh1dlB_m"
   },
   "outputs": [],
   "source": [
    "from surprise import Dataset,Reader\n",
    "from surprise.model_selection import cross_validate, train_test_split\n",
    "from surprise import NormalPredictor\n",
    "from surprise import SVD, KNNWithMeans\n",
    "from surprise import accuracy"
   ]
  },
  {
   "cell_type": "code",
   "execution_count": 21,
   "metadata": {
    "colab": {
     "base_uri": "https://localhost:8080/",
     "height": 204
    },
    "id": "z9_YAqfcm42E",
    "outputId": "5440760b-3dad-452a-dae6-3a31714b1f25"
   },
   "outputs": [
    {
     "data": {
      "text/html": [
       "<div>\n",
       "<style scoped>\n",
       "    .dataframe tbody tr th:only-of-type {\n",
       "        vertical-align: middle;\n",
       "    }\n",
       "\n",
       "    .dataframe tbody tr th {\n",
       "        vertical-align: top;\n",
       "    }\n",
       "\n",
       "    .dataframe thead th {\n",
       "        text-align: right;\n",
       "    }\n",
       "</style>\n",
       "<table border=\"1\" class=\"dataframe\">\n",
       "  <thead>\n",
       "    <tr style=\"text-align: right;\">\n",
       "      <th></th>\n",
       "      <th>UserID</th>\n",
       "      <th>ProductID</th>\n",
       "      <th>ProductRating</th>\n",
       "    </tr>\n",
       "  </thead>\n",
       "  <tbody>\n",
       "    <tr>\n",
       "      <th>94</th>\n",
       "      <td>A3BY5KCNQZXV5U</td>\n",
       "      <td>0594451647</td>\n",
       "      <td>5.0</td>\n",
       "    </tr>\n",
       "    <tr>\n",
       "      <th>118</th>\n",
       "      <td>AT09WGFUM934H</td>\n",
       "      <td>0594481813</td>\n",
       "      <td>3.0</td>\n",
       "    </tr>\n",
       "    <tr>\n",
       "      <th>177</th>\n",
       "      <td>A32HSNCNPRUMTR</td>\n",
       "      <td>0970407998</td>\n",
       "      <td>1.0</td>\n",
       "    </tr>\n",
       "    <tr>\n",
       "      <th>178</th>\n",
       "      <td>A17HMM1M7T9PJ1</td>\n",
       "      <td>0970407998</td>\n",
       "      <td>4.0</td>\n",
       "    </tr>\n",
       "    <tr>\n",
       "      <th>492</th>\n",
       "      <td>A3CLWR1UUZT6TG</td>\n",
       "      <td>0972683275</td>\n",
       "      <td>5.0</td>\n",
       "    </tr>\n",
       "  </tbody>\n",
       "</table>\n",
       "</div>"
      ],
      "text/plain": [
       "             UserID   ProductID  ProductRating\n",
       "94   A3BY5KCNQZXV5U  0594451647            5.0\n",
       "118   AT09WGFUM934H  0594481813            3.0\n",
       "177  A32HSNCNPRUMTR  0970407998            1.0\n",
       "178  A17HMM1M7T9PJ1  0970407998            4.0\n",
       "492  A3CLWR1UUZT6TG  0972683275            5.0"
      ]
     },
     "execution_count": 21,
     "metadata": {
      "tags": []
     },
     "output_type": "execute_result"
    }
   ],
   "source": [
    "surprise_rating_reader = Reader(rating_scale=(1, 5))\n",
    "products_data = Dataset.load_from_df(new_product_dataset, surprise_rating_reader)\n",
    "products_data.df.head()"
   ]
  },
  {
   "cell_type": "code",
   "execution_count": 22,
   "metadata": {
    "colab": {
     "base_uri": "https://localhost:8080/",
     "height": 34
    },
    "id": "gpD4S88uozPQ",
    "outputId": "aa2668ca-bd78-43a4-9fb3-6cef5688cc15"
   },
   "outputs": [
    {
     "data": {
      "text/plain": [
       "(88109, 1540, 38173)"
      ]
     },
     "execution_count": 22,
     "metadata": {
      "tags": []
     },
     "output_type": "execute_result"
    }
   ],
   "source": [
    "trainset, testset = train_test_split(products_data, test_size=.30,random_state=42)\n",
    "trainset.n_ratings, trainset.n_users, trainset.n_items"
   ]
  },
  {
   "cell_type": "markdown",
   "metadata": {
    "id": "JKY05mGyreKu"
   },
   "source": [
    "**SVD Based Recommendation System**"
   ]
  },
  {
   "cell_type": "code",
   "execution_count": 23,
   "metadata": {
    "colab": {
     "base_uri": "https://localhost:8080/",
     "height": 34
    },
    "id": "do5-Zas5qJYI",
    "outputId": "9b9f3292-a2cb-4dbe-d707-886866969b68"
   },
   "outputs": [
    {
     "data": {
      "text/plain": [
       "<surprise.prediction_algorithms.matrix_factorization.SVD at 0x7fecb844bdd8>"
      ]
     },
     "execution_count": 23,
     "metadata": {
      "tags": []
     },
     "output_type": "execute_result"
    }
   ],
   "source": [
    "svd_model = SVD(n_factors=5,biased=False)\n",
    "svd_model.fit(trainset)"
   ]
  },
  {
   "cell_type": "code",
   "execution_count": 24,
   "metadata": {
    "id": "gEPTaifZrxJs"
   },
   "outputs": [],
   "source": [
    "svd_pred = svd_model.test(testset)"
   ]
  },
  {
   "cell_type": "code",
   "execution_count": 25,
   "metadata": {
    "colab": {
     "base_uri": "https://localhost:8080/",
     "height": 51
    },
    "id": "X6zTn52ysej8",
    "outputId": "4206f9f2-c833-49df-8a71-3e3b7177a933"
   },
   "outputs": [
    {
     "name": "stdout",
     "output_type": "stream",
     "text": [
      "RMSE: 1.6684\n",
      "RMSE FOR SVD MODEL: 1.6684280418890158\n"
     ]
    }
   ],
   "source": [
    "print(\"RMSE FOR SVD MODEL: {}\".format(accuracy.rmse(svd_pred)))"
   ]
  },
  {
   "cell_type": "markdown",
   "metadata": {
    "id": "xhFWF7xYtAxY"
   },
   "source": [
    "**KNNWithMeans Recommendation System**"
   ]
  },
  {
   "cell_type": "markdown",
   "metadata": {
    "id": "EBRP0Bt6GRt9"
   },
   "source": [
    "**Note:**\n",
    "<p style=\"color:red\">\n",
    "Because of computation issue i have took subset of 50000 records from the original dataset only for KNN With means.\n",
    "</p>"
   ]
  },
  {
   "cell_type": "code",
   "execution_count": 26,
   "metadata": {
    "colab": {
     "base_uri": "https://localhost:8080/",
     "height": 34
    },
    "id": "RTHIewP9w8Fg",
    "outputId": "48a93e6b-431e-4995-ec6d-672e1843dbe6"
   },
   "outputs": [
    {
     "data": {
      "text/plain": [
       "(50000, 3)"
      ]
     },
     "execution_count": 26,
     "metadata": {
      "tags": []
     },
     "output_type": "execute_result"
    }
   ],
   "source": [
    "knn_new_product_dataset = new_product_dataset.iloc[:50000, :]\n",
    "knn_new_product_dataset.shape"
   ]
  },
  {
   "cell_type": "code",
   "execution_count": 27,
   "metadata": {
    "colab": {
     "base_uri": "https://localhost:8080/",
     "height": 204
    },
    "id": "Y6JS_1kzxWpP",
    "outputId": "98e254b0-c392-4a23-f0f2-da57cc2f2599"
   },
   "outputs": [
    {
     "data": {
      "text/html": [
       "<div>\n",
       "<style scoped>\n",
       "    .dataframe tbody tr th:only-of-type {\n",
       "        vertical-align: middle;\n",
       "    }\n",
       "\n",
       "    .dataframe tbody tr th {\n",
       "        vertical-align: top;\n",
       "    }\n",
       "\n",
       "    .dataframe thead th {\n",
       "        text-align: right;\n",
       "    }\n",
       "</style>\n",
       "<table border=\"1\" class=\"dataframe\">\n",
       "  <thead>\n",
       "    <tr style=\"text-align: right;\">\n",
       "      <th></th>\n",
       "      <th>UserID</th>\n",
       "      <th>ProductID</th>\n",
       "      <th>ProductRating</th>\n",
       "    </tr>\n",
       "  </thead>\n",
       "  <tbody>\n",
       "    <tr>\n",
       "      <th>94</th>\n",
       "      <td>A3BY5KCNQZXV5U</td>\n",
       "      <td>0594451647</td>\n",
       "      <td>5.0</td>\n",
       "    </tr>\n",
       "    <tr>\n",
       "      <th>118</th>\n",
       "      <td>AT09WGFUM934H</td>\n",
       "      <td>0594481813</td>\n",
       "      <td>3.0</td>\n",
       "    </tr>\n",
       "    <tr>\n",
       "      <th>177</th>\n",
       "      <td>A32HSNCNPRUMTR</td>\n",
       "      <td>0970407998</td>\n",
       "      <td>1.0</td>\n",
       "    </tr>\n",
       "    <tr>\n",
       "      <th>178</th>\n",
       "      <td>A17HMM1M7T9PJ1</td>\n",
       "      <td>0970407998</td>\n",
       "      <td>4.0</td>\n",
       "    </tr>\n",
       "    <tr>\n",
       "      <th>492</th>\n",
       "      <td>A3CLWR1UUZT6TG</td>\n",
       "      <td>0972683275</td>\n",
       "      <td>5.0</td>\n",
       "    </tr>\n",
       "  </tbody>\n",
       "</table>\n",
       "</div>"
      ],
      "text/plain": [
       "             UserID   ProductID  ProductRating\n",
       "94   A3BY5KCNQZXV5U  0594451647            5.0\n",
       "118   AT09WGFUM934H  0594481813            3.0\n",
       "177  A32HSNCNPRUMTR  0970407998            1.0\n",
       "178  A17HMM1M7T9PJ1  0970407998            4.0\n",
       "492  A3CLWR1UUZT6TG  0972683275            5.0"
      ]
     },
     "execution_count": 27,
     "metadata": {
      "tags": []
     },
     "output_type": "execute_result"
    }
   ],
   "source": [
    "surprise_rating_reader_knn = Reader(rating_scale=(1, 5))\n",
    "products_data_knn = Dataset.load_from_df(knn_new_product_dataset, surprise_rating_reader_knn)\n",
    "products_data_knn.df.head()"
   ]
  },
  {
   "cell_type": "code",
   "execution_count": 28,
   "metadata": {
    "colab": {
     "base_uri": "https://localhost:8080/",
     "height": 34
    },
    "id": "xa0wD4vrxvBS",
    "outputId": "4b6f29c7-f11f-43da-e26f-e0b74ece7672"
   },
   "outputs": [
    {
     "data": {
      "text/plain": [
       "(35000, 1535, 17440)"
      ]
     },
     "execution_count": 28,
     "metadata": {
      "tags": []
     },
     "output_type": "execute_result"
    }
   ],
   "source": [
    "trainset_knn, testset_knn = train_test_split(products_data_knn, test_size=.30,random_state=42)\n",
    "trainset_knn.n_ratings, trainset_knn.n_users, trainset_knn.n_items"
   ]
  },
  {
   "cell_type": "code",
   "execution_count": 29,
   "metadata": {
    "colab": {
     "base_uri": "https://localhost:8080/",
     "height": 68
    },
    "id": "XUuUFXgDs365",
    "outputId": "5ce85df4-fa43-4770-f5d4-8798553aac08"
   },
   "outputs": [
    {
     "name": "stdout",
     "output_type": "stream",
     "text": [
      "Computing the msd similarity matrix...\n",
      "Done computing similarity matrix.\n"
     ]
    },
    {
     "data": {
      "text/plain": [
       "<surprise.prediction_algorithms.knns.KNNWithMeans at 0x7fec898bcba8>"
      ]
     },
     "execution_count": 29,
     "metadata": {
      "tags": []
     },
     "output_type": "execute_result"
    }
   ],
   "source": [
    "knn_model = KNNWithMeans(k=5, sim_options={'user_based': False})\n",
    "knn_model.fit(trainset_knn)"
   ]
  },
  {
   "cell_type": "code",
   "execution_count": 30,
   "metadata": {
    "colab": {
     "base_uri": "https://localhost:8080/",
     "height": 51
    },
    "id": "-5ITRRHHtSxk",
    "outputId": "1fd7ae02-1e46-4937-b0ae-1a253ecb1927"
   },
   "outputs": [
    {
     "name": "stdout",
     "output_type": "stream",
     "text": [
      "RMSE: 1.2202\n",
      "RMSE FOR KNN-10 MODLE: 1.2201501769559702\n"
     ]
    }
   ],
   "source": [
    "pred_knn = knn_model.test(testset_knn)\n",
    "print(\"RMSE FOR KNN-10 MODLE: {}\".format(accuracy.rmse(pred_knn)))"
   ]
  },
  {
   "cell_type": "markdown",
   "metadata": {
    "id": "oGiip84E1O8J"
   },
   "source": [
    "**PREDECTING FOR INDIVIDUAL USER**"
   ]
  },
  {
   "cell_type": "code",
   "execution_count": 31,
   "metadata": {
    "colab": {
     "base_uri": "https://localhost:8080/",
     "height": 34
    },
    "id": "RUp3vhSU2orM",
    "outputId": "4eae4504-68cb-4f63-99fa-313e5a222979"
   },
   "outputs": [
    {
     "data": {
      "text/plain": [
       "('A28525P0S5ZVJ3', 0)"
      ]
     },
     "execution_count": 31,
     "metadata": {
      "tags": []
     },
     "output_type": "execute_result"
    }
   ],
   "source": [
    "uid = str(trainset_knn.to_raw_uid(100))  # raw user id (as in the ratings file). They are **strings**!\n",
    "iid = 0  # raw item id (as in the ratings file). They are **strings**!\n",
    "uid, iid"
   ]
  },
  {
   "cell_type": "code",
   "execution_count": 32,
   "metadata": {
    "colab": {
     "base_uri": "https://localhost:8080/",
     "height": 54
    },
    "id": "jeOtYCwJ5Ghu",
    "outputId": "f65a7896-05bd-424e-d6b3-c95b2d57e02c"
   },
   "outputs": [
    {
     "name": "stdout",
     "output_type": "stream",
     "text": [
      "user: A28525P0S5ZVJ3 item: 0          r_ui = 0.00   est = 4.25   {'was_impossible': True, 'reason': 'User and/or item is unknown.'}\n"
     ]
    }
   ],
   "source": [
    "# Get a prediction for specific users and items.\n",
    "recommendations = knn_model.predict(uid, iid, r_ui=0.0, verbose=True)"
   ]
  },
  {
   "cell_type": "code",
   "execution_count": 33,
   "metadata": {
    "colab": {
     "base_uri": "https://localhost:8080/",
     "height": 255
    },
    "id": "2JS_0K515rr6",
    "outputId": "495577a1-a707-4d16-d661-322735da7e93"
   },
   "outputs": [
    {
     "name": "stdout",
     "output_type": "stream",
     "text": [
      "*********************************************\n",
      "* Recommended Item For User: A28525P0S5ZVJ3 *\n",
      "*********************************************\n"
     ]
    },
    {
     "data": {
      "text/html": [
       "<div>\n",
       "<style scoped>\n",
       "    .dataframe tbody tr th:only-of-type {\n",
       "        vertical-align: middle;\n",
       "    }\n",
       "\n",
       "    .dataframe tbody tr th {\n",
       "        vertical-align: top;\n",
       "    }\n",
       "\n",
       "    .dataframe thead th {\n",
       "        text-align: right;\n",
       "    }\n",
       "</style>\n",
       "<table border=\"1\" class=\"dataframe\">\n",
       "  <thead>\n",
       "    <tr style=\"text-align: right;\">\n",
       "      <th></th>\n",
       "      <th>iid</th>\n",
       "      <th>r_ui</th>\n",
       "      <th>est</th>\n",
       "    </tr>\n",
       "  </thead>\n",
       "  <tbody>\n",
       "    <tr>\n",
       "      <th>3140</th>\n",
       "      <td>B000EITTLE</td>\n",
       "      <td>5.0</td>\n",
       "      <td>4.333333</td>\n",
       "    </tr>\n",
       "    <tr>\n",
       "      <th>3614</th>\n",
       "      <td>B000HCRVQ2</td>\n",
       "      <td>5.0</td>\n",
       "      <td>3.166667</td>\n",
       "    </tr>\n",
       "    <tr>\n",
       "      <th>5695</th>\n",
       "      <td>B0009VU7JO</td>\n",
       "      <td>5.0</td>\n",
       "      <td>4.254543</td>\n",
       "    </tr>\n",
       "    <tr>\n",
       "      <th>8437</th>\n",
       "      <td>B0000DF2LT</td>\n",
       "      <td>5.0</td>\n",
       "      <td>4.309715</td>\n",
       "    </tr>\n",
       "    <tr>\n",
       "      <th>12129</th>\n",
       "      <td>B000GFHS2W</td>\n",
       "      <td>5.0</td>\n",
       "      <td>4.254543</td>\n",
       "    </tr>\n",
       "  </tbody>\n",
       "</table>\n",
       "</div>"
      ],
      "text/plain": [
       "              iid  r_ui       est\n",
       "3140   B000EITTLE   5.0  4.333333\n",
       "3614   B000HCRVQ2   5.0  3.166667\n",
       "5695   B0009VU7JO   5.0  4.254543\n",
       "8437   B0000DF2LT   5.0  4.309715\n",
       "12129  B000GFHS2W   5.0  4.254543"
      ]
     },
     "execution_count": 33,
     "metadata": {
      "tags": []
     },
     "output_type": "execute_result"
    }
   ],
   "source": [
    "print(\"*********************************************\")\n",
    "print(\"* Recommended Item For User: {} *\".format(uid))\n",
    "print(\"*********************************************\")\n",
    "recommendations_df = pd.DataFrame(pred_knn)\n",
    "recommendations_df[recommendations_df['uid'] == uid][['iid', 'r_ui','est']].sort_values(by = 'r_ui', ascending = False).head(5)"
   ]
  },
  {
   "cell_type": "markdown",
   "metadata": {
    "id": "dB_VYatoKdyg"
   },
   "source": [
    "<h3><b><u>Summary:</u></b></h3>\n",
    "<ul>\n",
    "  <li>Popularity based recommendation system is not personalised recommandation system</li>\n",
    "  <li>Popularity based recommendation system recommend the same (Popular) products to all users whether or not the user like the recommended product</li>\n",
    "  <li>The Popularity-based recommender system recommendations are based on frequecy counts, which may be not suitable to the user.</li>\n",
    "  <li>Collaborative Filtering Based Recommendation Systems are personalised to individual user</li>\n",
    "  <li>Model predicts average rating wherever estimation is not possible\n",
    "\n",
    "</li>\n",
    "  <li>Collaborative Filtering Based Recommendation Systems With SVD Model has RMSE: 1.6684</li>\n",
    "  <li>Collaborative Filtering Based Recommendation Systems With KNN With Means Model has RMSE: 1.2202 </li>\n",
    "  <li>Collaborative Filtering Based Recommendation Systems With KNN With Means Model has is Better than SVD Model because it has less RMSE score.</li>\n",
    "</ul>"
   ]
  },
  {
   "cell_type": "code",
   "execution_count": null,
   "metadata": {},
   "outputs": [],
   "source": []
  }
 ],
 "metadata": {
  "colab": {
   "collapsed_sections": [],
   "name": "RecommendationSystemProject.ipynb",
   "provenance": []
  },
  "kernelspec": {
   "display_name": "Python 3",
   "language": "python",
   "name": "python3"
  },
  "language_info": {
   "codemirror_mode": {
    "name": "ipython",
    "version": 3
   },
   "file_extension": ".py",
   "mimetype": "text/x-python",
   "name": "python",
   "nbconvert_exporter": "python",
   "pygments_lexer": "ipython3",
   "version": "3.6.3"
  }
 },
 "nbformat": 4,
 "nbformat_minor": 1
}
