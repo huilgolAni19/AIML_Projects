{
 "cells": [
  {
   "cell_type": "markdown",
   "metadata": {
    "id": "TvgsrNDtunY8"
   },
   "source": [
    "Part One\n",
    "\n",
    "• DOMAIN: Digital content and entertainment industry\n",
    "\n",
    "• CONTEXT: The objective of this project is to build a text classification model that\n",
    "analyses the customer's sentiments based on their reviews in the IMDB database. The\n",
    "model uses a complex deep learning model to build an embedding layer followed by\n",
    "a classification algorithm to analyse the sentiment of the customers.\n",
    "\n",
    "• DATA DESCRIPTION: The Dataset of 50,000 movie reviews from IMDB, labelled by\n",
    "sentiment (positive/negative). Reviews have been preprocessed, and each review is\n",
    "encoded as a sequence of word indexes (integers). For convenience, the words are\n",
    "indexed by their frequency in the dataset, meaning the for that has index 1 is the\n",
    "most frequent word. Use the first 20 words from each review to speed up training,\n",
    "using a max vocabulary size of 10,000. As a convention, \"0\" does not stand for a\n",
    "specific word, but instead is used to encode any unknown word.\n",
    "\n",
    "• PROJECT OBJECTIVE: Build a sequential NLP classifier which can use input text\n",
    "parameters to determine the customer sentiments.\n",
    "\n",
    "Steps and tasks: [ Total Score: 30 points]\n",
    "\n",
    "1. Import and analyse the data set.\n",
    "Hint: - Use `imdb.load_data()` method\n",
    "- Get train and test set\n",
    "- Take 10000 most frequent words\n",
    "\n",
    "2. Perform relevant sequence adding on the data\n",
    "\n",
    "3. Perform following data analysis:\n",
    "• Print shape of features and labels\n",
    "• Print value of any one feature and it's label\n",
    "\n",
    "4. Decode the feature value to get original sentence\n",
    "\n",
    "5. Design, train, tune and test a sequential model.\n",
    "\n",
    "Hint: The aim here Is to import the text, process it such a way that it can be taken as an inout to the ML/NN\n",
    "classifiers. Be analytical and experimental here in trying new approaches to design the best model.\n",
    "\n",
    "6. Use the designed model to print the prediction on any one sample."
   ]
  },
  {
   "cell_type": "markdown",
   "metadata": {
    "id": "Wq4RCyyPSYRp"
   },
   "source": [
    "Loading the dataset"
   ]
  },
  {
   "cell_type": "code",
   "execution_count": 3,
   "metadata": {
    "id": "NGCtiXUhSWss"
   },
   "outputs": [],
   "source": [
    "from keras.datasets import imdb\n"
   ]
  },
  {
   "cell_type": "code",
   "execution_count": 4,
   "metadata": {
    "id": "fCPC_WN-eCyw"
   },
   "outputs": [],
   "source": [
    "from keras.preprocessing.sequence import pad_sequences\n",
    "vocab_size = 10000 #vocab size\n",
    "maxlen = 300  #number of word used from each review"
   ]
  },
  {
   "cell_type": "markdown",
   "metadata": {
    "id": "qMEsHYrWxdtk"
   },
   "source": [
    "Train test split"
   ]
  },
  {
   "cell_type": "code",
   "execution_count": 5,
   "metadata": {
    "colab": {
     "base_uri": "https://localhost:8080/"
    },
    "id": "h0g381XzeCyz",
    "outputId": "dcca5f17-c7bc-43d8-b7d1-1cb747bcedc2"
   },
   "outputs": [
    {
     "name": "stdout",
     "output_type": "stream",
     "text": [
      "Downloading data from https://storage.googleapis.com/tensorflow/tf-keras-datasets/imdb.npz\n",
      "17465344/17464789 [==============================] - 0s 0us/step\n"
     ]
    },
    {
     "name": "stderr",
     "output_type": "stream",
     "text": [
      "<string>:6: VisibleDeprecationWarning: Creating an ndarray from ragged nested sequences (which is a list-or-tuple of lists-or-tuples-or ndarrays with different lengths or shapes) is deprecated. If you meant to do this, you must specify 'dtype=object' when creating the ndarray\n",
      "/usr/local/lib/python3.7/dist-packages/tensorflow/python/keras/datasets/imdb.py:159: VisibleDeprecationWarning: Creating an ndarray from ragged nested sequences (which is a list-or-tuple of lists-or-tuples-or ndarrays with different lengths or shapes) is deprecated. If you meant to do this, you must specify 'dtype=object' when creating the ndarray\n",
      "  x_train, y_train = np.array(xs[:idx]), np.array(labels[:idx])\n",
      "/usr/local/lib/python3.7/dist-packages/tensorflow/python/keras/datasets/imdb.py:160: VisibleDeprecationWarning: Creating an ndarray from ragged nested sequences (which is a list-or-tuple of lists-or-tuples-or ndarrays with different lengths or shapes) is deprecated. If you meant to do this, you must specify 'dtype=object' when creating the ndarray\n",
      "  x_test, y_test = np.array(xs[idx:]), np.array(labels[idx:])\n"
     ]
    }
   ],
   "source": [
    "#load dataset as a list of ints\n",
    "(x_train, y_train), (x_test, y_test) = imdb.load_data(num_words=vocab_size)\n",
    "#make all sequences of the same length\n",
    "x_train = pad_sequences(x_train, maxlen=maxlen)\n",
    "x_test =  pad_sequences(x_test, maxlen=maxlen)"
   ]
  },
  {
   "cell_type": "code",
   "execution_count": 6,
   "metadata": {
    "colab": {
     "base_uri": "https://localhost:8080/"
    },
    "id": "j53MFHbRXORF",
    "outputId": "e3f46826-c35e-4b43-b396-dc5432abc013"
   },
   "outputs": [
    {
     "name": "stdout",
     "output_type": "stream",
     "text": [
      "[   0    0    0    0    0    0    0    0    0    0    0    0    0    0\n",
      "    0    0    0    0    0    0    0    0    0    0    0    0    0    0\n",
      "    0    0    0    0    0    0    0    0    0    0    0    0    0    0\n",
      "    0    0    0    0    0    0    0    0    0    0    0    0    0    0\n",
      "    0    0    0    0    0    0    0    0    0    0    0    0    0    0\n",
      "    0    0    0    0    0    0    0    0    0    0    0    0    0    0\n",
      "    0    0    0    0    0    0    0    0    0    0    0    0    0    0\n",
      "    0    0    0    0    0    0    0    0    0    0    0    0    0    1\n",
      "  194 1153  194 8255   78  228    5    6 1463 4369 5012  134   26    4\n",
      "  715    8  118 1634   14  394   20   13  119  954  189  102    5  207\n",
      "  110 3103   21   14   69  188    8   30   23    7    4  249  126   93\n",
      "    4  114    9 2300 1523    5  647    4  116    9   35 8163    4  229\n",
      "    9  340 1322    4  118    9    4  130 4901   19    4 1002    5   89\n",
      "   29  952   46   37    4  455    9   45   43   38 1543 1905  398    4\n",
      " 1649   26 6853    5  163   11 3215    2    4 1153    9  194  775    7\n",
      " 8255    2  349 2637  148  605    2 8003   15  123  125   68    2 6853\n",
      "   15  349  165 4362   98    5    4  228    9   43    2 1157   15  299\n",
      "  120    5  120  174   11  220  175  136   50    9 4373  228 8255    5\n",
      "    2  656  245 2350    5    4 9837  131  152  491   18    2   32 7464\n",
      " 1212   14    9    6  371   78   22  625   64 1382    9    8  168  145\n",
      "   23    4 1690   15   16    4 1355    5   28    6   52  154  462   33\n",
      "   89   78  285   16  145   95]\n"
     ]
    }
   ],
   "source": [
    "print (x_train[1])"
   ]
  },
  {
   "cell_type": "code",
   "execution_count": 7,
   "metadata": {
    "colab": {
     "base_uri": "https://localhost:8080/"
    },
    "id": "noyCd8ReaXrf",
    "outputId": "98c10eb7-ee28-4ef7-f9fe-c77599a24762"
   },
   "outputs": [
    {
     "name": "stdout",
     "output_type": "stream",
     "text": [
      "(300,)\n"
     ]
    }
   ],
   "source": [
    "print (x_train[1].shape)"
   ]
  },
  {
   "cell_type": "code",
   "execution_count": 8,
   "metadata": {
    "colab": {
     "base_uri": "https://localhost:8080/"
    },
    "id": "Jy6n-uM2eCy2",
    "outputId": "f80314dd-93e6-463e-e2ad-1b361e006295"
   },
   "outputs": [
    {
     "name": "stdout",
     "output_type": "stream",
     "text": [
      "0\n"
     ]
    }
   ],
   "source": [
    "print(y_train[1])"
   ]
  },
  {
   "cell_type": "code",
   "execution_count": 9,
   "metadata": {
    "colab": {
     "base_uri": "https://localhost:8080/"
    },
    "id": "tZhMAgaNeCy5",
    "outputId": "90dd967b-4fe3-4b81-dd49-5b079051caac"
   },
   "outputs": [
    {
     "name": "stdout",
     "output_type": "stream",
     "text": [
      "[[    0     1]\n",
      " [12500 12500]]\n"
     ]
    }
   ],
   "source": [
    "import numpy as np\n",
    "\n",
    "unique_elements, counts_elements = np.unique(y_train, return_counts=True)\n",
    "print(np.asarray((unique_elements, counts_elements)))"
   ]
  },
  {
   "cell_type": "code",
   "execution_count": 10,
   "metadata": {
    "colab": {
     "base_uri": "https://localhost:8080/"
    },
    "id": "kXIGrKayY3hX",
    "outputId": "df3e6231-24f7-4b52-aac5-31c7f4fc386d"
   },
   "outputs": [
    {
     "name": "stdout",
     "output_type": "stream",
     "text": [
      "[[    0     1]\n",
      " [12500 12500]]\n"
     ]
    }
   ],
   "source": [
    "unique_elements, counts_elements = np.unique(y_test, return_counts=True)\n",
    "print(np.asarray((unique_elements, counts_elements)))"
   ]
  },
  {
   "cell_type": "markdown",
   "metadata": {
    "id": "W7-WNfQCWcR1"
   },
   "source": [
    "WORD INDEX \n",
    "\n",
    "\n",
    "\n"
   ]
  },
  {
   "cell_type": "code",
   "execution_count": 11,
   "metadata": {
    "colab": {
     "base_uri": "https://localhost:8080/"
    },
    "id": "WNemWT1xgyWN",
    "outputId": "0d91936f-397a-4a73-9ba7-9bb27edf4a1b"
   },
   "outputs": [
    {
     "name": "stdout",
     "output_type": "stream",
     "text": [
      "Downloading data from https://storage.googleapis.com/tensorflow/tf-keras-datasets/imdb_word_index.json\n",
      "1646592/1641221 [==============================] - 0s 0us/step\n"
     ]
    }
   ],
   "source": [
    "word_index = imdb.get_word_index()"
   ]
  },
  {
   "cell_type": "code",
   "execution_count": 12,
   "metadata": {
    "id": "GDQMCIl6kH6H"
   },
   "outputs": [],
   "source": [
    "\n",
    "reverse_word_map = dict(map(reversed, word_index.items()))"
   ]
  },
  {
   "cell_type": "code",
   "execution_count": 13,
   "metadata": {
    "id": "_8UN2M8clJjk"
   },
   "outputs": [],
   "source": [
    "# Function takes a tokenized sentence and returns the words\n",
    "def sequence_to_text(list_of_indices):\n",
    "    # Looking up words in dictionary\n",
    "    words = [reverse_word_map.get(letter) for letter in list_of_indices]\n",
    "    return(words)"
   ]
  },
  {
   "cell_type": "code",
   "execution_count": 14,
   "metadata": {
    "colab": {
     "base_uri": "https://localhost:8080/"
    },
    "id": "WseygeMvlQl1",
    "outputId": "369baaea-6b6f-45ba-8c2a-d1147c3fe89c"
   },
   "outputs": [
    {
     "name": "stdout",
     "output_type": "stream",
     "text": [
      "[None, None, None, None, None, None, None, None, None, None, None, None, None, None, None, None, None, None, None, None, None, None, None, None, None, None, None, None, None, None, None, None, None, None, None, None, None, None, None, None, None, None, None, None, None, None, None, None, None, None, None, None, None, None, None, None, None, None, None, None, None, None, None, None, None, None, None, None, None, None, None, None, None, None, None, None, None, None, None, None, None, None, 'the', 'as', 'you', 'with', 'out', 'themselves', 'powerful', 'lets', 'loves', 'their', 'becomes', 'reaching', 'had', 'journalist', 'of', 'lot', 'from', 'anyone', 'to', 'have', 'after', 'out', 'atmosphere', 'never', 'more', 'room', 'and', 'it', 'so', 'heart', 'shows', 'to', 'years', 'of', 'every', 'never', 'going', 'and', 'help', 'moments', 'or', 'of', 'every', 'chest', 'visual', 'movie', 'except', 'her', 'was', 'several', 'of', 'enough', 'more', 'with', 'is', 'now', 'current', 'film', 'as', 'you', 'of', 'mine', 'potentially', 'unfortunately', 'of', 'you', 'than', 'him', 'that', 'with', 'out', 'themselves', 'her', 'get', 'for', 'was', 'camp', 'of', 'you', 'movie', 'sometimes', 'movie', 'that', 'with', 'scary', 'but', 'and', 'to', 'story', 'wonderful', 'that', 'in', 'seeing', 'in', 'character', 'to', 'of', '70s', 'musicians', 'with', 'heart', 'had', 'shadows', 'they', 'of', 'here', 'that', 'with', 'her', 'serious', 'to', 'have', 'does', 'when', 'from', 'why', 'what', 'have', 'critics', 'they', 'is', 'you', 'that', \"isn't\", 'one', 'will', 'very', 'to', 'as', 'itself', 'with', 'other', 'and', 'in', 'of', 'seen', 'over', 'landed', 'for', 'anyone', 'of', 'and', 'br', \"show's\", 'to', 'whether', 'from', 'than', 'out', 'themselves', 'history', 'he', 'name', 'half', 'some', 'br', 'of', 'and', 'odd', 'was', 'two', 'most', 'of', 'mean', 'for', '1', 'any', 'an', 'boat', 'she', 'he', 'should', 'is', 'thought', 'frog', 'but', 'of', 'script', 'you', 'not', 'while', 'history', 'he', 'heart', 'to', 'real', 'at', 'barrel', 'but', 'when', 'from', 'one', 'bit', 'then', 'have', 'two', 'of', 'script', 'their', 'with', 'her', 'nobody', 'most', 'that', 'with', \"wasn't\", 'to', 'with', 'armed', 'acting', 'watch', 'an', 'for', 'with', 'heartfelt', 'film', 'want', 'an']\n"
     ]
    }
   ],
   "source": [
    "#test\n",
    "review = sequence_to_text(x_train[0])\n",
    "print(review)"
   ]
  },
  {
   "cell_type": "markdown",
   "metadata": {
    "id": "dybtUgUReCy8"
   },
   "source": [
    "Sequential Model using Keras \n",
    "\n",
    "The keras embedding layer doesn't require onehot encode "
   ]
  },
  {
   "cell_type": "code",
   "execution_count": 15,
   "metadata": {
    "colab": {
     "base_uri": "https://localhost:8080/"
    },
    "id": "0zT45K7c0TbB",
    "outputId": "9a92ca49-b3eb-4f26-8481-fc2c62d57d51"
   },
   "outputs": [
    {
     "name": "stdout",
     "output_type": "stream",
     "text": [
      "Model: \"sequential\"\n",
      "_________________________________________________________________\n",
      "Layer (type)                 Output Shape              Param #   \n",
      "=================================================================\n",
      "embedding (Embedding)        (None, 300, 128)          1280000   \n",
      "_________________________________________________________________\n",
      "lstm (LSTM)                  (None, 64)                49408     \n",
      "_________________________________________________________________\n",
      "dense (Dense)                (None, 32)                2080      \n",
      "_________________________________________________________________\n",
      "dense_1 (Dense)              (None, 1)                 33        \n",
      "=================================================================\n",
      "Total params: 1,331,521\n",
      "Trainable params: 1,331,521\n",
      "Non-trainable params: 0\n",
      "_________________________________________________________________\n",
      "Epoch 1/10\n",
      "50/50 [==============================] - 24s 126ms/step - loss: 0.6811 - accuracy: 0.5817 - val_loss: 0.5534 - val_accuracy: 0.7734\n",
      "Epoch 2/10\n",
      "50/50 [==============================] - 5s 108ms/step - loss: 0.4278 - accuracy: 0.8304 - val_loss: 0.3183 - val_accuracy: 0.8701\n",
      "Epoch 3/10\n",
      "50/50 [==============================] - 5s 108ms/step - loss: 0.2346 - accuracy: 0.9119 - val_loss: 0.3035 - val_accuracy: 0.8743\n",
      "Epoch 4/10\n",
      "50/50 [==============================] - 5s 108ms/step - loss: 0.1741 - accuracy: 0.9382 - val_loss: 0.3449 - val_accuracy: 0.8752\n",
      "Epoch 5/10\n",
      "50/50 [==============================] - 5s 108ms/step - loss: 0.1353 - accuracy: 0.9548 - val_loss: 0.3398 - val_accuracy: 0.8694\n",
      "Epoch 6/10\n",
      "50/50 [==============================] - 5s 107ms/step - loss: 0.1031 - accuracy: 0.9672 - val_loss: 0.3818 - val_accuracy: 0.8640\n",
      "Epoch 7/10\n",
      "50/50 [==============================] - 5s 107ms/step - loss: 0.0847 - accuracy: 0.9737 - val_loss: 0.4403 - val_accuracy: 0.8660\n",
      "Epoch 8/10\n",
      "50/50 [==============================] - 5s 108ms/step - loss: 0.0610 - accuracy: 0.9821 - val_loss: 0.5423 - val_accuracy: 0.8595\n",
      "Epoch 9/10\n",
      "50/50 [==============================] - 5s 107ms/step - loss: 0.0495 - accuracy: 0.9850 - val_loss: 0.5227 - val_accuracy: 0.8596\n",
      "Epoch 10/10\n",
      "50/50 [==============================] - 5s 108ms/step - loss: 0.0467 - accuracy: 0.9855 - val_loss: 0.4738 - val_accuracy: 0.8495\n"
     ]
    },
    {
     "data": {
      "text/plain": [
       "<tensorflow.python.keras.callbacks.History at 0x7fc36102ea10>"
      ]
     },
     "execution_count": 15,
     "metadata": {
      "tags": []
     },
     "output_type": "execute_result"
    }
   ],
   "source": [
    "from keras.datasets import imdb\n",
    "from keras.models import Sequential\n",
    "from keras.layers import Dense, Input\n",
    "from keras.layers.embeddings import Embedding\n",
    "from keras.preprocessing import sequence\n",
    "from keras.layers import LSTM\n",
    "### create the model\n",
    "model = Sequential()\n",
    "model.add(Embedding(vocab_size, 128, trainable=True, input_length=maxlen))\n",
    "model.add(LSTM(units=64, dropout=0.2))\n",
    "model.add(Dense(32, activation='relu'))\n",
    "model.add(Dense(1, activation='sigmoid'))\n",
    "model.compile(loss='binary_crossentropy', optimizer='adam', metrics=['accuracy'])\n",
    "model.summary()\n",
    "### Fit the model\n",
    "model.fit(x_train, y_train, validation_data=(x_test, y_test), epochs=10, batch_size=500, verbose=1)"
   ]
  },
  {
   "cell_type": "markdown",
   "metadata": {
    "id": "nr6gdpYmWorf"
   },
   "source": [
    " Model Accuracy\n"
   ]
  },
  {
   "cell_type": "code",
   "execution_count": 16,
   "metadata": {
    "colab": {
     "base_uri": "https://localhost:8080/"
    },
    "id": "56y3I_75WwKr",
    "outputId": "39868eb5-7081-41b3-c0e0-62658250578b"
   },
   "outputs": [
    {
     "name": "stdout",
     "output_type": "stream",
     "text": [
      "Accuracy: 84.95%\n"
     ]
    }
   ],
   "source": [
    "# Final evaluation of the model\n",
    "scores = model.evaluate(x_test, y_test, verbose=0)\n",
    "print(\"Accuracy: %.2f%%\" % (scores[1]*100))"
   ]
  },
  {
   "cell_type": "code",
   "execution_count": 17,
   "metadata": {
    "id": "8cqs6jSjWwNe"
   },
   "outputs": [],
   "source": [
    "y_pred = model.predict(x_test)"
   ]
  },
  {
   "cell_type": "code",
   "execution_count": 18,
   "metadata": {
    "colab": {
     "base_uri": "https://localhost:8080/"
    },
    "id": "WPMQFTc0M47u",
    "outputId": "c84de90d-ed1a-4446-a9b8-032369aff0c0"
   },
   "outputs": [
    {
     "name": "stdout",
     "output_type": "stream",
     "text": [
      "[[0.07116668]\n",
      " [0.99933964]\n",
      " [0.69103634]\n",
      " ...\n",
      " [0.00517607]\n",
      " [0.01176149]\n",
      " [0.2646355 ]]\n"
     ]
    }
   ],
   "source": [
    "print(y_pred)"
   ]
  },
  {
   "cell_type": "code",
   "execution_count": 19,
   "metadata": {
    "id": "mbT9r3TKOsDF"
   },
   "outputs": [],
   "source": [
    "y_pred = np.round(y_pred, 0)"
   ]
  },
  {
   "cell_type": "code",
   "execution_count": 20,
   "metadata": {
    "colab": {
     "base_uri": "https://localhost:8080/"
    },
    "id": "w_9Bf16OP_z-",
    "outputId": "582502d5-db87-43b0-94f9-dc4e3761188b"
   },
   "outputs": [
    {
     "data": {
      "text/plain": [
       "(25000, 1)"
      ]
     },
     "execution_count": 20,
     "metadata": {
      "tags": []
     },
     "output_type": "execute_result"
    }
   ],
   "source": [
    "\n",
    "y_pred.shape"
   ]
  },
  {
   "cell_type": "code",
   "execution_count": 21,
   "metadata": {
    "id": "9-6o7bhkR5A_"
   },
   "outputs": [],
   "source": [
    "y_pred = y_pred.astype('int64')"
   ]
  },
  {
   "cell_type": "code",
   "execution_count": 22,
   "metadata": {
    "colab": {
     "base_uri": "https://localhost:8080/"
    },
    "id": "4ehXqOvmSv23",
    "outputId": "891d3b22-bb57-445b-fceb-1d0fe609fdbb"
   },
   "outputs": [
    {
     "data": {
      "text/plain": [
       "array([0, 1, 1, ..., 0, 0, 0])"
      ]
     },
     "execution_count": 22,
     "metadata": {
      "tags": []
     },
     "output_type": "execute_result"
    }
   ],
   "source": [
    "\n",
    "y_test"
   ]
  },
  {
   "cell_type": "code",
   "execution_count": 23,
   "metadata": {
    "colab": {
     "base_uri": "https://localhost:8080/"
    },
    "id": "__GeLlIuMaYD",
    "outputId": "c7518665-286f-40d3-8af7-ebfd59d1ef28"
   },
   "outputs": [
    {
     "name": "stdout",
     "output_type": "stream",
     "text": [
      "                    precision    recall  f1-score   support\n",
      "\n",
      "Sentiment_Positive       0.83      0.87      0.85     12500\n",
      "Sentiment_Negative       0.87      0.83      0.85     12500\n",
      "\n",
      "          accuracy                           0.85     25000\n",
      "         macro avg       0.85      0.85      0.85     25000\n",
      "      weighted avg       0.85      0.85      0.85     25000\n",
      "\n"
     ]
    }
   ],
   "source": [
    "from sklearn.metrics import classification_report\n",
    "target_names = ['Sentiment_Positive', 'Sentiment_Negative']\n",
    "print(classification_report(y_test, y_pred, target_names=target_names))"
   ]
  },
  {
   "cell_type": "code",
   "execution_count": 24,
   "metadata": {
    "colab": {
     "base_uri": "https://localhost:8080/"
    },
    "id": "KRBpiReKVRzP",
    "outputId": "621df0e2-897f-4f46-a5f0-21837d4b244f"
   },
   "outputs": [
    {
     "data": {
      "text/plain": [
       "[None,\n",
       " None,\n",
       " None,\n",
       " None,\n",
       " None,\n",
       " None,\n",
       " None,\n",
       " None,\n",
       " None,\n",
       " None,\n",
       " None,\n",
       " None,\n",
       " None,\n",
       " None,\n",
       " None,\n",
       " None,\n",
       " None,\n",
       " None,\n",
       " None,\n",
       " None,\n",
       " None,\n",
       " None,\n",
       " None,\n",
       " None,\n",
       " None,\n",
       " None,\n",
       " None,\n",
       " None,\n",
       " None,\n",
       " None,\n",
       " None,\n",
       " None,\n",
       " None,\n",
       " None,\n",
       " None,\n",
       " None,\n",
       " None,\n",
       " None,\n",
       " None,\n",
       " None,\n",
       " None,\n",
       " None,\n",
       " None,\n",
       " None,\n",
       " None,\n",
       " None,\n",
       " None,\n",
       " None,\n",
       " None,\n",
       " None,\n",
       " None,\n",
       " None,\n",
       " None,\n",
       " None,\n",
       " None,\n",
       " None,\n",
       " None,\n",
       " None,\n",
       " None,\n",
       " None,\n",
       " None,\n",
       " None,\n",
       " None,\n",
       " None,\n",
       " None,\n",
       " None,\n",
       " None,\n",
       " None,\n",
       " None,\n",
       " None,\n",
       " None,\n",
       " None,\n",
       " None,\n",
       " None,\n",
       " None,\n",
       " None,\n",
       " None,\n",
       " None,\n",
       " None,\n",
       " None,\n",
       " None,\n",
       " None,\n",
       " None,\n",
       " None,\n",
       " None,\n",
       " None,\n",
       " None,\n",
       " None,\n",
       " None,\n",
       " None,\n",
       " None,\n",
       " None,\n",
       " None,\n",
       " None,\n",
       " None,\n",
       " None,\n",
       " None,\n",
       " None,\n",
       " None,\n",
       " None,\n",
       " None,\n",
       " None,\n",
       " None,\n",
       " None,\n",
       " None,\n",
       " None,\n",
       " None,\n",
       " None,\n",
       " None,\n",
       " None,\n",
       " None,\n",
       " None,\n",
       " None,\n",
       " None,\n",
       " None,\n",
       " None,\n",
       " None,\n",
       " None,\n",
       " None,\n",
       " None,\n",
       " None,\n",
       " None,\n",
       " None,\n",
       " None,\n",
       " None,\n",
       " None,\n",
       " None,\n",
       " None,\n",
       " None,\n",
       " None,\n",
       " None,\n",
       " None,\n",
       " None,\n",
       " None,\n",
       " None,\n",
       " None,\n",
       " None,\n",
       " None,\n",
       " None,\n",
       " None,\n",
       " None,\n",
       " None,\n",
       " None,\n",
       " None,\n",
       " None,\n",
       " None,\n",
       " None,\n",
       " None,\n",
       " None,\n",
       " None,\n",
       " None,\n",
       " None,\n",
       " None,\n",
       " None,\n",
       " None,\n",
       " None,\n",
       " None,\n",
       " None,\n",
       " None,\n",
       " None,\n",
       " None,\n",
       " None,\n",
       " None,\n",
       " None,\n",
       " None,\n",
       " None,\n",
       " None,\n",
       " None,\n",
       " None,\n",
       " None,\n",
       " None,\n",
       " None,\n",
       " None,\n",
       " None,\n",
       " None,\n",
       " None,\n",
       " None,\n",
       " None,\n",
       " None,\n",
       " None,\n",
       " None,\n",
       " None,\n",
       " None,\n",
       " None,\n",
       " None,\n",
       " None,\n",
       " None,\n",
       " None,\n",
       " None,\n",
       " None,\n",
       " None,\n",
       " None,\n",
       " None,\n",
       " None,\n",
       " None,\n",
       " None,\n",
       " None,\n",
       " None,\n",
       " None,\n",
       " None,\n",
       " None,\n",
       " None,\n",
       " None,\n",
       " None,\n",
       " None,\n",
       " None,\n",
       " None,\n",
       " None,\n",
       " None,\n",
       " None,\n",
       " None,\n",
       " None,\n",
       " None,\n",
       " None,\n",
       " None,\n",
       " None,\n",
       " None,\n",
       " None,\n",
       " None,\n",
       " None,\n",
       " None,\n",
       " None,\n",
       " None,\n",
       " None,\n",
       " None,\n",
       " None,\n",
       " None,\n",
       " None,\n",
       " None,\n",
       " None,\n",
       " None,\n",
       " None,\n",
       " 'the',\n",
       " 'wonder',\n",
       " 'own',\n",
       " 'as',\n",
       " 'by',\n",
       " 'is',\n",
       " 'sequence',\n",
       " 'i',\n",
       " 'i',\n",
       " 'and',\n",
       " 'and',\n",
       " 'to',\n",
       " 'of',\n",
       " 'hollywood',\n",
       " 'br',\n",
       " 'of',\n",
       " 'down',\n",
       " 'shouting',\n",
       " 'getting',\n",
       " 'boring',\n",
       " 'of',\n",
       " 'ever',\n",
       " 'it',\n",
       " 'sadly',\n",
       " 'sadly',\n",
       " 'sadly',\n",
       " 'i',\n",
       " 'i',\n",
       " 'was',\n",
       " 'then',\n",
       " 'does',\n",
       " \"don't\",\n",
       " 'close',\n",
       " 'faint',\n",
       " 'after',\n",
       " 'one',\n",
       " 'carry',\n",
       " 'as',\n",
       " 'by',\n",
       " 'are',\n",
       " 'be',\n",
       " 'favourites',\n",
       " 'all',\n",
       " 'family',\n",
       " 'turn',\n",
       " 'in',\n",
       " 'does',\n",
       " 'as',\n",
       " 'three',\n",
       " 'part',\n",
       " 'in',\n",
       " 'another',\n",
       " 'some',\n",
       " 'to',\n",
       " 'be',\n",
       " 'probably',\n",
       " 'with',\n",
       " 'world',\n",
       " 'and',\n",
       " 'her',\n",
       " 'an',\n",
       " 'have',\n",
       " 'faint',\n",
       " 'beginning',\n",
       " 'own',\n",
       " 'as',\n",
       " 'is',\n",
       " 'sequence']"
      ]
     },
     "execution_count": 24,
     "metadata": {
      "tags": []
     },
     "output_type": "execute_result"
    }
   ],
   "source": [
    "sequence_to_text(x_test[0])"
   ]
  },
  {
   "cell_type": "code",
   "execution_count": 25,
   "metadata": {
    "colab": {
     "base_uri": "https://localhost:8080/"
    },
    "id": "rWjN98FHVmH0",
    "outputId": "644a3f8e-f854-4314-d10e-bcd32e3d60d5"
   },
   "outputs": [
    {
     "data": {
      "text/plain": [
       "[None,\n",
       " None,\n",
       " None,\n",
       " None,\n",
       " None,\n",
       " None,\n",
       " None,\n",
       " None,\n",
       " None,\n",
       " None,\n",
       " None,\n",
       " None,\n",
       " None,\n",
       " None,\n",
       " None,\n",
       " None,\n",
       " None,\n",
       " None,\n",
       " None,\n",
       " None,\n",
       " None,\n",
       " None,\n",
       " None,\n",
       " None,\n",
       " None,\n",
       " None,\n",
       " None,\n",
       " None,\n",
       " None,\n",
       " None,\n",
       " None,\n",
       " None,\n",
       " None,\n",
       " None,\n",
       " None,\n",
       " None,\n",
       " None,\n",
       " None,\n",
       " None,\n",
       " None,\n",
       " 'the',\n",
       " 'as',\n",
       " 'you',\n",
       " \"world's\",\n",
       " 'is',\n",
       " 'quite',\n",
       " 'br',\n",
       " 'mankind',\n",
       " 'most',\n",
       " 'that',\n",
       " 'quest',\n",
       " 'are',\n",
       " 'chase',\n",
       " 'to',\n",
       " 'being',\n",
       " 'quickly',\n",
       " 'of',\n",
       " 'little',\n",
       " 'it',\n",
       " 'time',\n",
       " 'hell',\n",
       " 'to',\n",
       " 'plot',\n",
       " 'br',\n",
       " 'of',\n",
       " 'something',\n",
       " 'long',\n",
       " 'put',\n",
       " 'are',\n",
       " 'of',\n",
       " 'every',\n",
       " 'place',\n",
       " 'this',\n",
       " 'consequence',\n",
       " 'and',\n",
       " 'of',\n",
       " 'interplay',\n",
       " 'storytelling',\n",
       " 'being',\n",
       " 'nasty',\n",
       " 'not',\n",
       " 'of',\n",
       " 'you',\n",
       " 'warren',\n",
       " 'in',\n",
       " 'is',\n",
       " 'failed',\n",
       " 'club',\n",
       " 'i',\n",
       " 'i',\n",
       " 'of',\n",
       " 'films',\n",
       " 'pay',\n",
       " 'so',\n",
       " 'sequences',\n",
       " 'and',\n",
       " 'film',\n",
       " 'okay',\n",
       " 'uses',\n",
       " 'to',\n",
       " 'received',\n",
       " 'and',\n",
       " 'if',\n",
       " 'time',\n",
       " 'done',\n",
       " 'for',\n",
       " 'room',\n",
       " 'sugar',\n",
       " 'viewer',\n",
       " 'as',\n",
       " 'cartoon',\n",
       " 'of',\n",
       " 'gives',\n",
       " 'to',\n",
       " 'forgettable',\n",
       " 'br',\n",
       " 'be',\n",
       " 'because',\n",
       " 'many',\n",
       " 'these',\n",
       " 'of',\n",
       " 'reflection',\n",
       " 'sugar',\n",
       " 'contained',\n",
       " 'gives',\n",
       " 'it',\n",
       " 'wreck',\n",
       " 'scene',\n",
       " 'to',\n",
       " 'more',\n",
       " 'was',\n",
       " 'two',\n",
       " 'when',\n",
       " 'had',\n",
       " 'find',\n",
       " 'as',\n",
       " 'you',\n",
       " 'another',\n",
       " 'it',\n",
       " 'of',\n",
       " 'themselves',\n",
       " 'probably',\n",
       " 'who',\n",
       " 'interplay',\n",
       " 'storytelling',\n",
       " 'if',\n",
       " 'itself',\n",
       " 'by',\n",
       " 'br',\n",
       " 'about',\n",
       " \"1950's\",\n",
       " 'films',\n",
       " 'not',\n",
       " 'would',\n",
       " 'effects',\n",
       " 'that',\n",
       " 'her',\n",
       " 'box',\n",
       " 'to',\n",
       " 'miike',\n",
       " 'for',\n",
       " 'if',\n",
       " 'hero',\n",
       " 'close',\n",
       " 'seek',\n",
       " 'end',\n",
       " 'is',\n",
       " 'very',\n",
       " 'together',\n",
       " 'movie',\n",
       " 'of',\n",
       " 'wheel',\n",
       " 'got',\n",
       " 'say',\n",
       " 'kong',\n",
       " 'sugar',\n",
       " 'fred',\n",
       " 'close',\n",
       " 'bore',\n",
       " 'there',\n",
       " 'is',\n",
       " 'playing',\n",
       " 'lot',\n",
       " 'of',\n",
       " 'and',\n",
       " 'pan',\n",
       " 'place',\n",
       " 'trilogy',\n",
       " 'of',\n",
       " 'lacks',\n",
       " 'br',\n",
       " 'of',\n",
       " 'their',\n",
       " 'time',\n",
       " 'much',\n",
       " 'this',\n",
       " 'men',\n",
       " 'as',\n",
       " 'on',\n",
       " 'it',\n",
       " 'is',\n",
       " 'telling',\n",
       " 'program',\n",
       " 'br',\n",
       " 'silliness',\n",
       " 'okay',\n",
       " 'and',\n",
       " 'to',\n",
       " 'frustration',\n",
       " 'at',\n",
       " 'corner',\n",
       " 'and',\n",
       " 'she',\n",
       " 'of',\n",
       " 'sequences',\n",
       " 'to',\n",
       " 'political',\n",
       " 'clearly',\n",
       " 'in',\n",
       " 'of',\n",
       " 'drugs',\n",
       " 'keep',\n",
       " 'guy',\n",
       " 'i',\n",
       " 'i',\n",
       " 'was',\n",
       " 'throwing',\n",
       " 'room',\n",
       " 'sugar',\n",
       " 'as',\n",
       " 'it',\n",
       " 'by',\n",
       " 'br',\n",
       " 'be',\n",
       " 'plot',\n",
       " 'many',\n",
       " 'for',\n",
       " 'occasionally',\n",
       " 'film',\n",
       " 'verge',\n",
       " 'boyfriend',\n",
       " 'difficult',\n",
       " 'kid',\n",
       " 'as',\n",
       " 'you',\n",
       " 'it',\n",
       " 'failed',\n",
       " 'not',\n",
       " 'if',\n",
       " 'gerard',\n",
       " 'to',\n",
       " 'if',\n",
       " 'woman',\n",
       " 'in',\n",
       " 'and',\n",
       " 'is',\n",
       " 'police',\n",
       " 'fi',\n",
       " 'spooky',\n",
       " 'or',\n",
       " 'of',\n",
       " 'self',\n",
       " 'what',\n",
       " 'have',\n",
       " 'pretty',\n",
       " 'in',\n",
       " 'can',\n",
       " 'so',\n",
       " 'suit',\n",
       " 'you',\n",
       " 'good',\n",
       " '2',\n",
       " 'which',\n",
       " 'why',\n",
       " 'super',\n",
       " 'as',\n",
       " 'it',\n",
       " 'main',\n",
       " 'of',\n",
       " 'my',\n",
       " 'i',\n",
       " 'i',\n",
       " '\\x96',\n",
       " 'if',\n",
       " 'time',\n",
       " 'screenplay',\n",
       " 'in',\n",
       " 'same',\n",
       " 'this',\n",
       " 'remember',\n",
       " 'assured',\n",
       " 'have',\n",
       " 'action',\n",
       " 'one',\n",
       " 'in',\n",
       " 'realistic',\n",
       " 'that',\n",
       " 'better',\n",
       " 'of',\n",
       " 'lessons']"
      ]
     },
     "execution_count": 25,
     "metadata": {
      "tags": []
     },
     "output_type": "execute_result"
    }
   ],
   "source": [
    "sequence_to_text(x_test[1])"
   ]
  },
  {
   "cell_type": "markdown",
   "metadata": {
    "id": "Igq8Qm8GeCzG"
   },
   "source": [
    "## Retrive the output of each layer in keras for a given single test sample from the trained model you built\n",
    "\n",
    " Retrieve the output of each layer in Keras for a given single test sample from the trained model built "
   ]
  },
  {
   "cell_type": "code",
   "execution_count": null,
   "metadata": {
    "id": "0AqOnLa2eCzH"
   },
   "outputs": [],
   "source": [
    "from keras import backend as K\n",
    "\n",
    "inp = model.input                                           # input placeholder\n",
    "outputs = [layer.output for layer in model.layers]          # all layer outputs\n",
    "print (outputs)\n",
    "functors = [K.function([inp], [K.learning_phase()], [out]) for out in outputs]  \n"
   ]
  },
  {
   "cell_type": "markdown",
   "metadata": {
    "id": "wSpB7Y9bzzCv"
   },
   "source": [
    "Part Two\n",
    "\n",
    "• DOMAIN: Social media analytics\n",
    "\n",
    "\n",
    "• CONTEXT: Past studies in Sarcasm Detection mostly make use of Twitter datasets collected\n",
    "using hashtag based supervision but such datasets are noisy in terms of labels and\n",
    "language. Furthermore, many tweets are replies to other tweets and detecting sarcasm in\n",
    "these requires the availability of contextual tweets.In this hands-on project, the goal is to\n",
    "build a model to detect whether a sentence is sarcastic or not, using Bidirectional LSTMs.\n",
    "\n",
    "• DATA DESCRIPTION:\n",
    "The dataset is collected from two news websites, theonion.com and huffingtonpost.com.\n",
    "This new dataset has the following advantages over the existing Twitter datasets:\n",
    "Since news headlines are written by professionals in a formal manner, there are no spelling mistakes and\n",
    "informal usage. This reduces the sparsity and also increases the chance of finding pre-trained embeddings.\n",
    "Furthermore, since the sole purpose of TheOnion is to publish sarcastic news, we get high-quality labels with\n",
    "much less noise as compared to Twitter datasets.\n",
    "Unlike tweets that reply to other tweets, the news headlines obtained are self-contained. This would help us in\n",
    "teasing apart the real sarcastic elements\n",
    "\n",
    "Content: Each record consists of three attributes:\n",
    "\n",
    "is_sarcastic: 1 if the record is sarcastic otherwise 0\n",
    "\n",
    "headline: the headline of the news article\n",
    "\n",
    "article_link: link to the original news article. Useful in collecting supplementary data\n",
    "\n",
    "Reference: https://github.com/rishabhmisra/News-Headlines-Dataset-For-Sarcasm-Detection\n",
    "\n",
    "• PROJECT OBJECTIVE: Build a sequential NLP classifier which can use input text parameters\n",
    "to determine the customer sentiments.\n",
    "\n",
    "Steps and tasks: [ Total Score: 30 points]\n",
    "1. Read and explore the data\n",
    "2. Retain relevant columns\n",
    "3. Get length of each sentence\n",
    "4. Define parameters\n",
    "5. Get indices for words\n",
    "6. Create features and labels\n",
    "7. Get vocabulary size\n",
    "8. Create a weight matrix using GloVe embeddings\n",
    "9. Define and compile a Bidirectional LSTM model.\n",
    "Hint: Be analytical and experimental here in trying new approaches to design the best model.\n",
    "10. Fit the model and check the validation accuracy\n",
    "\n"
   ]
  },
  {
   "cell_type": "code",
   "execution_count": 26,
   "metadata": {
    "colab": {
     "base_uri": "https://localhost:8080/"
    },
    "id": "iOuyiRiJy5JA",
    "outputId": "de887308-1400-46cd-d60d-3fd865ff1161"
   },
   "outputs": [
    {
     "name": "stdout",
     "output_type": "stream",
     "text": [
      "2.4.1\n"
     ]
    }
   ],
   "source": [
    "import tensorflow as tf\n",
    "import pandas as pd\n",
    "import string\n",
    "import re\n",
    "import numpy as np\n",
    "from sklearn.model_selection import train_test_split\n",
    "import matplotlib.pyplot as plt\n",
    "from matplotlib.ticker import PercentFormatter\n",
    "import nltk\n",
    "import spacy\n",
    "import sys\n",
    "from spacy.lang.en import English\n",
    "import en_core_web_sm\n",
    "from nltk.corpus import wordnet as wn\n",
    "from nltk.stem.wordnet import WordNetLemmatizer\n",
    "\n",
    "print(tf.__version__) "
   ]
  },
  {
   "cell_type": "code",
   "execution_count": 29,
   "metadata": {
    "colab": {
     "base_uri": "https://localhost:8080/",
     "height": 195
    },
    "id": "4WDQvDlq0rD0",
    "outputId": "2302db47-b8f8-4145-bcb4-8e59eb507fff"
   },
   "outputs": [
    {
     "data": {
      "text/html": [
       "<div>\n",
       "<style scoped>\n",
       "    .dataframe tbody tr th:only-of-type {\n",
       "        vertical-align: middle;\n",
       "    }\n",
       "\n",
       "    .dataframe tbody tr th {\n",
       "        vertical-align: top;\n",
       "    }\n",
       "\n",
       "    .dataframe thead th {\n",
       "        text-align: right;\n",
       "    }\n",
       "</style>\n",
       "<table border=\"1\" class=\"dataframe\">\n",
       "  <thead>\n",
       "    <tr style=\"text-align: right;\">\n",
       "      <th></th>\n",
       "      <th>headline</th>\n",
       "      <th>is_sarcastic</th>\n",
       "    </tr>\n",
       "  </thead>\n",
       "  <tbody>\n",
       "    <tr>\n",
       "      <th>0</th>\n",
       "      <td>former versace store clerk sues over secret 'b...</td>\n",
       "      <td>0</td>\n",
       "    </tr>\n",
       "    <tr>\n",
       "      <th>1</th>\n",
       "      <td>the 'roseanne' revival catches up to our thorn...</td>\n",
       "      <td>0</td>\n",
       "    </tr>\n",
       "    <tr>\n",
       "      <th>2</th>\n",
       "      <td>mom starting to fear son's web series closest ...</td>\n",
       "      <td>1</td>\n",
       "    </tr>\n",
       "    <tr>\n",
       "      <th>3</th>\n",
       "      <td>boehner just wants wife to listen, not come up...</td>\n",
       "      <td>1</td>\n",
       "    </tr>\n",
       "    <tr>\n",
       "      <th>4</th>\n",
       "      <td>j.k. rowling wishes snape happy birthday in th...</td>\n",
       "      <td>0</td>\n",
       "    </tr>\n",
       "  </tbody>\n",
       "</table>\n",
       "</div>"
      ],
      "text/plain": [
       "                                            headline  is_sarcastic\n",
       "0  former versace store clerk sues over secret 'b...             0\n",
       "1  the 'roseanne' revival catches up to our thorn...             0\n",
       "2  mom starting to fear son's web series closest ...             1\n",
       "3  boehner just wants wife to listen, not come up...             1\n",
       "4  j.k. rowling wishes snape happy birthday in th...             0"
      ]
     },
     "execution_count": 29,
     "metadata": {
      "tags": []
     },
     "output_type": "execute_result"
    }
   ],
   "source": [
    "df = pd.read_json(\"/content/drive/MyDrive/GreatLearning/NLP_Projects/NLP-6/Sarcasm_Headlines_Dataset.json\", lines=True)\n",
    "df = df[['headline', 'is_sarcastic']]\n",
    "df.head()"
   ]
  },
  {
   "cell_type": "code",
   "execution_count": 30,
   "metadata": {
    "colab": {
     "base_uri": "https://localhost:8080/"
    },
    "id": "santpJxPCwl4",
    "outputId": "66498301-768c-453e-88c7-908e696bb7d0"
   },
   "outputs": [
    {
     "data": {
      "text/plain": [
       "False"
      ]
     },
     "execution_count": 30,
     "metadata": {
      "tags": []
     },
     "output_type": "execute_result"
    }
   ],
   "source": [
    "# check for columns with null values\n",
    "df.is_sarcastic.isnull().any() # no missing values in is_sarcastic column\n",
    "df.headline.isnull().any() # no missing values in headline column"
   ]
  },
  {
   "cell_type": "code",
   "execution_count": 31,
   "metadata": {
    "id": "pLPoSgdUC0gt"
   },
   "outputs": [],
   "source": [
    "df['headline'] = df.headline.apply(lambda x:x.lower())  # convert all words in headline into lower case \n",
    "df['headline'] = df.headline.apply(lambda x: ' '.join(word.strip(string.punctuation) for word in x.split()))  # remove all punctuations in headline"
   ]
  },
  {
   "cell_type": "code",
   "execution_count": 32,
   "metadata": {
    "colab": {
     "base_uri": "https://localhost:8080/",
     "height": 402
    },
    "id": "iZSsMNNHC4If",
    "outputId": "ed515b8c-3970-491c-bf4f-058bafa730ac"
   },
   "outputs": [
    {
     "data": {
      "text/html": [
       "<div>\n",
       "<style scoped>\n",
       "    .dataframe tbody tr th:only-of-type {\n",
       "        vertical-align: middle;\n",
       "    }\n",
       "\n",
       "    .dataframe tbody tr th {\n",
       "        vertical-align: top;\n",
       "    }\n",
       "\n",
       "    .dataframe thead th {\n",
       "        text-align: right;\n",
       "    }\n",
       "</style>\n",
       "<table border=\"1\" class=\"dataframe\">\n",
       "  <thead>\n",
       "    <tr style=\"text-align: right;\">\n",
       "      <th></th>\n",
       "      <th>headline</th>\n",
       "      <th>is_sarcastic</th>\n",
       "      <th>headline_count</th>\n",
       "      <th>headline_unique_word_count</th>\n",
       "      <th>headline_has_digits</th>\n",
       "    </tr>\n",
       "  </thead>\n",
       "  <tbody>\n",
       "    <tr>\n",
       "      <th>0</th>\n",
       "      <td>former versace store clerk sues over secret bl...</td>\n",
       "      <td>0</td>\n",
       "      <td>12</td>\n",
       "      <td>12</td>\n",
       "      <td>False</td>\n",
       "    </tr>\n",
       "    <tr>\n",
       "      <th>1</th>\n",
       "      <td>the roseanne revival catches up to our thorny ...</td>\n",
       "      <td>0</td>\n",
       "      <td>14</td>\n",
       "      <td>14</td>\n",
       "      <td>False</td>\n",
       "    </tr>\n",
       "    <tr>\n",
       "      <th>2</th>\n",
       "      <td>mom starting to fear son's web series closest ...</td>\n",
       "      <td>1</td>\n",
       "      <td>14</td>\n",
       "      <td>13</td>\n",
       "      <td>False</td>\n",
       "    </tr>\n",
       "    <tr>\n",
       "      <th>3</th>\n",
       "      <td>boehner just wants wife to listen not come up ...</td>\n",
       "      <td>1</td>\n",
       "      <td>13</td>\n",
       "      <td>13</td>\n",
       "      <td>False</td>\n",
       "    </tr>\n",
       "    <tr>\n",
       "      <th>4</th>\n",
       "      <td>j.k rowling wishes snape happy birthday in the...</td>\n",
       "      <td>0</td>\n",
       "      <td>11</td>\n",
       "      <td>11</td>\n",
       "      <td>False</td>\n",
       "    </tr>\n",
       "    <tr>\n",
       "      <th>...</th>\n",
       "      <td>...</td>\n",
       "      <td>...</td>\n",
       "      <td>...</td>\n",
       "      <td>...</td>\n",
       "      <td>...</td>\n",
       "    </tr>\n",
       "    <tr>\n",
       "      <th>26704</th>\n",
       "      <td>american politics in moral free-fall</td>\n",
       "      <td>0</td>\n",
       "      <td>5</td>\n",
       "      <td>5</td>\n",
       "      <td>False</td>\n",
       "    </tr>\n",
       "    <tr>\n",
       "      <th>26705</th>\n",
       "      <td>america's best 20 hikes</td>\n",
       "      <td>0</td>\n",
       "      <td>4</td>\n",
       "      <td>4</td>\n",
       "      <td>True</td>\n",
       "    </tr>\n",
       "    <tr>\n",
       "      <th>26706</th>\n",
       "      <td>reparations and obama</td>\n",
       "      <td>0</td>\n",
       "      <td>3</td>\n",
       "      <td>3</td>\n",
       "      <td>False</td>\n",
       "    </tr>\n",
       "    <tr>\n",
       "      <th>26707</th>\n",
       "      <td>israeli ban targeting boycott supporters raise...</td>\n",
       "      <td>0</td>\n",
       "      <td>8</td>\n",
       "      <td>8</td>\n",
       "      <td>False</td>\n",
       "    </tr>\n",
       "    <tr>\n",
       "      <th>26708</th>\n",
       "      <td>gourmet gifts for the foodie 2014</td>\n",
       "      <td>0</td>\n",
       "      <td>6</td>\n",
       "      <td>6</td>\n",
       "      <td>True</td>\n",
       "    </tr>\n",
       "  </tbody>\n",
       "</table>\n",
       "<p>26709 rows × 5 columns</p>\n",
       "</div>"
      ],
      "text/plain": [
       "                                                headline  ...  headline_has_digits\n",
       "0      former versace store clerk sues over secret bl...  ...                False\n",
       "1      the roseanne revival catches up to our thorny ...  ...                False\n",
       "2      mom starting to fear son's web series closest ...  ...                False\n",
       "3      boehner just wants wife to listen not come up ...  ...                False\n",
       "4      j.k rowling wishes snape happy birthday in the...  ...                False\n",
       "...                                                  ...  ...                  ...\n",
       "26704               american politics in moral free-fall  ...                False\n",
       "26705                            america's best 20 hikes  ...                 True\n",
       "26706                              reparations and obama  ...                False\n",
       "26707  israeli ban targeting boycott supporters raise...  ...                False\n",
       "26708                  gourmet gifts for the foodie 2014  ...                 True\n",
       "\n",
       "[26709 rows x 5 columns]"
      ]
     },
     "execution_count": 32,
     "metadata": {
      "tags": []
     },
     "output_type": "execute_result"
    }
   ],
   "source": [
    "df['headline_count'] = df.headline.apply(lambda x: len(list(x.split())))\n",
    "df['headline_unique_word_count'] = df.headline.apply(lambda x: len(set(x.split())))\n",
    "df['headline_has_digits'] = df.headline.apply(lambda x: bool(re.search(r'\\d', x)))\n",
    "df"
   ]
  },
  {
   "cell_type": "code",
   "execution_count": 35,
   "metadata": {
    "id": "NrhL-P2xC_d3"
   },
   "outputs": [],
   "source": [
    "sarcastic_dat = df.groupby('is_sarcastic').count()\n",
    "sarcastic_dat.index = ['Non-sarcastic','Sarcastic']"
   ]
  },
  {
   "cell_type": "code",
   "execution_count": 36,
   "metadata": {
    "colab": {
     "base_uri": "https://localhost:8080/",
     "height": 573
    },
    "id": "2--9Fx-TC7Dt",
    "outputId": "5b97b35c-cd06-4685-e54c-92b068ed9d30"
   },
   "outputs": [
    {
     "data": {
      "image/png": "[encoded data removed]",
      "text/plain": [
       "<Figure size 432x288 with 1 Axes>"
      ]
     },
     "metadata": {
      "needs_background": "light",
      "tags": []
     },
     "output_type": "display_data"
    },
    {
     "data": {
      "image/png": "[encoded data removed]",
      "text/plain": [
       "<Figure size 432x288 with 1 Axes>"
      ]
     },
     "metadata": {
      "needs_background": "light",
      "tags": []
     },
     "output_type": "display_data"
    }
   ],
   "source": [
    "plt.xlabel('Type of headlines (Sarcastic & Non-sarcastic)')\n",
    "plt.ylabel('Frequencies of headlines')\n",
    "plt.xticks(fontsize=10)\n",
    "plt.title('Frequencies of Sarcastic vs Non-sarcastic headlines')\n",
    "bar_graph = plt.bar(sarcastic_dat.index, sarcastic_dat.headline_count)\n",
    "bar_graph[1].set_color('r')\n",
    "plt.show()\n",
    "\n",
    "\n",
    "plt.xlabel('Type of headlines (Sarcastic & Non-sarcastic)')\n",
    "plt.ylabel('Proportion of headlines')\n",
    "plt.xticks(fontsize=10)\n",
    "plt.title('Proportion of Sarcastic vs Non-sarcastic headlines')\n",
    "bar_graph = plt.bar(sarcastic_dat.index, sarcastic_dat.headline_count / sarcastic_dat.headline_count.sum())\n",
    "bar_graph[1].set_color('r')\n",
    "plt.gca().yaxis.set_major_formatter(PercentFormatter(1))\n",
    "plt.show()\n",
    "\n"
   ]
  },
  {
   "cell_type": "code",
   "execution_count": 37,
   "metadata": {
    "colab": {
     "base_uri": "https://localhost:8080/"
    },
    "id": "NiqkD2TqDFFx",
    "outputId": "4d985ac2-e1f0-46ab-d28e-aa542b7cb15a"
   },
   "outputs": [
    {
     "data": {
      "text/plain": [
       "Non-sarcastic    0.56\n",
       "Sarcastic        0.44\n",
       "Name: headline_count, dtype: float64"
      ]
     },
     "execution_count": 37,
     "metadata": {
      "tags": []
     },
     "output_type": "execute_result"
    }
   ],
   "source": [
    "\n",
    "round(sarcastic_dat.headline_count / sarcastic_dat.headline_count.sum(), 2)"
   ]
  },
  {
   "cell_type": "code",
   "execution_count": null,
   "metadata": {
    "id": "stUEBVTYahDy"
   },
   "outputs": [],
   "source": [
    "# This is not an imbalanced class dataset\n",
    "# Non-sarcastic    0.56\n",
    "# Sarcastic        0.44"
   ]
  },
  {
   "cell_type": "code",
   "execution_count": 38,
   "metadata": {
    "colab": {
     "base_uri": "https://localhost:8080/",
     "height": 851
    },
    "id": "B5i0-H7ADHXC",
    "outputId": "7a7cbca9-1b73-409b-86cf-7bea093659f9"
   },
   "outputs": [
    {
     "data": {
      "image/png": "[encoded data removed]",
      "text/plain": [
       "<Figure size 432x288 with 1 Axes>"
      ]
     },
     "metadata": {
      "needs_background": "light",
      "tags": []
     },
     "output_type": "display_data"
    },
    {
     "data": {
      "image/png": "[encoded data removed]",
      "text/plain": [
       "<Figure size 432x288 with 1 Axes>"
      ]
     },
     "metadata": {
      "needs_background": "light",
      "tags": []
     },
     "output_type": "display_data"
    },
    {
     "data": {
      "image/png": "[encoded data removed]",
      "text/plain": [
       "<Figure size 432x288 with 1 Axes>"
      ]
     },
     "metadata": {
      "needs_background": "light",
      "tags": []
     },
     "output_type": "display_data"
    }
   ],
   "source": [
    "all_dat = df.groupby('headline_count').count()\n",
    "sarcastic_dat1 = df[df.is_sarcastic==1]\n",
    "sarcastic_dat = sarcastic_dat1.groupby('headline_count').count()\n",
    "not_sarcastic_dat1 = df[df.is_sarcastic==0]\n",
    "not_sarcastic_dat = not_sarcastic_dat1.groupby('headline_count').count()\n",
    "\n",
    "plt.xlabel('Different lengths of headline')\n",
    "plt.ylabel('Frequencies of headline length')\n",
    "plt.xticks(fontsize=10)\n",
    "plt.title('Distribution of headline length for entire dataset')\n",
    "bar_graph = plt.bar(all_dat.index, all_dat.headline)\n",
    "bar_graph[8].set_color('r')\n",
    "plt.axvline(df.headline_count.mean(), color='k', linestyle='dashed', linewidth=1)  # median is 10 words in a headline\n",
    "plt.show()\n",
    "\n",
    "plt.xlabel('Different lengths of sarcastic headline')\n",
    "plt.ylabel('Frequencies of sarcastic headline length')\n",
    "plt.xticks(fontsize=10)\n",
    "plt.title('Distribution of headline length for sarcastic dataset')\n",
    "bar_graph = plt.bar(sarcastic_dat.index, sarcastic_dat.headline)\n",
    "bar_graph[7].set_color('r')\n",
    "plt.axvline(sarcastic_dat1.headline_count.mean(), color='k', linestyle='dashed', linewidth=1)  # median is 10 words in a headline\n",
    "plt.show()\n",
    "\n",
    "\n",
    "plt.xlabel('Different lengths of non-sarcastic headline')\n",
    "plt.ylabel('Frequencies of non-sarcastic headline length')\n",
    "plt.xticks(fontsize=10)\n",
    "plt.title('Distribution of headline length for non-sarcastic dataset')\n",
    "bar_graph = plt.bar(not_sarcastic_dat.index, not_sarcastic_dat.headline)\n",
    "bar_graph[8].set_color('r')\n",
    "plt.axvline(not_sarcastic_dat1.headline_count.mean(), color='k', linestyle='dashed', linewidth=1)  # median is 10 words in a headline\n",
    "plt.show()\n",
    "\n"
   ]
  },
  {
   "cell_type": "code",
   "execution_count": null,
   "metadata": {
    "id": "zR_EZKIUalH4"
   },
   "outputs": [],
   "source": [
    "# difference in the length of sarcastic and non-sarcastic headlines is not significant. \n",
    "# median and mean length of headlines is around 10 words"
   ]
  },
  {
   "cell_type": "code",
   "execution_count": 39,
   "metadata": {
    "colab": {
     "base_uri": "https://localhost:8080/",
     "height": 1000
    },
    "id": "x2SSeGyVDNNU",
    "outputId": "110b8be9-dbc8-4c5f-dad9-575947e47b0d"
   },
   "outputs": [
    {
     "data": {
      "image/png": "[encoded data removed]",
      "text/plain": [
       "<Figure size 432x288 with 1 Axes>"
      ]
     },
     "metadata": {
      "needs_background": "light",
      "tags": []
     },
     "output_type": "display_data"
    },
    {
     "data": {
      "image/png": "[encoded data removed]",
      "text/plain": [
       "<Figure size 432x288 with 1 Axes>"
      ]
     },
     "metadata": {
      "needs_background": "light",
      "tags": []
     },
     "output_type": "display_data"
    },
    {
     "data": {
      "image/png": "[encoded data removed]",
      "text/plain": [
       "<Figure size 432x288 with 1 Axes>"
      ]
     },
     "metadata": {
      "needs_background": "light",
      "tags": []
     },
     "output_type": "display_data"
    },
    {
     "name": "stdout",
     "output_type": "stream",
     "text": [
      "Has Numbers in Headline              0.85\n",
      "Does not have Numbers in Headline    0.15\n",
      "Name: headline, dtype: float64\n",
      "Has Numbers in Headline              0.86\n",
      "Does not have Numbers in Headline    0.14\n",
      "Name: headline, dtype: float64\n",
      "Has Numbers in Headline              0.85\n",
      "Does not have Numbers in Headline    0.15\n",
      "Name: headline, dtype: float64\n"
     ]
    }
   ],
   "source": [
    "digits_dat = df.groupby('headline_has_digits').count()\n",
    "digits_dat.index = ['Has Numbers in Headline','Does not have Numbers in Headline']\n",
    "\n",
    "\n",
    "plt.xlabel('Type of headlines')\n",
    "plt.ylabel('Frequencies of headlines')\n",
    "plt.xticks(fontsize=10)\n",
    "plt.title('Frequencies of headlines with Numbers vs No numbers')\n",
    "bar_graph = plt.bar(digits_dat.index, digits_dat.headline / digits_dat.headline_count.sum())\n",
    "bar_graph[1].set_color('r')\n",
    "plt.gca().yaxis.set_major_formatter(PercentFormatter(1))\n",
    "plt.show()\n",
    "\n",
    "\n",
    "sarcastic_digits_dat = df[df.is_sarcastic==1].groupby('headline_has_digits').count()\n",
    "sarcastic_digits_dat.index = ['Has Numbers in Headline','Does not have Numbers in Headline']\n",
    "\n",
    "\n",
    "plt.xlabel('Type of headlines')\n",
    "plt.ylabel('Frequencies of headlines')\n",
    "plt.xticks(fontsize=10)\n",
    "plt.title('Frequencies of Sarcastic headlines with Numbers vs No numbers')\n",
    "bar_graph = plt.bar(sarcastic_digits_dat.index, sarcastic_digits_dat.headline / sarcastic_digits_dat.headline_count.sum())\n",
    "bar_graph[1].set_color('r')\n",
    "plt.gca().yaxis.set_major_formatter(PercentFormatter(1))\n",
    "plt.show()\n",
    "\n",
    "\n",
    "not_sarcastic_digits_dat = df[df.is_sarcastic==0].groupby('headline_has_digits').count()\n",
    "not_sarcastic_digits_dat.index = ['Has Numbers in Headline','Does not have Numbers in Headline']\n",
    "\n",
    "\n",
    "plt.xlabel('Type of headlines')\n",
    "plt.ylabel('Frequencies of headlines')\n",
    "plt.xticks(fontsize=10)\n",
    "plt.title('Frequencies of Non-sarcastic headlines with Numbers vs No numbers')\n",
    "bar_graph = plt.bar(not_sarcastic_digits_dat.index, not_sarcastic_digits_dat.headline / not_sarcastic_digits_dat.headline_count.sum())\n",
    "bar_graph[1].set_color('r')\n",
    "plt.gca().yaxis.set_major_formatter(PercentFormatter(1))\n",
    "plt.show()\n",
    "\n",
    "print(round(digits_dat.headline / digits_dat.headline_count.sum(),2))\n",
    "print(round(sarcastic_digits_dat.headline / sarcastic_digits_dat.headline_count.sum(),2))\n",
    "print(round(not_sarcastic_digits_dat.headline / not_sarcastic_digits_dat.headline_count.sum(),2))\n",
    "\n"
   ]
  },
  {
   "cell_type": "code",
   "execution_count": null,
   "metadata": {
    "id": "Kql6RlX1aoXy"
   },
   "outputs": [],
   "source": [
    "# difference in the use of numbers/statistics in sarcastic and non-sarcastic headlines is not significant. \n",
    "# ~85% headlines uses numbers"
   ]
  },
  {
   "cell_type": "code",
   "execution_count": 40,
   "metadata": {
    "colab": {
     "base_uri": "https://localhost:8080/"
    },
    "id": "MvckFptnDSqK",
    "outputId": "52eddd31-fdd6-49c8-8f20-863cb2b7854f"
   },
   "outputs": [
    {
     "name": "stdout",
     "output_type": "stream",
     "text": [
      "[nltk_data] Downloading collection 'all'\n",
      "[nltk_data]    | \n",
      "[nltk_data]    | Downloading package abc to /root/nltk_data...\n",
      "[nltk_data]    |   Unzipping corpora/abc.zip.\n",
      "[nltk_data]    | Downloading package alpino to /root/nltk_data...\n",
      "[nltk_data]    |   Unzipping corpora/alpino.zip.\n",
      "[nltk_data]    | Downloading package biocreative_ppi to\n",
      "[nltk_data]    |     /root/nltk_data...\n",
      "[nltk_data]    |   Unzipping corpora/biocreative_ppi.zip.\n",
      "[nltk_data]    | Downloading package brown to /root/nltk_data...\n",
      "[nltk_data]    |   Unzipping corpora/brown.zip.\n",
      "[nltk_data]    | Downloading package brown_tei to /root/nltk_data...\n",
      "[nltk_data]    |   Unzipping corpora/brown_tei.zip.\n",
      "[nltk_data]    | Downloading package cess_cat to /root/nltk_data...\n",
      "[nltk_data]    |   Unzipping corpora/cess_cat.zip.\n",
      "[nltk_data]    | Downloading package cess_esp to /root/nltk_data...\n",
      "[nltk_data]    |   Unzipping corpora/cess_esp.zip.\n",
      "[nltk_data]    | Downloading package chat80 to /root/nltk_data...\n",
      "[nltk_data]    |   Unzipping corpora/chat80.zip.\n",
      "[nltk_data]    | Downloading package city_database to\n",
      "[nltk_data]    |     /root/nltk_data...\n",
      "[nltk_data]    |   Unzipping corpora/city_database.zip.\n",
      "[nltk_data]    | Downloading package cmudict to /root/nltk_data...\n",
      "[nltk_data]    |   Unzipping corpora/cmudict.zip.\n",
      "[nltk_data]    | Downloading package comparative_sentences to\n",
      "[nltk_data]    |     /root/nltk_data...\n",
      "[nltk_data]    |   Unzipping corpora/comparative_sentences.zip.\n",
      "[nltk_data]    | Downloading package comtrans to /root/nltk_data...\n",
      "[nltk_data]    | Downloading package conll2000 to /root/nltk_data...\n",
      "[nltk_data]    |   Unzipping corpora/conll2000.zip.\n",
      "[nltk_data]    | Downloading package conll2002 to /root/nltk_data...\n",
      "[nltk_data]    |   Unzipping corpora/conll2002.zip.\n",
      "[nltk_data]    | Downloading package conll2007 to /root/nltk_data...\n",
      "[nltk_data]    | Downloading package crubadan to /root/nltk_data...\n",
      "[nltk_data]    |   Unzipping corpora/crubadan.zip.\n",
      "[nltk_data]    | Downloading package dependency_treebank to\n",
      "[nltk_data]    |     /root/nltk_data...\n",
      "[nltk_data]    |   Unzipping corpora/dependency_treebank.zip.\n",
      "[nltk_data]    | Downloading package dolch to /root/nltk_data...\n",
      "[nltk_data]    |   Unzipping corpora/dolch.zip.\n",
      "[nltk_data]    | Downloading package europarl_raw to\n",
      "[nltk_data]    |     /root/nltk_data...\n",
      "[nltk_data]    |   Unzipping corpora/europarl_raw.zip.\n",
      "[nltk_data]    | Downloading package floresta to /root/nltk_data...\n",
      "[nltk_data]    |   Unzipping corpora/floresta.zip.\n",
      "[nltk_data]    | Downloading package framenet_v15 to\n",
      "[nltk_data]    |     /root/nltk_data...\n",
      "[nltk_data]    |   Unzipping corpora/framenet_v15.zip.\n",
      "[nltk_data]    | Downloading package framenet_v17 to\n",
      "[nltk_data]    |     /root/nltk_data...\n",
      "[nltk_data]    |   Unzipping corpora/framenet_v17.zip.\n",
      "[nltk_data]    | Downloading package gazetteers to /root/nltk_data...\n",
      "[nltk_data]    |   Unzipping corpora/gazetteers.zip.\n",
      "[nltk_data]    | Downloading package genesis to /root/nltk_data...\n",
      "[nltk_data]    |   Unzipping corpora/genesis.zip.\n",
      "[nltk_data]    | Downloading package gutenberg to /root/nltk_data...\n",
      "[nltk_data]    |   Unzipping corpora/gutenberg.zip.\n",
      "[nltk_data]    | Downloading package ieer to /root/nltk_data...\n",
      "[nltk_data]    |   Unzipping corpora/ieer.zip.\n",
      "[nltk_data]    | Downloading package inaugural to /root/nltk_data...\n",
      "[nltk_data]    |   Unzipping corpora/inaugural.zip.\n",
      "[nltk_data]    | Downloading package indian to /root/nltk_data...\n",
      "[nltk_data]    |   Unzipping corpora/indian.zip.\n",
      "[nltk_data]    | Downloading package jeita to /root/nltk_data...\n",
      "[nltk_data]    | Downloading package kimmo to /root/nltk_data...\n",
      "[nltk_data]    |   Unzipping corpora/kimmo.zip.\n",
      "[nltk_data]    | Downloading package knbc to /root/nltk_data...\n",
      "[nltk_data]    | Downloading package lin_thesaurus to\n",
      "[nltk_data]    |     /root/nltk_data...\n",
      "[nltk_data]    |   Unzipping corpora/lin_thesaurus.zip.\n",
      "[nltk_data]    | Downloading package mac_morpho to /root/nltk_data...\n",
      "[nltk_data]    |   Unzipping corpora/mac_morpho.zip.\n",
      "[nltk_data]    | Downloading package machado to /root/nltk_data...\n",
      "[nltk_data]    | Downloading package masc_tagged to /root/nltk_data...\n",
      "[nltk_data]    | Downloading package moses_sample to\n",
      "[nltk_data]    |     /root/nltk_data...\n",
      "[nltk_data]    |   Unzipping models/moses_sample.zip.\n",
      "[nltk_data]    | Downloading package movie_reviews to\n",
      "[nltk_data]    |     /root/nltk_data...\n",
      "[nltk_data]    |   Unzipping corpora/movie_reviews.zip.\n",
      "[nltk_data]    | Downloading package names to /root/nltk_data...\n",
      "[nltk_data]    |   Unzipping corpora/names.zip.\n",
      "[nltk_data]    | Downloading package nombank.1.0 to /root/nltk_data...\n",
      "[nltk_data]    | Downloading package nps_chat to /root/nltk_data...\n",
      "[nltk_data]    |   Unzipping corpora/nps_chat.zip.\n",
      "[nltk_data]    | Downloading package omw to /root/nltk_data...\n",
      "[nltk_data]    |   Unzipping corpora/omw.zip.\n",
      "[nltk_data]    | Downloading package opinion_lexicon to\n",
      "[nltk_data]    |     /root/nltk_data...\n",
      "[nltk_data]    |   Unzipping corpora/opinion_lexicon.zip.\n",
      "[nltk_data]    | Downloading package paradigms to /root/nltk_data...\n",
      "[nltk_data]    |   Unzipping corpora/paradigms.zip.\n",
      "[nltk_data]    | Downloading package pil to /root/nltk_data...\n",
      "[nltk_data]    |   Unzipping corpora/pil.zip.\n",
      "[nltk_data]    | Downloading package pl196x to /root/nltk_data...\n",
      "[nltk_data]    |   Unzipping corpora/pl196x.zip.\n",
      "[nltk_data]    | Downloading package ppattach to /root/nltk_data...\n",
      "[nltk_data]    |   Unzipping corpora/ppattach.zip.\n",
      "[nltk_data]    | Downloading package problem_reports to\n",
      "[nltk_data]    |     /root/nltk_data...\n",
      "[nltk_data]    |   Unzipping corpora/problem_reports.zip.\n",
      "[nltk_data]    | Downloading package propbank to /root/nltk_data...\n",
      "[nltk_data]    | Downloading package ptb to /root/nltk_data...\n",
      "[nltk_data]    |   Unzipping corpora/ptb.zip.\n",
      "[nltk_data]    | Downloading package product_reviews_1 to\n",
      "[nltk_data]    |     /root/nltk_data...\n",
      "[nltk_data]    |   Unzipping corpora/product_reviews_1.zip.\n",
      "[nltk_data]    | Downloading package product_reviews_2 to\n",
      "[nltk_data]    |     /root/nltk_data...\n",
      "[nltk_data]    |   Unzipping corpora/product_reviews_2.zip.\n",
      "[nltk_data]    | Downloading package pros_cons to /root/nltk_data...\n",
      "[nltk_data]    |   Unzipping corpora/pros_cons.zip.\n",
      "[nltk_data]    | Downloading package qc to /root/nltk_data...\n",
      "[nltk_data]    |   Unzipping corpora/qc.zip.\n",
      "[nltk_data]    | Downloading package reuters to /root/nltk_data...\n",
      "[nltk_data]    | Downloading package rte to /root/nltk_data...\n",
      "[nltk_data]    |   Unzipping corpora/rte.zip.\n",
      "[nltk_data]    | Downloading package semcor to /root/nltk_data...\n",
      "[nltk_data]    | Downloading package senseval to /root/nltk_data...\n",
      "[nltk_data]    |   Unzipping corpora/senseval.zip.\n",
      "[nltk_data]    | Downloading package sentiwordnet to\n",
      "[nltk_data]    |     /root/nltk_data...\n",
      "[nltk_data]    |   Unzipping corpora/sentiwordnet.zip.\n",
      "[nltk_data]    | Downloading package sentence_polarity to\n",
      "[nltk_data]    |     /root/nltk_data...\n",
      "[nltk_data]    |   Unzipping corpora/sentence_polarity.zip.\n",
      "[nltk_data]    | Downloading package shakespeare to /root/nltk_data...\n",
      "[nltk_data]    |   Unzipping corpora/shakespeare.zip.\n",
      "[nltk_data]    | Downloading package sinica_treebank to\n",
      "[nltk_data]    |     /root/nltk_data...\n",
      "[nltk_data]    |   Unzipping corpora/sinica_treebank.zip.\n",
      "[nltk_data]    | Downloading package smultron to /root/nltk_data...\n",
      "[nltk_data]    |   Unzipping corpora/smultron.zip.\n",
      "[nltk_data]    | Downloading package state_union to /root/nltk_data...\n",
      "[nltk_data]    |   Unzipping corpora/state_union.zip.\n",
      "[nltk_data]    | Downloading package stopwords to /root/nltk_data...\n",
      "[nltk_data]    |   Unzipping corpora/stopwords.zip.\n",
      "[nltk_data]    | Downloading package subjectivity to\n",
      "[nltk_data]    |     /root/nltk_data...\n",
      "[nltk_data]    |   Unzipping corpora/subjectivity.zip.\n",
      "[nltk_data]    | Downloading package swadesh to /root/nltk_data...\n",
      "[nltk_data]    |   Unzipping corpora/swadesh.zip.\n",
      "[nltk_data]    | Downloading package switchboard to /root/nltk_data...\n",
      "[nltk_data]    |   Unzipping corpora/switchboard.zip.\n",
      "[nltk_data]    | Downloading package timit to /root/nltk_data...\n",
      "[nltk_data]    |   Unzipping corpora/timit.zip.\n",
      "[nltk_data]    | Downloading package toolbox to /root/nltk_data...\n",
      "[nltk_data]    |   Unzipping corpora/toolbox.zip.\n",
      "[nltk_data]    | Downloading package treebank to /root/nltk_data...\n",
      "[nltk_data]    |   Unzipping corpora/treebank.zip.\n",
      "[nltk_data]    | Downloading package twitter_samples to\n",
      "[nltk_data]    |     /root/nltk_data...\n",
      "[nltk_data]    |   Unzipping corpora/twitter_samples.zip.\n",
      "[nltk_data]    | Downloading package udhr to /root/nltk_data...\n",
      "[nltk_data]    |   Unzipping corpora/udhr.zip.\n",
      "[nltk_data]    | Downloading package udhr2 to /root/nltk_data...\n",
      "[nltk_data]    |   Unzipping corpora/udhr2.zip.\n",
      "[nltk_data]    | Downloading package unicode_samples to\n",
      "[nltk_data]    |     /root/nltk_data...\n",
      "[nltk_data]    |   Unzipping corpora/unicode_samples.zip.\n",
      "[nltk_data]    | Downloading package universal_treebanks_v20 to\n",
      "[nltk_data]    |     /root/nltk_data...\n",
      "[nltk_data]    | Downloading package verbnet to /root/nltk_data...\n",
      "[nltk_data]    |   Unzipping corpora/verbnet.zip.\n",
      "[nltk_data]    | Downloading package verbnet3 to /root/nltk_data...\n",
      "[nltk_data]    |   Unzipping corpora/verbnet3.zip.\n",
      "[nltk_data]    | Downloading package webtext to /root/nltk_data...\n",
      "[nltk_data]    |   Unzipping corpora/webtext.zip.\n",
      "[nltk_data]    | Downloading package wordnet to /root/nltk_data...\n",
      "[nltk_data]    |   Unzipping corpora/wordnet.zip.\n",
      "[nltk_data]    | Downloading package wordnet_ic to /root/nltk_data...\n",
      "[nltk_data]    |   Unzipping corpora/wordnet_ic.zip.\n",
      "[nltk_data]    | Downloading package words to /root/nltk_data...\n",
      "[nltk_data]    |   Unzipping corpora/words.zip.\n",
      "[nltk_data]    | Downloading package ycoe to /root/nltk_data...\n",
      "[nltk_data]    |   Unzipping corpora/ycoe.zip.\n",
      "[nltk_data]    | Downloading package rslp to /root/nltk_data...\n",
      "[nltk_data]    |   Unzipping stemmers/rslp.zip.\n",
      "[nltk_data]    | Downloading package maxent_treebank_pos_tagger to\n",
      "[nltk_data]    |     /root/nltk_data...\n",
      "[nltk_data]    |   Unzipping taggers/maxent_treebank_pos_tagger.zip.\n",
      "[nltk_data]    | Downloading package universal_tagset to\n",
      "[nltk_data]    |     /root/nltk_data...\n",
      "[nltk_data]    |   Unzipping taggers/universal_tagset.zip.\n",
      "[nltk_data]    | Downloading package maxent_ne_chunker to\n",
      "[nltk_data]    |     /root/nltk_data...\n",
      "[nltk_data]    |   Unzipping chunkers/maxent_ne_chunker.zip.\n",
      "[nltk_data]    | Downloading package punkt to /root/nltk_data...\n",
      "[nltk_data]    |   Unzipping tokenizers/punkt.zip.\n",
      "[nltk_data]    | Downloading package book_grammars to\n",
      "[nltk_data]    |     /root/nltk_data...\n",
      "[nltk_data]    |   Unzipping grammars/book_grammars.zip.\n",
      "[nltk_data]    | Downloading package sample_grammars to\n",
      "[nltk_data]    |     /root/nltk_data...\n",
      "[nltk_data]    |   Unzipping grammars/sample_grammars.zip.\n",
      "[nltk_data]    | Downloading package spanish_grammars to\n",
      "[nltk_data]    |     /root/nltk_data...\n",
      "[nltk_data]    |   Unzipping grammars/spanish_grammars.zip.\n",
      "[nltk_data]    | Downloading package basque_grammars to\n",
      "[nltk_data]    |     /root/nltk_data...\n",
      "[nltk_data]    |   Unzipping grammars/basque_grammars.zip.\n",
      "[nltk_data]    | Downloading package large_grammars to\n",
      "[nltk_data]    |     /root/nltk_data...\n",
      "[nltk_data]    |   Unzipping grammars/large_grammars.zip.\n",
      "[nltk_data]    | Downloading package tagsets to /root/nltk_data...\n",
      "[nltk_data]    |   Unzipping help/tagsets.zip.\n",
      "[nltk_data]    | Downloading package snowball_data to\n",
      "[nltk_data]    |     /root/nltk_data...\n",
      "[nltk_data]    | Downloading package bllip_wsj_no_aux to\n",
      "[nltk_data]    |     /root/nltk_data...\n",
      "[nltk_data]    |   Unzipping models/bllip_wsj_no_aux.zip.\n",
      "[nltk_data]    | Downloading package word2vec_sample to\n",
      "[nltk_data]    |     /root/nltk_data...\n",
      "[nltk_data]    |   Unzipping models/word2vec_sample.zip.\n",
      "[nltk_data]    | Downloading package panlex_swadesh to\n",
      "[nltk_data]    |     /root/nltk_data...\n",
      "[nltk_data]    | Downloading package mte_teip5 to /root/nltk_data...\n",
      "[nltk_data]    |   Unzipping corpora/mte_teip5.zip.\n",
      "[nltk_data]    | Downloading package averaged_perceptron_tagger to\n",
      "[nltk_data]    |     /root/nltk_data...\n",
      "[nltk_data]    |   Unzipping taggers/averaged_perceptron_tagger.zip.\n",
      "[nltk_data]    | Downloading package averaged_perceptron_tagger_ru to\n",
      "[nltk_data]    |     /root/nltk_data...\n",
      "[nltk_data]    |   Unzipping\n",
      "[nltk_data]    |       taggers/averaged_perceptron_tagger_ru.zip.\n",
      "[nltk_data]    | Downloading package perluniprops to\n",
      "[nltk_data]    |     /root/nltk_data...\n",
      "[nltk_data]    |   Unzipping misc/perluniprops.zip.\n",
      "[nltk_data]    | Downloading package nonbreaking_prefixes to\n",
      "[nltk_data]    |     /root/nltk_data...\n",
      "[nltk_data]    |   Unzipping corpora/nonbreaking_prefixes.zip.\n",
      "[nltk_data]    | Downloading package vader_lexicon to\n",
      "[nltk_data]    |     /root/nltk_data...\n",
      "[nltk_data]    | Downloading package porter_test to /root/nltk_data...\n",
      "[nltk_data]    |   Unzipping stemmers/porter_test.zip.\n",
      "[nltk_data]    | Downloading package wmt15_eval to /root/nltk_data...\n",
      "[nltk_data]    |   Unzipping models/wmt15_eval.zip.\n",
      "[nltk_data]    | Downloading package mwa_ppdb to /root/nltk_data...\n",
      "[nltk_data]    |   Unzipping misc/mwa_ppdb.zip.\n",
      "[nltk_data]    | \n",
      "[nltk_data]  Done downloading collection all\n"
     ]
    }
   ],
   "source": [
    "import nltk\n",
    "nltk.download('all')\n",
    "nlp = en_core_web_sm.load()\n",
    "parser = English()\n",
    "en_stop = set(nltk.corpus.stopwords.words('english'))\n",
    "\n",
    "\n",
    "def tokenize(text):\n",
    "    \"\"\"this function is to tokenize the headline into a list of individual words\"\"\"\n",
    "    lda_tokens = []\n",
    "    tokens = parser(text)  # need to use parser for python to treat the list as words\n",
    "    for token in tokens:\n",
    "        if token.orth_.isspace():  # to ignore any whitespaces in the headline, so that token list does not contain whitespaces \n",
    "            continue\n",
    "        elif token.like_url:\n",
    "            lda_tokens.append('URL')\n",
    "        elif token.orth_.startswith('@'):\n",
    "            lda_tokens.append('SCREEN_NAME')\n",
    "        else:\n",
    "            lda_tokens.append(token.lower_)   # tokens (headlines) are already in lowercase\n",
    "    return lda_tokens\n",
    "\n",
    "\n",
    "def get_lemma(word):\n",
    "    \"\"\"this function is to lemmatize the words in a headline into its root form\"\"\"\n",
    "    lemma = wn.morphy(word)  # converts the word into root form from wordnet\n",
    "    if lemma is None:\n",
    "        return word\n",
    "    else:\n",
    "        return lemma\n",
    "    \n",
    "\n",
    "def prepare_text_for_lda(text):\n",
    "    tokens = tokenize(text)  # parse and tokenize the headline into a list of words\n",
    "    tokens = [token for token in tokens if len(token) > 4]  # remove headlines with only length of 4 words or less\n",
    "    tokens = [token for token in tokens if token not in en_stop]  # remove stopwords in the headline\n",
    "    tokens = [get_lemma(token) for token in tokens]  # lemmatize the words in the headline\n",
    "    return tokens"
   ]
  },
  {
   "cell_type": "code",
   "execution_count": 41,
   "metadata": {
    "id": "YcsbYCBHDVGs"
   },
   "outputs": [],
   "source": [
    "\n",
    "text_data = []\n",
    "for headline in df.headline:\n",
    "    tokens = prepare_text_for_lda(headline)\n",
    "    text_data.append(tokens)"
   ]
  },
  {
   "cell_type": "code",
   "execution_count": 42,
   "metadata": {
    "id": "xk5NvisYDpES"
   },
   "outputs": [],
   "source": [
    "from gensim import corpora\n",
    "import pickle\n",
    "\n",
    "dictionary = corpora.Dictionary(text_data)  # Convert all headlines into a corpus of words, with each word as a token\n",
    "corpus = [dictionary.doc2bow(text) for text in text_data]  # Convert each headline (a list of words) into the bag-of-words format. (Word ID, Count of word)\n",
    "pickle.dump(corpus, open('corpus.pkl', 'wb'))  \n",
    "dictionary.save('dictionary.gensim')  # takes a while to run the dictionary and corpus"
   ]
  },
  {
   "cell_type": "code",
   "execution_count": 43,
   "metadata": {
    "colab": {
     "base_uri": "https://localhost:8080/"
    },
    "id": "oLN7pnmADwOD",
    "outputId": "a03f6cb0-17a7-4284-ad70-33e52b4d9830"
   },
   "outputs": [
    {
     "data": {
      "text/plain": [
       "[(0,\n",
       "  '0.011*\"clinton\" + 0.008*\"watch\" + 0.007*\"court\" + 0.006*\"hillary\" + 0.005*\"supreme\"'),\n",
       " (1,\n",
       "  '0.010*\"report\" + 0.008*\"child\" + 0.007*\"study\" + 0.007*\"woman\" + 0.006*\"find\"'),\n",
       " (2,\n",
       "  '0.010*\"change\" + 0.010*\"woman\" + 0.009*\"school\" + 0.006*\"student\" + 0.005*\"obama\"'),\n",
       " (3,\n",
       "  '0.048*\"trump\" + 0.014*\"donald\" + 0.011*\"house\" + 0.009*\"white\" + 0.006*\"election\"'),\n",
       " (4,\n",
       "  '0.006*\"parent\" + 0.006*\"office\" + 0.005*\"american\" + 0.005*\"shooting\" + 0.005*\"introduce\"')]"
      ]
     },
     "execution_count": 43,
     "metadata": {
      "tags": []
     },
     "output_type": "execute_result"
    }
   ],
   "source": [
    "import gensim\n",
    "\n",
    "NUM_TOPICS = [3, 5, 10]\n",
    "# passes: Number of passes through the corpus during training\n",
    "# alpha: priori on the distribution of the topics in each document.\n",
    "# The higher the alpha, the higher the likelihood that document contains a wide range of topics, vice versa. \n",
    "# beta: priori on the distribution of the words in each topic.\n",
    "# The higher the beta, the higher the likelihood that topic contains a wide range of words, vice versa.\n",
    "# we do not alter / fine tune the default values of alpha and beta\n",
    "ldamodel = gensim.models.ldamodel.LdaModel(corpus, num_topics = NUM_TOPICS[1], id2word=dictionary, passes=15)\n",
    "ldamodel.save('model5.gensim')\n",
    "topics = ldamodel.print_topics(num_words=5)\n",
    "topics"
   ]
  },
  {
   "cell_type": "code",
   "execution_count": 44,
   "metadata": {
    "colab": {
     "base_uri": "https://localhost:8080/"
    },
    "id": "UxEGud9yEspa",
    "outputId": "01fd5f95-8f69-4ba6-d19b-d108dca65369"
   },
   "outputs": [
    {
     "data": {
      "text/plain": [
       "[(0,\n",
       "  '0.016*\"woman\" + 0.007*\"school\" + 0.006*\"child\" + 0.005*\"years\" + 0.005*\"people\"'),\n",
       " (1,\n",
       "  '0.007*\"clinton\" + 0.004*\"family\" + 0.004*\"report\" + 0.004*\"hillary\" + 0.004*\"watch\"'),\n",
       " (2,\n",
       "  '0.029*\"trump\" + 0.009*\"donald\" + 0.007*\"obama\" + 0.007*\"house\" + 0.007*\"american\"')]"
      ]
     },
     "execution_count": 44,
     "metadata": {
      "tags": []
     },
     "output_type": "execute_result"
    }
   ],
   "source": [
    "ldamodel = gensim.models.ldamodel.LdaModel(corpus, num_topics = 3, id2word=dictionary, passes=15)\n",
    "ldamodel.save('model3.gensim')\n",
    "topics = ldamodel.print_topics(num_words=5)\n",
    "topics"
   ]
  },
  {
   "cell_type": "code",
   "execution_count": 45,
   "metadata": {
    "colab": {
     "base_uri": "https://localhost:8080/"
    },
    "id": "_Sp70_ZLEtrE",
    "outputId": "b150449b-3e11-4a92-969d-ff5576b10054"
   },
   "outputs": [
    {
     "data": {
      "text/plain": [
       "[(0,\n",
       "  '0.013*\"first\" + 0.008*\"learn\" + 0.008*\"great\" + 0.006*\"dream\" + 0.006*\"check\"'),\n",
       " (1,\n",
       "  '0.011*\"obama\" + 0.008*\"local\" + 0.007*\"award\" + 0.007*\"reason\" + 0.007*\"relationship\"'),\n",
       " (2,\n",
       "  '0.012*\"think\" + 0.008*\"world\" + 0.008*\"nation\" + 0.008*\"money\" + 0.008*\"woman\"'),\n",
       " (3,\n",
       "  '0.024*\"house\" + 0.020*\"white\" + 0.019*\"trump\" + 0.015*\"woman\" + 0.010*\"election\"'),\n",
       " (4,\n",
       "  '0.082*\"trump\" + 0.029*\"donald\" + 0.009*\"party\" + 0.008*\"fight\" + 0.008*\"reveal\"'),\n",
       " (5,\n",
       "  '0.010*\"want\" + 0.009*\"better\" + 0.007*\"cover\" + 0.006*\"around\" + 0.006*\"coming\"'),\n",
       " (6,\n",
       "  '0.012*\"police\" + 0.010*\"shooting\" + 0.010*\"release\" + 0.009*\"photo\" + 0.009*\"woman\"'),\n",
       " (7,\n",
       "  '0.030*\"report\" + 0.021*\"school\" + 0.019*\"clinton\" + 0.015*\"parent\" + 0.011*\"child\"'),\n",
       " (8,\n",
       "  '0.014*\"study\" + 0.012*\"court\" + 0.012*\"find\" + 0.010*\"report\" + 0.008*\"supreme\"'),\n",
       " (9,\n",
       "  '0.014*\"things\" + 0.014*\"health\" + 0.012*\"break\" + 0.008*\"country\" + 0.008*\"north\"')]"
      ]
     },
     "execution_count": 45,
     "metadata": {
      "tags": []
     },
     "output_type": "execute_result"
    }
   ],
   "source": [
    "ldamodel = gensim.models.ldamodel.LdaModel(corpus, num_topics = 10, id2word=dictionary, passes=15)\n",
    "ldamodel.save('model10.gensim')\n",
    "topics = ldamodel.print_topics(num_words=5)\n",
    "topics"
   ]
  },
  {
   "cell_type": "code",
   "execution_count": 46,
   "metadata": {
    "id": "5DYGi-cHEv1-"
   },
   "outputs": [],
   "source": [
    "dictionary = gensim.corpora.Dictionary.load('dictionary.gensim')\n",
    "corpus = pickle.load(open('corpus.pkl', 'rb'))\n",
    "lda = gensim.models.ldamodel.LdaModel.load('model5.gensim')\n"
   ]
  },
  {
   "cell_type": "code",
   "execution_count": 47,
   "metadata": {
    "colab": {
     "base_uri": "https://localhost:8080/"
    },
    "id": "u_cm82UjGPCx",
    "outputId": "19935812-4bc2-498f-f426-c6987968046b"
   },
   "outputs": [
    {
     "name": "stdout",
     "output_type": "stream",
     "text": [
      "Requirement already satisfied: gensim in /usr/local/lib/python3.7/dist-packages (3.6.0)\n",
      "Requirement already satisfied: numpy>=1.11.3 in /usr/local/lib/python3.7/dist-packages (from gensim) (1.19.5)\n",
      "Requirement already satisfied: smart-open>=1.2.1 in /usr/local/lib/python3.7/dist-packages (from gensim) (4.2.0)\n",
      "Requirement already satisfied: six>=1.5.0 in /usr/local/lib/python3.7/dist-packages (from gensim) (1.15.0)\n",
      "Requirement already satisfied: scipy>=0.18.1 in /usr/local/lib/python3.7/dist-packages (from gensim) (1.4.1)\n",
      "Collecting pyLDAvis==2.1.2\n",
      "\u001b[?25l  Downloading https://files.pythonhosted.org/packages/a5/3a/af82e070a8a96e13217c8f362f9a73e82d61ac8fff3a2561946a97f96266/pyLDAvis-2.1.2.tar.gz (1.6MB)\n",
      "\u001b[K     |████████████████████████████████| 1.6MB 12.0MB/s \n",
      "\u001b[?25hRequirement already satisfied: wheel>=0.23.0 in /usr/local/lib/python3.7/dist-packages (from pyLDAvis==2.1.2) (0.36.2)\n",
      "Requirement already satisfied: numpy>=1.9.2 in /usr/local/lib/python3.7/dist-packages (from pyLDAvis==2.1.2) (1.19.5)\n",
      "Requirement already satisfied: scipy>=0.18.0 in /usr/local/lib/python3.7/dist-packages (from pyLDAvis==2.1.2) (1.4.1)\n",
      "Requirement already satisfied: pandas>=0.17.0 in /usr/local/lib/python3.7/dist-packages (from pyLDAvis==2.1.2) (1.1.5)\n",
      "Requirement already satisfied: joblib>=0.8.4 in /usr/local/lib/python3.7/dist-packages (from pyLDAvis==2.1.2) (1.0.1)\n",
      "Requirement already satisfied: jinja2>=2.7.2 in /usr/local/lib/python3.7/dist-packages (from pyLDAvis==2.1.2) (2.11.3)\n",
      "Requirement already satisfied: numexpr in /usr/local/lib/python3.7/dist-packages (from pyLDAvis==2.1.2) (2.7.3)\n",
      "Requirement already satisfied: pytest in /usr/local/lib/python3.7/dist-packages (from pyLDAvis==2.1.2) (3.6.4)\n",
      "Requirement already satisfied: future in /usr/local/lib/python3.7/dist-packages (from pyLDAvis==2.1.2) (0.16.0)\n",
      "Collecting funcy\n",
      "  Downloading https://files.pythonhosted.org/packages/66/89/479de0afbbfb98d1c4b887936808764627300208bb771fcd823403645a36/funcy-1.15-py2.py3-none-any.whl\n",
      "Requirement already satisfied: pytz>=2017.2 in /usr/local/lib/python3.7/dist-packages (from pandas>=0.17.0->pyLDAvis==2.1.2) (2018.9)\n",
      "Requirement already satisfied: python-dateutil>=2.7.3 in /usr/local/lib/python3.7/dist-packages (from pandas>=0.17.0->pyLDAvis==2.1.2) (2.8.1)\n",
      "Requirement already satisfied: MarkupSafe>=0.23 in /usr/local/lib/python3.7/dist-packages (from jinja2>=2.7.2->pyLDAvis==2.1.2) (1.1.1)\n",
      "Requirement already satisfied: atomicwrites>=1.0 in /usr/local/lib/python3.7/dist-packages (from pytest->pyLDAvis==2.1.2) (1.4.0)\n",
      "Requirement already satisfied: py>=1.5.0 in /usr/local/lib/python3.7/dist-packages (from pytest->pyLDAvis==2.1.2) (1.10.0)\n",
      "Requirement already satisfied: more-itertools>=4.0.0 in /usr/local/lib/python3.7/dist-packages (from pytest->pyLDAvis==2.1.2) (8.7.0)\n",
      "Requirement already satisfied: pluggy<0.8,>=0.5 in /usr/local/lib/python3.7/dist-packages (from pytest->pyLDAvis==2.1.2) (0.7.1)\n",
      "Requirement already satisfied: setuptools in /usr/local/lib/python3.7/dist-packages (from pytest->pyLDAvis==2.1.2) (54.2.0)\n",
      "Requirement already satisfied: attrs>=17.4.0 in /usr/local/lib/python3.7/dist-packages (from pytest->pyLDAvis==2.1.2) (20.3.0)\n",
      "Requirement already satisfied: six>=1.10.0 in /usr/local/lib/python3.7/dist-packages (from pytest->pyLDAvis==2.1.2) (1.15.0)\n",
      "Building wheels for collected packages: pyLDAvis\n",
      "  Building wheel for pyLDAvis (setup.py) ... \u001b[?25l\u001b[?25hdone\n",
      "  Created wheel for pyLDAvis: filename=pyLDAvis-2.1.2-py2.py3-none-any.whl size=97712 sha256=500acd80b686ddf51155f56a9f89166cddc3f8c5f35f102705cd8852e8117eb2\n",
      "  Stored in directory: /root/.cache/pip/wheels/98/71/24/513a99e58bb6b8465bae4d2d5e9dba8f0bef8179e3051ac414\n",
      "Successfully built pyLDAvis\n",
      "Installing collected packages: funcy, pyLDAvis\n",
      "Successfully installed funcy-1.15 pyLDAvis-2.1.2\n"
     ]
    },
    {
     "name": "stderr",
     "output_type": "stream",
     "text": [
      "/usr/local/lib/python3.7/dist-packages/past/types/oldstr.py:5: DeprecationWarning: Using or importing the ABCs from 'collections' instead of from 'collections.abc' is deprecated since Python 3.3,and in 3.9 it will stop working\n",
      "  from collections import Iterable\n"
     ]
    }
   ],
   "source": [
    "#!pip install pyLDAvis\n",
    "!pip install gensim\n",
    "!pip install pyLDAvis==2.1.2\n",
    "import pyLDAvis\n",
    "import pyLDAvis.sklearn\n",
    "import pyLDAvis.gensim\n"
   ]
  },
  {
   "cell_type": "code",
   "execution_count": 48,
   "metadata": {
    "colab": {
     "base_uri": "https://localhost:8080/",
     "height": 881
    },
    "id": "Atl8oyFUGQ5R",
    "outputId": "dfd3f0fb-5448-46eb-e780-c48eb24aa5b7"
   },
   "outputs": [
    {
     "data": {
      "text/html": [
       "\n",
       "<link rel=\"stylesheet\" type=\"text/css\" href=\"https://cdn.rawgit.com/bmabey/pyLDAvis/files/ldavis.v1.0.0.css\">\n",
       "\n",
       "\n",
       "<div id=\"ldavis_el701404710182073127129371739\"></div>\n",
       "<script type=\"text/javascript\">\n",
       "\n",
       "var ldavis_el701404710182073127129371739_data = {\"mdsDat\": {\"x\": [0.05822993326050978, -0.07163543940295718, -0.05852071811617897, 0.2654414991058253, -0.19351527484719885], \"y\": [-0.03745798000642606, -0.2723352657239321, 0.04862202154729384, 0.07856586533714967, 0.1826053588459147], \"topics\": [1, 2, 3, 4, 5], \"cluster\": [1, 1, 1, 1, 1], \"Freq\": [18.892952257338784, 19.348219244757633, 20.4200881830785, 22.908638616201245, 18.430101698623837]}, \"tinfo\": {\"Term\": [\"trump\", \"donald\", \"house\", \"clinton\", \"change\", \"white\", \"school\", \"study\", \"child\", \"watch\", \"court\", \"election\", \"student\", \"find\", \"getting\", \"hillary\", \"parent\", \"republican\", \"office\", \"couple\", \"money\", \"shooting\", \"black\", \"climate\", \"supreme\", \"introduce\", \"father\", \"season\", \"attack\", \"mother\", \"clinton\", \"court\", \"hillary\", \"supreme\", \"cover\", \"award\", \"email\", \"justice\", \"share\", \"talking\", \"morning\", \"music\", \"victim\", \"online\", \"perfect\", \"apple\", \"honor\", \"style\", \"taylor\", \"conversation\", \"huffpost\", \"actor\", \"stephen\", \"strike\", \"kerry\", \"write\", \"democratic\", \"anniversary\", \"swift\", \"destroy\", \"crime\", \"watch\", \"restaurant\", \"story\", \"question\", \"control\", \"speech\", \"woman\", \"obama\", \"state\", \"nation\", \"right\", \"report\", \"first\", \"debate\", \"find\", \"getting\", \"couple\", \"season\", \"demand\", \"already\", \"wedding\", \"look\", \"love\", \"might\", \"dress\", \"girlfriend\", \"third\", \"michael\", \"store\", \"korea\", \"obamacare\", \"deadly\", \"special\", \"internet\", \"battle\", \"brother\", \"increase\", \"thinking\", \"waiting\", \"average\", \"avoid\", \"sound\", \"jenner\", \"favorite\", \"study\", \"little\", \"child\", \"night\", \"report\", \"fight\", \"without\", \"still\", \"better\", \"today\", \"family\", \"really\", \"could\", \"woman\", \"party\", \"american\", \"people\", \"every\", \"friend\", \"would\", \"years\", \"finally\", \"change\", \"student\", \"climate\", \"teacher\", \"plan\", \"government\", \"learn\", \"everything\", \"girl\", \"prison\", \"sentence\", \"scientist\", \"director\", \"begin\", \"administration\", \"leaders\", \"earth\", \"review\", \"inside\", \"commercial\", \"russian\", \"train\", \"expert\", \"figure\", \"chris\", \"slam\", \"picture\", \"beauty\", \"winter\", \"outside\", \"tire\", \"school\", \"announce\", \"break\", \"decide\", \"meeting\", \"woman\", \"become\", \"obama\", \"world\", \"take\", \"never\", \"people\", \"million\", \"first\", \"state\", \"years\", \"report\", \"business\", \"would\", \"death\", \"trump\", \"donald\", \"house\", \"white\", \"election\", \"republican\", \"money\", \"reason\", \"medium\", \"employee\", \"voter\", \"national\", \"actually\", \"sexual\", \"democrat\", \"heart\", \"security\", \"muslim\", \"happy\", \"summer\", \"breaking\", \"interview\", \"chinese\", \"romney\", \"struggle\", \"working\", \"assault\", \"queer\", \"investigation\", \"supporter\", \"attack\", \"black\", \"president\", \"candidate\", \"health\", \"america\", \"call\", \"senate\", \"things\", \"thing\", \"campaign\", \"could\", \"woman\", \"obama\", \"first\", \"office\", \"shooting\", \"introduce\", \"father\", \"mother\", \"sander\", \"protest\", \"bernie\", \"worker\", \"francis\", \"young\", \"words\", \"target\", \"sleep\", \"taking\", \"majority\", \"march\", \"dance\", \"arrest\", \"talks\", \"reform\", \"jimmy\", \"nuclear\", \"always\", \"suicide\", \"harry\", \"funny\", \"customer\", \"straight\", \"hospital\", \"parent\", \"christmas\", \"kill\", \"explain\", \"police\", \"congress\", \"american\", \"photo\", \"people\", \"release\", \"violence\", \"report\", \"state\", \"child\", \"nation\", \"still\", \"woman\", \"world\"], \"Freq\": [1496.0, 440.0, 345.0, 279.0, 275.0, 287.0, 314.0, 200.0, 287.0, 227.0, 172.0, 192.0, 176.0, 167.0, 164.0, 158.0, 217.0, 168.0, 142.0, 128.0, 143.0, 122.0, 228.0, 128.0, 119.0, 117.0, 115.0, 119.0, 208.0, 114.0, 278.6762529887661, 171.84343396040146, 157.34696873192175, 118.7241051141243, 95.90530927228757, 95.81804970599423, 94.54242524084442, 86.54926799450635, 86.71465397926256, 76.8439833478356, 75.0486260659855, 72.92830607575956, 65.22968379826165, 63.6391467068269, 63.20742148173764, 61.518277762537174, 60.96504065055908, 61.38345223148592, 59.68822175788587, 59.59752972057829, 59.17007547875454, 59.101395896158635, 57.806654558172085, 57.08320549164624, 56.41588245379605, 56.76467942047987, 55.45419335604841, 52.30676824755046, 50.80475753947934, 51.43638046579658, 50.99336247139511, 199.98996170547096, 66.20790184254533, 91.67813978001634, 72.67850181442478, 65.03019630446595, 65.31670809852766, 96.16422858406614, 77.23403029131265, 72.35916739331833, 72.62787135884925, 70.30934275682236, 68.71404002021846, 65.28471795127197, 61.44449471688671, 167.12817712500024, 163.38857745221213, 127.5336645316939, 118.34005624747071, 105.65651901528548, 93.50404637750374, 92.6089038688583, 85.71709854978744, 82.26642351842719, 78.18413357056545, 73.11517042026347, 71.32135786341019, 69.99857377229559, 69.10159027102388, 66.53283101940688, 63.09104588197014, 62.757196078199165, 60.855364205673496, 59.066117063420265, 59.08507681633982, 55.543742164877074, 55.46957734447977, 55.31004730223739, 54.36962131724775, 52.83915719553786, 52.03771997600416, 50.653954548601185, 50.77370864780915, 49.70661248560781, 48.92006383060202, 196.25258162738496, 125.59391315332911, 208.3278870205534, 102.3058259458836, 264.4146540540771, 92.0434164190401, 79.71474596013785, 142.17253362346358, 78.98495300733865, 72.0081469582514, 121.39453483887094, 104.51231120891929, 119.15501055380402, 180.95017678387907, 104.14013416268726, 132.7669640741149, 120.87480655812251, 88.39283924203919, 91.9063613136245, 91.31039246240351, 88.40816025449944, 79.44211225010423, 275.26836810049406, 175.7153432348705, 127.42341209868209, 112.3688785843992, 109.44423504344783, 105.46933176863703, 101.24255158855048, 86.7255980188713, 75.72615162607885, 75.88117286031654, 72.22884363255636, 68.86555572103909, 67.96329510376619, 67.59656712845775, 65.76189708052387, 64.97158610119938, 62.57255817254914, 61.74384396855859, 59.34509640300863, 59.1944762174381, 58.40929001478381, 57.89867708838363, 55.49634348317895, 56.007275893112, 54.03211785165021, 52.5642898802865, 48.59425709933403, 48.24196456365389, 48.63061302136084, 47.43484483845688, 47.59205029684791, 252.64838628685504, 103.59930336970757, 116.96817656381853, 60.57440383679241, 71.4667254449901, 270.4536860593398, 77.3033375067314, 153.1484608884098, 137.95807515186175, 92.95951067399558, 87.80397230362377, 124.6709245414459, 89.92825743414531, 120.67314233363795, 97.74897307626891, 92.2328290782901, 96.49044267933517, 72.28904997832313, 71.50137310812684, 70.51722038528423, 1495.6509670456987, 439.9943046432335, 344.38914080502184, 287.14149122313097, 191.40260079474868, 167.32199829206903, 142.81521451547496, 128.47052513441233, 120.93935254718417, 115.04841170994384, 113.65313325016687, 106.92551249332911, 99.54335413293371, 98.47575043849287, 97.14771563605312, 82.88019590417002, 78.62770935485582, 75.4870874997157, 75.10058093453588, 72.65447129269425, 71.65790756345072, 70.2776753565991, 66.51329598166888, 65.04051871307132, 64.93695777533824, 62.62614006062694, 62.266836711115246, 59.93749096594215, 59.548892408377, 58.68717806941304, 158.88775794297297, 165.5751553916744, 133.9140356142438, 95.89115967833209, 114.65486112844555, 123.65143780831173, 120.82748215717925, 87.0535890490692, 109.61182821189178, 92.15709224901323, 104.02078838094161, 113.12342761181284, 143.22250934065175, 102.30084879520882, 94.68947097544478, 141.29492997470317, 121.5068495689219, 116.56429887849045, 115.20659832509855, 114.07836480669727, 103.74037880222878, 101.3029226868969, 82.57364839840855, 79.90964993179102, 69.79395754292416, 68.56077672232196, 69.04163120840155, 67.38672512076847, 65.97255522163698, 65.27355581615691, 65.49780314401215, 61.0561972216898, 61.506804475891364, 60.2360558871356, 59.82627062661844, 59.926457226370076, 58.72709563565172, 55.19582546869962, 53.130439728844784, 52.446705171514836, 52.06963870657002, 50.67451161723566, 49.913952621740805, 48.597986186730026, 48.281125836443586, 164.02214684835826, 75.4570102429762, 92.7858318108365, 69.90471301980672, 114.1303853377871, 81.07307969413442, 135.0185705132582, 83.3727637875347, 103.26499117965399, 77.84828342527717, 64.33728629602277, 95.85684974050375, 79.07902799023783, 78.59591967345605, 79.14974413527251, 74.4664369376727, 69.44356631185154, 65.98622532273671], \"Total\": [1496.0, 440.0, 345.0, 279.0, 275.0, 287.0, 314.0, 200.0, 287.0, 227.0, 172.0, 192.0, 176.0, 167.0, 164.0, 158.0, 217.0, 168.0, 142.0, 128.0, 143.0, 122.0, 228.0, 128.0, 119.0, 117.0, 115.0, 119.0, 208.0, 114.0, 279.39028581781537, 172.5583287471244, 158.05856775620637, 119.43749209199358, 96.62124662678144, 96.53494620454127, 95.2567870682506, 87.26500457923636, 87.43709104635185, 77.56038341912125, 75.76412777997317, 73.64536249131679, 65.94480419137994, 64.35722264248253, 63.92404807463402, 62.236232209655164, 61.68114912725329, 62.10555016579599, 60.401324692748744, 60.31563219812704, 59.8875893916402, 59.82491290325901, 58.52253662300343, 57.80563024234159, 57.13220257509899, 57.48905215471209, 56.171697031170666, 53.030118012003186, 51.51696136394209, 52.15813797420963, 51.71575916249266, 227.10381799575032, 74.82898561597786, 145.2581715602082, 101.92845449051026, 93.43573220345525, 105.38728444757423, 760.2341670797883, 370.7610395633753, 267.1101711647322, 345.23663183144924, 260.1695641857197, 578.5121481886687, 376.24810402139065, 140.70473611533464, 167.84753771229956, 164.1047295358577, 128.2492353228089, 119.05490202992753, 106.3811469534996, 94.22200690487706, 93.32288148782975, 86.43292166284269, 82.9854243980514, 78.90166679036189, 73.83573626920759, 72.04022925749138, 70.71757445534858, 69.82147427672038, 67.2536440820235, 63.80610840377818, 63.473575367713714, 61.582229855628455, 59.78117012554395, 59.80054512519475, 56.26014421079596, 56.18688234533256, 56.0327720659038, 55.08707799358498, 53.55786287907037, 52.751614961408656, 51.373357810870544, 51.495685954347806, 50.41724662688476, 49.635138613600006, 200.09699520695605, 149.8890008737538, 287.4640305574359, 138.31602608990895, 578.5121481886687, 125.32595874344997, 101.41423772564964, 319.9595457567883, 111.50711314394603, 93.47701610789531, 282.4913583291409, 207.1870726230676, 289.6785239676588, 760.2341670797883, 214.14962788249107, 466.66558425974347, 372.15023878216954, 176.03449061173345, 209.4245063196373, 220.7303719761357, 239.0458401414313, 123.28468776860589, 275.98790894616536, 176.4337380586883, 128.14152038051466, 113.08655186480182, 110.1628966469076, 106.18907903495422, 101.96219609324675, 87.44899836692687, 76.44578206026806, 76.60467057247665, 72.9477819309691, 69.58574192097554, 68.67967668515448, 68.32200869296767, 66.48220121722306, 65.69447157811821, 63.28992854013329, 62.462901743140165, 60.06617509945129, 59.914681384087245, 59.12962510238966, 58.62486614748236, 56.21880879027287, 56.73779809530164, 54.75420396890427, 53.29853809055194, 49.31729051498514, 48.96117461190287, 49.36169965839277, 48.155752042645375, 48.31830469842652, 314.7483031345088, 132.48364171823255, 155.8915015866408, 68.30631939023614, 88.43952468897704, 760.2341670797883, 100.73074806314945, 370.7610395633753, 330.70693633047324, 156.97887397022694, 157.998508572146, 372.15023878216954, 173.6942812831824, 376.24810402139065, 267.1101711647322, 239.0458401414313, 578.5121481886687, 126.51427592400918, 220.7303719761357, 214.21451483919878, 1496.3696943159835, 440.7084716015717, 345.10756905218966, 287.85771481965946, 192.12059749405736, 168.0386362416357, 143.5346694929644, 129.19177074518834, 121.65792091325424, 115.7690135234381, 114.37383057375793, 107.64516409139928, 100.26239634156384, 99.19451258256775, 97.86295893317258, 83.60167153791276, 79.3439865738947, 76.20442572254149, 75.82569711264725, 73.375417721194, 72.38423188844651, 70.9978521496112, 67.23729761411079, 65.75744906803412, 65.65782144519964, 63.34525468102796, 62.984380287445525, 60.65651941779028, 60.27082442843689, 59.40514702184765, 208.07027149769698, 228.2192487842432, 194.41259166052635, 128.85016625975305, 185.58959447564277, 214.9741695960997, 214.52185510678524, 116.27283012651088, 188.48039854185092, 140.13224951262666, 193.55172985638964, 289.6785239676588, 760.2341670797883, 370.7610395633753, 376.24810402139065, 142.0163857600344, 122.22800643871116, 117.2825435354154, 115.92989600857189, 114.79681009191049, 104.46289756102678, 102.02642973471006, 83.29212881588796, 80.63097341594143, 70.5149329355568, 69.28226608693161, 69.77492516559646, 68.11580264890101, 66.69171337765924, 65.993659335928, 66.22080563675084, 61.778839924849834, 62.23533145578305, 60.95665345073401, 60.5473305368315, 60.651498962403565, 59.44977083857398, 55.92070018558706, 53.85178390130556, 53.16860573176207, 52.795558690091546, 51.39676702726409, 50.63635841644538, 49.31883051280374, 49.00226340522149, 217.20952509665102, 89.04267881906355, 126.63553431453991, 87.59279719632048, 207.8660485232719, 122.88868514945628, 466.66558425974347, 159.6826838021168, 372.15023878216954, 159.8545520812615, 84.82129226536432, 578.5121481886687, 267.1101711647322, 287.4640305574359, 345.23663183144924, 319.9595457567883, 760.2341670797883, 330.70693633047324], \"Category\": [\"Default\", \"Default\", \"Default\", \"Default\", \"Default\", \"Default\", \"Default\", \"Default\", \"Default\", \"Default\", \"Default\", \"Default\", \"Default\", \"Default\", \"Default\", \"Default\", \"Default\", \"Default\", \"Default\", \"Default\", \"Default\", \"Default\", \"Default\", \"Default\", \"Default\", \"Default\", \"Default\", \"Default\", \"Default\", \"Default\", \"Topic1\", \"Topic1\", \"Topic1\", \"Topic1\", \"Topic1\", \"Topic1\", \"Topic1\", \"Topic1\", \"Topic1\", \"Topic1\", \"Topic1\", \"Topic1\", \"Topic1\", \"Topic1\", \"Topic1\", \"Topic1\", \"Topic1\", \"Topic1\", \"Topic1\", \"Topic1\", \"Topic1\", \"Topic1\", \"Topic1\", \"Topic1\", \"Topic1\", \"Topic1\", \"Topic1\", \"Topic1\", \"Topic1\", \"Topic1\", \"Topic1\", \"Topic1\", \"Topic1\", \"Topic1\", \"Topic1\", \"Topic1\", \"Topic1\", \"Topic1\", \"Topic1\", \"Topic1\", \"Topic1\", \"Topic1\", \"Topic1\", \"Topic1\", \"Topic1\", \"Topic2\", \"Topic2\", \"Topic2\", \"Topic2\", \"Topic2\", \"Topic2\", \"Topic2\", \"Topic2\", \"Topic2\", \"Topic2\", \"Topic2\", \"Topic2\", \"Topic2\", \"Topic2\", \"Topic2\", \"Topic2\", \"Topic2\", \"Topic2\", \"Topic2\", \"Topic2\", \"Topic2\", \"Topic2\", \"Topic2\", \"Topic2\", \"Topic2\", \"Topic2\", \"Topic2\", \"Topic2\", \"Topic2\", \"Topic2\", \"Topic2\", \"Topic2\", \"Topic2\", \"Topic2\", \"Topic2\", \"Topic2\", \"Topic2\", \"Topic2\", \"Topic2\", \"Topic2\", \"Topic2\", \"Topic2\", \"Topic2\", \"Topic2\", \"Topic2\", \"Topic2\", \"Topic2\", \"Topic2\", \"Topic2\", \"Topic2\", \"Topic2\", \"Topic2\", \"Topic3\", \"Topic3\", \"Topic3\", \"Topic3\", \"Topic3\", \"Topic3\", \"Topic3\", \"Topic3\", \"Topic3\", \"Topic3\", \"Topic3\", \"Topic3\", \"Topic3\", \"Topic3\", \"Topic3\", \"Topic3\", \"Topic3\", \"Topic3\", \"Topic3\", \"Topic3\", \"Topic3\", \"Topic3\", \"Topic3\", \"Topic3\", \"Topic3\", \"Topic3\", \"Topic3\", \"Topic3\", \"Topic3\", \"Topic3\", \"Topic3\", \"Topic3\", \"Topic3\", \"Topic3\", \"Topic3\", \"Topic3\", \"Topic3\", \"Topic3\", \"Topic3\", \"Topic3\", \"Topic3\", \"Topic3\", \"Topic3\", \"Topic3\", \"Topic3\", \"Topic3\", \"Topic3\", \"Topic3\", \"Topic3\", \"Topic3\", \"Topic3\", \"Topic4\", \"Topic4\", \"Topic4\", \"Topic4\", \"Topic4\", \"Topic4\", \"Topic4\", \"Topic4\", \"Topic4\", \"Topic4\", \"Topic4\", \"Topic4\", \"Topic4\", \"Topic4\", \"Topic4\", \"Topic4\", \"Topic4\", \"Topic4\", \"Topic4\", \"Topic4\", \"Topic4\", \"Topic4\", \"Topic4\", \"Topic4\", \"Topic4\", \"Topic4\", \"Topic4\", \"Topic4\", \"Topic4\", \"Topic4\", \"Topic4\", \"Topic4\", \"Topic4\", \"Topic4\", \"Topic4\", \"Topic4\", \"Topic4\", \"Topic4\", \"Topic4\", \"Topic4\", \"Topic4\", \"Topic4\", \"Topic4\", \"Topic4\", \"Topic4\", \"Topic5\", \"Topic5\", \"Topic5\", \"Topic5\", \"Topic5\", \"Topic5\", \"Topic5\", \"Topic5\", \"Topic5\", \"Topic5\", \"Topic5\", \"Topic5\", \"Topic5\", \"Topic5\", \"Topic5\", \"Topic5\", \"Topic5\", \"Topic5\", \"Topic5\", \"Topic5\", \"Topic5\", \"Topic5\", \"Topic5\", \"Topic5\", \"Topic5\", \"Topic5\", \"Topic5\", \"Topic5\", \"Topic5\", \"Topic5\", \"Topic5\", \"Topic5\", \"Topic5\", \"Topic5\", \"Topic5\", \"Topic5\", \"Topic5\", \"Topic5\", \"Topic5\", \"Topic5\", \"Topic5\", \"Topic5\", \"Topic5\", \"Topic5\", \"Topic5\", \"Topic5\", \"Topic5\", \"Topic5\"], \"logprob\": [30.0, 29.0, 28.0, 27.0, 26.0, 25.0, 24.0, 23.0, 22.0, 21.0, 20.0, 19.0, 18.0, 17.0, 16.0, 15.0, 14.0, 13.0, 12.0, 11.0, 10.0, 9.0, 8.0, 7.0, 6.0, 5.0, 4.0, 3.0, 2.0, 1.0, -4.532299995422363, -5.0157999992370605, -5.103899955749512, -5.3856000900268555, -5.598999977111816, -5.599899768829346, -5.61329984664917, -5.701600074768066, -5.699699878692627, -5.8206000328063965, -5.844200134277344, -5.872900009155273, -5.984399795532227, -6.009099960327148, -6.015900135040283, -6.043000221252441, -6.05210018157959, -6.045199871063232, -6.073200225830078, -6.074699878692627, -6.081900119781494, -6.083099842071533, -6.105299949645996, -6.117800235748291, -6.1296000480651855, -6.1234002113342285, -6.1468000411987305, -6.2052001953125, -6.234399795532227, -6.2220001220703125, -6.2307000160217285, -4.864099979400635, -5.969600200653076, -5.644100189208984, -5.876299858093262, -5.987500190734863, -5.983099937438965, -5.59630012512207, -5.815499782562256, -5.88070011138916, -5.876999855041504, -5.90939998626709, -5.932400226593018, -5.98360013961792, -6.0441999435424805, -5.067399978637695, -5.090000152587891, -5.337800025939941, -5.412600040435791, -5.526000022888184, -5.648200035095215, -5.657800197601318, -5.735099792480469, -5.776199817657471, -5.827099800109863, -5.894100189208984, -5.919000148773193, -5.937699794769287, -5.9506001472473145, -5.988500118255615, -6.041600227355957, -6.046899795532227, -6.077700138092041, -6.107500076293945, -6.1072001457214355, -6.169000148773193, -6.170300006866455, -6.1732001304626465, -6.190400123596191, -6.218900203704834, -6.2342000007629395, -6.261099815368652, -6.258800029754639, -6.28000020980835, -6.296000003814697, -4.906799793243408, -5.353099822998047, -4.847099781036377, -5.558199882507324, -4.60860013961792, -5.663899898529053, -5.807700157165527, -5.229100227355957, -5.81689977645874, -5.90939998626709, -5.3871002197265625, -5.536900043487549, -5.405700206756592, -4.9878997802734375, -5.54040002822876, -5.297599792480469, -5.39139986038208, -5.704400062561035, -5.66540002822876, -5.671899795532227, -5.70419979095459, -5.811100006103516, -4.622300148010254, -5.071199893951416, -5.392600059509277, -5.5183000564575195, -5.5447001457214355, -5.581699848175049, -5.622600078582764, -5.777299880981445, -5.913000106811523, -5.910900115966797, -5.96019983291626, -6.007900238037109, -6.021100044250488, -6.026500225067139, -6.053999900817871, -6.066100120544434, -6.103799819946289, -6.117099761962891, -6.156700134277344, -6.159299850463867, -6.172599792480469, -6.181399822235107, -6.223800182342529, -6.214600086212158, -6.250500202178955, -6.2779998779296875, -6.356599807739258, -6.363900184631348, -6.355800151824951, -6.38070011138916, -6.377399921417236, -4.708099842071533, -5.599599838256836, -5.4781999588012695, -6.136199951171875, -5.970900058746338, -4.639999866485596, -5.892300128936768, -5.208700180053711, -5.3130998611450195, -5.707900047302246, -5.764999866485596, -5.414400100708008, -5.741099834442139, -5.447000026702881, -5.657700061798096, -5.715799808502197, -5.670599937438965, -5.959400177001953, -5.970399856567383, -5.9842000007629395, -3.044800043106079, -4.2683000564575195, -4.513299942016602, -4.695099830627441, -5.1006999015808105, -5.235199928283691, -5.393499851226807, -5.4994001388549805, -5.559800148010254, -5.6097002029418945, -5.6219000816345215, -5.6828999519348145, -5.754499912261963, -5.7652997970581055, -5.778800010681152, -5.937699794769287, -5.9903998374938965, -6.031099796295166, -6.036300182342529, -6.069399833679199, -6.083199977874756, -6.10260009765625, -6.157700061798096, -6.180099964141846, -6.181700229644775, -6.217899799346924, -6.223700046539307, -6.2617998123168945, -6.2683000564575195, -6.282899856567383, -5.286900043487549, -5.245699882507324, -5.457900047302246, -5.791900157928467, -5.6132001876831055, -5.537600040435791, -5.560699939727783, -5.888599872589111, -5.658100128173828, -5.831600189208984, -5.7104997634887695, -5.6265997886657715, -5.390699863433838, -5.727200031280518, -5.804500102996826, -5.186699867248535, -5.337600231170654, -5.3790998458862305, -5.3907999992370605, -5.400700092315674, -5.495699882507324, -5.519400119781494, -5.723899841308594, -5.756700038909912, -5.892000198364258, -5.909800052642822, -5.9028000831604, -5.92710018157959, -5.948299884796143, -5.959000110626221, -5.95550012588501, -6.0258002281188965, -6.018400192260742, -6.039299964904785, -6.04610013961792, -6.044400215148926, -6.064599990844727, -6.126699924468994, -6.16480016708374, -6.177800178527832, -6.184999942779541, -6.212100028991699, -6.227200031280518, -6.254000186920166, -6.260499954223633, -5.037499904632568, -5.814000129699707, -5.6072998046875, -5.890399932861328, -5.400199890136719, -5.742199897766113, -5.232100009918213, -5.714200019836426, -5.50029993057251, -5.782800197601318, -5.973400115966797, -5.574699878692627, -5.767099857330322, -5.773200035095215, -5.766200065612793, -5.827199935913086, -5.896999835968018, -5.9481000900268555], \"loglift\": [30.0, 29.0, 28.0, 27.0, 26.0, 25.0, 24.0, 23.0, 22.0, 21.0, 20.0, 19.0, 18.0, 17.0, 16.0, 15.0, 14.0, 13.0, 12.0, 11.0, 10.0, 9.0, 8.0, 7.0, 6.0, 5.0, 4.0, 3.0, 2.0, 1.0, 1.6638, 1.6622, 1.6619, 1.6604, 1.6589, 1.6589, 1.6589, 1.6581, 1.6581, 1.6571, 1.6569, 1.6566, 1.6555, 1.6552, 1.6551, 1.6548, 1.6547, 1.6547, 1.6545, 1.6544, 1.6543, 1.6542, 1.6541, 1.6538, 1.6538, 1.6537, 1.6535, 1.6526, 1.6525, 1.6524, 1.6523, 1.5392, 1.544, 1.2062, 1.3282, 1.304, 1.188, -0.4012, 0.0977, 0.3604, 0.1075, 0.358, -0.4641, -0.0851, 0.8379, 1.6383, 1.6382, 1.637, 1.6365, 1.6357, 1.6349, 1.6349, 1.6343, 1.6339, 1.6334, 1.6328, 1.6325, 1.6324, 1.6322, 1.6318, 1.6313, 1.6312, 1.6307, 1.6305, 1.6305, 1.6298, 1.6297, 1.6296, 1.6295, 1.6291, 1.6289, 1.6285, 1.6285, 1.6284, 1.6281, 1.6232, 1.4657, 1.3206, 1.341, 0.8596, 1.3339, 1.4018, 0.8314, 1.2977, 1.3816, 0.798, 0.9583, 0.7542, 0.2072, 0.9216, 0.3856, 0.518, 0.9537, 0.819, 0.7599, 0.6479, 1.2031, 1.586, 1.5846, 1.583, 1.5823, 1.5821, 1.5819, 1.5816, 1.5803, 1.5792, 1.5792, 1.5787, 1.5782, 1.5782, 1.578, 1.5778, 1.5776, 1.5773, 1.5771, 1.5766, 1.5766, 1.5764, 1.5762, 1.5757, 1.5757, 1.5754, 1.5748, 1.5739, 1.5739, 1.5737, 1.5736, 1.5735, 1.3689, 1.3427, 1.3014, 1.4685, 1.3756, 0.5551, 1.3239, 0.7045, 0.7144, 1.0647, 1.0012, 0.495, 0.9304, 0.4515, 0.5834, 0.6363, -0.2024, 1.029, 0.4614, 0.4775, 1.4732, 1.472, 1.4716, 1.4712, 1.4699, 1.4694, 1.4686, 1.4681, 1.4677, 1.4674, 1.4673, 1.4669, 1.4665, 1.4664, 1.4663, 1.465, 1.4646, 1.4642, 1.464, 1.4638, 1.4636, 1.4635, 1.4628, 1.4627, 1.4626, 1.4622, 1.4622, 1.4617, 1.4616, 1.4615, 1.204, 1.1528, 1.1009, 1.1782, 0.992, 0.9206, 0.8996, 1.1842, 0.9316, 1.0546, 0.8527, 0.5334, -0.1956, 0.186, 0.094, 1.6861, 1.6853, 1.685, 1.6849, 1.6849, 1.6842, 1.6841, 1.6825, 1.6822, 1.6809, 1.6807, 1.6806, 1.6804, 1.6803, 1.6802, 1.6802, 1.6794, 1.6794, 1.6793, 1.6792, 1.6792, 1.679, 1.6781, 1.6777, 1.6775, 1.6773, 1.677, 1.6768, 1.6765, 1.6764, 1.4103, 1.5256, 1.3802, 1.4656, 1.0916, 1.2753, 0.451, 1.0413, 0.4092, 0.9717, 1.4148, -0.1064, 0.474, 0.3944, 0.2183, 0.2333, -0.7019, 0.0794]}, \"token.table\": {\"Topic\": [1, 4, 3, 2, 5, 2, 4, 5, 1, 2, 3, 4, 5, 1, 1, 3, 1, 5, 4, 3, 4, 2, 2, 1, 2, 3, 2, 3, 3, 5, 2, 4, 3, 4, 2, 3, 4, 2, 3, 4, 5, 1, 3, 4, 1, 3, 4, 5, 1, 4, 3, 2, 5, 4, 3, 4, 5, 3, 1, 3, 1, 5, 1, 4, 1, 1, 2, 3, 4, 2, 1, 1, 1, 5, 5, 2, 1, 2, 3, 4, 5, 1, 4, 2, 3, 2, 4, 1, 1, 3, 4, 2, 3, 4, 1, 4, 1, 2, 3, 3, 3, 3, 5, 1, 2, 3, 5, 5, 2, 2, 3, 3, 2, 5, 2, 1, 2, 3, 4, 5, 5, 1, 2, 3, 5, 5, 2, 3, 2, 3, 4, 5, 1, 3, 4, 4, 1, 1, 5, 4, 1, 2, 3, 2, 4, 5, 4, 2, 5, 1, 1, 2, 5, 2, 3, 3, 2, 4, 2, 2, 5, 5, 4, 3, 5, 2, 2, 1, 3, 5, 4, 1, 5, 1, 4, 1, 2, 3, 4, 5, 4, 1, 3, 5, 1, 2, 5, 1, 3, 4, 5, 2, 5, 1, 3, 3, 5, 1, 2, 4, 1, 2, 3, 5, 1, 1, 3, 4, 5, 3, 3, 2, 4, 5, 1, 3, 4, 3, 5, 4, 1, 5, 2, 3, 4, 4, 5, 1, 2, 5, 1, 2, 3, 4, 5, 4, 1, 4, 3, 1, 2, 3, 4, 5, 4, 3, 5, 3, 5, 3, 2, 4, 1, 4, 3, 4, 1, 5, 3, 5, 2, 2, 1, 4, 1, 3, 4, 5, 1, 1, 2, 3, 5, 2, 1, 4, 5, 1, 4, 3, 2, 3, 1, 5, 4, 4, 1, 1, 1, 3, 5, 5, 1, 5, 5, 1, 3, 3, 4, 2, 4, 2, 2, 3, 1, 2, 3, 4, 1, 3, 5, 4, 2, 1, 4, 2, 4, 3, 2, 3, 1, 2, 3, 4, 5, 5, 5, 4, 2, 3, 4, 5, 1, 2, 3, 4, 1, 1, 2, 3, 4, 5], \"Freq\": [0.9862112143047671, 0.9973829037491789, 0.9927469125811956, 0.9976437892572041, 0.984182809935013, 0.23258608275562404, 0.5768134852339476, 0.1907205878596117, 0.11357169199454077, 0.2850006610429042, 0.1392860373517953, 0.173571831161468, 0.28928638526911327, 0.9805748497152124, 0.21134684733040976, 0.7850025757986648, 0.9962042655657661, 0.9843060044051272, 0.9843710411541234, 0.23549736176771585, 0.7641649085932004, 0.9857518113529129, 0.9927324623738816, 0.9944585227881331, 0.9953760479208648, 0.980368636587628, 0.2283314721894152, 0.7644140590689118, 0.9952868965780156, 0.996492720019995, 0.7084749822015196, 0.2869772079803624, 0.2716685833043572, 0.7273707230406984, 0.2437592788140571, 0.7505219900327548, 0.9946917736304965, 0.9788761665394101, 0.5691057350970163, 0.19760615801979733, 0.2292231433029649, 0.19578424761940053, 0.24239954467163874, 0.5640450943320824, 0.16533047792310185, 0.09299839383174478, 0.537324053250081, 0.20149651996878037, 0.2483504750431614, 0.7450514251294843, 0.9964204629473168, 0.7235687873597848, 0.2748169913529952, 0.9964707443259738, 0.9862256427043923, 0.14599740453020568, 0.8422927184434944, 0.991091721269383, 0.9986030802156455, 0.984733601799138, 0.333635272849865, 0.659133100020465, 0.695665335596271, 0.29967122148762443, 0.9947669917959205, 0.03797312914100631, 0.41080021525270466, 0.15879672186239002, 0.3900875993576103, 0.9980566330693391, 0.9967644056871773, 0.9935702896777856, 0.9861597475492195, 0.9874327768357309, 0.9962186839809756, 0.9905454892264632, 0.233410887387966, 0.17272405666709484, 0.33144346009091175, 0.08402791945966775, 0.17739227441485417, 0.433531959791309, 0.5614594233362854, 0.10247953721541898, 0.8930359671629369, 0.9964171569454294, 0.9911819656529917, 0.9791407934405031, 0.9777956418846415, 0.9901036708680169, 0.9983924257253393, 0.9886811412544129, 0.9954190414364358, 0.9941672183582917, 0.9973042648597142, 0.9933573458040876, 0.24427031231534047, 0.49990203450581305, 0.2556317221904726, 0.994865597373192, 0.9783202665353566, 0.19407988492362158, 0.7991524673325594, 0.14867711440243167, 0.42833168673081506, 0.19469622124127958, 0.2265556028989435, 0.9919788075329324, 0.9872038513170188, 0.7340857466594747, 0.2633133656495942, 0.986996356572344, 0.6407932844691613, 0.34878621812878396, 0.994950550220449, 0.17275834563754927, 0.1993365526587107, 0.3215963049560533, 0.25249296670103355, 0.055814234744439, 0.9926975334993597, 0.257849479743224, 0.43929911363660384, 0.12414974950599673, 0.17667464352776457, 0.9922803115796442, 0.9932681432218179, 0.9941686506664734, 0.985560439379318, 0.9888022474084853, 0.9891105898911738, 0.9849313330547091, 0.17781169301671707, 0.20475285862531056, 0.6196468089976503, 0.9928031159324379, 0.9933026866481598, 0.9889569319493704, 0.9795465895741727, 0.9967906555766611, 0.9851790763218782, 0.9815684281211522, 0.9822499918184231, 0.9866130798052295, 0.9859453191977066, 0.997590915690449, 0.9955065418300615, 0.9917241290470974, 0.9924344394901831, 0.9969632204740706, 0.9801827599135403, 0.2605903641392939, 0.7343910262107373, 0.9873662816312669, 0.9894287668134691, 0.9905632074424251, 0.8406220554243693, 0.16011848674749893, 0.9949912411322687, 0.9881253315844397, 0.9815646211940176, 0.9873930956651623, 0.9945920421102432, 0.8028084756186995, 0.1809145860549182, 0.9882346472166332, 0.9885722719551974, 0.20726070964482368, 0.5181517741120593, 0.27634761285976495, 0.9962749801504185, 0.9899143855758193, 0.9930589526723562, 0.9912368889297968, 0.9841948061267889, 0.21144917215980696, 0.22013886416637435, 0.1824835321379156, 0.15641445611821336, 0.22882855617294176, 0.9940065668825449, 0.2468377730425958, 0.5569672827627803, 0.19620438370052487, 0.2530437071496625, 0.7374416608361594, 0.9835356105604637, 0.20768093673132063, 0.41266471844015656, 0.27510981229343767, 0.10249189085441797, 0.9925390154096376, 0.9928431796472289, 0.9944493775863049, 0.97599970940913, 0.2440040324033523, 0.7550313455499958, 0.18211565616821998, 0.48564174978192, 0.32687425466090764, 0.061802996755465134, 0.3251375046700557, 0.33588585193187576, 0.2767699419918656, 0.9855445938975085, 0.1252483959048719, 0.15656049488108986, 0.19413501365255145, 0.5197808430052184, 0.9935663433316814, 0.9894438446854308, 0.15394529422835207, 0.29345821712279613, 0.5484301106885042, 0.1594546923901445, 0.14916729288110292, 0.6892557671057858, 0.9921066095845349, 0.9899395701939292, 0.9891764409812521, 0.7161886282382163, 0.2845132906699763, 0.5067883756967065, 0.30407302541802395, 0.19306223836065012, 0.9907751806611667, 0.9892583205106371, 0.3190400231710282, 0.1939262885941544, 0.48794356484980783, 0.11927147980563618, 0.4563430531693906, 0.16594292842523295, 0.09161432506809736, 0.16594292842523295, 0.993819062896094, 0.8820111545907066, 0.1069104429806917, 0.9925891732496881, 0.269055299450904, 0.16912047394056823, 0.1960260038856586, 0.269055299450904, 0.09224753124030993, 0.9884811670956024, 0.9808957844661862, 0.995568784976921, 0.8038168831425903, 0.19698279349739364, 0.9915824434028349, 0.9911393650161305, 0.9956646169577787, 0.24941338374963862, 0.7482401512489159, 0.9870073920566085, 0.9879578763838024, 0.9950010797349131, 0.9981345810558934, 0.9943987564903799, 0.9896281960287595, 0.9903742236818198, 0.9869328398239203, 0.6167727002429291, 0.3795524309187256, 0.2695516972867205, 0.366889810195814, 0.06738792432168013, 0.29575811230070725, 0.9910711897816467, 0.16564594087868542, 0.44380610575044016, 0.15626975554592965, 0.23127923820797586, 0.9962285451519304, 0.6333550740163821, 0.3648675969876984, 0.9935353188733669, 0.9860631180913675, 0.9899810650015446, 0.9975416376512749, 0.9795249538719029, 0.014992728885794431, 0.9821988507815383, 0.9780207565032317, 0.9948836036256655, 0.9931799340266149, 0.9963370623048866, 0.9899652201866098, 0.2866627773654105, 0.5924364065551817, 0.12103539488761776, 0.9849431089906688, 0.9927748755947602, 0.9909602862425362, 0.9836190339758257, 0.9933556971674014, 0.9903918560882392, 0.33539745607070304, 0.6565226799681847, 0.4138361368260826, 0.5836150647547319, 0.9802661888562765, 0.9898529543628273, 0.9934123371998834, 0.2246541542977888, 0.7702428147352758, 0.9893412780523817, 0.9997529391851574, 0.9856728031424886, 0.2357898525930233, 0.7545275282976746, 0.9967315025484186, 0.9895839219662297, 0.88065450314773, 0.11888835792494355, 0.9965401680415124, 0.9970203514601066, 0.9926724634504908, 0.7888438723606008, 0.20707151649465774, 0.12627688172547574, 0.2380845374199074, 0.35515372985290056, 0.18809993840357325, 0.0907615087401857, 0.9888939305379786, 0.9921745529142195, 0.9945496362313725, 0.1572389154488031, 0.41728789099874675, 0.22678689728192758, 0.19957246960809627, 0.12232118198450329, 0.41226768742925185, 0.32618981862534213, 0.14044283857480008, 0.9914931254494165, 0.11294904769740176, 0.36813022953227237, 0.38486342178373933, 0.12968223994886868, 0.995925853715907], \"Term\": [\"actor\", \"actually\", \"administration\", \"already\", \"always\", \"america\", \"america\", \"america\", \"american\", \"american\", \"american\", \"american\", \"american\", \"anniversary\", \"announce\", \"announce\", \"apple\", \"arrest\", \"assault\", \"attack\", \"attack\", \"average\", \"avoid\", \"award\", \"battle\", \"beauty\", \"become\", \"become\", \"begin\", \"bernie\", \"better\", \"better\", \"black\", \"black\", \"break\", \"break\", \"breaking\", \"brother\", \"business\", \"business\", \"business\", \"call\", \"call\", \"call\", \"campaign\", \"campaign\", \"campaign\", \"campaign\", \"candidate\", \"candidate\", \"change\", \"child\", \"child\", \"chinese\", \"chris\", \"christmas\", \"christmas\", \"climate\", \"clinton\", \"commercial\", \"congress\", \"congress\", \"control\", \"control\", \"conversation\", \"could\", \"could\", \"could\", \"could\", \"couple\", \"court\", \"cover\", \"crime\", \"customer\", \"dance\", \"deadly\", \"death\", \"death\", \"death\", \"death\", \"death\", \"debate\", \"debate\", \"decide\", \"decide\", \"demand\", \"democrat\", \"democratic\", \"destroy\", \"director\", \"donald\", \"dress\", \"earth\", \"election\", \"email\", \"employee\", \"every\", \"every\", \"every\", \"everything\", \"expert\", \"explain\", \"explain\", \"family\", \"family\", \"family\", \"family\", \"father\", \"favorite\", \"fight\", \"fight\", \"figure\", \"finally\", \"finally\", \"find\", \"first\", \"first\", \"first\", \"first\", \"first\", \"francis\", \"friend\", \"friend\", \"friend\", \"friend\", \"funny\", \"getting\", \"girl\", \"girlfriend\", \"government\", \"happy\", \"harry\", \"health\", \"health\", \"health\", \"heart\", \"hillary\", \"honor\", \"hospital\", \"house\", \"huffpost\", \"increase\", \"inside\", \"internet\", \"interview\", \"introduce\", \"investigation\", \"jenner\", \"jimmy\", \"justice\", \"kerry\", \"kill\", \"kill\", \"korea\", \"leaders\", \"learn\", \"little\", \"little\", \"look\", \"love\", \"majority\", \"march\", \"medium\", \"meeting\", \"meeting\", \"michael\", \"might\", \"million\", \"million\", \"million\", \"money\", \"morning\", \"mother\", \"music\", \"muslim\", \"nation\", \"nation\", \"nation\", \"nation\", \"nation\", \"national\", \"never\", \"never\", \"never\", \"night\", \"night\", \"nuclear\", \"obama\", \"obama\", \"obama\", \"obama\", \"obamacare\", \"office\", \"online\", \"outside\", \"parent\", \"parent\", \"party\", \"party\", \"party\", \"people\", \"people\", \"people\", \"people\", \"perfect\", \"photo\", \"photo\", \"photo\", \"photo\", \"picture\", \"plan\", \"police\", \"police\", \"police\", \"president\", \"president\", \"president\", \"prison\", \"protest\", \"queer\", \"question\", \"question\", \"really\", \"really\", \"really\", \"reason\", \"reform\", \"release\", \"release\", \"release\", \"report\", \"report\", \"report\", \"report\", \"report\", \"republican\", \"restaurant\", \"restaurant\", \"review\", \"right\", \"right\", \"right\", \"right\", \"right\", \"romney\", \"russian\", \"sander\", \"school\", \"school\", \"scientist\", \"season\", \"security\", \"senate\", \"senate\", \"sentence\", \"sexual\", \"share\", \"shooting\", \"slam\", \"sleep\", \"sound\", \"special\", \"speech\", \"speech\", \"state\", \"state\", \"state\", \"state\", \"stephen\", \"still\", \"still\", \"still\", \"still\", \"store\", \"story\", \"story\", \"straight\", \"strike\", \"struggle\", \"student\", \"study\", \"study\", \"style\", \"suicide\", \"summer\", \"supporter\", \"supreme\", \"swift\", \"take\", \"take\", \"take\", \"taking\", \"talking\", \"talks\", \"target\", \"taylor\", \"teacher\", \"thing\", \"thing\", \"things\", \"things\", \"thinking\", \"third\", \"tire\", \"today\", \"today\", \"train\", \"trump\", \"victim\", \"violence\", \"violence\", \"voter\", \"waiting\", \"watch\", \"watch\", \"wedding\", \"white\", \"winter\", \"without\", \"without\", \"woman\", \"woman\", \"woman\", \"woman\", \"woman\", \"words\", \"worker\", \"working\", \"world\", \"world\", \"world\", \"world\", \"would\", \"would\", \"would\", \"would\", \"write\", \"years\", \"years\", \"years\", \"years\", \"young\"]}, \"R\": 30, \"lambda.step\": 0.01, \"plot.opts\": {\"xlab\": \"PC1\", \"ylab\": \"PC2\"}, \"topic.order\": [1, 2, 3, 4, 5]};\n",
       "\n",
       "function LDAvis_load_lib(url, callback){\n",
       "  var s = document.createElement('script');\n",
       "  s.src = url;\n",
       "  s.async = true;\n",
       "  s.onreadystatechange = s.onload = callback;\n",
       "  s.onerror = function(){console.warn(\"failed to load library \" + url);};\n",
       "  document.getElementsByTagName(\"head\")[0].appendChild(s);\n",
       "}\n",
       "\n",
       "if(typeof(LDAvis) !== \"undefined\"){\n",
       "   // already loaded: just create the visualization\n",
       "   !function(LDAvis){\n",
       "       new LDAvis(\"#\" + \"ldavis_el701404710182073127129371739\", ldavis_el701404710182073127129371739_data);\n",
       "   }(LDAvis);\n",
       "}else if(typeof define === \"function\" && define.amd){\n",
       "   // require.js is available: use it to load d3/LDAvis\n",
       "   require.config({paths: {d3: \"https://cdnjs.cloudflare.com/ajax/libs/d3/3.5.5/d3.min\"}});\n",
       "   require([\"d3\"], function(d3){\n",
       "      window.d3 = d3;\n",
       "      LDAvis_load_lib(\"https://cdn.rawgit.com/bmabey/pyLDAvis/files/ldavis.v1.0.0.js\", function(){\n",
       "        new LDAvis(\"#\" + \"ldavis_el701404710182073127129371739\", ldavis_el701404710182073127129371739_data);\n",
       "      });\n",
       "    });\n",
       "}else{\n",
       "    // require.js not available: dynamically load d3 & LDAvis\n",
       "    LDAvis_load_lib(\"https://cdnjs.cloudflare.com/ajax/libs/d3/3.5.5/d3.min.js\", function(){\n",
       "         LDAvis_load_lib(\"https://cdn.rawgit.com/bmabey/pyLDAvis/files/ldavis.v1.0.0.js\", function(){\n",
       "                 new LDAvis(\"#\" + \"ldavis_el701404710182073127129371739\", ldavis_el701404710182073127129371739_data);\n",
       "            })\n",
       "         });\n",
       "}\n",
       "</script>"
      ],
      "text/plain": [
       "<IPython.core.display.HTML object>"
      ]
     },
     "execution_count": 48,
     "metadata": {
      "tags": []
     },
     "output_type": "execute_result"
    }
   ],
   "source": [
    "lda_display = pyLDAvis.gensim.prepare(lda, corpus, dictionary, sort_topics=False)\n",
    "pyLDAvis.display(lda_display)"
   ]
  },
  {
   "cell_type": "code",
   "execution_count": 49,
   "metadata": {
    "colab": {
     "base_uri": "https://localhost:8080/",
     "height": 982
    },
    "id": "xPOQJKr6EzHg",
    "outputId": "2ff399d1-8e87-4291-d57c-d9da6c1d0b66"
   },
   "outputs": [
    {
     "name": "stderr",
     "output_type": "stream",
     "text": [
      "/usr/local/lib/python3.7/dist-packages/smart_open/smart_open_lib.py:479: DeprecationWarning: This function is deprecated.  See https://github.com/RaRe-Technologies/smart_open/blob/develop/MIGRATING_FROM_OLDER_VERSIONS.rst for more information\n",
      "  warnings.warn(message, category=DeprecationWarning)\n",
      "/usr/local/lib/python3.7/dist-packages/smart_open/smart_open_lib.py:479: DeprecationWarning: This function is deprecated.  See https://github.com/RaRe-Technologies/smart_open/blob/develop/MIGRATING_FROM_OLDER_VERSIONS.rst for more information\n",
      "  warnings.warn(message, category=DeprecationWarning)\n",
      "/usr/local/lib/python3.7/dist-packages/smart_open/smart_open_lib.py:479: DeprecationWarning: This function is deprecated.  See https://github.com/RaRe-Technologies/smart_open/blob/develop/MIGRATING_FROM_OLDER_VERSIONS.rst for more information\n",
      "  warnings.warn(message, category=DeprecationWarning)\n"
     ]
    },
    {
     "data": {
      "text/html": [
       "\n",
       "<link rel=\"stylesheet\" type=\"text/css\" href=\"https://cdn.rawgit.com/bmabey/pyLDAvis/files/ldavis.v1.0.0.css\">\n",
       "\n",
       "\n",
       "<div id=\"ldavis_el701404710192526884406462692\"></div>\n",
       "<script type=\"text/javascript\">\n",
       "\n",
       "var ldavis_el701404710192526884406462692_data = {\"mdsDat\": {\"x\": [-0.06843021092083312, -0.18826492877584297, 0.25669513969667607], \"y\": [-0.244734048573362, 0.17882333491993135, 0.06591071365343067], \"topics\": [1, 2, 3], \"cluster\": [1, 1, 1], \"Freq\": [34.09742930911435, 28.930033965069317, 36.97253672581633]}, \"tinfo\": {\"Term\": [\"trump\", \"woman\", \"donald\", \"obama\", \"clinton\", \"house\", \"school\", \"child\", \"change\", \"state\", \"years\", \"black\", \"friend\", \"police\", \"study\", \"america\", \"call\", \"american\", \"hillary\", \"president\", \"student\", \"campaign\", \"election\", \"court\", \"find\", \"attack\", \"photo\", \"republican\", \"going\", \"family\", \"woman\", \"child\", \"years\", \"black\", \"police\", \"friend\", \"study\", \"student\", \"court\", \"find\", \"photo\", \"movie\", \"couple\", \"supreme\", \"show\", \"teacher\", \"school\", \"introduce\", \"question\", \"something\", \"street\", \"email\", \"happen\", \"human\", \"justice\", \"former\", \"explain\", \"morning\", \"heart\", \"share\", \"offer\", \"things\", \"people\", \"nation\", \"story\", \"parent\", \"first\", \"video\", \"still\", \"reveal\", \"really\", \"getting\", \"report\", \"clinton\", \"hillary\", \"single\", \"sander\", \"great\", \"surprise\", \"wedding\", \"history\", \"award\", \"christmas\", \"relationship\", \"everyone\", \"super\", \"found\", \"dream\", \"everything\", \"bernie\", \"place\", \"unveil\", \"worker\", \"california\", \"summer\", \"girl\", \"raise\", \"dress\", \"wrong\", \"music\", \"happy\", \"sleep\", \"director\", \"third\", \"leave\", \"words\", \"watch\", \"family\", \"make\", \"million\", \"death\", \"report\", \"american\", \"people\", \"world\", \"first\", \"still\", \"season\", \"kill\", \"trump\", \"donald\", \"obama\", \"house\", \"change\", \"state\", \"america\", \"president\", \"election\", \"campaign\", \"republican\", \"call\", \"going\", \"take\", \"money\", \"office\", \"debate\", \"climate\", \"little\", \"want\", \"candidate\", \"medium\", \"fight\", \"voter\", \"senate\", \"north\", \"mother\", \"plan\", \"country\", \"government\", \"group\", \"attack\", \"white\", \"american\", \"right\", \"report\", \"nation\", \"could\", \"world\"], \"Freq\": [1488.0, 762.0, 438.0, 370.0, 278.0, 343.0, 317.0, 287.0, 276.0, 267.0, 239.0, 228.0, 209.0, 209.0, 198.0, 214.0, 213.0, 465.0, 157.0, 193.0, 177.0, 193.0, 191.0, 172.0, 166.0, 207.0, 160.0, 167.0, 162.0, 282.0, 761.5934730699438, 286.5579345763884, 238.58751340159387, 228.34885869491896, 208.62122048069324, 208.75628715263161, 198.2452345633275, 177.2775545252174, 171.35535019927835, 166.14943690027542, 160.32911504378657, 138.8253381176451, 126.78511218691126, 118.42387986529762, 121.65420084687848, 113.39953249309755, 315.9123665458996, 118.13745926193192, 101.38270316707079, 98.05165375982703, 92.60343481430948, 94.29472953344629, 93.26904589945349, 90.84706726765569, 86.33225200196765, 94.10165583038686, 87.95158773608296, 74.90822013042845, 83.02851314982283, 86.4361104992235, 86.51246791528347, 173.45236752009623, 237.86368842842353, 185.23674412062275, 113.93651124477776, 140.66854201569177, 180.28184623256703, 127.98421811796246, 156.80281449237523, 114.06307500918884, 129.07445199360626, 116.25462593571693, 173.48898119232973, 277.5560410415238, 156.764005036175, 111.24341260477587, 105.05647262258002, 101.7629417963804, 104.109606065091, 92.0038379179874, 95.14714299105843, 95.43659290646664, 89.30542757208424, 92.93375408151522, 89.27111110692574, 88.96299266498043, 89.71023253914771, 88.14419164529961, 87.42730544663998, 83.64819894776562, 79.68728446309059, 76.40565124311553, 80.89960250355665, 79.78829403146426, 72.7722811832198, 76.34297173454677, 83.99325724009284, 72.64763805465556, 76.45800810032101, 72.67631054667494, 75.14999654146749, 66.84110278576377, 68.5184666620769, 69.52533853791573, 70.50320999858226, 69.87907062856969, 153.99697099722678, 175.56124372011564, 112.39712939222294, 110.97490358479548, 112.15916803046035, 164.91253513282516, 135.42075251835945, 119.90214494102203, 107.05165869498353, 100.50869577869918, 96.41523567933794, 83.64602818886596, 84.08552834923637, 1488.2986418305334, 437.8988594204502, 369.4339511089714, 342.748655840822, 275.89768618504064, 266.41134306410123, 213.32119730086686, 192.87784053622173, 190.51425869419776, 192.3377163696102, 166.585788904861, 212.79055272479127, 161.91615205105148, 156.1701861965942, 142.1586784870736, 142.2834832581141, 139.0636334953673, 127.77776187711788, 147.46473467561583, 133.4786672121785, 127.40574402337215, 120.41415052832271, 123.567147338137, 113.18608669949415, 114.92916264145838, 109.40241969640539, 114.87897865718924, 109.73635391494712, 109.63730813089207, 105.7678171885804, 106.27264375157753, 200.72913727060666, 235.56064724420938, 330.0498294135422, 182.66691670804386, 238.68761354701041, 159.5693336194397, 149.00284841224467, 139.298521929854], \"Total\": [1488.0, 762.0, 438.0, 370.0, 278.0, 343.0, 317.0, 287.0, 276.0, 267.0, 239.0, 228.0, 209.0, 209.0, 198.0, 214.0, 213.0, 465.0, 157.0, 193.0, 177.0, 193.0, 191.0, 172.0, 166.0, 207.0, 160.0, 167.0, 162.0, 282.0, 762.2483256268774, 287.2080072393304, 239.24599054283593, 228.99327221227543, 209.26396011340378, 209.40008328624145, 198.9059029224668, 177.93383442055836, 172.02098858966707, 166.81064525391724, 160.98074915411266, 139.45563716323227, 127.45810708973345, 119.06648267590657, 122.32511947548093, 114.0453443708743, 317.71602569600566, 118.82109557406466, 102.07845350185758, 98.72628283751729, 93.24560739591489, 94.96133845384175, 93.93595518825016, 91.50368177129717, 86.9945658383364, 94.850018322753, 88.6591969292182, 75.52991300773711, 83.72397397873206, 87.16614265711482, 87.26881962928296, 188.06641778186622, 373.5195434347539, 345.16592100774903, 145.0154407000075, 219.34445562058175, 376.2874648611801, 194.86401229516554, 319.77891248300574, 150.41490021226116, 206.63203678767482, 162.79343442513195, 577.0891298721654, 278.2036555202025, 157.38897799883054, 111.9018636002115, 105.7127756998411, 102.40584705079766, 104.76988651381978, 92.64471883309051, 95.811638859788, 96.12751346525513, 89.95576887369133, 93.61167887000833, 89.92336630744572, 89.61474725518654, 90.37029615891623, 88.79403642971465, 88.08956981660931, 84.28666223696347, 80.3457826663204, 77.04320383359205, 81.59329858612564, 80.47332669161476, 73.40047449439098, 77.00499294181553, 84.74180696237184, 73.30064758492578, 77.15075284151968, 73.33540746834335, 75.85155342676887, 67.48594935765334, 69.1813745381253, 70.20518023211133, 71.22322144642052, 70.60595290143152, 226.34300294119566, 282.7246386696507, 160.71009875732824, 174.44478932622889, 214.82345094347048, 577.0891298721654, 465.8404501163513, 373.5195434347539, 331.5192871356551, 376.2874648611801, 319.77891248300574, 118.22638189823026, 127.28312962343463, 1488.927909878247, 438.5201051384553, 370.0819169732465, 343.3951046092521, 276.55077280125204, 267.06065791450106, 214.0034166378699, 193.506674883803, 191.16951950457573, 193.0241597838482, 167.2071887778734, 213.63359100914388, 162.5951531197466, 156.8647090076551, 142.8254465056652, 142.96075825177172, 139.7290128548283, 128.40195089912285, 148.19018172524878, 134.16718987905708, 128.06627445113483, 121.05739455053372, 124.2340303318895, 113.80947572865989, 115.56862984573769, 110.03255045498956, 115.55919423223772, 110.38675400801957, 110.28888091550967, 106.40469051512692, 106.92897159495449, 207.41121883148855, 286.75601807134797, 465.8404501163513, 259.3466308332556, 577.0891298721654, 345.16592100774903, 288.4681399618511, 331.5192871356551], \"Category\": [\"Default\", \"Default\", \"Default\", \"Default\", \"Default\", \"Default\", \"Default\", \"Default\", \"Default\", \"Default\", \"Default\", \"Default\", \"Default\", \"Default\", \"Default\", \"Default\", \"Default\", \"Default\", \"Default\", \"Default\", \"Default\", \"Default\", \"Default\", \"Default\", \"Default\", \"Default\", \"Default\", \"Default\", \"Default\", \"Default\", \"Topic1\", \"Topic1\", \"Topic1\", \"Topic1\", \"Topic1\", \"Topic1\", \"Topic1\", \"Topic1\", \"Topic1\", \"Topic1\", \"Topic1\", \"Topic1\", \"Topic1\", \"Topic1\", \"Topic1\", \"Topic1\", \"Topic1\", \"Topic1\", \"Topic1\", \"Topic1\", \"Topic1\", \"Topic1\", \"Topic1\", \"Topic1\", \"Topic1\", \"Topic1\", \"Topic1\", \"Topic1\", \"Topic1\", \"Topic1\", \"Topic1\", \"Topic1\", \"Topic1\", \"Topic1\", \"Topic1\", \"Topic1\", \"Topic1\", \"Topic1\", \"Topic1\", \"Topic1\", \"Topic1\", \"Topic1\", \"Topic1\", \"Topic2\", \"Topic2\", \"Topic2\", \"Topic2\", \"Topic2\", \"Topic2\", \"Topic2\", \"Topic2\", \"Topic2\", \"Topic2\", \"Topic2\", \"Topic2\", \"Topic2\", \"Topic2\", \"Topic2\", \"Topic2\", \"Topic2\", \"Topic2\", \"Topic2\", \"Topic2\", \"Topic2\", \"Topic2\", \"Topic2\", \"Topic2\", \"Topic2\", \"Topic2\", \"Topic2\", \"Topic2\", \"Topic2\", \"Topic2\", \"Topic2\", \"Topic2\", \"Topic2\", \"Topic2\", \"Topic2\", \"Topic2\", \"Topic2\", \"Topic2\", \"Topic2\", \"Topic2\", \"Topic2\", \"Topic2\", \"Topic2\", \"Topic2\", \"Topic2\", \"Topic2\", \"Topic3\", \"Topic3\", \"Topic3\", \"Topic3\", \"Topic3\", \"Topic3\", \"Topic3\", \"Topic3\", \"Topic3\", \"Topic3\", \"Topic3\", \"Topic3\", \"Topic3\", \"Topic3\", \"Topic3\", \"Topic3\", \"Topic3\", \"Topic3\", \"Topic3\", \"Topic3\", \"Topic3\", \"Topic3\", \"Topic3\", \"Topic3\", \"Topic3\", \"Topic3\", \"Topic3\", \"Topic3\", \"Topic3\", \"Topic3\", \"Topic3\", \"Topic3\", \"Topic3\", \"Topic3\", \"Topic3\", \"Topic3\", \"Topic3\", \"Topic3\", \"Topic3\"], \"logprob\": [30.0, 29.0, 28.0, 27.0, 26.0, 25.0, 24.0, 23.0, 22.0, 21.0, 20.0, 19.0, 18.0, 17.0, 16.0, 15.0, 14.0, 13.0, 12.0, 11.0, 10.0, 9.0, 8.0, 7.0, 6.0, 5.0, 4.0, 3.0, 2.0, 1.0, -4.117400169372559, -5.094799995422363, -5.27810001373291, -5.321899890899658, -5.412300109863281, -5.411600112915039, -5.4633002281188965, -5.575099945068359, -5.609000205993652, -5.639900207519531, -5.675600051879883, -5.8196001052856445, -5.910299777984619, -5.978499889373779, -5.951600074768066, -6.021900177001953, -4.997300148010254, -5.980899810791016, -6.133900165557861, -6.167300224304199, -6.2245001792907715, -6.206399917602539, -6.217299938201904, -6.243599891662598, -6.294600009918213, -6.208399772644043, -6.276000022888184, -6.436500072479248, -6.333600044250488, -6.293399810791016, -6.292500019073486, -5.59689998626709, -5.281099796295166, -5.531199932098389, -6.017099857330322, -5.806399822235107, -5.558300018310547, -5.900899887084961, -5.697800159454346, -6.015999794006348, -5.892399787902832, -5.997000217437744, -5.596700191497803, -4.962399959564209, -5.533699989318848, -5.876699924468994, -5.933899879455566, -5.965799808502197, -5.942999839782715, -6.0665998458862305, -6.0329999923706055, -6.03000020980835, -6.096399784088135, -6.056600093841553, -6.096799850463867, -6.100200176239014, -6.091899871826172, -6.109499931335449, -6.117599964141846, -6.161799907684326, -6.210299968719482, -6.252399921417236, -6.195199966430664, -6.209099769592285, -6.30109977722168, -6.253200054168701, -6.157700061798096, -6.302800178527832, -6.251699924468994, -6.3024001121521, -6.269000053405762, -6.386099815368652, -6.361299991607666, -6.346799850463867, -6.332799911499023, -6.341700077056885, -5.551499843597412, -5.420499801635742, -5.866399765014648, -5.8790998458862305, -5.868500232696533, -5.482999801635742, -5.680099964141846, -5.801799774169922, -5.91510009765625, -5.9781999588012695, -6.019800186157227, -6.161900043487549, -6.156599998474121, -3.52839994430542, -4.751800060272217, -4.921800136566162, -4.996699810028076, -5.213699817657471, -5.248700141906738, -5.470900058746338, -5.571700096130371, -5.584000110626221, -5.57450008392334, -5.718200206756592, -5.473400115966797, -5.746699810028076, -5.782800197601318, -5.876800060272217, -5.875899791717529, -5.898799896240234, -5.983399868011475, -5.840199947357178, -5.939799785614014, -5.986400127410889, -6.042799949645996, -6.017000198364258, -6.104700088500977, -6.089399814605713, -6.138700008392334, -6.089900016784668, -6.135700225830078, -6.136600017547607, -6.172500133514404, -6.167699813842773, -5.531799793243408, -5.371799945831299, -5.0345001220703125, -5.626100063323975, -5.35860013961792, -5.761300086975098, -5.829800128936768, -5.89709997177124], \"loglift\": [30.0, 29.0, 28.0, 27.0, 26.0, 25.0, 24.0, 23.0, 22.0, 21.0, 20.0, 19.0, 18.0, 17.0, 16.0, 15.0, 14.0, 13.0, 12.0, 11.0, 10.0, 9.0, 8.0, 7.0, 6.0, 5.0, 4.0, 3.0, 2.0, 1.0, 1.0751, 1.0737, 1.0732, 1.0731, 1.0729, 1.0729, 1.0726, 1.0723, 1.0721, 1.072, 1.0719, 1.0714, 1.0707, 1.0705, 1.0704, 1.0703, 1.0703, 1.0702, 1.0691, 1.0691, 1.069, 1.0689, 1.0688, 1.0687, 1.0683, 1.068, 1.0679, 1.0677, 1.0676, 1.0675, 1.0672, 0.9951, 0.6247, 0.4536, 0.8347, 0.6317, 0.3401, 0.6556, 0.3633, 0.7993, 0.6054, 0.7392, -0.1259, 1.238, 1.2363, 1.2344, 1.2341, 1.234, 1.234, 1.2333, 1.2333, 1.2331, 1.233, 1.233, 1.233, 1.233, 1.233, 1.2329, 1.2327, 1.2327, 1.2321, 1.232, 1.2318, 1.2317, 1.2317, 1.2317, 1.2314, 1.2313, 1.2313, 1.2313, 1.231, 1.2307, 1.2307, 1.2306, 1.2301, 1.2299, 0.8552, 0.7638, 0.8827, 0.788, 0.5904, -0.0123, 0.0048, 0.104, 0.1099, -0.0798, 0.0413, 0.8943, 0.8257, 0.9946, 0.9936, 0.9932, 0.9931, 0.9926, 0.9926, 0.9918, 0.9917, 0.9916, 0.9914, 0.9913, 0.991, 0.9908, 0.9906, 0.9903, 0.9902, 0.9902, 0.9901, 0.9901, 0.9898, 0.9898, 0.9897, 0.9896, 0.9895, 0.9894, 0.9893, 0.9891, 0.9891, 0.9891, 0.989, 0.9888, 0.9622, 0.7983, 0.6504, 0.6445, 0.1122, 0.2234, 0.3344, 0.1279]}, \"token.table\": {\"Topic\": [3, 2, 3, 2, 3, 2, 2, 1, 2, 1, 3, 3, 3, 3, 1, 2, 3, 2, 1, 2, 3, 3, 1, 1, 1, 2, 3, 2, 3, 2, 2, 3, 1, 2, 2, 1, 1, 2, 3, 1, 1, 2, 3, 1, 2, 1, 1, 3, 2, 3, 3, 2, 3, 1, 2, 1, 2, 2, 3, 1, 1, 1, 2, 3, 2, 3, 2, 3, 3, 2, 3, 3, 1, 3, 1, 2, 1, 3, 3, 3, 1, 3, 1, 2, 3, 1, 2, 3, 1, 2, 3, 1, 3, 1, 2, 1, 3, 2, 1, 2, 3, 3, 1, 3, 1, 3, 2, 1, 2, 1, 2, 3, 1, 1, 2, 2, 1, 3, 1, 2, 3, 1, 2, 1, 1, 1, 2, 2, 1, 2, 3, 1, 1, 3, 2, 3, 2, 1, 2, 3, 3, 3, 1, 2, 2, 1, 3, 1, 2, 2, 1, 2, 3, 2, 1], \"Freq\": [0.9953112120655165, 0.2897987926258476, 0.7083970486409609, 0.02892803983218818, 0.969089334378304, 0.988270647761396, 0.9965989608633743, 0.9956624393254896, 0.9941182164193533, 0.004680911813897274, 0.9970342163601192, 0.9946941368117075, 0.9916740417748181, 0.9980084206756209, 0.9992757610021747, 0.9893751241787134, 0.9968695888473016, 0.9992679624578559, 0.38132460664303214, 0.10399761999355421, 0.5165215126346526, 0.9973806886685977, 0.9964058222721688, 0.9940647440871154, 0.4748084976385595, 0.5213583503482222, 0.9947826665347896, 0.9973782750149703, 0.998813953722165, 0.9910575477628706, 0.9958984320762316, 0.9991132503496633, 0.9898765279692321, 0.9897316309946766, 0.9876311143433025, 0.99256482178894, 0.37846011760235737, 0.6225138382992047, 0.9981162139611482, 0.9951403266099518, 0.4783576834439743, 0.26841181126578556, 0.2524665551509864, 0.9910382903684786, 0.995902457171712, 0.9980893833471186, 0.7125594494005711, 0.2825666782105713, 0.9869489898846573, 0.9963396626016995, 0.996196685379491, 0.9960368761893416, 0.9913122554056405, 0.9900362413266094, 0.9887734213961615, 0.9913528474064554, 0.997528556295515, 0.9915288072571666, 0.998849416884665, 0.9944955026776293, 0.9930896481799156, 0.9885674946618549, 0.6599460607899321, 0.3378295311186557, 0.9968658894966096, 0.9919685520903441, 0.6969070448343117, 0.29867444778613356, 0.9912653452153035, 0.6363044744914628, 0.36114578281947884, 0.9942205921573474, 0.9929840643708563, 0.9951609715180784, 0.9967327447459227, 0.995426391153712, 0.5359741177804361, 0.46354518294524205, 0.9906159545450877, 0.9970765473166182, 0.9969196371576365, 0.9932795666200951, 0.6428245455353536, 0.022795196650189843, 0.3328098710927717, 0.6371821881431852, 0.3212683301562278, 0.04283577735416371, 0.9939076618833861, 0.9956963184022184, 0.99649637303411, 0.9987386260239903, 0.9973816154708501, 0.9894350525026522, 0.9912462692387333, 0.6242981582403614, 0.3726430867016111, 0.9934657846393533, 0.2997803823446169, 0.2859177057044034, 0.41414746462637825, 0.998760885944033, 0.7579036374662782, 0.2393379907788247, 0.29304409992070984, 0.7056193458617093, 0.9932574308533441, 0.9945988695652149, 0.0031474647771051103, 0.2875838662581025, 0.710501316637665, 0.9950797214910595, 0.9866216099328604, 0.9973421691564659, 0.9919405846230268, 0.99279925136597, 0.9926434702427458, 0.9960284007281948, 0.490964206429164, 0.300207412848406, 0.20951975688378335, 0.7861231841913376, 0.21377033956080235, 0.9973660164508119, 0.9947517883622337, 0.995445570447349, 0.9945439794885579, 0.9931401105954583, 0.9910429648047177, 0.9926516431444428, 0.994487549091664, 0.9908339583992587, 0.919887782414501, 0.07444178586013303, 0.9970774203351809, 0.9993767932805271, 0.9864594956896484, 0.6568683385525035, 0.32330238538131034, 0.020527135579765734, 0.9928874487517207, 0.9913004820320883, 0.3181012846184856, 0.6803833032117608, 0.9930409542906375, 0.17785154202870349, 0.8229992925249808, 0.9996742195180642, 0.9914178213517286, 0.9927285868275152, 0.25639533896927896, 0.3227564855260335, 0.4192817896085856, 0.9850843601761928, 0.9989718091313556], \"Term\": [\"america\", \"american\", \"american\", \"attack\", \"attack\", \"award\", \"bernie\", \"black\", \"california\", \"call\", \"call\", \"campaign\", \"candidate\", \"change\", \"child\", \"christmas\", \"climate\", \"clinton\", \"could\", \"could\", \"could\", \"country\", \"couple\", \"court\", \"death\", \"death\", \"debate\", \"director\", \"donald\", \"dream\", \"dress\", \"election\", \"email\", \"everyone\", \"everything\", \"explain\", \"family\", \"family\", \"fight\", \"find\", \"first\", \"first\", \"first\", \"former\", \"found\", \"friend\", \"getting\", \"getting\", \"girl\", \"going\", \"government\", \"great\", \"group\", \"happen\", \"happy\", \"heart\", \"hillary\", \"history\", \"house\", \"human\", \"introduce\", \"justice\", \"kill\", \"kill\", \"leave\", \"little\", \"make\", \"make\", \"medium\", \"million\", \"million\", \"money\", \"morning\", \"mother\", \"movie\", \"music\", \"nation\", \"nation\", \"north\", \"obama\", \"offer\", \"office\", \"parent\", \"parent\", \"parent\", \"people\", \"people\", \"people\", \"photo\", \"place\", \"plan\", \"police\", \"president\", \"question\", \"raise\", \"really\", \"really\", \"relationship\", \"report\", \"report\", \"report\", \"republican\", \"reveal\", \"reveal\", \"right\", \"right\", \"sander\", \"school\", \"school\", \"season\", \"season\", \"senate\", \"share\", \"show\", \"single\", \"sleep\", \"something\", \"state\", \"still\", \"still\", \"still\", \"story\", \"story\", \"street\", \"student\", \"study\", \"summer\", \"super\", \"supreme\", \"surprise\", \"take\", \"teacher\", \"things\", \"things\", \"third\", \"trump\", \"unveil\", \"video\", \"video\", \"video\", \"voter\", \"want\", \"watch\", \"watch\", \"wedding\", \"white\", \"white\", \"woman\", \"words\", \"worker\", \"world\", \"world\", \"world\", \"wrong\", \"years\"]}, \"R\": 30, \"lambda.step\": 0.01, \"plot.opts\": {\"xlab\": \"PC1\", \"ylab\": \"PC2\"}, \"topic.order\": [1, 2, 3]};\n",
       "\n",
       "function LDAvis_load_lib(url, callback){\n",
       "  var s = document.createElement('script');\n",
       "  s.src = url;\n",
       "  s.async = true;\n",
       "  s.onreadystatechange = s.onload = callback;\n",
       "  s.onerror = function(){console.warn(\"failed to load library \" + url);};\n",
       "  document.getElementsByTagName(\"head\")[0].appendChild(s);\n",
       "}\n",
       "\n",
       "if(typeof(LDAvis) !== \"undefined\"){\n",
       "   // already loaded: just create the visualization\n",
       "   !function(LDAvis){\n",
       "       new LDAvis(\"#\" + \"ldavis_el701404710192526884406462692\", ldavis_el701404710192526884406462692_data);\n",
       "   }(LDAvis);\n",
       "}else if(typeof define === \"function\" && define.amd){\n",
       "   // require.js is available: use it to load d3/LDAvis\n",
       "   require.config({paths: {d3: \"https://cdnjs.cloudflare.com/ajax/libs/d3/3.5.5/d3.min\"}});\n",
       "   require([\"d3\"], function(d3){\n",
       "      window.d3 = d3;\n",
       "      LDAvis_load_lib(\"https://cdn.rawgit.com/bmabey/pyLDAvis/files/ldavis.v1.0.0.js\", function(){\n",
       "        new LDAvis(\"#\" + \"ldavis_el701404710192526884406462692\", ldavis_el701404710192526884406462692_data);\n",
       "      });\n",
       "    });\n",
       "}else{\n",
       "    // require.js not available: dynamically load d3 & LDAvis\n",
       "    LDAvis_load_lib(\"https://cdnjs.cloudflare.com/ajax/libs/d3/3.5.5/d3.min.js\", function(){\n",
       "         LDAvis_load_lib(\"https://cdn.rawgit.com/bmabey/pyLDAvis/files/ldavis.v1.0.0.js\", function(){\n",
       "                 new LDAvis(\"#\" + \"ldavis_el701404710192526884406462692\", ldavis_el701404710192526884406462692_data);\n",
       "            })\n",
       "         });\n",
       "}\n",
       "</script>"
      ],
      "text/plain": [
       "<IPython.core.display.HTML object>"
      ]
     },
     "execution_count": 49,
     "metadata": {
      "tags": []
     },
     "output_type": "execute_result"
    }
   ],
   "source": [
    "lda3 = gensim.models.ldamodel.LdaModel.load('model3.gensim')\n",
    "lda_display3 = pyLDAvis.gensim.prepare(lda3, corpus, dictionary, sort_topics=False)\n",
    "pyLDAvis.display(lda_display3)"
   ]
  },
  {
   "cell_type": "code",
   "execution_count": 50,
   "metadata": {
    "colab": {
     "base_uri": "https://localhost:8080/",
     "height": 982
    },
    "id": "mt3ic9kpE1bm",
    "outputId": "40339e2b-ddea-4731-bfeb-a532edbb5a07"
   },
   "outputs": [
    {
     "name": "stderr",
     "output_type": "stream",
     "text": [
      "/usr/local/lib/python3.7/dist-packages/smart_open/smart_open_lib.py:479: DeprecationWarning: This function is deprecated.  See https://github.com/RaRe-Technologies/smart_open/blob/develop/MIGRATING_FROM_OLDER_VERSIONS.rst for more information\n",
      "  warnings.warn(message, category=DeprecationWarning)\n",
      "/usr/local/lib/python3.7/dist-packages/smart_open/smart_open_lib.py:479: DeprecationWarning: This function is deprecated.  See https://github.com/RaRe-Technologies/smart_open/blob/develop/MIGRATING_FROM_OLDER_VERSIONS.rst for more information\n",
      "  warnings.warn(message, category=DeprecationWarning)\n",
      "/usr/local/lib/python3.7/dist-packages/smart_open/smart_open_lib.py:479: DeprecationWarning: This function is deprecated.  See https://github.com/RaRe-Technologies/smart_open/blob/develop/MIGRATING_FROM_OLDER_VERSIONS.rst for more information\n",
      "  warnings.warn(message, category=DeprecationWarning)\n"
     ]
    },
    {
     "data": {
      "text/html": [
       "\n",
       "<link rel=\"stylesheet\" type=\"text/css\" href=\"https://cdn.rawgit.com/bmabey/pyLDAvis/files/ldavis.v1.0.0.css\">\n",
       "\n",
       "\n",
       "<div id=\"ldavis_el70140471017987152328000123\"></div>\n",
       "<script type=\"text/javascript\">\n",
       "\n",
       "var ldavis_el70140471017987152328000123_data = {\"mdsDat\": {\"x\": [-0.12052050170519299, 0.08001077358111965, -0.03328079926439256, 0.17069104490620615, 0.2587214159623126, -0.12586564969891365, 0.014439446503569821, -0.1809280732886389, -0.008427774294512507, -0.05483988270155753], \"y\": [-0.1627788163562999, -0.08609993549184444, 0.10242187902865213, 0.026241380033020685, 0.00739258886635791, 0.14435515624997527, -0.04736289574599942, 0.04078300414346032, 0.19717452748172087, -0.22212688820904347], \"topics\": [1, 2, 3, 4, 5, 6, 7, 8, 9, 10], \"cluster\": [1, 1, 1, 1, 1, 1, 1, 1, 1, 1], \"Freq\": [9.19153102446246, 9.661266066548023, 10.34779612118589, 10.448015952783999, 10.717979766568012, 9.696750010681216, 9.399720008093222, 10.576451158314883, 10.223305766845954, 9.73718412451634]}, \"tinfo\": {\"Term\": [\"trump\", \"report\", \"donald\", \"house\", \"school\", \"white\", \"clinton\", \"parent\", \"study\", \"things\", \"health\", \"first\", \"court\", \"police\", \"find\", \"think\", \"break\", \"change\", \"hillary\", \"child\", \"election\", \"want\", \"obama\", \"shooting\", \"release\", \"photo\", \"party\", \"fight\", \"woman\", \"supreme\", \"learn\", \"great\", \"check\", \"michael\", \"leaders\", \"online\", \"allow\", \"march\", \"apple\", \"style\", \"reporter\", \"valentine\", \"special\", \"crash\", \"lesson\", \"worst\", \"outside\", \"clear\", \"trailer\", \"teens\", \"driver\", \"remind\", \"treat\", \"focus\", \"strategy\", \"pizza\", \"reach\", \"pull\", \"board\", \"moore\", \"dream\", \"biden\", \"come\", \"first\", \"love\", \"actor\", \"watch\", \"child\", \"queer\", \"death\", \"world\", \"woman\", \"video\", \"award\", \"relationship\", \"control\", \"need\", \"looking\", \"place\", \"summer\", \"girlfriend\", \"continue\", \"sleep\", \"administration\", \"romney\", \"perfect\", \"guide\", \"write\", \"unite\", \"stand\", \"increase\", \"stun\", \"thinking\", \"front\", \"audience\", \"beauty\", \"favorite\", \"truth\", \"passenger\", \"stress\", \"watching\", \"latest\", \"comey\", \"throw\", \"local\", \"look\", \"reason\", \"director\", \"honor\", \"obama\", \"little\", \"entire\", \"state\", \"woman\", \"american\", \"think\", \"government\", \"demand\", \"question\", \"marriage\", \"explain\", \"raise\", \"times\", \"girl\", \"small\", \"breaking\", \"washington\", \"turn\", \"taking\", \"struggle\", \"service\", \"series\", \"rule\", \"large\", \"destroy\", \"education\", \"culture\", \"amazon\", \"massive\", \"youth\", \"excite\", \"fashion\", \"fucking\", \"gift\", \"strong\", \"money\", \"month\", \"movie\", \"union\", \"teacher\", \"department\", \"story\", \"state\", \"world\", \"nation\", \"secret\", \"friend\", \"student\", \"woman\", \"still\", \"couple\", \"american\", \"million\", \"house\", \"white\", \"single\", \"company\", \"sander\", \"class\", \"street\", \"start\", \"bernie\", \"social\", \"security\", \"person\", \"someone\", \"activist\", \"dance\", \"fire\", \"kerry\", \"democratic\", \"slam\", \"average\", \"policy\", \"hospital\", \"website\", \"important\", \"lgbtq\", \"weird\", \"result\", \"comment\", \"urge\", \"weapon\", \"medium\", \"election\", \"try\", \"employee\", \"making\", \"change\", \"super\", \"middle\", \"woman\", \"trump\", \"attack\", \"call\", \"right\", \"obama\", \"could\", \"campaign\", \"donald\", \"fight\", \"plan\", \"everything\", \"violence\", \"francis\", \"politics\", \"matter\", \"earth\", \"blame\", \"birthday\", \"arrest\", \"immigration\", \"driving\", \"drop\", \"train\", \"worry\", \"wonder\", \"chris\", \"address\", \"coworker\", \"sound\", \"jenner\", \"robert\", \"advice\", \"wish\", \"budget\", \"thanksgiving\", \"nobody\", \"toward\", \"trump\", \"introduce\", \"reveal\", \"party\", \"office\", \"george\", \"facebook\", \"female\", \"happy\", \"worker\", \"going\", \"america\", \"woman\", \"attack\", \"call\", \"want\", \"better\", \"cover\", \"inspire\", \"scientist\", \"chinese\", \"political\", \"experience\", \"assault\", \"travel\", \"protect\", \"russia\", \"threaten\", \"accused\", \"waiting\", \"crime\", \"avoid\", \"tire\", \"steps\", \"names\", \"coffee\", \"kelly\", \"message\", \"global\", \"deny\", \"final\", \"rubio\", \"transgender\", \"simple\", \"face\", \"coming\", \"miss\", \"around\", \"share\", \"eating\", \"immigrant\", \"oscar\", \"father\", \"ready\", \"become\", \"sexual\", \"senator\", \"create\", \"still\", \"people\", \"change\", \"shooting\", \"return\", \"pretty\", \"tweet\", \"email\", \"morning\", \"charge\", \"third\", \"letter\", \"obamacare\", \"officer\", \"fail\", \"promise\", \"congressman\", \"believe\", \"abortion\", \"florida\", \"customer\", \"chicago\", \"dying\", \"allege\", \"homeless\", \"accidentally\", \"pass\", \"hire\", \"flight\", \"daniel\", \"big\", \"chicken\", \"economy\", \"leave\", \"police\", \"release\", \"found\", \"photo\", \"congress\", \"abuse\", \"official\", \"attempt\", \"woman\", \"make\", \"show\", \"republican\", \"school\", \"clinton\", \"parent\", \"hillary\", \"something\", \"thought\", \"talking\", \"owner\", \"dress\", \"open\", \"store\", \"commercial\", \"conversation\", \"russian\", \"stephen\", \"vacation\", \"funny\", \"prevent\", \"colbert\", \"theme\", \"animal\", \"apologize\", \"magazine\", \"creator\", \"personal\", \"reality\", \"accept\", \"mcdonald\", \"keep\", \"disgust\", \"report\", \"child\", \"public\", \"majority\", \"every\", \"getting\", \"black\", \"already\", \"business\", \"american\", \"people\", \"announce\", \"today\", \"still\", \"spend\", \"first\", \"take\", \"never\", \"study\", \"court\", \"find\", \"supreme\", \"mother\", \"enough\", \"happen\", \"christmas\", \"forget\", \"secretary\", \"percent\", \"remember\", \"murder\", \"catch\", \"review\", \"sport\", \"apartment\", \"nothing\", \"supporter\", \"expert\", \"challenge\", \"suicide\", \"harry\", \"mouth\", \"dinner\", \"stage\", \"prince\", \"space\", \"blast\", \"drive\", \"climate\", \"thing\", \"finally\", \"justice\", \"really\", \"family\", \"report\", \"crisis\", \"american\", \"change\", \"years\", \"nation\", \"woman\", \"things\", \"health\", \"break\", \"country\", \"north\", \"hope\", \"history\", \"human\", \"prison\", \"wrong\", \"running\", \"sentence\", \"words\", \"doctor\", \"israel\", \"star\", \"early\", \"korea\", \"inside\", \"taylor\", \"internet\", \"grandma\", \"battle\", \"teach\", \"leader\", \"drunk\", \"swift\", \"winter\", \"clearly\", \"totally\", \"presidential\", \"president\", \"south\", \"decide\", \"first\", \"behind\", \"years\"], \"Freq\": [1473.0, 571.0, 433.0, 341.0, 312.0, 284.0, 274.0, 216.0, 198.0, 186.0, 184.0, 372.0, 171.0, 209.0, 166.0, 167.0, 155.0, 277.0, 155.0, 284.0, 190.0, 138.0, 372.0, 124.0, 160.0, 162.0, 210.0, 122.0, 758.0, 118.0, 100.87689232496183, 100.57548549471981, 71.23467808838703, 67.8216668837067, 64.71183514534887, 62.645851272163, 61.19981458502059, 61.08866091132452, 60.55534397664507, 60.42659894422972, 59.19054332709856, 58.74383903481543, 57.95619577983304, 52.02531350352784, 51.05875139753401, 47.97230436826448, 47.22285202936718, 46.06672645139514, 45.77300300072054, 45.276937837182885, 44.18822525717247, 43.023547590560455, 42.60298381080864, 41.20792508512002, 41.17195876861937, 40.97748826431239, 40.46358521650783, 40.186264519233646, 39.78590702990263, 39.43537704946986, 76.06556337122241, 61.092851845634016, 49.39272000742235, 160.0640605999204, 59.75709425345922, 45.96681316873926, 68.55837913448248, 65.92320885943879, 45.68883507000476, 53.612920421217616, 56.00260407773722, 50.258588166526174, 47.79998594530772, 97.20162222572947, 94.63635349729314, 94.18502685814525, 90.17001944958682, 84.37772175538086, 81.1099855983122, 74.0281682374495, 72.10906910184623, 69.8409665716683, 67.99753789700509, 67.46912178297369, 66.25792551636866, 64.09198582049213, 60.116371472928584, 57.55862968801829, 56.986409230515676, 56.61324558114762, 55.907027020003966, 55.021438926784434, 54.949791061892704, 52.65467790978281, 49.60344934754004, 49.47176485358938, 49.43156357160932, 49.12145041352353, 48.893618470466464, 48.39248752671696, 48.009588207771785, 46.0289532240302, 45.804696579148, 88.92716683279153, 100.66841519093268, 73.94712403240192, 95.19959714919707, 60.47003910463903, 55.72853974442335, 141.56169474457758, 71.61388259259454, 53.97441640380885, 65.64886005334348, 68.41304368852003, 55.15202522733539, 166.32663404772345, 105.91370099974462, 104.55576204414119, 100.92134017345685, 88.51888214778637, 87.5497073876304, 83.74107115658477, 79.05268676752128, 76.02273533432941, 75.52371599540493, 71.43760156659219, 68.775638651827, 68.73656531269725, 65.82182505280608, 64.72521424578439, 61.60114450222132, 61.20786701561445, 60.78624103841624, 56.210047948480906, 51.018163969532345, 50.753779602559355, 48.499393972452225, 48.19381178156509, 47.933712728379625, 46.67780851478572, 45.97469986772289, 42.630057060827994, 42.40377465113931, 42.02987193712307, 40.172543592368314, 118.45120092605019, 112.2942391715999, 105.59698426185365, 61.881213051576246, 85.46125624405919, 60.50263057974733, 85.15046691783732, 109.97251100824886, 120.21981633696143, 119.37039247342462, 69.74746323592869, 89.07212706102148, 79.00941071510108, 116.40810075938536, 90.14896661306665, 66.90582771995638, 73.3944007339277, 65.4970200742429, 340.720242582398, 284.0671808853591, 109.90781346255369, 108.92047837927494, 103.78558334016526, 91.78468589882323, 91.34873483523106, 84.95030229197447, 82.58996822384337, 79.11789222315684, 77.72717230128428, 75.283944813899, 72.44060178729488, 62.66933315948077, 61.50821813432382, 58.60635464890784, 55.49075571282391, 54.54470387420351, 52.31885810709519, 51.017870445006096, 50.21994122020997, 48.25967265100117, 45.52195801838632, 44.9747907276895, 44.026070073252804, 42.76081785494393, 40.26096143195659, 39.81707064131093, 39.72109668853711, 38.27005819319646, 104.84630418635264, 150.41838256576904, 106.85234628283071, 88.09638911273981, 78.61530082863172, 147.3660312285116, 67.63177599258087, 74.6533303246661, 217.36662812351935, 266.6262560205906, 82.71707057709453, 81.2730677474496, 85.9048843331477, 93.98975493480167, 85.41504320618495, 62.16546740540337, 432.6751237660549, 122.01192813250731, 108.32438921199898, 85.82639694096301, 83.5181311658876, 69.37288422373157, 64.16039387315446, 64.15727965441373, 61.89708235893444, 61.27874225019556, 60.69666396758515, 59.86164267885849, 58.79755177954901, 58.36615377293301, 57.97708860788073, 57.27621485807536, 56.628816692932475, 54.986196351489674, 53.44248154392183, 52.648882786665446, 50.18789709343137, 49.48166414961721, 48.429051370809326, 47.51561679196548, 45.620768688051285, 42.31840664652839, 40.8984597894855, 40.83014888807455, 39.966541809082585, 39.11900888989861, 1198.1258883121525, 98.75890550554263, 113.42391213331024, 135.55909449883126, 100.66198062248182, 65.48314288330222, 80.96428015424824, 63.68442489414348, 60.338515123526136, 60.55618190241208, 78.42769765663724, 80.30051351851527, 91.54332228317253, 71.37378687575085, 71.4771994712539, 137.62683097738633, 113.05447912701048, 97.9386329950269, 72.45055355486588, 71.12869871697987, 68.21966817700851, 67.38237826983386, 66.99271011704988, 63.852849744073694, 63.5508457795519, 62.46213668951215, 62.45319502900141, 58.83236125100376, 54.15856025586665, 53.75842094801087, 52.042049397659504, 51.53267817054506, 49.1371707852314, 48.36771117531069, 47.42289841972292, 46.483547260098085, 44.01817850782999, 43.8966734783689, 43.89461144724004, 43.259313898694515, 43.137406370664735, 43.019502155322066, 42.2322304356651, 41.957642815957236, 41.79435224277974, 81.55781436134266, 75.2027954216156, 84.14898868547124, 68.30380895472318, 60.154377088317254, 61.68193965623574, 59.920519227618676, 77.16432575401743, 56.65153731380452, 63.388824624937214, 60.94303278382196, 53.758773908294195, 54.079670536402055, 62.08258053923097, 60.99475075375668, 56.01394861956026, 123.46925680364879, 103.36574327423547, 102.6782170039565, 101.32788318714971, 94.49668560117819, 74.9963017281679, 74.53074575550758, 69.73180182437713, 67.22090651990209, 62.50738564795148, 57.80175820041387, 57.383652813293345, 56.29725950208676, 56.08189206899609, 55.68309105671376, 53.111623474100575, 52.81047282558309, 50.6745301872361, 47.93666441591348, 47.445426301541346, 46.73163563695127, 45.638009187784476, 45.42528890310912, 43.87484927417749, 43.2880857178977, 42.482527241576804, 41.92259532569712, 40.974655079736294, 40.73886378613973, 40.45638123642411, 66.42482915678298, 157.86438247889788, 122.79862186135324, 76.19389928323405, 119.13383996498733, 81.44730037201367, 51.88328658335457, 58.50102556434443, 53.95845285502347, 117.68214617507178, 67.97054173497297, 61.35259866544315, 54.006437672329604, 311.7742365890854, 273.1887924805094, 215.47008961482047, 154.22372901761497, 96.33862643771592, 88.36810241544092, 75.28025867620671, 72.62351639495813, 71.40645549868339, 65.53085099404369, 64.97143267489439, 58.653187504987464, 58.368564768593885, 57.87430284198364, 56.610105378534634, 50.716680293225885, 50.434151314652055, 50.11817624342212, 49.71850489186212, 47.45335948645254, 46.94362401414861, 45.10873233258233, 44.92193536477337, 43.10531003167002, 41.540357765529144, 41.52202387649138, 41.50722235951726, 40.01524430745209, 39.150529081953565, 38.36222926281836, 431.2500824031936, 162.14780538657897, 68.2422808787326, 54.507685480064396, 86.90047274060218, 83.21206168693134, 97.52057974319372, 62.11652634709286, 70.69352420700163, 124.68995117479967, 104.57761073682754, 67.70718392057978, 58.5538623356416, 76.84352580500556, 56.975661985747706, 71.53817988177548, 61.66659129974393, 58.12790419235753, 197.74400927026903, 170.9085199120858, 165.7076883107262, 118.05129771478482, 115.29236241055554, 114.90544190080048, 92.96699154652755, 89.09491389094542, 78.47799816355548, 71.54722724462074, 67.01810416767107, 66.69547672949275, 63.72916884955633, 62.88902396784742, 62.07684735569932, 59.709409068452494, 59.15597812098773, 58.99465134481662, 58.58590592256347, 55.79090695795747, 55.78781242953267, 52.964182548456336, 52.58674148020507, 49.747537764619565, 49.074830373439596, 48.64001648705099, 46.396695556656475, 45.426639237975, 44.28254833810371, 44.187225111246256, 110.21164290615664, 114.28005990318874, 93.12609209022429, 69.25909767320601, 103.93577604714783, 103.92301927807178, 139.4899295001255, 60.86861680496432, 96.02225732586537, 73.81116857170242, 63.48388503637495, 62.30548338938022, 62.13967150555544, 186.13336414501867, 183.9692640507743, 154.83478547358897, 109.47930618080095, 109.2231699315994, 94.97855088852948, 94.4992219191677, 90.11233524009916, 75.95356959557083, 75.93947936589782, 72.84559200211427, 72.28956268720235, 69.43012903472547, 69.33330689605006, 64.43233824954274, 63.891860419367006, 63.39553114641916, 62.20789143024252, 59.38286256187013, 59.028505099996515, 58.25319425400835, 55.10816296301362, 54.757803743717126, 52.433637148041754, 51.82811170418139, 50.6884695532501, 50.229881078625446, 48.65744937756788, 48.55046685262341, 46.752973890356735, 70.15685159533635, 106.36930770268255, 55.75209143355559, 57.120895687032856, 79.58910379358066, 56.36554496339702, 61.54855449141735], \"Total\": [1473.0, 571.0, 433.0, 341.0, 312.0, 284.0, 274.0, 216.0, 198.0, 186.0, 184.0, 372.0, 171.0, 209.0, 166.0, 167.0, 155.0, 277.0, 155.0, 284.0, 190.0, 138.0, 372.0, 124.0, 160.0, 162.0, 210.0, 122.0, 758.0, 118.0, 101.6762492093254, 101.37484746316603, 72.03403579313772, 68.62100681146754, 65.51124181177677, 63.44524564950563, 61.99919921715675, 61.88803595454559, 61.354720505239534, 61.225987536251026, 59.98997395755148, 59.54325273092328, 58.75556563649993, 52.82465778328219, 51.858085818311835, 48.77167478013959, 48.022239422273756, 46.866141751579626, 46.57235773835993, 46.076334863309455, 44.98757921832078, 43.822922932167955, 43.402367736574654, 42.00731714823138, 41.9713674664209, 41.77683869691254, 41.26296129765859, 40.98564635092848, 40.5852770201663, 40.23474471392422, 88.00675235609562, 76.56351238980271, 56.83842450394453, 372.7578901652328, 81.71980812882154, 59.42976875293714, 226.8417423492906, 284.86939844174736, 60.06176606598882, 213.03477945292704, 332.63975898512354, 758.2956282836171, 192.94250743528494, 97.9983669569875, 95.43309237370538, 94.98176432117059, 90.9667421529215, 85.17444329970724, 81.9067075063604, 74.82486548391478, 72.9057847875371, 70.63772493337304, 68.79423272608884, 68.26584372612548, 67.05464081005648, 64.88868599500927, 60.91307752162768, 58.355371463301594, 57.78312317642667, 57.40996285166744, 56.703768701804805, 55.81821615957611, 55.74650150252074, 53.451403971915525, 50.40022705748593, 50.26849751847901, 50.22828000822333, 49.91817564525148, 49.690385883563366, 49.1892172011045, 48.80631091065035, 46.825672275238844, 46.60142966209483, 98.94091488309577, 123.13644905555911, 87.28662127374602, 130.8782951749356, 70.19244700098949, 62.43002225513026, 372.61079659678325, 149.93104732283624, 78.41071942863323, 268.2673210726956, 758.2956282836171, 466.51804306428846, 167.12531326081242, 106.71238812207979, 105.35447072181657, 101.72003296689032, 89.31755675038444, 88.34840746140597, 84.53975694302335, 79.85136230388744, 76.82140023317413, 76.32242006780531, 72.23629069039193, 69.57433355640032, 69.53523928704989, 66.62053270790771, 65.52389813624801, 62.39982130288941, 62.0065757499189, 61.58493256415148, 57.00874526582303, 51.816857142455326, 51.55244228567477, 49.29815530972558, 48.99250947839265, 48.7324022259805, 47.47650643225839, 46.7733550054715, 43.42997798609127, 43.202435080133746, 42.828569581889, 40.97123450870015, 143.03846217124416, 136.47116377269595, 138.71139077159452, 70.55352493878974, 114.43644310057728, 72.54579554967724, 144.9796933645302, 268.2673210726956, 332.63975898512354, 345.2437499441083, 105.58796866372768, 208.02514547753356, 178.19595052205224, 758.2956282836171, 319.69115918650044, 126.71928400746525, 466.51804306428846, 175.45758230356853, 341.5196519758565, 284.8665823755013, 110.70727705609298, 109.7198953720548, 104.58497855058415, 92.58413097956486, 92.14817380067129, 85.74972437367599, 83.38935770980054, 79.91730667378867, 78.52658226726982, 76.08336125601369, 73.24004809593585, 63.468798549538995, 62.307686100752605, 59.405768771405214, 56.29021694737081, 55.34412206810874, 53.11835362696663, 51.817336124933, 51.019352202097075, 49.05916959743416, 46.3214172282412, 45.77420227217498, 44.82553981284574, 43.56023703968904, 41.060378639566245, 40.616506822440684, 40.52053185204852, 39.06948886451201, 120.30960331160918, 190.33799530639897, 144.34129370734155, 115.18425498819295, 102.2091240654102, 277.8106849672019, 88.67246207408799, 105.70348695230173, 758.2956282836171, 1473.7438950278338, 206.89097325935066, 213.0087289272525, 259.30350746698787, 372.61079659678325, 289.04245709441045, 193.88856156705162, 433.4750436969994, 122.8118994849557, 109.12434721492593, 86.62637367951905, 84.31809422702786, 70.17286096363347, 64.9603549667125, 64.95722993191153, 62.69702464453881, 62.07874331563577, 61.49660759743682, 60.66161392365695, 59.5975124493557, 59.1661302852587, 58.77710840619467, 58.0762549626695, 57.428794261163034, 55.786144405250525, 54.242440929032874, 53.448879161553634, 50.98787916670454, 50.281653892593276, 49.2289961680425, 48.31557238405966, 46.42073660302443, 43.1183742918545, 41.698440681063694, 41.63015170469395, 40.76650185434449, 39.91898262138601, 1473.7438950278338, 116.96111976590657, 148.19343191554512, 210.60344010895795, 142.17089975303907, 80.32165476452293, 112.5559186631602, 79.36174259785307, 75.09204807010993, 80.35477730321175, 162.37451437319277, 214.17464122291037, 758.2956282836171, 206.89097325935066, 213.0087289272525, 138.42294444632466, 113.85058451617009, 98.73478450409384, 73.246669103633, 71.9247903311559, 69.01581638039801, 68.17848451182847, 67.78885209623468, 64.6489521489638, 64.34695512717441, 63.258268430990114, 63.24929995724796, 59.62848189043086, 54.95467091571222, 54.55458273921504, 52.83817724227072, 52.3287898071607, 49.933338684188875, 49.16386020115816, 48.2190185091281, 47.27969736054164, 44.81430481061585, 44.69278398918626, 44.6907295731951, 44.055455797493366, 43.933538760636246, 43.81558767700747, 43.02835173455743, 42.75375800371132, 42.59049600393681, 106.1341507905414, 96.41975706995028, 121.03906045529062, 88.77860845191827, 73.057571810246, 77.56620413124706, 74.43754445677322, 118.88438843654795, 77.58373859154432, 102.51405498521835, 100.49838803468617, 80.35040310436834, 89.33364763897552, 319.69115918650044, 372.0515511265086, 277.8106849672019, 124.26728616879645, 104.16380712711805, 103.47627353962959, 102.12593756375549, 95.29471125370598, 75.79432835677937, 75.32879307797246, 70.52989258814111, 68.0189427586341, 63.30540547134408, 58.59978106813695, 58.181688196622616, 57.0953200536234, 56.8799427305038, 56.481120798739866, 53.909671113145286, 53.608510137754614, 51.47261437290868, 48.73471468850467, 48.24349912202745, 47.5297305007674, 46.43608851154664, 46.22340849775193, 44.672902034226084, 44.08619492713955, 43.28058814229771, 42.720653540857086, 41.772727772750414, 41.53688733750311, 41.25445407813918, 71.48899099633073, 209.63891078774958, 160.35979172018185, 90.49451330707541, 162.4490873807008, 123.77750080723575, 60.26079463347475, 91.33659787966933, 73.925574418959, 758.2956282836171, 161.567401617845, 123.12045658831275, 167.4373335915072, 312.5740657756113, 274.0120226646534, 216.26988558768926, 155.02349968185726, 97.13847487108289, 89.16792624776002, 76.08006279622535, 73.4233214764796, 72.20629735252989, 66.33071306264404, 65.77126548488704, 59.4530218594292, 59.168387934445654, 58.67413967031031, 57.40990785789445, 51.51657931902104, 51.233943359678555, 50.918042419898256, 50.51831402343318, 48.2532826633738, 47.74347139993411, 45.90858136880262, 45.721764902406896, 43.90524040759292, 42.340168278558465, 42.321810493234146, 42.30703123479479, 40.815113090542845, 39.950358171811466, 39.16206352297116, 571.4511047711289, 284.86939844174736, 88.16844563790856, 66.22521210189646, 174.91711134736354, 162.53425677816236, 226.27338946971318, 92.27550891730533, 126.0010466162286, 466.51804306428846, 372.0515511265086, 132.13936881448376, 92.56148539115549, 319.69115918650044, 87.444694189459, 372.7578901652328, 157.03838246975437, 157.92260805885536, 198.54251843163783, 171.70702652725572, 166.50619521371596, 118.84979574060296, 116.09087955388844, 115.7039934237111, 93.76549804011006, 89.89344327891031, 79.27655330804372, 72.34580836490643, 67.81663354274875, 67.4940141701752, 64.52771920885557, 63.68757867477162, 62.875393878096894, 60.50796584407131, 59.95456482299037, 59.79317347010586, 59.38452124817474, 56.58948509704852, 56.5864054819682, 53.76271839136604, 53.38536554165577, 50.54610450510438, 49.873376153317075, 49.43854693738346, 47.19520725034244, 46.22516156936869, 45.081087055275326, 44.985764217717104, 129.48210916033605, 140.16068868488438, 122.6677125894681, 86.56691215931846, 206.64321391901143, 283.33162966449333, 571.4511047711289, 84.3187162094773, 466.51804306428846, 277.8106849672019, 238.15050858405232, 345.2437499441083, 758.2956282836171, 186.9322906584696, 184.76821137663782, 155.63376205542497, 110.2782639021689, 110.02209885683675, 95.7775320217545, 95.29816399835599, 90.91132254335622, 76.75250473601517, 76.73843034015391, 73.64455826538914, 73.0885229893471, 70.22913836097051, 70.13223990443991, 65.23130071245399, 64.69081343941363, 64.19453748005775, 63.00678804399224, 60.18180500885062, 59.82742610111113, 59.05213616807447, 55.90710860668028, 55.556765930144174, 53.23258520594342, 52.627097256054775, 51.4874412605662, 51.0288004979869, 49.45644021410423, 49.34945451988044, 47.55192262872718, 88.181076423127, 193.42613735310843, 64.64676707113568, 68.27932698007388, 372.7578901652328, 83.62143372340626, 238.15050858405232], \"Category\": [\"Default\", \"Default\", \"Default\", \"Default\", \"Default\", \"Default\", \"Default\", \"Default\", \"Default\", \"Default\", \"Default\", \"Default\", \"Default\", \"Default\", \"Default\", \"Default\", \"Default\", \"Default\", \"Default\", \"Default\", \"Default\", \"Default\", \"Default\", \"Default\", \"Default\", \"Default\", \"Default\", \"Default\", \"Default\", \"Default\", \"Topic1\", \"Topic1\", \"Topic1\", \"Topic1\", \"Topic1\", \"Topic1\", \"Topic1\", \"Topic1\", \"Topic1\", \"Topic1\", \"Topic1\", \"Topic1\", \"Topic1\", \"Topic1\", \"Topic1\", \"Topic1\", \"Topic1\", \"Topic1\", \"Topic1\", \"Topic1\", \"Topic1\", \"Topic1\", \"Topic1\", \"Topic1\", \"Topic1\", \"Topic1\", \"Topic1\", \"Topic1\", \"Topic1\", \"Topic1\", \"Topic1\", \"Topic1\", \"Topic1\", \"Topic1\", \"Topic1\", \"Topic1\", \"Topic1\", \"Topic1\", \"Topic1\", \"Topic1\", \"Topic1\", \"Topic1\", \"Topic1\", \"Topic2\", \"Topic2\", \"Topic2\", \"Topic2\", \"Topic2\", \"Topic2\", \"Topic2\", \"Topic2\", \"Topic2\", \"Topic2\", \"Topic2\", \"Topic2\", \"Topic2\", \"Topic2\", \"Topic2\", \"Topic2\", \"Topic2\", \"Topic2\", \"Topic2\", \"Topic2\", \"Topic2\", \"Topic2\", \"Topic2\", \"Topic2\", \"Topic2\", \"Topic2\", \"Topic2\", \"Topic2\", \"Topic2\", \"Topic2\", \"Topic2\", \"Topic2\", \"Topic2\", \"Topic2\", \"Topic2\", \"Topic2\", \"Topic2\", \"Topic2\", \"Topic2\", \"Topic2\", \"Topic2\", \"Topic2\", \"Topic3\", \"Topic3\", \"Topic3\", \"Topic3\", \"Topic3\", \"Topic3\", \"Topic3\", \"Topic3\", \"Topic3\", \"Topic3\", \"Topic3\", \"Topic3\", \"Topic3\", \"Topic3\", \"Topic3\", \"Topic3\", \"Topic3\", \"Topic3\", \"Topic3\", \"Topic3\", \"Topic3\", \"Topic3\", \"Topic3\", \"Topic3\", \"Topic3\", \"Topic3\", \"Topic3\", \"Topic3\", \"Topic3\", \"Topic3\", \"Topic3\", \"Topic3\", \"Topic3\", \"Topic3\", \"Topic3\", \"Topic3\", \"Topic3\", \"Topic3\", \"Topic3\", \"Topic3\", \"Topic3\", \"Topic3\", \"Topic3\", \"Topic3\", \"Topic3\", \"Topic3\", \"Topic3\", \"Topic3\", \"Topic4\", \"Topic4\", \"Topic4\", \"Topic4\", \"Topic4\", \"Topic4\", \"Topic4\", \"Topic4\", \"Topic4\", \"Topic4\", \"Topic4\", \"Topic4\", \"Topic4\", \"Topic4\", \"Topic4\", \"Topic4\", \"Topic4\", \"Topic4\", \"Topic4\", \"Topic4\", \"Topic4\", \"Topic4\", \"Topic4\", \"Topic4\", \"Topic4\", \"Topic4\", \"Topic4\", \"Topic4\", \"Topic4\", \"Topic4\", \"Topic4\", \"Topic4\", \"Topic4\", \"Topic4\", \"Topic4\", \"Topic4\", \"Topic4\", \"Topic4\", \"Topic4\", \"Topic4\", \"Topic4\", \"Topic4\", \"Topic4\", \"Topic4\", \"Topic4\", \"Topic4\", \"Topic5\", \"Topic5\", \"Topic5\", \"Topic5\", \"Topic5\", \"Topic5\", \"Topic5\", \"Topic5\", \"Topic5\", \"Topic5\", \"Topic5\", \"Topic5\", \"Topic5\", \"Topic5\", \"Topic5\", \"Topic5\", \"Topic5\", \"Topic5\", \"Topic5\", \"Topic5\", \"Topic5\", \"Topic5\", \"Topic5\", \"Topic5\", \"Topic5\", \"Topic5\", \"Topic5\", \"Topic5\", \"Topic5\", \"Topic5\", \"Topic5\", \"Topic5\", \"Topic5\", \"Topic5\", \"Topic5\", \"Topic5\", \"Topic5\", \"Topic5\", \"Topic5\", \"Topic5\", \"Topic5\", \"Topic5\", \"Topic5\", \"Topic5\", \"Topic5\", \"Topic6\", \"Topic6\", \"Topic6\", \"Topic6\", \"Topic6\", \"Topic6\", \"Topic6\", \"Topic6\", \"Topic6\", \"Topic6\", \"Topic6\", \"Topic6\", \"Topic6\", \"Topic6\", \"Topic6\", \"Topic6\", \"Topic6\", \"Topic6\", \"Topic6\", \"Topic6\", \"Topic6\", \"Topic6\", \"Topic6\", \"Topic6\", \"Topic6\", \"Topic6\", \"Topic6\", \"Topic6\", \"Topic6\", \"Topic6\", \"Topic6\", \"Topic6\", \"Topic6\", \"Topic6\", \"Topic6\", \"Topic6\", \"Topic6\", \"Topic6\", \"Topic6\", \"Topic6\", \"Topic6\", \"Topic6\", \"Topic6\", \"Topic6\", \"Topic6\", \"Topic6\", \"Topic7\", \"Topic7\", \"Topic7\", \"Topic7\", \"Topic7\", \"Topic7\", \"Topic7\", \"Topic7\", \"Topic7\", \"Topic7\", \"Topic7\", \"Topic7\", \"Topic7\", \"Topic7\", \"Topic7\", \"Topic7\", \"Topic7\", \"Topic7\", \"Topic7\", \"Topic7\", \"Topic7\", \"Topic7\", \"Topic7\", \"Topic7\", \"Topic7\", \"Topic7\", \"Topic7\", \"Topic7\", \"Topic7\", \"Topic7\", \"Topic7\", \"Topic7\", \"Topic7\", \"Topic7\", \"Topic7\", \"Topic7\", \"Topic7\", \"Topic7\", \"Topic7\", \"Topic7\", \"Topic7\", \"Topic7\", \"Topic7\", \"Topic8\", \"Topic8\", \"Topic8\", \"Topic8\", \"Topic8\", \"Topic8\", \"Topic8\", \"Topic8\", \"Topic8\", \"Topic8\", \"Topic8\", \"Topic8\", \"Topic8\", \"Topic8\", \"Topic8\", \"Topic8\", \"Topic8\", \"Topic8\", \"Topic8\", \"Topic8\", \"Topic8\", \"Topic8\", \"Topic8\", \"Topic8\", \"Topic8\", \"Topic8\", \"Topic8\", \"Topic8\", \"Topic8\", \"Topic8\", \"Topic8\", \"Topic8\", \"Topic8\", \"Topic8\", \"Topic8\", \"Topic8\", \"Topic8\", \"Topic8\", \"Topic8\", \"Topic8\", \"Topic8\", \"Topic8\", \"Topic8\", \"Topic8\", \"Topic8\", \"Topic8\", \"Topic8\", \"Topic8\", \"Topic9\", \"Topic9\", \"Topic9\", \"Topic9\", \"Topic9\", \"Topic9\", \"Topic9\", \"Topic9\", \"Topic9\", \"Topic9\", \"Topic9\", \"Topic9\", \"Topic9\", \"Topic9\", \"Topic9\", \"Topic9\", \"Topic9\", \"Topic9\", \"Topic9\", \"Topic9\", \"Topic9\", \"Topic9\", \"Topic9\", \"Topic9\", \"Topic9\", \"Topic9\", \"Topic9\", \"Topic9\", \"Topic9\", \"Topic9\", \"Topic9\", \"Topic9\", \"Topic9\", \"Topic9\", \"Topic9\", \"Topic9\", \"Topic9\", \"Topic9\", \"Topic9\", \"Topic9\", \"Topic9\", \"Topic9\", \"Topic9\", \"Topic10\", \"Topic10\", \"Topic10\", \"Topic10\", \"Topic10\", \"Topic10\", \"Topic10\", \"Topic10\", \"Topic10\", \"Topic10\", \"Topic10\", \"Topic10\", \"Topic10\", \"Topic10\", \"Topic10\", \"Topic10\", \"Topic10\", \"Topic10\", \"Topic10\", \"Topic10\", \"Topic10\", \"Topic10\", \"Topic10\", \"Topic10\", \"Topic10\", \"Topic10\", \"Topic10\", \"Topic10\", \"Topic10\", \"Topic10\", \"Topic10\", \"Topic10\", \"Topic10\", \"Topic10\", \"Topic10\", \"Topic10\", \"Topic10\"], \"logprob\": [30.0, 29.0, 28.0, 27.0, 26.0, 25.0, 24.0, 23.0, 22.0, 21.0, 20.0, 19.0, 18.0, 17.0, 16.0, 15.0, 14.0, 13.0, 12.0, 11.0, 10.0, 9.0, 8.0, 7.0, 6.0, 5.0, 4.0, 3.0, 2.0, 1.0, -4.827899932861328, -4.830900192260742, -5.175899982452393, -5.224999904632568, -5.271900177001953, -5.3043999671936035, -5.327700138092041, -5.329500198364258, -5.3383002281188965, -5.340400218963623, -5.361100196838379, -5.36870002746582, -5.382199764251709, -5.490099906921387, -5.508900165557861, -5.571199893951416, -5.586999893188477, -5.611800193786621, -5.618199825286865, -5.6290998458862305, -5.65339994430542, -5.680099964141846, -5.689899921417236, -5.723199844360352, -5.724100112915039, -5.728799819946289, -5.741399765014648, -5.748300075531006, -5.758299827575684, -5.767199993133545, -5.110300064086914, -5.329500198364258, -5.541999816894531, -4.366300106048584, -5.351600170135498, -5.613900184631348, -5.214200019836426, -5.253399848937988, -5.619999885559082, -5.460100173950195, -5.416399955749512, -5.524700164794922, -5.57480001449585, -4.914899826049805, -4.9415998458862305, -4.946400165557861, -4.989999771118164, -5.056399822235107, -5.095900058746338, -5.18720006942749, -5.213500022888184, -5.245500087738037, -5.272200107574463, -5.28000020980835, -5.298099994659424, -5.331399917602539, -5.395400047302246, -5.438899993896484, -5.44890022277832, -5.455399990081787, -5.4679999351501465, -5.484000205993652, -5.485300064086914, -5.527900218963623, -5.587600231170654, -5.5903000831604, -5.591100215911865, -5.597400188446045, -5.6020002365112305, -5.612299919128418, -5.620299816131592, -5.662399768829346, -5.667300224304199, -5.003900051116943, -4.879899978637695, -5.188300132751465, -4.935699939727783, -5.389500141143799, -5.471199989318848, -4.539000034332275, -5.220399856567383, -5.503200054168701, -5.307400226593018, -5.26609992980957, -5.481599807739258, -4.446400165557861, -4.89769983291626, -4.910600185394287, -4.946000099182129, -5.077099800109863, -5.088099956512451, -5.132599830627441, -5.190199851989746, -5.229300022125244, -5.235899925231934, -5.291500091552734, -5.329500198364258, -5.330100059509277, -5.3734002113342285, -5.390200138092041, -5.439700126647949, -5.446100234985352, -5.453000068664551, -5.531199932098389, -5.628200054168701, -5.633399963378906, -5.678800106048584, -5.685100078582764, -5.690499782562256, -5.717100143432617, -5.7322001457214355, -5.807799816131592, -5.8130998611450195, -5.822000026702881, -5.867199897766113, -4.785799980163574, -4.839200019836426, -4.900700092315674, -5.435100078582764, -5.112299919128418, -5.457699775695801, -5.115900039672852, -4.860099792480469, -4.770999908447266, -4.77810001373291, -5.315499782562256, -5.070899963378906, -5.190800189971924, -4.803199768066406, -5.058899879455566, -5.357100009918213, -5.264500141143799, -5.378300189971924, -3.7388999462127686, -3.920799970626831, -4.870299816131592, -4.87939977645874, -4.927700042724609, -5.05049991607666, -5.055300235748291, -5.127900123596191, -5.156099796295166, -5.198999881744385, -5.216800212860107, -5.248700141906738, -5.287199974060059, -5.43209981918335, -5.450799942016602, -5.499100208282471, -5.553800106048584, -5.571000099182129, -5.612599849700928, -5.637800216674805, -5.653600215911865, -5.693399906158447, -5.751800060272217, -5.763899803161621, -5.785200119018555, -5.8144001960754395, -5.874599933624268, -5.885700225830078, -5.8881001472473145, -5.925300121307373, -4.917500019073486, -4.556600093841553, -4.898499965667725, -5.0914998054504395, -5.205399990081787, -4.577099800109863, -5.355899810791016, -5.2571001052856445, -4.188399791717529, -3.984100103378296, -5.154600143432617, -5.1722002029418945, -5.116700172424316, -5.026800155639648, -5.122499942779541, -5.440199851989746, -3.5255000591278076, -4.791399955749512, -4.910399913787842, -5.143199920654297, -5.170400142669678, -5.355999946594238, -5.434100151062012, -5.434199810028076, -5.46999979019165, -5.480100154876709, -5.48960018157959, -5.503499984741211, -5.521399974822998, -5.528800010681152, -5.535399913787842, -5.547599792480469, -5.559000015258789, -5.588399887084961, -5.6168999671936035, -5.631800174713135, -5.679699897766113, -5.693900108337402, -5.715400218963623, -5.734399795532227, -5.775100231170654, -5.850299835205078, -5.884399890899658, -5.886099815368652, -5.907400131225586, -5.928899765014648, -2.506999969482422, -5.002799987792969, -4.8643999099731445, -4.686100006103516, -4.983699798583984, -5.413700103759766, -5.201499938964844, -5.441500186920166, -5.495500087738037, -5.4918999671936035, -5.23330020904541, -5.209700107574463, -5.078700065612793, -5.327600002288818, -5.326099872589111, -4.570799827575684, -4.767499923706055, -4.910999774932861, -5.212500095367432, -5.230899810791016, -5.272600173950195, -5.284999847412109, -5.290800094604492, -5.338799953460693, -5.343500137329102, -5.360799789428711, -5.360899925231934, -5.4207000732421875, -5.503399848937988, -5.510900020599365, -5.543300151824951, -5.553100109100342, -5.6006999015808105, -5.616499900817871, -5.636300086975098, -5.656300067901611, -5.7108001708984375, -5.713500022888184, -5.713600158691406, -5.728099822998047, -5.730999946594238, -5.733699798583984, -5.752200126647949, -5.758699893951416, -5.762599945068359, -5.093999862670898, -5.17519998550415, -5.06279993057251, -5.271399974822998, -5.398399829864502, -5.3734002113342285, -5.402299880981445, -5.149400234222412, -5.458399772644043, -5.346099853515625, -5.38539981842041, -5.510799884796143, -5.504899978637695, -5.3668999671936035, -5.3846001625061035, -5.469799995422363, -4.6483001708984375, -4.826000213623047, -4.832600116729736, -4.845900058746338, -4.9156999588012695, -5.1468000411987305, -5.1529998779296875, -5.219600200653076, -5.25629997253418, -5.328999996185303, -5.407199859619141, -5.4145002365112305, -5.433599948883057, -5.437399864196777, -5.4446001052856445, -5.491799831390381, -5.497499942779541, -5.53879976272583, -5.594399929046631, -5.604700088500977, -5.619800090789795, -5.643499851226807, -5.648200035095215, -5.6828999519348145, -5.696400165557861, -5.715199947357178, -5.728400230407715, -5.751299858093262, -5.7571001052856445, -5.763999938964844, -5.268199920654297, -4.402500152587891, -4.65369987487793, -5.13100004196167, -4.684000015258789, -5.064300060272217, -5.515200138092041, -5.395199775695801, -5.47599983215332, -4.696300029754639, -5.245200157165527, -5.347599983215332, -5.475100040435791, -3.839900016784668, -3.9719998836517334, -4.209400177001953, -4.543799877166748, -5.0142998695373535, -5.1006999015808105, -5.261000156402588, -5.296899795532227, -5.313799858093262, -5.399700164794922, -5.408199787139893, -5.5106000900268555, -5.515399932861328, -5.523900032043457, -5.546000003814697, -5.655900001525879, -5.661499977111816, -5.667799949645996, -5.67579984664917, -5.722400188446045, -5.7332000732421875, -5.773099899291992, -5.777299880981445, -5.81850004196167, -5.855500221252441, -5.855999946594238, -5.856299877166748, -5.892899990081787, -5.91480016708374, -5.935100078582764, -3.515500068664551, -4.49370002746582, -5.359099864959717, -5.583899974822998, -5.117400169372559, -5.160799980163574, -5.002099990844727, -5.453199863433838, -5.323800086975098, -4.756400108337402, -4.932300090789795, -5.367000102996826, -5.512199878692627, -5.2403998374938965, -5.539599895477295, -5.311999797821045, -5.4604997634887695, -5.519599914550781, -4.261300086975098, -4.407100200653076, -4.438000202178955, -4.777100086212158, -4.80079984664917, -4.804100036621094, -5.015999794006348, -5.058499813079834, -5.185400009155273, -5.277900218963623, -5.343299865722656, -5.348100185394287, -5.393599987030029, -5.406899929046631, -5.419899940490723, -5.458700180053711, -5.468100070953369, -5.470799922943115, -5.477700233459473, -5.526599884033203, -5.526700019836426, -5.57859992980957, -5.5858001708984375, -5.641300201416016, -5.654900074005127, -5.66379976272583, -5.710999965667725, -5.732100009918213, -5.757599830627441, -5.759799957275391, -4.845799922943115, -4.809599876403809, -5.0142998695373535, -5.310400009155273, -4.9045000076293945, -4.904600143432617, -4.610199928283691, -5.439499855041504, -4.983699798583984, -5.246699810028076, -5.39739990234375, -5.416200160980225, -5.418900012969971, -4.273099899291992, -4.2846999168396, -4.457200050354004, -4.803800106048584, -4.806099891662598, -4.945899963378906, -4.950900077819824, -4.998499870300293, -5.169400215148926, -5.169600009918213, -5.21120023727417, -5.218800067901611, -5.259200096130371, -5.2606000900268555, -5.333899974822998, -5.342299938201904, -5.350100040435791, -5.36899995803833, -5.415500164031982, -5.421500205993652, -5.434700012207031, -5.490200042724609, -5.496600151062012, -5.539999961853027, -5.551599979400635, -5.573800086975098, -5.582900047302246, -5.614699840545654, -5.6168999671936035, -5.654600143432617, -5.248799800872803, -4.832600116729736, -5.478600025177002, -5.4542999267578125, -5.122600078582764, -5.467700004577637, -5.379700183868408], \"loglift\": [30.0, 29.0, 28.0, 27.0, 26.0, 25.0, 24.0, 23.0, 22.0, 21.0, 20.0, 19.0, 18.0, 17.0, 16.0, 15.0, 14.0, 13.0, 12.0, 11.0, 10.0, 9.0, 8.0, 7.0, 6.0, 5.0, 4.0, 3.0, 2.0, 1.0, 2.379, 2.379, 2.3757, 2.3752, 2.3746, 2.3742, 2.3739, 2.3739, 2.3738, 2.3737, 2.3735, 2.3734, 2.3732, 2.3716, 2.3714, 2.3704, 2.3701, 2.3697, 2.3696, 2.3694, 2.369, 2.3685, 2.3683, 2.3677, 2.3677, 2.3676, 2.3673, 2.3672, 2.367, 2.3668, 2.2411, 2.1612, 2.2465, 1.5415, 2.0739, 2.13, 1.1903, 0.9233, 2.1134, 1.0072, 0.6052, -0.327, 0.9915, 2.3289, 2.3287, 2.3286, 2.3282, 2.3276, 2.3273, 2.3263, 2.3261, 2.3257, 2.3254, 2.3253, 2.3251, 2.3247, 2.3239, 2.3233, 2.3232, 2.3231, 2.3229, 2.3227, 2.3227, 2.322, 2.3211, 2.3211, 2.3211, 2.321, 2.3209, 2.3207, 2.3206, 2.3199, 2.3198, 2.2303, 2.1356, 2.1712, 2.0188, 2.188, 2.2235, 1.3692, 1.5982, 1.9636, 0.9294, -0.0685, 0.2018, 2.2636, 2.2609, 2.2608, 2.2605, 2.2594, 2.2593, 2.2589, 2.2583, 2.2579, 2.2579, 2.2573, 2.2569, 2.2568, 2.2563, 2.2561, 2.2555, 2.2554, 2.2553, 2.2543, 2.2529, 2.2528, 2.2521, 2.252, 2.2519, 2.2514, 2.2512, 2.2498, 2.2497, 2.2496, 2.2487, 2.0798, 2.0734, 1.9956, 2.1372, 1.9764, 2.0869, 1.7362, 1.3766, 1.2507, 1.2064, 1.8537, 1.4202, 1.4551, 0.3944, 1.0025, 1.6297, 0.4189, 1.283, 2.2564, 2.2559, 2.2515, 2.2514, 2.2511, 2.2501, 2.25, 2.2494, 2.2491, 2.2487, 2.2485, 2.2482, 2.2478, 2.2461, 2.2458, 2.2452, 2.2445, 2.2442, 2.2436, 2.2432, 2.243, 2.2423, 2.2413, 2.2411, 2.2408, 2.2402, 2.2391, 2.2389, 2.2388, 2.2381, 2.1212, 2.0234, 1.958, 1.9907, 1.9963, 1.6247, 1.9879, 1.911, 1.0093, 0.549, 1.342, 1.2952, 1.154, 0.8814, 1.0397, 1.1213, 2.2314, 2.2267, 2.2259, 2.224, 2.2237, 2.2218, 2.2209, 2.2209, 2.2204, 2.2203, 2.2202, 2.22, 2.2197, 2.2196, 2.2195, 2.2194, 2.2192, 2.2188, 2.2184, 2.2182, 2.2174, 2.2172, 2.2169, 2.2166, 2.2159, 2.2145, 2.2139, 2.2138, 2.2134, 2.213, 2.0262, 2.0641, 1.9659, 1.7927, 1.888, 2.029, 1.9038, 2.0132, 2.0145, 1.9504, 1.5055, 1.2522, 0.119, 1.169, 1.1413, 2.3276, 2.3264, 2.3253, 2.3225, 2.3222, 2.3218, 2.3216, 2.3216, 2.321, 2.3209, 2.3207, 2.3207, 2.3199, 2.3188, 2.3187, 2.3182, 2.318, 2.3173, 2.3171, 2.3167, 2.3164, 2.3155, 2.3154, 2.3154, 2.3151, 2.3151, 2.315, 2.3147, 2.3146, 2.3145, 2.07, 2.0849, 1.9699, 2.0712, 2.139, 2.1042, 2.1164, 1.9012, 2.0189, 1.8527, 1.8332, 1.9315, 1.8315, 0.6945, 0.5251, 0.732, 2.358, 2.3568, 2.3567, 2.3566, 2.3561, 2.3539, 2.3538, 2.3531, 2.3527, 2.3518, 2.3508, 2.3507, 2.3504, 2.3504, 2.3503, 2.3496, 2.3495, 2.3489, 2.348, 2.3478, 2.3476, 2.3472, 2.3471, 2.3465, 2.3462, 2.3459, 2.3456, 2.3452, 2.3451, 2.345, 2.291, 2.0808, 2.0976, 2.1925, 2.0544, 1.946, 2.2148, 1.919, 2.0496, 0.5014, 1.4986, 1.668, 1.233, 2.244, 2.2435, 2.2428, 2.2414, 2.2383, 2.2375, 2.236, 2.2356, 2.2354, 2.2344, 2.2343, 2.233, 2.2329, 2.2328, 2.2325, 2.2309, 2.2308, 2.2307, 2.2306, 2.2298, 2.2296, 2.229, 2.2289, 2.2282, 2.2275, 2.2275, 2.2275, 2.2267, 2.2263, 2.2259, 1.965, 1.683, 1.9904, 2.0518, 1.547, 1.577, 1.4049, 1.8508, 1.6686, 0.9271, 0.9774, 1.5779, 1.7886, 0.821, 1.8182, 0.5958, 1.3118, 1.2471, 2.2765, 2.2758, 2.2757, 2.2738, 2.2736, 2.2736, 2.2719, 2.2716, 2.2704, 2.2694, 2.2687, 2.2686, 2.268, 2.2679, 2.2677, 2.2672, 2.2671, 2.2671, 2.267, 2.2663, 2.2663, 2.2655, 2.2654, 2.2646, 2.2644, 2.2642, 2.2634, 2.2631, 2.2626, 2.2626, 2.1194, 2.0764, 2.005, 2.0574, 1.5933, 1.2775, 0.8703, 1.9546, 0.6998, 0.9551, 0.9584, 0.5683, -0.2212, 2.3249, 2.3249, 2.3241, 2.3219, 2.3219, 2.3208, 2.3208, 2.3204, 2.3188, 2.3188, 2.3183, 2.3182, 2.3178, 2.3178, 2.3169, 2.3168, 2.3167, 2.3165, 2.3159, 2.3158, 2.3156, 2.3148, 2.3147, 2.3141, 2.3139, 2.3136, 2.3134, 2.3129, 2.3129, 2.3123, 2.1006, 1.7312, 2.1812, 2.1508, 0.7852, 1.9348, 0.9761]}, \"token.table\": {\"Topic\": [7, 7, 8, 8, 7, 6, 4, 1, 6, 5, 2, 5, 7, 1, 1, 4, 8, 3, 2, 5, 7, 9, 10, 1, 2, 3, 4, 6, 7, 8, 9, 8, 1, 6, 8, 9, 9, 8, 1, 6, 8, 5, 6, 2, 4, 5, 10, 7, 10, 2, 4, 6, 2, 10, 2, 1, 3, 6, 1, 10, 7, 4, 6, 1, 10, 7, 5, 4, 5, 7, 8, 5, 9, 1, 10, 3, 5, 3, 4, 8, 2, 4, 5, 7, 9, 2, 3, 4, 7, 9, 9, 9, 4, 6, 9, 7, 1, 7, 7, 1, 2, 6, 7, 8, 6, 5, 9, 4, 1, 10, 6, 9, 8, 6, 8, 1, 9, 2, 6, 10, 4, 8, 4, 5, 6, 7, 7, 2, 2, 8, 2, 3, 4, 5, 6, 9, 10, 3, 8, 9, 10, 9, 6, 5, 1, 6, 9, 8, 6, 4, 9, 3, 7, 4, 7, 1, 2, 4, 5, 7, 8, 10, 4, 10, 3, 4, 6, 3, 4, 3, 9, 2, 5, 8, 10, 5, 1, 9, 8, 9, 1, 5, 5, 10, 7, 10, 5, 4, 6, 7, 3, 4, 10, 7, 4, 6, 7, 9, 2, 7, 10, 1, 2, 4, 6, 8, 5, 3, 6, 9, 3, 6, 4, 5, 9, 7, 2, 3, 6, 8, 9, 3, 1, 6, 2, 5, 6, 5, 6, 5, 9, 9, 4, 1, 4, 8, 10, 7, 7, 1, 9, 5, 7, 5, 2, 3, 4, 8, 9, 10, 2, 3, 8, 3, 5, 4, 6, 7, 8, 3, 3, 2, 6, 1, 2, 5, 7, 9, 3, 10, 1, 2, 9, 2, 5, 9, 10, 8, 7, 10, 7, 2, 4, 10, 4, 4, 10, 3, 6, 5, 4, 2, 10, 6, 10, 3, 5, 10, 5, 5, 9, 8, 6, 4, 10, 3, 2, 10, 1, 1, 1, 7, 1, 7, 4, 1, 2, 3, 10, 1, 2, 2, 7, 2, 1, 3, 8, 7, 8, 4, 6, 7, 8, 9, 3, 4, 1, 3, 3, 5, 8, 4, 5, 6, 1, 4, 5, 7, 9, 2, 3, 4, 6, 10, 2, 6, 3, 4, 1, 3, 1, 7, 9, 9, 1, 3, 9, 6, 1, 3, 4, 5, 6, 9, 10, 2, 3, 5, 6, 8, 10, 5, 10, 9, 2, 3, 4, 5, 9, 7, 3, 5, 6, 7, 2, 7, 8, 1, 8, 3, 6, 1, 8, 8, 4, 5, 7, 7, 2, 1, 3, 4, 6, 8, 9, 10, 9, 2, 4, 8, 6, 7, 1, 2, 5, 3, 7, 4, 6, 5, 2, 4, 5, 10, 6, 10, 7, 8, 9, 10, 7, 6, 8, 9, 1, 1, 4, 3, 3, 1, 6, 8, 8, 2, 3, 5, 7, 9, 2, 10, 2, 7, 8, 9, 1, 8, 9, 1, 2, 4, 5, 7, 10, 4, 7, 1, 5, 9, 1, 4, 6, 7, 9, 10, 5, 2, 6, 3, 10, 6, 8, 4, 8, 6, 1, 3, 5, 9, 4, 2, 6, 10, 3, 3, 3, 4, 6, 3, 6, 7, 1, 2, 6, 7, 9, 6, 4, 4, 2, 3, 4, 4, 8, 5, 4, 10, 9, 1, 7, 8, 10, 9, 9, 2, 10, 4, 2, 3, 4, 5, 7, 8, 8, 6, 2, 3, 5, 6, 7, 8, 10, 8, 3, 5, 6, 1, 4, 2, 3, 3, 3, 6, 8, 9, 2, 1, 9, 2, 1, 4, 9, 9, 10, 3, 6, 8, 9, 10, 3, 8, 10, 10, 3, 6, 1, 5, 8, 4, 9, 10, 3, 2, 7, 8, 6, 2, 7, 3, 6, 6, 7, 8, 10, 5, 1, 5, 6, 6, 1, 4, 5, 6, 2, 3, 4, 3, 7, 3, 9, 2, 4, 8, 1, 1, 3, 4, 7, 8, 10, 5, 6, 6, 3, 1, 2, 3, 4, 6, 8, 2, 4, 4, 4, 4, 10, 5, 1, 2, 3, 4, 5, 7, 9, 10, 5, 10, 4, 5, 1, 2, 3, 4, 6, 7, 10, 5, 1, 2, 10, 1, 3, 7, 8, 9, 10, 3], \"Freq\": [0.9831260125620861, 0.8629159359129012, 0.13275629783275403, 0.9927427846900712, 0.973532706965748, 0.9826280296141439, 0.9926137163416905, 0.774022867079162, 0.21874559287019796, 0.9916017104830793, 0.9814571437627886, 0.9909364513833023, 0.9888547547990232, 0.9838836754381781, 0.162556675937085, 0.151719564207946, 0.671900927206618, 0.9797416076669766, 0.1027199106037146, 0.37352694764987127, 0.21944708174429936, 0.11205808429496138, 0.19143256067055903, 0.060019114836554054, 0.1178946898575169, 0.15647840653815878, 0.06859327409891892, 0.038583716680641894, 0.08359805280805743, 0.26794247694890205, 0.20577982229675676, 0.9844277892215618, 0.09081320811246893, 0.06054213874164595, 0.5146081793039906, 0.33298176307905275, 0.9840785297031406, 0.9802088990399505, 0.9942185295227733, 0.6939908462940184, 0.29742464841172217, 0.9890933676032821, 0.9899619076969958, 0.15950430064743548, 0.4011774834465801, 0.3431759195747854, 0.09183580946367496, 0.7304643950950637, 0.25701525012604093, 0.9920590227296112, 0.9842265892835097, 0.9937168467229542, 0.9898124123086083, 0.9899784315947361, 0.9747655573351341, 0.19509519941323, 0.175585679471907, 0.6145498781516745, 0.32288372487498385, 0.6696847627036702, 0.991481741298048, 0.9953308465193422, 0.9925289402791843, 0.7967241587537777, 0.19591577674273222, 0.9815016204602638, 0.9919246342710859, 0.19887446820618415, 0.1767773050721637, 0.190035602952576, 0.43310439742680107, 0.9826229840035428, 0.9760190553091639, 0.9855790803183262, 0.9959278626497554, 0.9828854627144309, 0.9832501966582919, 0.2539661444040615, 0.18253816629041922, 0.5634873828965115, 0.08450357922255583, 0.3802661065015012, 0.3333196736000813, 0.023473216450709954, 0.17370180173525365, 0.10830963843495049, 0.12894004575589343, 0.31977131347461574, 0.22693448053037246, 0.21661927686990098, 0.9892038810537479, 0.9896369900690182, 0.5291373152812848, 0.20157612010715611, 0.26636844442731344, 0.9956352270554484, 0.9856451775642949, 0.984924202527896, 0.9870744446221814, 0.23168511732402267, 0.003510380565515495, 0.1439256031861353, 0.04914532791721693, 0.5686816516135103, 0.985281397313348, 0.9770946714831953, 0.9900610851434598, 0.9936908088526122, 0.981518816800181, 0.9929187764428143, 0.1467384191006075, 0.8495382158456223, 0.9963066486834706, 0.972933469713585, 0.9897400767730935, 0.8620928610820212, 0.12315612301171731, 0.9870941800186008, 0.7726071145736042, 0.2261289115825183, 0.984821274140196, 0.9923801710113184, 0.9934387891128253, 0.2585284061425269, 0.08079012691953967, 0.6544000280482712, 0.9845298239016703, 0.9909718930787401, 0.9896636546163655, 0.9802531727627911, 0.08303278432261886, 0.17644466668556508, 0.29407444447594183, 0.1487670719113588, 0.1695252679920135, 0.12108947713715251, 0.9884087411522647, 0.5287277348888186, 0.17361209205304493, 0.18150355078272878, 0.11048042221557404, 0.9958823669505249, 0.9925579975913821, 0.9806252155835964, 0.9843887718749561, 0.6044754851859453, 0.3917896663242238, 0.9793819507833428, 0.9841369008921796, 0.27277455153444136, 0.7234455497217792, 0.9736672639864583, 0.990818139341346, 0.9950618275206838, 0.983131027240305, 0.2534797376215842, 0.0422466229369307, 0.11735173038036305, 0.07510510744343235, 0.14082207645643566, 0.215927183899868, 0.15959835331729375, 0.14645721395171812, 0.8348061195247933, 0.9966354467979576, 0.993782138820718, 0.9760425632106746, 0.840848177868957, 0.15162835994358242, 0.9842356872357269, 0.982488128523078, 0.8547928240648769, 0.12821892360973153, 0.97032680562684, 0.9838556431965859, 0.9989041036989168, 0.8635701007632514, 0.1249904093209969, 0.9832937375719402, 0.978087196364025, 0.978047735942222, 0.980290577064337, 0.9867787234304849, 0.9905328124950049, 0.9742245246580864, 0.9813919139081135, 0.9888826519521366, 0.1642540218988917, 0.8212701094944586, 0.9695922753998114, 0.989283877520032, 0.7880717654850553, 0.20489865902611437, 0.9864136085132885, 0.7639933080178407, 0.08681742136566371, 0.13890787418506195, 0.993915565030387, 0.6886813485897035, 0.14028694137938405, 0.1657936579938175, 0.12005686486724916, 0.14292483912767756, 0.09718889060682075, 0.14292483912767756, 0.497378440164318, 0.9927692496763588, 0.983465906916854, 0.9883630999516734, 0.9895831337564288, 0.9960564375587849, 0.9861354983073635, 0.0799602553725655, 0.7196422983530895, 0.19545840202182677, 0.9796896887448651, 0.1376478864932298, 0.14823618545424747, 0.14117731948023568, 0.20117768025933586, 0.3670610306486128, 0.990099511765146, 0.34487286799547184, 0.6476880691622275, 0.9755460468082475, 0.8064339051160321, 0.18900794651157002, 0.9933890812831605, 0.978751113910435, 0.23641102770909464, 0.7581457095498553, 0.9969599016236829, 0.9931695392586094, 0.42923303361620757, 0.16364509406617914, 0.1931548651272934, 0.21461651680810379, 0.9704119514714681, 0.9886490011345034, 0.9760204360426814, 0.9838974670974476, 0.1547055118412952, 0.8398299214241739, 0.9832861173461163, 0.03845688934208191, 0.4278328939306613, 0.12498489036176622, 0.22593422488473125, 0.12498489036176622, 0.05768533401312287, 0.9915548715586086, 0.9721674234819538, 0.975915510718824, 0.17429919790675957, 0.8092462759956695, 0.10459333519580884, 0.23379686690827858, 0.14766117909996543, 0.5106615777207137, 0.980653811463286, 0.9893076638712526, 0.9875759544983056, 0.9845442314369961, 0.12317203889542103, 0.11701343695064997, 0.480370951692142, 0.13548924278496313, 0.13548924278496313, 0.9933242228515698, 0.9837747179332417, 0.9963023622471814, 0.9850101561310298, 0.9918360371766745, 0.1864378500760674, 0.7990193574688602, 0.9927814385507002, 0.995842296838216, 0.9933977772146951, 0.9753620168641298, 0.9863778697942346, 0.9906088448548329, 0.8970043254373201, 0.09610760629685572, 0.9918818954159532, 0.9784103643391151, 0.9984784126686412, 0.9899756980994132, 0.19338319011484725, 0.7993171858080352, 0.9899742048820671, 0.9830864934014241, 0.9875886785320073, 0.9803627523521966, 0.9829798526146063, 0.9821829278947696, 0.14534744566420774, 0.8464351247503863, 0.9811240815527859, 0.9750351162179433, 0.19637988205832108, 0.7970712860014209, 0.9762115231176568, 0.9818293552905242, 0.9770791974637953, 0.9840209590863561, 0.9823054294368451, 0.9823671025930907, 0.9880841374738253, 0.9921961208849369, 0.9933489953201049, 0.05595267109316602, 0.9232190730372393, 0.9834531914402279, 0.9850197207232428, 0.9815832711375588, 0.15340385070795695, 0.4802207500423, 0.24011037502115, 0.1267249201500514, 0.17866358960922782, 0.8202282977514549, 0.8477816980442299, 0.14893462262939172, 0.9862113181582571, 0.7342161144751729, 0.2569756400663105, 0.9842139754677558, 0.1660998832751945, 0.8304994163759725, 0.10521924490814094, 0.19187038777366877, 0.42087697963256376, 0.11759797960321634, 0.16092355103598024, 0.22502883387671752, 0.7729251250548123, 0.9856509268576915, 0.9964446323663788, 0.9849709394052806, 0.985263689154927, 0.9800291355622457, 0.8727482853388155, 0.12467832647697365, 0.9844989743902756, 0.990950193820768, 0.7095319384671146, 0.12298553600096652, 0.11352511015473833, 0.056762555077369166, 0.10258889791868464, 0.3704599091508056, 0.13678519722491286, 0.20517779583736928, 0.17668087974884578, 0.21779768626428908, 0.7778488795153181, 0.8249529406903972, 0.16778703878448756, 0.1685337720011563, 0.8206861940925873, 0.969311481340233, 0.98951994992237, 0.9906032277636241, 0.989195913108413, 0.23069482485899057, 0.7641766073454063, 0.9918218214540093, 0.9747191347559816, 0.0028965042818643078, 0.34468400954185263, 0.10717065842897938, 0.09268813701965785, 0.112963666992708, 0.1795832654755871, 0.1564112312206726, 0.9893725758442977, 0.07598658702196573, 0.1709698207994229, 0.15830538962909527, 0.36726850393950106, 0.22162754548073338, 0.9811977525792343, 0.9907100585477221, 0.9867347152848073, 0.38109470068218065, 0.16370969536347196, 0.2522739567896125, 0.15565839887018645, 0.04830777895971304, 0.9951756809853729, 0.21804743483968378, 0.710412610284131, 0.07033788220634961, 0.9897647899496492, 0.22991878926414888, 0.6459623126945135, 0.12043365151931608, 0.9929822062323578, 0.9950141789922912, 0.18807713368527312, 0.8060448586511706, 0.9787132079933861, 0.9942345093089365, 0.9941282366509859, 0.2041752023506999, 0.6457634306905857, 0.14719607611329527, 0.9849371318274658, 0.9861062482955736, 0.11288758203757293, 0.0913851854589876, 0.10482418332060343, 0.16395577391171307, 0.2822189550939323, 0.10482418332060343, 0.1370777781884814, 0.9879582117234709, 0.986304453829168, 0.9857608649495877, 0.9919658260137164, 0.26469831682851586, 0.7325372023858927, 0.9814050387453096, 0.9889299968956755, 0.9896966420086667, 0.24327544828562536, 0.7536768790025256, 0.98002028332192, 0.9827147153494734, 0.9852162912717363, 0.1240783708366511, 0.05169932118193796, 0.2740064022642712, 0.5480128045285424, 0.19278512680461518, 0.7938211103719449, 0.9953972681530014, 0.9819701941341819, 0.9746752409836326, 0.9901956979957416, 0.9808159398599625, 0.9801090282393236, 0.7712509788282236, 0.21549659702553306, 0.9759514259580258, 0.7658782452294293, 0.23309337898286978, 0.9929214241689768, 0.9936153478251999, 0.9693923737429321, 0.7346900398817892, 0.25778597890589094, 0.9923961075983365, 0.1354992475628737, 0.14517776524593612, 0.18873109481971695, 0.02419629420765602, 0.5032829195192452, 0.7258652007425703, 0.2674240213262101, 0.9954618218593458, 0.7670251917926382, 0.23073115525469606, 0.9926806224781708, 0.9812216329467176, 0.7542202585689622, 0.24324040821597623, 0.9834976764908754, 0.0895857553285884, 0.2388953475429024, 0.22695058016575728, 0.32250871918291824, 0.11347529008287864, 0.9741751373294826, 0.988827144867144, 0.22942987121977493, 0.7625169249363107, 0.98607732176129, 0.15425938658038565, 0.3316576811478292, 0.07327320862568319, 0.12340750926430853, 0.1773982945674435, 0.1388334479223471, 0.9934685160810851, 0.9842719191794058, 0.9813859012226497, 0.9905020182730221, 0.9912477136047666, 0.9802480034072725, 0.9885104464403177, 0.9944066675856206, 0.9981634248056158, 0.9871422589221603, 0.22729862411156176, 0.6629543203253885, 0.10417853605113248, 0.9952200635707572, 0.9932942164033376, 0.3235826952383576, 0.6720563670335119, 0.9851067863348976, 0.9837666289785367, 0.9935925889763583, 0.1492561253303175, 0.238809800528508, 0.6069749096766245, 0.22527949411182568, 0.7659502799802073, 0.9898019325289277, 0.0730991441178129, 0.08934339836621576, 0.17056466960823008, 0.4954497545762874, 0.16244254248402867, 0.9823697836422733, 0.9936112866750881, 0.9789460035824816, 0.988454951896169, 0.9957755523538316, 0.9885218019479436, 0.9830687154340542, 0.9882798770251044, 0.9745105064497079, 0.12374942108391902, 0.8662459475874331, 0.9734957861092572, 0.9871405265473172, 0.12579379574668342, 0.6518405779600868, 0.21728019265336226, 0.991604975692286, 0.9911294533405502, 0.9928590294906361, 0.9893213054113067, 0.9912568305128436, 0.24602325671308728, 0.4100387611884788, 0.18265362998395873, 0.1118287530514033, 0.007455250203426887, 0.044731501220561326, 0.9928599805645205, 0.9763269158199513, 0.037536227246745595, 0.28152170435059193, 0.11573670067746557, 0.19393717410818556, 0.050048302995660786, 0.24085745816661755, 0.07820047343071998, 0.9882735191545879, 0.5862890038419377, 0.20002801307548465, 0.21382304846000083, 0.9768564255811288, 0.9875399180112355, 0.975823620118968, 0.976294721886061, 0.9920044723963365, 0.443332184421461, 0.29742538954857506, 0.258142790928952, 0.9972674949631777, 0.985341413325769, 0.9799760267562015, 0.9858132472801351, 0.9889760512286908, 0.2255491674888819, 0.7668671694621985, 0.993524890996969, 0.9928498342356625, 0.9798388265460505, 0.15919674927124905, 0.12098952944614928, 0.39480793819269766, 0.18466822915464892, 0.1400931393586992, 0.9906855637040852, 0.9858036027241694, 0.986169786082511, 0.9768452875024788, 0.7427703771367149, 0.244677300703859, 0.9766401805503298, 0.9848630937219741, 0.9740269968342465, 0.1783667034927756, 0.8133521679270568, 0.9950126826393363, 0.9932666498039332, 0.9866089981900122, 0.9924869786597378, 0.9869019467323391, 0.9894600387179785, 0.8995267539739094, 0.09096337961533915, 0.9893381618131016, 0.9813083060579642, 0.22687622083046877, 0.12964355476026787, 0.6374141442379837, 0.9883932636533659, 0.976978806546696, 0.9877103551085947, 0.9814682444079547, 0.9761006012756113, 0.9946080567994446, 0.9907293597663432, 0.1811712339578223, 0.8128956489942739, 0.005428351579260594, 0.9816063861833295, 0.25633690158700645, 0.7412986072921537, 0.9923026181755072, 0.9889750087919381, 0.878765448697134, 0.11338909015446891, 0.9864471988813136, 0.9871538741409139, 0.9899725617296506, 0.9908763343282866, 0.2487787716561097, 0.08292625721870324, 0.2695103359607855, 0.08292625721870324, 0.23323009842760284, 0.07774336614253428, 0.9962274499922712, 0.9898343510046426, 0.9969445495613722, 0.991745036897339, 0.30417682074471947, 0.18074274855845648, 0.17192602911658056, 0.12784243190720093, 0.1763343888375185, 0.0352668777675037, 0.9834793719171592, 0.9726259826889249, 0.9930611529725554, 0.9871387972664475, 0.9969579359984071, 0.9907708639738682, 0.9740626980905035, 0.0659373444011193, 0.08967478838552224, 0.15297463901059677, 0.28616807470085776, 0.1213247136980595, 0.15561213278664154, 0.08176230705738792, 0.04483739419276112, 0.9859078914014976, 0.9824981711344248, 0.2364514051019662, 0.7591334584852599, 0.1683502903286569, 0.033068807028843315, 0.3607506221328362, 0.06012510368880603, 0.15632526959089568, 0.12025020737761206, 0.09920642108652995, 0.9925334622347624, 0.9841778084591464, 0.9939102184702041, 0.9903773072125568, 0.12597075764552426, 0.17635906070373397, 0.12177173239067346, 0.0503883030582097, 0.26453859105560096, 0.26033956580075013, 0.9899633214811564], \"Term\": [\"abortion\", \"abuse\", \"abuse\", \"accept\", \"accidentally\", \"accused\", \"activist\", \"actor\", \"actor\", \"address\", \"administration\", \"advice\", \"allege\", \"allow\", \"already\", \"already\", \"already\", \"amazon\", \"america\", \"america\", \"america\", \"america\", \"america\", \"american\", \"american\", \"american\", \"american\", \"american\", \"american\", \"american\", \"american\", \"animal\", \"announce\", \"announce\", \"announce\", \"announce\", \"apartment\", \"apologize\", \"apple\", \"around\", \"around\", \"arrest\", \"assault\", \"attack\", \"attack\", \"attack\", \"attack\", \"attempt\", \"attempt\", \"audience\", \"average\", \"avoid\", \"award\", \"battle\", \"beauty\", \"become\", \"become\", \"become\", \"behind\", \"behind\", \"believe\", \"bernie\", \"better\", \"biden\", \"biden\", \"big\", \"birthday\", \"black\", \"black\", \"black\", \"black\", \"blame\", \"blast\", \"board\", \"break\", \"breaking\", \"budget\", \"business\", \"business\", \"business\", \"call\", \"call\", \"call\", \"call\", \"call\", \"campaign\", \"campaign\", \"campaign\", \"campaign\", \"campaign\", \"catch\", \"challenge\", \"change\", \"change\", \"change\", \"charge\", \"check\", \"chicago\", \"chicken\", \"child\", \"child\", \"child\", \"child\", \"child\", \"chinese\", \"chris\", \"christmas\", \"class\", \"clear\", \"clearly\", \"climate\", \"climate\", \"clinton\", \"coffee\", \"colbert\", \"come\", \"come\", \"comey\", \"coming\", \"coming\", \"comment\", \"commercial\", \"company\", \"congress\", \"congress\", \"congress\", \"congressman\", \"continue\", \"control\", \"conversation\", \"could\", \"could\", \"could\", \"could\", \"could\", \"could\", \"country\", \"couple\", \"couple\", \"couple\", \"couple\", \"court\", \"cover\", \"coworker\", \"crash\", \"create\", \"create\", \"creator\", \"crime\", \"crisis\", \"crisis\", \"culture\", \"customer\", \"dance\", \"daniel\", \"death\", \"death\", \"death\", \"death\", \"death\", \"death\", \"death\", \"decide\", \"decide\", \"demand\", \"democratic\", \"deny\", \"department\", \"department\", \"destroy\", \"dinner\", \"director\", \"director\", \"disgust\", \"doctor\", \"donald\", \"dream\", \"dream\", \"dress\", \"drive\", \"driver\", \"driving\", \"drop\", \"drunk\", \"dying\", \"early\", \"earth\", \"eating\", \"eating\", \"economy\", \"education\", \"election\", \"election\", \"email\", \"employee\", \"employee\", \"employee\", \"enough\", \"entire\", \"entire\", \"entire\", \"every\", \"every\", \"every\", \"every\", \"every\", \"everything\", \"excite\", \"experience\", \"expert\", \"explain\", \"face\", \"facebook\", \"facebook\", \"facebook\", \"fail\", \"family\", \"family\", \"family\", \"family\", \"family\", \"fashion\", \"father\", \"father\", \"favorite\", \"female\", \"female\", \"fight\", \"final\", \"finally\", \"finally\", \"find\", \"fire\", \"first\", \"first\", \"first\", \"first\", \"flight\", \"florida\", \"focus\", \"forget\", \"found\", \"found\", \"francis\", \"friend\", \"friend\", \"friend\", \"friend\", \"friend\", \"friend\", \"front\", \"fucking\", \"funny\", \"george\", \"george\", \"getting\", \"getting\", \"getting\", \"getting\", \"gift\", \"girl\", \"girlfriend\", \"global\", \"going\", \"going\", \"going\", \"going\", \"going\", \"government\", \"grandma\", \"great\", \"guide\", \"happen\", \"happy\", \"happy\", \"harry\", \"health\", \"hillary\", \"hire\", \"history\", \"homeless\", \"honor\", \"honor\", \"hope\", \"hospital\", \"house\", \"human\", \"immigrant\", \"immigrant\", \"immigration\", \"important\", \"increase\", \"inside\", \"inspire\", \"internet\", \"introduce\", \"introduce\", \"israel\", \"jenner\", \"justice\", \"justice\", \"keep\", \"kelly\", \"kerry\", \"korea\", \"large\", \"latest\", \"leader\", \"leaders\", \"learn\", \"leave\", \"leave\", \"lesson\", \"letter\", \"lgbtq\", \"little\", \"little\", \"little\", \"little\", \"local\", \"local\", \"look\", \"look\", \"looking\", \"love\", \"love\", \"magazine\", \"majority\", \"majority\", \"make\", \"make\", \"make\", \"make\", \"make\", \"making\", \"making\", \"march\", \"marriage\", \"massive\", \"matter\", \"mcdonald\", \"medium\", \"medium\", \"message\", \"michael\", \"middle\", \"middle\", \"middle\", \"middle\", \"million\", \"million\", \"million\", \"million\", \"million\", \"miss\", \"miss\", \"money\", \"money\", \"month\", \"month\", \"moore\", \"morning\", \"mother\", \"mouth\", \"movie\", \"movie\", \"murder\", \"names\", \"nation\", \"nation\", \"nation\", \"nation\", \"nation\", \"nation\", \"nation\", \"need\", \"never\", \"never\", \"never\", \"never\", \"never\", \"nobody\", \"north\", \"nothing\", \"obama\", \"obama\", \"obama\", \"obama\", \"obama\", \"obamacare\", \"office\", \"office\", \"office\", \"officer\", \"official\", \"official\", \"official\", \"online\", \"open\", \"oscar\", \"oscar\", \"outside\", \"owner\", \"parent\", \"party\", \"party\", \"party\", \"pass\", \"passenger\", \"people\", \"people\", \"people\", \"people\", \"people\", \"people\", \"people\", \"percent\", \"perfect\", \"person\", \"personal\", \"photo\", \"photo\", \"pizza\", \"place\", \"plan\", \"police\", \"police\", \"policy\", \"political\", \"politics\", \"president\", \"president\", \"president\", \"president\", \"presidential\", \"presidential\", \"pretty\", \"prevent\", \"prince\", \"prison\", \"promise\", \"protect\", \"public\", \"public\", \"pull\", \"queer\", \"queer\", \"question\", \"raise\", \"reach\", \"ready\", \"ready\", \"reality\", \"really\", \"really\", \"really\", \"really\", \"really\", \"reason\", \"reason\", \"relationship\", \"release\", \"release\", \"remember\", \"remind\", \"report\", \"report\", \"reporter\", \"republican\", \"republican\", \"republican\", \"republican\", \"republican\", \"result\", \"return\", \"reveal\", \"reveal\", \"review\", \"right\", \"right\", \"right\", \"right\", \"right\", \"right\", \"robert\", \"romney\", \"rubio\", \"rule\", \"running\", \"russia\", \"russian\", \"sander\", \"school\", \"scientist\", \"secret\", \"secret\", \"secret\", \"secretary\", \"security\", \"senator\", \"senator\", \"sentence\", \"series\", \"service\", \"sexual\", \"sexual\", \"sexual\", \"share\", \"share\", \"shooting\", \"show\", \"show\", \"show\", \"show\", \"show\", \"simple\", \"single\", \"slam\", \"sleep\", \"small\", \"social\", \"someone\", \"something\", \"sound\", \"south\", \"south\", \"space\", \"special\", \"spend\", \"spend\", \"spend\", \"sport\", \"stage\", \"stand\", \"star\", \"start\", \"state\", \"state\", \"state\", \"state\", \"state\", \"state\", \"stephen\", \"steps\", \"still\", \"still\", \"still\", \"still\", \"still\", \"still\", \"still\", \"store\", \"story\", \"story\", \"story\", \"strategy\", \"street\", \"stress\", \"strong\", \"struggle\", \"student\", \"student\", \"student\", \"study\", \"stun\", \"style\", \"suicide\", \"summer\", \"super\", \"super\", \"supporter\", \"supreme\", \"swift\", \"take\", \"take\", \"take\", \"take\", \"take\", \"taking\", \"talking\", \"taylor\", \"teach\", \"teacher\", \"teacher\", \"teens\", \"thanksgiving\", \"theme\", \"thing\", \"thing\", \"things\", \"think\", \"thinking\", \"third\", \"thought\", \"threaten\", \"throw\", \"throw\", \"times\", \"tire\", \"today\", \"today\", \"today\", \"totally\", \"toward\", \"trailer\", \"train\", \"transgender\", \"travel\", \"treat\", \"trump\", \"trump\", \"trump\", \"truth\", \"try\", \"try\", \"turn\", \"tweet\", \"union\", \"union\", \"unite\", \"urge\", \"vacation\", \"valentine\", \"video\", \"video\", \"video\", \"video\", \"video\", \"video\", \"violence\", \"waiting\", \"want\", \"washington\", \"watch\", \"watch\", \"watch\", \"watch\", \"watch\", \"watch\", \"watching\", \"weapon\", \"website\", \"weird\", \"white\", \"winter\", \"wish\", \"woman\", \"woman\", \"woman\", \"woman\", \"woman\", \"woman\", \"woman\", \"woman\", \"wonder\", \"words\", \"worker\", \"worker\", \"world\", \"world\", \"world\", \"world\", \"world\", \"world\", \"world\", \"worry\", \"worst\", \"write\", \"wrong\", \"years\", \"years\", \"years\", \"years\", \"years\", \"years\", \"youth\"]}, \"R\": 30, \"lambda.step\": 0.01, \"plot.opts\": {\"xlab\": \"PC1\", \"ylab\": \"PC2\"}, \"topic.order\": [1, 2, 3, 4, 5, 6, 7, 8, 9, 10]};\n",
       "\n",
       "function LDAvis_load_lib(url, callback){\n",
       "  var s = document.createElement('script');\n",
       "  s.src = url;\n",
       "  s.async = true;\n",
       "  s.onreadystatechange = s.onload = callback;\n",
       "  s.onerror = function(){console.warn(\"failed to load library \" + url);};\n",
       "  document.getElementsByTagName(\"head\")[0].appendChild(s);\n",
       "}\n",
       "\n",
       "if(typeof(LDAvis) !== \"undefined\"){\n",
       "   // already loaded: just create the visualization\n",
       "   !function(LDAvis){\n",
       "       new LDAvis(\"#\" + \"ldavis_el70140471017987152328000123\", ldavis_el70140471017987152328000123_data);\n",
       "   }(LDAvis);\n",
       "}else if(typeof define === \"function\" && define.amd){\n",
       "   // require.js is available: use it to load d3/LDAvis\n",
       "   require.config({paths: {d3: \"https://cdnjs.cloudflare.com/ajax/libs/d3/3.5.5/d3.min\"}});\n",
       "   require([\"d3\"], function(d3){\n",
       "      window.d3 = d3;\n",
       "      LDAvis_load_lib(\"https://cdn.rawgit.com/bmabey/pyLDAvis/files/ldavis.v1.0.0.js\", function(){\n",
       "        new LDAvis(\"#\" + \"ldavis_el70140471017987152328000123\", ldavis_el70140471017987152328000123_data);\n",
       "      });\n",
       "    });\n",
       "}else{\n",
       "    // require.js not available: dynamically load d3 & LDAvis\n",
       "    LDAvis_load_lib(\"https://cdnjs.cloudflare.com/ajax/libs/d3/3.5.5/d3.min.js\", function(){\n",
       "         LDAvis_load_lib(\"https://cdn.rawgit.com/bmabey/pyLDAvis/files/ldavis.v1.0.0.js\", function(){\n",
       "                 new LDAvis(\"#\" + \"ldavis_el70140471017987152328000123\", ldavis_el70140471017987152328000123_data);\n",
       "            })\n",
       "         });\n",
       "}\n",
       "</script>"
      ],
      "text/plain": [
       "<IPython.core.display.HTML object>"
      ]
     },
     "execution_count": 50,
     "metadata": {
      "tags": []
     },
     "output_type": "execute_result"
    }
   ],
   "source": [
    "lda10 = gensim.models.ldamodel.LdaModel.load('model10.gensim')\n",
    "lda_display10 = pyLDAvis.gensim.prepare(lda10, corpus, dictionary, sort_topics=False)\n",
    "pyLDAvis.display(lda_display10)"
   ]
  },
  {
   "cell_type": "code",
   "execution_count": 51,
   "metadata": {
    "colab": {
     "base_uri": "https://localhost:8080/"
    },
    "id": "K80w9mUYE6KM",
    "outputId": "d7bb7f01-570d-4f20-cc7e-559cf56ccd2c"
   },
   "outputs": [
    {
     "name": "stdout",
     "output_type": "stream",
     "text": [
      "For LDA model with 10 clusters:\n",
      "\n",
      "For Sarcastic Dataset:\n",
      "[(0, 0.011721045), (1, 0.011720769), (2, 0.36339065), (3, 0.06659028), (4, 0.011721035), (5, 0.121460654), (6, 0.01172097), (7, 0.32336318), (8, 0.06659048), (9, 0.011720963)]\n",
      "\n",
      "For Non-sarcastic Dataset:\n",
      "[(0, 0.011890559), (1, 0.011890345), (2, 0.36863625), (3, 0.08202157), (4, 0.011890553), (5, 0.15215407), (6, 0.011890501), (7, 0.25571388), (8, 0.08202186), (9, 0.011890496)]\n"
     ]
    }
   ],
   "source": [
    "from numpy import mean\n",
    "\n",
    "sarcastic = list(df.is_sarcastic == 1)\n",
    "tuple_list = []\n",
    "for headline in sarcastic:\n",
    "    sarcastic = lda10[corpus[headline]]\n",
    "    for tuple_ in sarcastic:\n",
    "        tuple_list.append(tuple_)\n",
    "\n",
    "print('For LDA model with 10 clusters:')\n",
    "print('\\nFor Sarcastic Dataset:')\n",
    "print([(uk, mean([vv for kk,vv in tuple_list if kk==uk])) for uk in set([k for k,v in tuple_list])])\n",
    "\n",
    "not_sarcastic = list(df.is_sarcastic == 0)\n",
    "tuple_list = []\n",
    "for headline in not_sarcastic:\n",
    "    not_sarcastic = lda10[corpus[headline]]\n",
    "    for tuple_ in not_sarcastic:\n",
    "        tuple_list.append(tuple_)\n",
    "        \n",
    "\n",
    "print('\\nFor Non-sarcastic Dataset:')\n",
    "print([(uk, mean([vv for kk,vv in tuple_list if kk==uk])) for uk in set([k for k,v in tuple_list])])\n",
    "\n",
    "# LDA model with 10 clusters not differentiable between sarcastic and not sarcastic headlines.\n",
    "# Not very interpretable"
   ]
  },
  {
   "cell_type": "code",
   "execution_count": 52,
   "metadata": {
    "colab": {
     "base_uri": "https://localhost:8080/"
    },
    "id": "KBT6h1TGE9Zn",
    "outputId": "3c24e219-7491-424d-f219-9e2fee9c908a"
   },
   "outputs": [
    {
     "name": "stdout",
     "output_type": "stream",
     "text": [
      "(0, 0.011111604)\n",
      "[(0, 1), (1, 1), (2, 1), (3, 1), (4, 1), (5, 1), (6, 1), (7, 1)]\n",
      "(1, 0.011111112)\n",
      "[(8, 1), (9, 1), (10, 1), (11, 1), (12, 1), (13, 1), (14, 1)]\n",
      "(2, 0.3445318)\n",
      "[(15, 1), (16, 1), (17, 1), (18, 1), (19, 1)]\n",
      "(3, 0.011111442)\n",
      "[(20, 1), (21, 1), (22, 1), (23, 1), (24, 1), (25, 1)]\n",
      "(4, 0.011111585)\n",
      "[(26, 1), (27, 1), (28, 1), (29, 1), (30, 1), (31, 1)]\n",
      "(5, 0.011111112)\n",
      "[(32, 1), (33, 1), (34, 1)]\n",
      "(6, 0.01111147)\n",
      "[(35, 1), (36, 1), (37, 1)]\n",
      "(7, 0.5665771)\n",
      "[(38, 1), (39, 1)]\n",
      "(8, 0.011111345)\n",
      "[(40, 1), (41, 1), (42, 1), (43, 1), (44, 1), (45, 1)]\n",
      "(9, 0.011111459)\n",
      "[(46, 1), (47, 1), (48, 1), (49, 1), (50, 1), (51, 1)]\n",
      "For LDA model with 5 clusters:\n",
      "For Sarcastic Dataset:\n",
      "[(0, 0.18025747), (1, 0.15598232), (2, 0.3300533), (3, 0.26327235), (4, 0.07043459)]\n",
      "\n",
      "For Non-sarcastic Dataset:\n",
      "[(0, 0.083839566), (1, 0.30492368), (2, 0.10657655), (3, 0.38281167), (4, 0.12184854)]\n"
     ]
    }
   ],
   "source": [
    "tuple_list = []\n",
    "for headline in sarcastic:\n",
    "  print (headline)\n",
    "  print (corpus[headline[0]])\n",
    "  sarcastic = lda[corpus[headline[0]]]\n",
    "  for tuple_ in sarcastic:\n",
    "    tuple_list.append(tuple_)\n",
    "\n",
    "print('For LDA model with 5 clusters:')\n",
    "print('For Sarcastic Dataset:')\n",
    "print([(uk, mean([vv for kk,vv in tuple_list if kk==uk])) for uk in set([k for k,v in tuple_list])])\n",
    "\n",
    "not_sarcastic = list(df.is_sarcastic == 0)\n",
    "tuple_list = []\n",
    "for headline in not_sarcastic:\n",
    "    not_sarcastic = lda[corpus[headline]]\n",
    "    for tuple_ in not_sarcastic:\n",
    "        tuple_list.append(tuple_)\n",
    "        \n",
    "\n",
    "print('\\nFor Non-sarcastic Dataset:')\n",
    "print([(uk, mean([vv for kk,vv in tuple_list if kk==uk])) for uk in set([k for k,v in tuple_list])])\n",
    "\n"
   ]
  },
  {
   "cell_type": "code",
   "execution_count": null,
   "metadata": {
    "id": "HssNTlWAcOzV"
   },
   "outputs": [],
   "source": [
    "# LDA model with 5 clusters not differentiable between sarcastic and not sarcastic headlines.\n",
    "# Not very interpretable"
   ]
  },
  {
   "cell_type": "code",
   "execution_count": 53,
   "metadata": {
    "colab": {
     "base_uri": "https://localhost:8080/"
    },
    "id": "8GFJkOafE-SJ",
    "outputId": "19541d22-c166-4d50-a97e-84a28fae64af"
   },
   "outputs": [
    {
     "name": "stdout",
     "output_type": "stream",
     "text": [
      "For LDA model with 3 clusters:\n",
      "For Sarcastic Dataset:\n",
      "[(0, 0.37762237), (1, 0.43095803), (2, 0.19141963)]\n",
      "\n",
      "For Non-sarcastic Dataset:\n",
      "[(0, 0.30574113), (1, 0.49539936), (2, 0.19885957)]\n"
     ]
    }
   ],
   "source": [
    "sarcastic = list(df.is_sarcastic == 1)\n",
    "tuple_list = []\n",
    "for headline in sarcastic:\n",
    "    sarcastic = lda3[corpus[headline]]\n",
    "    for tuple_ in sarcastic:\n",
    "        tuple_list.append(tuple_)\n",
    "\n",
    "print('For LDA model with 3 clusters:')\n",
    "print('For Sarcastic Dataset:')\n",
    "print([(uk, mean([vv for kk,vv in tuple_list if kk==uk])) for uk in set([k for k,v in tuple_list])])\n",
    "\n",
    "not_sarcastic = list(df.is_sarcastic == 0)\n",
    "tuple_list = []\n",
    "for headline in not_sarcastic:\n",
    "    not_sarcastic = lda3[corpus[headline]]\n",
    "    for tuple_ in not_sarcastic:\n",
    "        tuple_list.append(tuple_)\n",
    "        \n",
    "\n",
    "print('\\nFor Non-sarcastic Dataset:')\n",
    "print([(uk, mean([vv for kk,vv in tuple_list if kk==uk])) for uk in set([k for k,v in tuple_list])])\n",
    "\n",
    "# LDA model with 3 clusters not differentiable between sarcastic and not sarcastic headlines.\n",
    "# Not very interpretable"
   ]
  },
  {
   "cell_type": "code",
   "execution_count": 54,
   "metadata": {
    "id": "5xRVCN3QFEAi"
   },
   "outputs": [],
   "source": [
    "#RNN withGRU\n",
    "train_data, test_data = train_test_split(df[['headline', 'is_sarcastic']], test_size=0.1)  # randomly splitting 10% of dataset to be training dataset \n",
    "\n",
    "training_sentences = list(train_data['headline'])\n",
    "training_labels = list(train_data['is_sarcastic'])\n",
    "\n",
    "testing_sentences = list(test_data['headline'])\n",
    "testing_labels = list(test_data['is_sarcastic'])\n",
    "training_labels_final = np.array(training_labels)\n",
    "testing_labels_final = np.array(testing_labels)"
   ]
  },
  {
   "cell_type": "code",
   "execution_count": 55,
   "metadata": {
    "id": "OhnFzw_jFIwd"
   },
   "outputs": [],
   "source": [
    "vocab_size = 10000   # limit vector of words to the top 10,000 words\n",
    "embedding_dim = 16\n",
    "max_length = 120\n",
    "trunc_type='post'\n",
    "oov_tok = \"<OOV>\"\n",
    "\n",
    "\n",
    "from tensorflow.keras.preprocessing.text import Tokenizer\n",
    "from tensorflow.keras.preprocessing.sequence import pad_sequences\n",
    "\n",
    "tokenizer = Tokenizer(num_words = vocab_size, oov_token=oov_tok)\n",
    "tokenizer.fit_on_texts(training_sentences)\n",
    "word_index = tokenizer.word_index\n",
    "sequences = tokenizer.texts_to_sequences(training_sentences)\n",
    "padded = pad_sequences(sequences,maxlen=max_length, truncating=trunc_type)\n",
    "\n",
    "testing_sequences = tokenizer.texts_to_sequences(testing_sentences)\n",
    "testing_padded = pad_sequences(testing_sequences,maxlen=max_length)\n",
    "\n",
    "# no lemmatization, removal of stop words and stemming of headlines as we would like to maintain the syntax, literature integrity, sequence of words in LSTM."
   ]
  },
  {
   "cell_type": "code",
   "execution_count": 56,
   "metadata": {
    "id": "AbavUYYeFQLd"
   },
   "outputs": [],
   "source": [
    "reverse_word_index = dict([(value, key) for (key, value) in word_index.items()])\n",
    "\n",
    "def decode_review(text):\n",
    "    return ' '.join([reverse_word_index.get(i, '?') for i in text])"
   ]
  },
  {
   "cell_type": "code",
   "execution_count": 57,
   "metadata": {
    "colab": {
     "base_uri": "https://localhost:8080/"
    },
    "id": "I-VtLHkAIBRZ",
    "outputId": "14aa456a-31e5-42ce-db90-33c5d7d71e14"
   },
   "outputs": [
    {
     "name": "stdout",
     "output_type": "stream",
     "text": [
      "Model: \"sequential_1\"\n",
      "_________________________________________________________________\n",
      "Layer (type)                 Output Shape              Param #   \n",
      "=================================================================\n",
      "embedding_1 (Embedding)      (None, 120, 16)           160000    \n",
      "_________________________________________________________________\n",
      "bidirectional (Bidirectional (None, 64)                9600      \n",
      "_________________________________________________________________\n",
      "dense_2 (Dense)              (None, 100)               6500      \n",
      "_________________________________________________________________\n",
      "batch_normalization (BatchNo (None, 100)               400       \n",
      "_________________________________________________________________\n",
      "dropout (Dropout)            (None, 100)               0         \n",
      "_________________________________________________________________\n",
      "dense_3 (Dense)              (None, 1)                 101       \n",
      "=================================================================\n",
      "Total params: 176,601\n",
      "Trainable params: 176,401\n",
      "Non-trainable params: 200\n",
      "_________________________________________________________________\n"
     ]
    }
   ],
   "source": [
    "# Model Definition with BiRNN (GRU)\n",
    "# with L1 Lasso Regularization, for feature selection\n",
    "# Dropout, for robustness of recurrent neural networks\n",
    "# Batch Normalization, to stabilize and perhaps accelerate the learning process\n",
    "\n",
    "model = tf.keras.Sequential([\n",
    "    tf.keras.layers.Embedding(vocab_size, embedding_dim, input_length=max_length),\n",
    "    tf.keras.layers.Bidirectional(tf.keras.layers.GRU(32)),\n",
    "    tf.keras.layers.Dense(100, kernel_regularizer=tf.keras.regularizers.l1(0.003), activation='relu'),\n",
    "    tf.keras.layers.BatchNormalization(),\n",
    "    tf.keras.layers.Dropout(0.5),\n",
    "    tf.keras.layers.Dense(1, kernel_regularizer=tf.keras.regularizers.l1(0.003), activation='sigmoid')\n",
    "])\n",
    "model.compile(loss='binary_crossentropy',optimizer='adam',metrics=['accuracy'])\n",
    "model.summary()"
   ]
  },
  {
   "cell_type": "code",
   "execution_count": 58,
   "metadata": {
    "colab": {
     "base_uri": "https://localhost:8080/"
    },
    "id": "yJ-WPnN-ID2y",
    "outputId": "f6914765-4bd9-4643-e9a2-a5b68f6e8a4d"
   },
   "outputs": [
    {
     "name": "stdout",
     "output_type": "stream",
     "text": [
      "Epoch 1/10\n",
      "376/376 [==============================] - 10s 18ms/step - loss: 1.4225 - accuracy: 0.6975 - val_loss: 0.5668 - val_accuracy: 0.7892\n",
      "Epoch 2/10\n",
      "376/376 [==============================] - 6s 15ms/step - loss: 0.2879 - accuracy: 0.9021 - val_loss: 0.4160 - val_accuracy: 0.8270\n",
      "Epoch 3/10\n",
      "376/376 [==============================] - 6s 15ms/step - loss: 0.2018 - accuracy: 0.9404 - val_loss: 0.4871 - val_accuracy: 0.8188\n",
      "Epoch 4/10\n",
      "376/376 [==============================] - 6s 15ms/step - loss: 0.1441 - accuracy: 0.9634 - val_loss: 0.4584 - val_accuracy: 0.8428\n",
      "Epoch 5/10\n",
      "376/376 [==============================] - 6s 15ms/step - loss: 0.1159 - accuracy: 0.9729 - val_loss: 0.5385 - val_accuracy: 0.8368\n",
      "Epoch 6/10\n",
      "376/376 [==============================] - 6s 15ms/step - loss: 0.0902 - accuracy: 0.9812 - val_loss: 0.5995 - val_accuracy: 0.8308\n",
      "Epoch 7/10\n",
      "376/376 [==============================] - 6s 16ms/step - loss: 0.0736 - accuracy: 0.9872 - val_loss: 0.7068 - val_accuracy: 0.8304\n",
      "Epoch 8/10\n",
      "376/376 [==============================] - 6s 15ms/step - loss: 0.0598 - accuracy: 0.9918 - val_loss: 0.7919 - val_accuracy: 0.8237\n",
      "Epoch 9/10\n",
      "376/376 [==============================] - 6s 15ms/step - loss: 0.0541 - accuracy: 0.9932 - val_loss: 0.7333 - val_accuracy: 0.8304\n",
      "Epoch 10/10\n",
      "376/376 [==============================] - 6s 15ms/step - loss: 0.0504 - accuracy: 0.9941 - val_loss: 0.8434 - val_accuracy: 0.8304\n"
     ]
    }
   ],
   "source": [
    "num_epochs = 10\n",
    "history = model.fit(padded, training_labels_final, epochs=num_epochs, batch_size=64, validation_data=(testing_padded, testing_labels_final))"
   ]
  },
  {
   "cell_type": "code",
   "execution_count": 59,
   "metadata": {
    "colab": {
     "base_uri": "https://localhost:8080/",
     "height": 542
    },
    "id": "-DDiyuoxIK9G",
    "outputId": "0fb552ce-2b21-4952-f84c-e8fbea9e8897"
   },
   "outputs": [
    {
     "data": {
      "image/png": "[encoded data removed]",
      "text/plain": [
       "<Figure size 432x288 with 1 Axes>"
      ]
     },
     "metadata": {
      "needs_background": "light",
      "tags": []
     },
     "output_type": "display_data"
    },
    {
     "data": {
      "image/png": "[encoded data removed]",
      "text/plain": [
       "<Figure size 432x288 with 1 Axes>"
      ]
     },
     "metadata": {
      "needs_background": "light",
      "tags": []
     },
     "output_type": "display_data"
    }
   ],
   "source": [
    "import matplotlib.pyplot as plt\n",
    "\n",
    "\n",
    "def plot_history(history, string):\n",
    "    plt.plot(history.history[string])\n",
    "    plt.plot(history.history['val_'+string])\n",
    "    plt.xlabel(\"Epochs\")\n",
    "    plt.ylabel(string)\n",
    "    plt.legend([string, 'val_'+string])\n",
    "    plt.show()\n",
    "\n",
    "plot_history(history, 'accuracy')\n",
    "plot_history(history, 'loss')\n",
    "plt.show()"
   ]
  },
  {
   "cell_type": "code",
   "execution_count": 60,
   "metadata": {
    "colab": {
     "base_uri": "https://localhost:8080/"
    },
    "id": "weBjQJqDIYr3",
    "outputId": "0fc41888-b7c3-4fb2-eaa9-b5b6998f3fa8"
   },
   "outputs": [
    {
     "name": "stdout",
     "output_type": "stream",
     "text": [
      "Model: \"sequential_2\"\n",
      "_________________________________________________________________\n",
      "Layer (type)                 Output Shape              Param #   \n",
      "=================================================================\n",
      "embedding_2 (Embedding)      (None, 120, 16)           160000    \n",
      "_________________________________________________________________\n",
      "bidirectional_1 (Bidirection (None, 64)                9600      \n",
      "_________________________________________________________________\n",
      "dense_4 (Dense)              (None, 100)               6500      \n",
      "_________________________________________________________________\n",
      "batch_normalization_1 (Batch (None, 100)               400       \n",
      "_________________________________________________________________\n",
      "dropout_1 (Dropout)          (None, 100)               0         \n",
      "_________________________________________________________________\n",
      "dense_5 (Dense)              (None, 1)                 101       \n",
      "=================================================================\n",
      "Total params: 176,601\n",
      "Trainable params: 176,401\n",
      "Non-trainable params: 200\n",
      "_________________________________________________________________\n"
     ]
    }
   ],
   "source": [
    "# Model Definition with BiRNN (GRU)\n",
    "# with L2 Ridge Regularization\n",
    "# Dropout, for robustness of recurrent neural networks\n",
    "# Batch Normalization, to stabilize and perhaps accelerate the learning process\n",
    "\n",
    "model = tf.keras.Sequential([\n",
    "    tf.keras.layers.Embedding(vocab_size, embedding_dim, input_length=max_length),\n",
    "    tf.keras.layers.Bidirectional(tf.keras.layers.GRU(32)),\n",
    "    tf.keras.layers.Dense(100, kernel_regularizer=tf.keras.regularizers.l2(0.003), activation='relu'),\n",
    "    tf.keras.layers.BatchNormalization(),\n",
    "    tf.keras.layers.Dropout(0.5),\n",
    "    tf.keras.layers.Dense(1, kernel_regularizer=tf.keras.regularizers.l2(0.003), activation='sigmoid')\n",
    "])\n",
    "model.compile(loss='binary_crossentropy',optimizer='adam',metrics=['accuracy'])\n",
    "model.summary()"
   ]
  },
  {
   "cell_type": "code",
   "execution_count": 61,
   "metadata": {
    "colab": {
     "base_uri": "https://localhost:8080/"
    },
    "id": "AtuxCcefIcw9",
    "outputId": "d2279755-c46c-4f6b-c011-397b52068b53"
   },
   "outputs": [
    {
     "name": "stdout",
     "output_type": "stream",
     "text": [
      "Epoch 1/10\n",
      "376/376 [==============================] - 10s 17ms/step - loss: 0.6873 - accuracy: 0.6863 - val_loss: 0.6251 - val_accuracy: 0.6061\n",
      "Epoch 2/10\n",
      "376/376 [==============================] - 6s 15ms/step - loss: 0.2650 - accuracy: 0.9045 - val_loss: 0.5875 - val_accuracy: 0.7529\n",
      "Epoch 3/10\n",
      "376/376 [==============================] - 6s 15ms/step - loss: 0.1609 - accuracy: 0.9440 - val_loss: 0.8920 - val_accuracy: 0.7054\n",
      "Epoch 4/10\n",
      "376/376 [==============================] - 6s 15ms/step - loss: 0.1141 - accuracy: 0.9640 - val_loss: 0.4948 - val_accuracy: 0.8293\n",
      "Epoch 5/10\n",
      "376/376 [==============================] - 6s 15ms/step - loss: 0.0838 - accuracy: 0.9748 - val_loss: 0.9714 - val_accuracy: 0.7462\n",
      "Epoch 6/10\n",
      "376/376 [==============================] - 6s 15ms/step - loss: 0.0638 - accuracy: 0.9813 - val_loss: 0.6687 - val_accuracy: 0.8270\n",
      "Epoch 7/10\n",
      "376/376 [==============================] - 6s 15ms/step - loss: 0.0540 - accuracy: 0.9839 - val_loss: 0.7393 - val_accuracy: 0.8240\n",
      "Epoch 8/10\n",
      "376/376 [==============================] - 6s 15ms/step - loss: 0.0467 - accuracy: 0.9874 - val_loss: 0.7528 - val_accuracy: 0.8259\n",
      "Epoch 9/10\n",
      "376/376 [==============================] - 6s 15ms/step - loss: 0.0332 - accuracy: 0.9916 - val_loss: 0.8696 - val_accuracy: 0.8199\n",
      "Epoch 10/10\n",
      "376/376 [==============================] - 6s 15ms/step - loss: 0.0293 - accuracy: 0.9927 - val_loss: 0.9155 - val_accuracy: 0.8210\n"
     ]
    }
   ],
   "source": [
    "num_epochs = 10\n",
    "history = model.fit(padded, training_labels_final, epochs=num_epochs, batch_size=64, validation_data=(testing_padded, testing_labels_final))"
   ]
  },
  {
   "cell_type": "code",
   "execution_count": 62,
   "metadata": {
    "colab": {
     "base_uri": "https://localhost:8080/",
     "height": 541
    },
    "id": "PN2H7AebIgYb",
    "outputId": "495f29e3-8535-4f89-a5bb-c368e553ec51"
   },
   "outputs": [
    {
     "data": {
      "image/png": "[encoded data removed]",
      "text/plain": [
       "<Figure size 432x288 with 1 Axes>"
      ]
     },
     "metadata": {
      "needs_background": "light",
      "tags": []
     },
     "output_type": "display_data"
    },
    {
     "data": {
      "image/png": "[encoded data removed]",
      "text/plain": [
       "<Figure size 432x288 with 1 Axes>"
      ]
     },
     "metadata": {
      "needs_background": "light",
      "tags": []
     },
     "output_type": "display_data"
    }
   ],
   "source": [
    "plot_history(history, 'accuracy')\n",
    "plot_history(history, 'loss')\n",
    "plt.show()"
   ]
  },
  {
   "cell_type": "code",
   "execution_count": 63,
   "metadata": {
    "colab": {
     "base_uri": "https://localhost:8080/"
    },
    "id": "wMWp31-YIjDm",
    "outputId": "8ff81883-aa67-4e99-8b56-bd7bf50734d6"
   },
   "outputs": [
    {
     "name": "stdout",
     "output_type": "stream",
     "text": [
      "Model: \"sequential_3\"\n",
      "_________________________________________________________________\n",
      "Layer (type)                 Output Shape              Param #   \n",
      "=================================================================\n",
      "embedding_3 (Embedding)      (None, 120, 16)           160000    \n",
      "_________________________________________________________________\n",
      "bidirectional_2 (Bidirection (None, 64)                12544     \n",
      "_________________________________________________________________\n",
      "dense_6 (Dense)              (None, 100)               6500      \n",
      "_________________________________________________________________\n",
      "batch_normalization_2 (Batch (None, 100)               400       \n",
      "_________________________________________________________________\n",
      "dropout_2 (Dropout)          (None, 100)               0         \n",
      "_________________________________________________________________\n",
      "dense_7 (Dense)              (None, 1)                 101       \n",
      "=================================================================\n",
      "Total params: 179,545\n",
      "Trainable params: 179,345\n",
      "Non-trainable params: 200\n",
      "_________________________________________________________________\n"
     ]
    }
   ],
   "source": [
    "#RNN With LSTM\n",
    "# Model Definition with BiRNN (LSTM)\n",
    "# with L1 Lasso Regularization, for feature selection\n",
    "# Dropout, for robustness of recurrent neural networks\n",
    "# Batch Normalization, to stabilize and perhaps accelerate the learning process\n",
    "\n",
    "model = tf.keras.Sequential([\n",
    "    tf.keras.layers.Embedding(vocab_size, embedding_dim, input_length=max_length),\n",
    "    tf.keras.layers.Bidirectional(tf.keras.layers.LSTM(32)),\n",
    "    tf.keras.layers.Dense(100, kernel_regularizer=tf.keras.regularizers.l1(0.003), activation='relu'),\n",
    "    tf.keras.layers.BatchNormalization(),\n",
    "    tf.keras.layers.Dropout(0.5),\n",
    "    tf.keras.layers.Dense(1, kernel_regularizer=tf.keras.regularizers.l1(0.003), activation='sigmoid')\n",
    "])\n",
    "\n",
    "model.compile(loss='binary_crossentropy',optimizer='adam',metrics=['accuracy'])\n",
    "model.summary()"
   ]
  },
  {
   "cell_type": "code",
   "execution_count": 64,
   "metadata": {
    "colab": {
     "base_uri": "https://localhost:8080/"
    },
    "id": "69VoVHZ_IpZo",
    "outputId": "a2aefefe-7750-4c37-e6d6-1738cdf3ee4c"
   },
   "outputs": [
    {
     "name": "stdout",
     "output_type": "stream",
     "text": [
      "Epoch 1/10\n",
      "376/376 [==============================] - 10s 17ms/step - loss: 1.3701 - accuracy: 0.7294 - val_loss: 0.5437 - val_accuracy: 0.8461\n",
      "Epoch 2/10\n",
      "376/376 [==============================] - 6s 15ms/step - loss: 0.2823 - accuracy: 0.9063 - val_loss: 0.3853 - val_accuracy: 0.8458\n",
      "Epoch 3/10\n",
      "376/376 [==============================] - 6s 15ms/step - loss: 0.1974 - accuracy: 0.9428 - val_loss: 0.4495 - val_accuracy: 0.8360\n",
      "Epoch 4/10\n",
      "376/376 [==============================] - 6s 15ms/step - loss: 0.1479 - accuracy: 0.9614 - val_loss: 0.4966 - val_accuracy: 0.8413\n",
      "Epoch 5/10\n",
      "376/376 [==============================] - 6s 15ms/step - loss: 0.1090 - accuracy: 0.9746 - val_loss: 0.5734 - val_accuracy: 0.8349\n",
      "Epoch 6/10\n",
      "376/376 [==============================] - 6s 15ms/step - loss: 0.0867 - accuracy: 0.9832 - val_loss: 0.6324 - val_accuracy: 0.8338\n",
      "Epoch 7/10\n",
      "376/376 [==============================] - 6s 15ms/step - loss: 0.0762 - accuracy: 0.9869 - val_loss: 0.6965 - val_accuracy: 0.8371\n",
      "Epoch 8/10\n",
      "376/376 [==============================] - 6s 15ms/step - loss: 0.0566 - accuracy: 0.9924 - val_loss: 0.7485 - val_accuracy: 0.8338\n",
      "Epoch 9/10\n",
      "376/376 [==============================] - 6s 15ms/step - loss: 0.0503 - accuracy: 0.9938 - val_loss: 0.7879 - val_accuracy: 0.8338\n",
      "Epoch 10/10\n",
      "376/376 [==============================] - 6s 15ms/step - loss: 0.0444 - accuracy: 0.9961 - val_loss: 0.8495 - val_accuracy: 0.8289\n"
     ]
    }
   ],
   "source": [
    "num_epochs = 10\n",
    "history = model.fit(padded, training_labels_final, epochs=num_epochs, batch_size=64, validation_data=(testing_padded, testing_labels_final))"
   ]
  },
  {
   "cell_type": "code",
   "execution_count": 65,
   "metadata": {
    "colab": {
     "base_uri": "https://localhost:8080/",
     "height": 541
    },
    "id": "WipvgZDbIrd3",
    "outputId": "fa971139-10b9-44ac-de4e-d5d89436fa96"
   },
   "outputs": [
    {
     "data": {
      "image/png": "[encoded data removed]",
      "text/plain": [
       "<Figure size 432x288 with 1 Axes>"
      ]
     },
     "metadata": {
      "needs_background": "light",
      "tags": []
     },
     "output_type": "display_data"
    },
    {
     "data": {
      "image/png": "[encoded data removed]",
      "text/plain": [
       "<Figure size 432x288 with 1 Axes>"
      ]
     },
     "metadata": {
      "needs_background": "light",
      "tags": []
     },
     "output_type": "display_data"
    }
   ],
   "source": [
    "plot_history(history, 'accuracy')\n",
    "plot_history(history, 'loss')\n",
    "plt.show()"
   ]
  },
  {
   "cell_type": "code",
   "execution_count": 66,
   "metadata": {
    "colab": {
     "base_uri": "https://localhost:8080/"
    },
    "id": "R-kQ0aDtIvWu",
    "outputId": "9708b00d-45f5-4514-ce02-f478b81e6b65"
   },
   "outputs": [
    {
     "name": "stdout",
     "output_type": "stream",
     "text": [
      "Model: \"sequential_4\"\n",
      "_________________________________________________________________\n",
      "Layer (type)                 Output Shape              Param #   \n",
      "=================================================================\n",
      "embedding_4 (Embedding)      (None, 120, 16)           160000    \n",
      "_________________________________________________________________\n",
      "bidirectional_3 (Bidirection (None, 64)                12544     \n",
      "_________________________________________________________________\n",
      "dense_8 (Dense)              (None, 100)               6500      \n",
      "_________________________________________________________________\n",
      "batch_normalization_3 (Batch (None, 100)               400       \n",
      "_________________________________________________________________\n",
      "dropout_3 (Dropout)          (None, 100)               0         \n",
      "_________________________________________________________________\n",
      "dense_9 (Dense)              (None, 1)                 101       \n",
      "=================================================================\n",
      "Total params: 179,545\n",
      "Trainable params: 179,345\n",
      "Non-trainable params: 200\n",
      "_________________________________________________________________\n"
     ]
    }
   ],
   "source": [
    "# Model Definition with BiRNN (LSTM)\n",
    "# with L2 Ridge Regularization\n",
    "# Dropout, for robustness of recurrent neural networks\n",
    "# Batch Normalization, to stabilize and perhaps accelerate the learning process\n",
    "\n",
    "model = tf.keras.Sequential([\n",
    "    tf.keras.layers.Embedding(vocab_size, embedding_dim, input_length=max_length),\n",
    "    tf.keras.layers.Bidirectional(tf.keras.layers.LSTM(32)),\n",
    "    tf.keras.layers.Dense(100, kernel_regularizer=tf.keras.regularizers.l2(0.003), activation='relu'),\n",
    "    tf.keras.layers.BatchNormalization(),\n",
    "    tf.keras.layers.Dropout(0.5),\n",
    "    tf.keras.layers.Dense(1, kernel_regularizer=tf.keras.regularizers.l2(0.003), activation='sigmoid')\n",
    "])\n",
    "\n",
    "model.compile(loss='binary_crossentropy',optimizer='adam',metrics=['accuracy'])\n",
    "model.summary()"
   ]
  },
  {
   "cell_type": "code",
   "execution_count": 67,
   "metadata": {
    "colab": {
     "base_uri": "https://localhost:8080/"
    },
    "id": "BqnrL-93Ix4S",
    "outputId": "2df13980-6c2a-4199-e6d1-2c0b346e9e49"
   },
   "outputs": [
    {
     "name": "stdout",
     "output_type": "stream",
     "text": [
      "Epoch 1/10\n",
      "376/376 [==============================] - 11s 17ms/step - loss: 0.6336 - accuracy: 0.7271 - val_loss: 0.5164 - val_accuracy: 0.8495\n",
      "Epoch 2/10\n",
      "376/376 [==============================] - 6s 15ms/step - loss: 0.2375 - accuracy: 0.9102 - val_loss: 0.3668 - val_accuracy: 0.8319\n",
      "Epoch 3/10\n",
      "376/376 [==============================] - 6s 15ms/step - loss: 0.1494 - accuracy: 0.9494 - val_loss: 0.4913 - val_accuracy: 0.8289\n",
      "Epoch 4/10\n",
      "376/376 [==============================] - 6s 15ms/step - loss: 0.1033 - accuracy: 0.9663 - val_loss: 0.5210 - val_accuracy: 0.8401\n",
      "Epoch 5/10\n",
      "376/376 [==============================] - 6s 15ms/step - loss: 0.0769 - accuracy: 0.9762 - val_loss: 1.0893 - val_accuracy: 0.7525\n",
      "Epoch 6/10\n",
      "376/376 [==============================] - 6s 15ms/step - loss: 0.0592 - accuracy: 0.9851 - val_loss: 0.6876 - val_accuracy: 0.8289\n",
      "Epoch 7/10\n",
      "376/376 [==============================] - 6s 15ms/step - loss: 0.0423 - accuracy: 0.9896 - val_loss: 0.7313 - val_accuracy: 0.8323\n",
      "Epoch 8/10\n",
      "376/376 [==============================] - 6s 15ms/step - loss: 0.0403 - accuracy: 0.9896 - val_loss: 0.8808 - val_accuracy: 0.8293\n",
      "Epoch 9/10\n",
      "376/376 [==============================] - 6s 15ms/step - loss: 0.0279 - accuracy: 0.9944 - val_loss: 0.8988 - val_accuracy: 0.8233\n",
      "Epoch 10/10\n",
      "376/376 [==============================] - 6s 15ms/step - loss: 0.0222 - accuracy: 0.9954 - val_loss: 0.9226 - val_accuracy: 0.8177\n"
     ]
    }
   ],
   "source": [
    "num_epochs = 10\n",
    "history = model.fit(padded, training_labels_final, epochs=num_epochs, batch_size=64, validation_data=(testing_padded, testing_labels_final))"
   ]
  },
  {
   "cell_type": "code",
   "execution_count": 68,
   "metadata": {
    "colab": {
     "base_uri": "https://localhost:8080/",
     "height": 541
    },
    "id": "Uve7ut0oIzwm",
    "outputId": "534fa008-272a-4454-9a28-ae837e7f4347"
   },
   "outputs": [
    {
     "data": {
      "image/png": "[encoded data removed]",
      "text/plain": [
       "<Figure size 432x288 with 1 Axes>"
      ]
     },
     "metadata": {
      "needs_background": "light",
      "tags": []
     },
     "output_type": "display_data"
    },
    {
     "data": {
      "image/png": "[encoded data removed]",
      "text/plain": [
       "<Figure size 432x288 with 1 Axes>"
      ]
     },
     "metadata": {
      "needs_background": "light",
      "tags": []
     },
     "output_type": "display_data"
    }
   ],
   "source": [
    "plot_history(history, 'accuracy')\n",
    "plot_history(history, 'loss')\n",
    "plt.show()"
   ]
  },
  {
   "cell_type": "code",
   "execution_count": 69,
   "metadata": {
    "colab": {
     "base_uri": "https://localhost:8080/"
    },
    "id": "ta5v450iI2lC",
    "outputId": "ca30557c-aa19-41a3-b095-eb1f21b53eef"
   },
   "outputs": [
    {
     "name": "stdout",
     "output_type": "stream",
     "text": [
      "Model: \"sequential_5\"\n",
      "_________________________________________________________________\n",
      "Layer (type)                 Output Shape              Param #   \n",
      "=================================================================\n",
      "embedding_5 (Embedding)      (None, 120, 16)           160000    \n",
      "_________________________________________________________________\n",
      "conv1d (Conv1D)              (None, 116, 128)          10368     \n",
      "_________________________________________________________________\n",
      "global_average_pooling1d (Gl (None, 128)               0         \n",
      "_________________________________________________________________\n",
      "dense_10 (Dense)             (None, 100)               12900     \n",
      "_________________________________________________________________\n",
      "batch_normalization_4 (Batch (None, 100)               400       \n",
      "_________________________________________________________________\n",
      "dropout_4 (Dropout)          (None, 100)               0         \n",
      "_________________________________________________________________\n",
      "dense_11 (Dense)             (None, 1)                 101       \n",
      "=================================================================\n",
      "Total params: 183,769\n",
      "Trainable params: 183,569\n",
      "Non-trainable params: 200\n",
      "_________________________________________________________________\n"
     ]
    }
   ],
   "source": [
    "# Model Definition with CNN (Conv1D)\n",
    "# with L1 Lasso Regularization, for feature selection\n",
    "# Dropout, for robustness\n",
    "# Batch Normalization, to stabilize and perhaps accelerate the learning process\n",
    "\n",
    "model = tf.keras.Sequential([\n",
    "    tf.keras.layers.Embedding(vocab_size, embedding_dim, input_length=max_length),\n",
    "    tf.keras.layers.Conv1D(128, 5, activation='relu'),\n",
    "    tf.keras.layers.GlobalAveragePooling1D(),\n",
    "    tf.keras.layers.Dense(100, kernel_regularizer=tf.keras.regularizers.l1(0.003), activation='relu'),\n",
    "    tf.keras.layers.BatchNormalization(),\n",
    "    tf.keras.layers.Dropout(0.3),\n",
    "    tf.keras.layers.Dense(1, kernel_regularizer=tf.keras.regularizers.l1(0.003), activation='sigmoid')\n",
    "])\n",
    "model.compile(loss='binary_crossentropy',optimizer='adam',metrics=['accuracy'])\n",
    "model.summary()"
   ]
  },
  {
   "cell_type": "code",
   "execution_count": 70,
   "metadata": {
    "colab": {
     "base_uri": "https://localhost:8080/"
    },
    "id": "UDVPjRaII3kh",
    "outputId": "5911b350-723a-42e6-e44d-88713ecd8953"
   },
   "outputs": [
    {
     "name": "stdout",
     "output_type": "stream",
     "text": [
      "Epoch 1/10\n",
      "376/376 [==============================] - 4s 8ms/step - loss: 1.8119 - accuracy: 0.6966 - val_loss: 0.5921 - val_accuracy: 0.8282\n",
      "Epoch 2/10\n",
      "376/376 [==============================] - 3s 7ms/step - loss: 0.3350 - accuracy: 0.8917 - val_loss: 1.4721 - val_accuracy: 0.6039\n",
      "Epoch 3/10\n",
      "376/376 [==============================] - 3s 7ms/step - loss: 0.2610 - accuracy: 0.9250 - val_loss: 3.5662 - val_accuracy: 0.4380\n",
      "Epoch 4/10\n",
      "376/376 [==============================] - 3s 7ms/step - loss: 0.2188 - accuracy: 0.9386 - val_loss: 0.7883 - val_accuracy: 0.7346\n",
      "Epoch 5/10\n",
      "376/376 [==============================] - 3s 7ms/step - loss: 0.1945 - accuracy: 0.9461 - val_loss: 1.0676 - val_accuracy: 0.6769\n",
      "Epoch 6/10\n",
      "376/376 [==============================] - 3s 7ms/step - loss: 0.1851 - accuracy: 0.9487 - val_loss: 0.5276 - val_accuracy: 0.8210\n",
      "Epoch 7/10\n",
      "376/376 [==============================] - 3s 7ms/step - loss: 0.1714 - accuracy: 0.9540 - val_loss: 2.4759 - val_accuracy: 0.6256\n",
      "Epoch 8/10\n",
      "376/376 [==============================] - 3s 7ms/step - loss: 0.1540 - accuracy: 0.9604 - val_loss: 1.4042 - val_accuracy: 0.6941\n",
      "Epoch 9/10\n",
      "376/376 [==============================] - 3s 7ms/step - loss: 0.1546 - accuracy: 0.9605 - val_loss: 0.7772 - val_accuracy: 0.7945\n",
      "Epoch 10/10\n",
      "376/376 [==============================] - 3s 7ms/step - loss: 0.1403 - accuracy: 0.9634 - val_loss: 5.9296 - val_accuracy: 0.5781\n"
     ]
    }
   ],
   "source": [
    "num_epochs = 10\n",
    "history = model.fit(padded, training_labels_final, epochs=num_epochs, batch_size=64, validation_data=(testing_padded, testing_labels_final))"
   ]
  },
  {
   "cell_type": "code",
   "execution_count": 71,
   "metadata": {
    "colab": {
     "base_uri": "https://localhost:8080/",
     "height": 541
    },
    "id": "DW-UQPQzI5Xj",
    "outputId": "cdc96d63-a1ca-42da-c40b-c2df9b1d2a07"
   },
   "outputs": [
    {
     "data": {
      "image/png": "[encoded data removed]",
      "text/plain": [
       "<Figure size 432x288 with 1 Axes>"
      ]
     },
     "metadata": {
      "needs_background": "light",
      "tags": []
     },
     "output_type": "display_data"
    },
    {
     "data": {
      "image/png": "[encoded data removed]",
      "text/plain": [
       "<Figure size 432x288 with 1 Axes>"
      ]
     },
     "metadata": {
      "needs_background": "light",
      "tags": []
     },
     "output_type": "display_data"
    }
   ],
   "source": [
    "plot_history(history, 'accuracy')\n",
    "plot_history(history, 'loss')\n",
    "plt.show()"
   ]
  }
 ],
 "metadata": {
  "accelerator": "GPU",
  "colab": {
   "collapsed_sections": [],
   "machine_shape": "hm",
   "name": "NLP_Week2.ipynb",
   "provenance": []
  },
  "kernelspec": {
   "display_name": "Python 3",
   "language": "python",
   "name": "python3"
  },
  "language_info": {
   "name": "python"
  }
 },
 "nbformat": 4,
 "nbformat_minor": 2
}
