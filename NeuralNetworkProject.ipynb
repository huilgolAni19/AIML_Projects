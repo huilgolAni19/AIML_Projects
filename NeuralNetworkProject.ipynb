{
 "cells": [
  {
   "cell_type": "markdown",
   "metadata": {
    "id": "Smd-oZHswcff"
   },
   "source": [
    "<h2>\n",
    "  <b>\n",
    "    <u> The Problem Description: </u>\n",
    "  </b>\n",
    "</h2>\n",
    "<p>\n",
    "Recognizing multi-digit numbers in photographs captured at street level is an\n",
    "important component of modern-day map making. A classic example of a\n",
    "corpus of such street level photographs is Google’s Street View imagery\n",
    "comprised of hundreds of millions of geo-located 360 degree panoramic\n",
    "images. The ability to automatically transcribe an address number from a geolocated patch of pixels and associate the transcribed number with a known\n",
    "street address helps pinpoint, with a high degree of accuracy, the\n",
    "location of the building it represents.\n",
    "</p>\n",
    "<p>\n",
    "More broadly, recognizing numbers in photographs is a problem of interest to\n",
    "the optical character recognition community. While OCR on constrained\n",
    "domains like document processing is well studied, arbitrary multi-character text\n",
    "recognition in photographs is still highly challenging. This difficulty arises due to\n",
    "the wide variability in the visual appearance of text in the wild on account of a\n",
    "large range of fonts, colours, styles, orientations, and character arrangements.\n",
    "The recognition problem is further complicated by environmental factors such\n",
    "as lighting, shadows, secularities, and occlusions as well as by image acquisition\n",
    "factors such as resolution, motion, and focus blurs.\n",
    "</p>\n",
    "\n",
    "<p>\n",
    "In this project we will use dataset with images centred around a single digit\n",
    "(many of the images do contain some distractors at the sides). Although we are\n",
    "taking a sample of the data which is simpler, it is more complex than MNIST\n",
    "because of the distractors.\n",
    "</p>\n",
    "\n",
    "<h2>\n",
    "  <b>\n",
    "    <u> Data Description: </u>\n",
    "  </b>\n",
    "</h2>\n",
    "<h3>\n",
    "  <b>The Street View House Numbers (SVHN) Dataset</b>\n",
    "</h3>\n",
    "<p>\n",
    "SVHN is a real-world image dataset for developing machine learning and object\n",
    "recognition algorithms with minimal requirement on data formatting but comes\n",
    "from a significantly harder, unsolved, real world problem (recognizing digits and\n",
    "numbers in natural scene images). SVHN is obtained from house numbers in\n",
    "Google Street View images.\n",
    "</p>"
   ]
  },
  {
   "cell_type": "markdown",
   "metadata": {
    "id": "vyUUhl6W5qQU"
   },
   "source": [
    "<b>Importing Necessary Libraries</b>"
   ]
  },
  {
   "cell_type": "code",
   "execution_count": 56,
   "metadata": {
    "id": "clHE4jfzwXG-"
   },
   "outputs": [],
   "source": [
    "import h5py\n",
    "import numpy as np\n",
    "import pandas as pd\n",
    "import matplotlib.pyplot as plt\n",
    "from sklearn.metrics import  confusion_matrix, accuracy_score, classification_report\n",
    "import tensorflow as tf\n",
    "from tensorflow import keras\n",
    "from tensorflow.keras import optimizers\n",
    "from tensorflow.keras.models import Sequential\n",
    "from tensorflow.keras.layers import Dense, Dropout, Activation, BatchNormalization\n",
    "from tensorflow.keras.models import Sequential\n",
    "import seaborn as sns\n",
    "import warnings\n",
    "warnings.filterwarnings('ignore')\n",
    "%matplotlib inline"
   ]
  },
  {
   "cell_type": "code",
   "execution_count": 2,
   "metadata": {
    "id": "dYPTvZlq6OCX"
   },
   "outputs": [],
   "source": [
    "dataset_path = '/content/drive/MyDrive/GreatLearning/NeuralNetworkProject/SVHN_single_grey1.h5'"
   ]
  },
  {
   "cell_type": "code",
   "execution_count": 3,
   "metadata": {
    "id": "Tj_HTvqw6TU-"
   },
   "outputs": [],
   "source": [
    "def fetchData(dataPath):\n",
    "  ret_val = []\n",
    "  h5f = h5py.File(dataPath,'r')\n",
    "  keys = list(h5f.keys())\n",
    "  for key in keys:\n",
    "    ret_val.append(h5f[key][:])\n",
    "  return tuple(ret_val)"
   ]
  },
  {
   "cell_type": "markdown",
   "metadata": {
    "id": "ju5TC1G0ROoK"
   },
   "source": [
    "**Reading Dataset**"
   ]
  },
  {
   "cell_type": "code",
   "execution_count": 4,
   "metadata": {
    "id": "fPO2wTbX8JEv"
   },
   "outputs": [],
   "source": [
    "X_test, X_train, X_val, y_test, y_train, y_val = fetchData(dataset_path)"
   ]
  },
  {
   "cell_type": "code",
   "execution_count": 5,
   "metadata": {
    "colab": {
     "base_uri": "https://localhost:8080/"
    },
    "id": "wG5OpbdR6nyY",
    "outputId": "c16b853e-1a61-49e8-ed98-ccb508402959"
   },
   "outputs": [
    {
     "data": {
      "text/plain": [
       "((18000, 32, 32), (42000, 32, 32), (60000, 32, 32))"
      ]
     },
     "execution_count": 5,
     "metadata": {
      "tags": []
     },
     "output_type": "execute_result"
    }
   ],
   "source": [
    "X_test.shape, X_train.shape, X_val.shape"
   ]
  },
  {
   "cell_type": "markdown",
   "metadata": {
    "id": "P-p6zFNFQ_II"
   },
   "source": [
    "**Checking for no of classes and value counts**"
   ]
  },
  {
   "cell_type": "code",
   "execution_count": 6,
   "metadata": {
    "id": "hb3wdDv6PPD4"
   },
   "outputs": [],
   "source": [
    "un_df_y_tr = pd.DataFrame(data=y_train, columns=[\"y\"])\n",
    "un_df_y_tst = pd.DataFrame(data=y_test, columns=[\"y\"])\n",
    "un_df_y_val = pd.DataFrame(data=y_val, columns=[\"y\"])"
   ]
  },
  {
   "cell_type": "code",
   "execution_count": 7,
   "metadata": {
    "colab": {
     "base_uri": "https://localhost:8080/"
    },
    "id": "Z1OcWEOGPwSj",
    "outputId": "df38aae5-8618-4502-f9eb-52324effdf6e"
   },
   "outputs": [
    {
     "data": {
      "text/plain": [
       "(10, 10, 10)"
      ]
     },
     "execution_count": 7,
     "metadata": {
      "tags": []
     },
     "output_type": "execute_result"
    }
   ],
   "source": [
    "len(un_df_y_tr[\"y\"].unique()), len(un_df_y_tst[\"y\"].unique()), len(un_df_y_val[\"y\"].unique())"
   ]
  },
  {
   "cell_type": "code",
   "execution_count": 57,
   "metadata": {
    "colab": {
     "base_uri": "https://localhost:8080/",
     "height": 296
    },
    "id": "IfFuE0VdWZDd",
    "outputId": "3d7c10d6-5e1e-4938-8e75-ad9a2fdbdf56"
   },
   "outputs": [
    {
     "data": {
      "text/plain": [
       "<matplotlib.axes._subplots.AxesSubplot at 0x7fa52613a9b0>"
      ]
     },
     "execution_count": 57,
     "metadata": {
      "tags": []
     },
     "output_type": "execute_result"
    },
    {
     "data": {
      "image/png": "[encoded data removed]",
      "text/plain": [
       "<Figure size 432x288 with 1 Axes>"
      ]
     },
     "metadata": {
      "needs_background": "light",
      "tags": []
     },
     "output_type": "display_data"
    }
   ],
   "source": [
    "sns.countplot(un_df_y_tr.y)"
   ]
  },
  {
   "cell_type": "code",
   "execution_count": 58,
   "metadata": {
    "colab": {
     "base_uri": "https://localhost:8080/",
     "height": 296
    },
    "id": "g1DBrSlcWg9x",
    "outputId": "5040153d-8ed0-4ced-a001-adcbf0381c3f"
   },
   "outputs": [
    {
     "data": {
      "text/plain": [
       "<matplotlib.axes._subplots.AxesSubplot at 0x7fa525eb9dd8>"
      ]
     },
     "execution_count": 58,
     "metadata": {
      "tags": []
     },
     "output_type": "execute_result"
    },
    {
     "data": {
      "image/png": "[encoded data removed]",
      "text/plain": [
       "<Figure size 432x288 with 1 Axes>"
      ]
     },
     "metadata": {
      "needs_background": "light",
      "tags": []
     },
     "output_type": "display_data"
    }
   ],
   "source": [
    "sns.countplot(un_df_y_tst.y)"
   ]
  },
  {
   "cell_type": "code",
   "execution_count": 59,
   "metadata": {
    "colab": {
     "base_uri": "https://localhost:8080/",
     "height": 296
    },
    "id": "97oZ-mpqWm43",
    "outputId": "58738b99-0b72-42dd-c318-07625e68a21f"
   },
   "outputs": [
    {
     "data": {
      "text/plain": [
       "<matplotlib.axes._subplots.AxesSubplot at 0x7fa525e3ee10>"
      ]
     },
     "execution_count": 59,
     "metadata": {
      "tags": []
     },
     "output_type": "execute_result"
    },
    {
     "data": {
      "image/png": "[encoded data removed]",
      "text/plain": [
       "<Figure size 432x288 with 1 Axes>"
      ]
     },
     "metadata": {
      "needs_background": "light",
      "tags": []
     },
     "output_type": "display_data"
    }
   ],
   "source": [
    "sns.countplot(un_df_y_val.y)"
   ]
  },
  {
   "cell_type": "markdown",
   "metadata": {
    "id": "51nS8A1rW3S_"
   },
   "source": [
    "**One hot encoding the lable values**"
   ]
  },
  {
   "cell_type": "code",
   "execution_count": 8,
   "metadata": {
    "id": "iCC-DPuiPATQ"
   },
   "outputs": [],
   "source": [
    "num_classes = len(un_df_y_tr[\"y\"].unique())\n",
    "\n",
    "y_test = tf.keras.utils.to_categorical(y_test, num_classes=num_classes)\n",
    "y_train = tf.keras.utils.to_categorical(y_train, num_classes=num_classes)\n",
    "y_val = tf.keras.utils.to_categorical(y_val, num_classes=num_classes)"
   ]
  },
  {
   "cell_type": "markdown",
   "metadata": {
    "id": "BwWKyxTRRG_P"
   },
   "source": [
    "**Ploating Few images**"
   ]
  },
  {
   "cell_type": "code",
   "execution_count": 9,
   "metadata": {
    "colab": {
     "base_uri": "https://localhost:8080/",
     "height": 418
    },
    "id": "O130rSND7bGm",
    "outputId": "2677d738-25b0-45dc-b21a-e2ae16114ca1"
   },
   "outputs": [
    {
     "name": "stdout",
     "output_type": "stream",
     "text": [
      "label for each of the below image: 2\n",
      "label for each of the below image: 6\n",
      "label for each of the below image: 7\n",
      "label for each of the below image: 4\n",
      "label for each of the below image: 4\n",
      "label for each of the below image: 0\n",
      "label for each of the below image: 3\n",
      "label for each of the below image: 0\n",
      "label for each of the below image: 7\n",
      "label for each of the below image: 3\n",
      "label for each of the below image: 1\n",
      "label for each of the below image: 0\n",
      "label for each of the below image: 1\n",
      "label for each of the below image: 3\n",
      "label for each of the below image: 1\n",
      "label for each of the below image: 1\n",
      "label for each of the below image: 0\n",
      "label for each of the below image: 0\n",
      "label for each of the below image: 8\n",
      "label for each of the below image: 4\n"
     ]
    },
    {
     "data": {
      "image/png": "[encoded data removed]",
      "text/plain": [
       "<Figure size 1440x72 with 20 Axes>"
      ]
     },
     "metadata": {
      "needs_background": "light",
      "tags": []
     },
     "output_type": "display_data"
    }
   ],
   "source": [
    "plt.figure(figsize=(20, 1))\n",
    "for i in range(20):\n",
    "    plt.subplot(1, 20, i+1)\n",
    "    plt.imshow(X_train[i], cmap=\"gray\")\n",
    "    plt.axis('off')\n",
    "    print('label for each of the below image: {}'.format((np.argmax(y_train[0:20][i]))))\n",
    "plt.show()"
   ]
  },
  {
   "cell_type": "markdown",
   "metadata": {
    "id": "3sj5fSzx192d"
   },
   "source": [
    "**Reshaping the images (Flatning)**"
   ]
  },
  {
   "cell_type": "code",
   "execution_count": 10,
   "metadata": {
    "id": "aEUL7MhuAL57"
   },
   "outputs": [],
   "source": [
    "X_train = X_train.reshape((X_train.shape[0], -1))\n",
    "X_test = X_test.reshape((X_test.shape[0], -1))"
   ]
  },
  {
   "cell_type": "code",
   "execution_count": 11,
   "metadata": {
    "colab": {
     "base_uri": "https://localhost:8080/"
    },
    "id": "J3SEBtNF2Dte",
    "outputId": "9baee85a-94c8-41cf-d4b3-b6907a6f428a"
   },
   "outputs": [
    {
     "data": {
      "text/plain": [
       "((42000, 1024), (18000, 1024))"
      ]
     },
     "execution_count": 11,
     "metadata": {
      "tags": []
     },
     "output_type": "execute_result"
    }
   ],
   "source": [
    "X_train.shape, X_test.shape"
   ]
  },
  {
   "cell_type": "markdown",
   "metadata": {
    "id": "YsGc1YKULbgJ"
   },
   "source": [
    "**Building Model**"
   ]
  },
  {
   "cell_type": "code",
   "execution_count": 12,
   "metadata": {
    "id": "LN0j1-vkkJsM"
   },
   "outputs": [],
   "source": [
    "model_w_bn_dl = Sequential()"
   ]
  },
  {
   "cell_type": "code",
   "execution_count": 13,
   "metadata": {
    "id": "K0PPBxU0kP__"
   },
   "outputs": [],
   "source": [
    "model_w_bn_dl.add(Dense(50, input_shape = (1024, )))\n",
    "model_w_bn_dl.add(Activation('relu'))\n",
    "model_w_bn_dl.add(Dense(50))\n",
    "model_w_bn_dl.add(Activation('relu'))\n",
    "model_w_bn_dl.add(Dense(50))\n",
    "model_w_bn_dl.add(Activation('relu'))\n",
    "model_w_bn_dl.add(Dense(50))\n",
    "model_w_bn_dl.add(Activation('relu'))\n",
    "model_w_bn_dl.add(Dense(10))\n",
    "model_w_bn_dl.add(Activation('softmax'))\n",
    "\n",
    "adam_w_bn_dl = optimizers.Adam(lr = 0.001)\n",
    "model_w_bn_dl.compile(optimizer = adam_w_bn_dl, loss = 'categorical_crossentropy', metrics = ['accuracy'])"
   ]
  },
  {
   "cell_type": "code",
   "execution_count": 14,
   "metadata": {
    "colab": {
     "base_uri": "https://localhost:8080/"
    },
    "id": "38A_ImGYklI_",
    "outputId": "8a6f2610-3b8b-44e4-d625-0d699feab4cf"
   },
   "outputs": [
    {
     "name": "stdout",
     "output_type": "stream",
     "text": [
      "Model: \"sequential\"\n",
      "_________________________________________________________________\n",
      "Layer (type)                 Output Shape              Param #   \n",
      "=================================================================\n",
      "dense (Dense)                (None, 50)                51250     \n",
      "_________________________________________________________________\n",
      "activation (Activation)      (None, 50)                0         \n",
      "_________________________________________________________________\n",
      "dense_1 (Dense)              (None, 50)                2550      \n",
      "_________________________________________________________________\n",
      "activation_1 (Activation)    (None, 50)                0         \n",
      "_________________________________________________________________\n",
      "dense_2 (Dense)              (None, 50)                2550      \n",
      "_________________________________________________________________\n",
      "activation_2 (Activation)    (None, 50)                0         \n",
      "_________________________________________________________________\n",
      "dense_3 (Dense)              (None, 50)                2550      \n",
      "_________________________________________________________________\n",
      "activation_3 (Activation)    (None, 50)                0         \n",
      "_________________________________________________________________\n",
      "dense_4 (Dense)              (None, 10)                510       \n",
      "_________________________________________________________________\n",
      "activation_4 (Activation)    (None, 10)                0         \n",
      "=================================================================\n",
      "Total params: 59,410\n",
      "Trainable params: 59,410\n",
      "Non-trainable params: 0\n",
      "_________________________________________________________________\n"
     ]
    }
   ],
   "source": [
    "model_w_bn_dl.summary()"
   ]
  },
  {
   "cell_type": "code",
   "execution_count": 15,
   "metadata": {
    "colab": {
     "base_uri": "https://localhost:8080/"
    },
    "id": "twaTOFOykySC",
    "outputId": "c99bad14-6af5-43d6-928f-40333bc27b22",
    "scrolled": false
   },
   "outputs": [
    {
     "name": "stdout",
     "output_type": "stream",
     "text": [
      "Epoch 1/350\n",
      "1313/1313 [==============================] - 4s 3ms/step - loss: 3.0394 - accuracy: 0.1533 - val_loss: 2.0959 - val_accuracy: 0.2518\n",
      "Epoch 2/350\n",
      "1313/1313 [==============================] - 3s 2ms/step - loss: 1.8327 - accuracy: 0.3647 - val_loss: 1.5932 - val_accuracy: 0.4622\n",
      "Epoch 3/350\n",
      "1313/1313 [==============================] - 3s 2ms/step - loss: 1.5324 - accuracy: 0.4923 - val_loss: 1.3463 - val_accuracy: 0.5608\n",
      "Epoch 4/350\n",
      "1313/1313 [==============================] - 3s 2ms/step - loss: 1.4032 - accuracy: 0.5461 - val_loss: 1.4059 - val_accuracy: 0.5521\n",
      "Epoch 5/350\n",
      "1313/1313 [==============================] - 3s 2ms/step - loss: 1.3366 - accuracy: 0.5698 - val_loss: 1.3498 - val_accuracy: 0.5733\n",
      "Epoch 6/350\n",
      "1313/1313 [==============================] - 3s 2ms/step - loss: 1.2913 - accuracy: 0.5885 - val_loss: 1.1973 - val_accuracy: 0.6283\n",
      "Epoch 7/350\n",
      "1313/1313 [==============================] - 3s 2ms/step - loss: 1.2506 - accuracy: 0.6013 - val_loss: 1.1833 - val_accuracy: 0.6342\n",
      "Epoch 8/350\n",
      "1313/1313 [==============================] - 3s 2ms/step - loss: 1.2184 - accuracy: 0.6109 - val_loss: 1.1534 - val_accuracy: 0.6324\n",
      "Epoch 9/350\n",
      "1313/1313 [==============================] - 4s 3ms/step - loss: 1.2118 - accuracy: 0.6141 - val_loss: 1.1970 - val_accuracy: 0.6280\n",
      "Epoch 10/350\n",
      "1313/1313 [==============================] - 4s 3ms/step - loss: 1.1894 - accuracy: 0.6244 - val_loss: 1.1810 - val_accuracy: 0.6215\n",
      "Epoch 11/350\n",
      "1313/1313 [==============================] - 4s 3ms/step - loss: 1.1698 - accuracy: 0.6292 - val_loss: 1.1765 - val_accuracy: 0.6243\n",
      "Epoch 12/350\n",
      "1313/1313 [==============================] - 4s 3ms/step - loss: 1.1568 - accuracy: 0.6360 - val_loss: 1.0931 - val_accuracy: 0.6538\n",
      "Epoch 13/350\n",
      "1313/1313 [==============================] - 4s 3ms/step - loss: 1.1422 - accuracy: 0.6379 - val_loss: 1.1611 - val_accuracy: 0.6300\n",
      "Epoch 14/350\n",
      "1313/1313 [==============================] - 4s 3ms/step - loss: 1.1360 - accuracy: 0.6397 - val_loss: 1.1045 - val_accuracy: 0.6578\n",
      "Epoch 15/350\n",
      "1313/1313 [==============================] - 3s 2ms/step - loss: 1.1269 - accuracy: 0.6429 - val_loss: 1.1232 - val_accuracy: 0.6447\n",
      "Epoch 16/350\n",
      "1313/1313 [==============================] - 3s 2ms/step - loss: 1.1251 - accuracy: 0.6447 - val_loss: 1.2139 - val_accuracy: 0.6151\n",
      "Epoch 17/350\n",
      "1313/1313 [==============================] - 3s 2ms/step - loss: 1.1025 - accuracy: 0.6533 - val_loss: 1.0984 - val_accuracy: 0.6541\n",
      "Epoch 18/350\n",
      "1313/1313 [==============================] - 3s 3ms/step - loss: 1.1025 - accuracy: 0.6523 - val_loss: 1.2414 - val_accuracy: 0.6160\n",
      "Epoch 19/350\n",
      "1313/1313 [==============================] - 4s 3ms/step - loss: 1.1005 - accuracy: 0.6555 - val_loss: 1.1819 - val_accuracy: 0.6279\n",
      "Epoch 20/350\n",
      "1313/1313 [==============================] - 3s 2ms/step - loss: 1.0980 - accuracy: 0.6541 - val_loss: 1.2089 - val_accuracy: 0.6140\n",
      "Epoch 21/350\n",
      "1313/1313 [==============================] - 3s 2ms/step - loss: 1.0831 - accuracy: 0.6582 - val_loss: 1.1264 - val_accuracy: 0.6472\n",
      "Epoch 22/350\n",
      "1313/1313 [==============================] - 3s 2ms/step - loss: 1.0860 - accuracy: 0.6588 - val_loss: 1.1312 - val_accuracy: 0.6462\n",
      "Epoch 23/350\n",
      "1313/1313 [==============================] - 3s 2ms/step - loss: 1.0843 - accuracy: 0.6591 - val_loss: 1.2326 - val_accuracy: 0.6149\n",
      "Epoch 24/350\n",
      "1313/1313 [==============================] - 3s 2ms/step - loss: 1.0675 - accuracy: 0.6637 - val_loss: 1.1578 - val_accuracy: 0.6371\n",
      "Epoch 25/350\n",
      "1313/1313 [==============================] - 3s 2ms/step - loss: 1.0754 - accuracy: 0.6618 - val_loss: 1.0912 - val_accuracy: 0.6587\n",
      "Epoch 26/350\n",
      "1313/1313 [==============================] - 3s 2ms/step - loss: 1.0653 - accuracy: 0.6640 - val_loss: 1.1213 - val_accuracy: 0.6556\n",
      "Epoch 27/350\n",
      "1313/1313 [==============================] - 3s 2ms/step - loss: 1.0570 - accuracy: 0.6686 - val_loss: 1.0512 - val_accuracy: 0.6738\n",
      "Epoch 28/350\n",
      "1313/1313 [==============================] - 3s 2ms/step - loss: 1.0589 - accuracy: 0.6664 - val_loss: 1.0961 - val_accuracy: 0.6581\n",
      "Epoch 29/350\n",
      "1313/1313 [==============================] - 3s 2ms/step - loss: 1.0613 - accuracy: 0.6657 - val_loss: 1.1134 - val_accuracy: 0.6550\n",
      "Epoch 30/350\n",
      "1313/1313 [==============================] - 3s 2ms/step - loss: 1.0612 - accuracy: 0.6676 - val_loss: 1.0783 - val_accuracy: 0.6640\n",
      "Epoch 31/350\n",
      "1313/1313 [==============================] - 3s 2ms/step - loss: 1.0457 - accuracy: 0.6720 - val_loss: 1.0655 - val_accuracy: 0.6739\n",
      "Epoch 32/350\n",
      "1313/1313 [==============================] - 3s 2ms/step - loss: 1.0477 - accuracy: 0.6705 - val_loss: 1.1274 - val_accuracy: 0.6492\n",
      "Epoch 33/350\n",
      "1313/1313 [==============================] - 3s 2ms/step - loss: 1.0484 - accuracy: 0.6719 - val_loss: 1.0672 - val_accuracy: 0.6716\n",
      "Epoch 34/350\n",
      "1313/1313 [==============================] - 3s 2ms/step - loss: 1.0397 - accuracy: 0.6744 - val_loss: 1.1235 - val_accuracy: 0.6521\n",
      "Epoch 35/350\n",
      "1313/1313 [==============================] - 3s 2ms/step - loss: 1.0467 - accuracy: 0.6737 - val_loss: 1.0661 - val_accuracy: 0.6763\n",
      "Epoch 36/350\n",
      "1313/1313 [==============================] - 3s 2ms/step - loss: 1.0441 - accuracy: 0.6741 - val_loss: 1.1163 - val_accuracy: 0.6529\n",
      "Epoch 37/350\n",
      "1313/1313 [==============================] - 3s 2ms/step - loss: 1.0402 - accuracy: 0.6741 - val_loss: 1.0755 - val_accuracy: 0.6686\n",
      "Epoch 38/350\n",
      "1313/1313 [==============================] - 3s 2ms/step - loss: 1.0376 - accuracy: 0.6742 - val_loss: 1.0564 - val_accuracy: 0.6747\n",
      "Epoch 39/350\n",
      "1313/1313 [==============================] - 3s 2ms/step - loss: 1.0453 - accuracy: 0.6708 - val_loss: 1.0687 - val_accuracy: 0.6686\n",
      "Epoch 40/350\n",
      "1313/1313 [==============================] - 3s 2ms/step - loss: 1.0320 - accuracy: 0.6778 - val_loss: 1.1383 - val_accuracy: 0.6469\n",
      "Epoch 41/350\n",
      "1313/1313 [==============================] - 3s 2ms/step - loss: 1.0340 - accuracy: 0.6761 - val_loss: 1.0574 - val_accuracy: 0.6736\n",
      "Epoch 42/350\n",
      "1313/1313 [==============================] - 3s 2ms/step - loss: 1.0336 - accuracy: 0.6732 - val_loss: 1.1025 - val_accuracy: 0.6522\n",
      "Epoch 43/350\n",
      "1313/1313 [==============================] - 3s 2ms/step - loss: 1.0261 - accuracy: 0.6785 - val_loss: 1.0306 - val_accuracy: 0.6829\n",
      "Epoch 44/350\n",
      "1313/1313 [==============================] - 3s 2ms/step - loss: 1.0266 - accuracy: 0.6781 - val_loss: 1.1084 - val_accuracy: 0.6575\n",
      "Epoch 45/350\n",
      "1313/1313 [==============================] - 3s 2ms/step - loss: 1.0284 - accuracy: 0.6763 - val_loss: 1.0401 - val_accuracy: 0.6746\n",
      "Epoch 46/350\n",
      "1313/1313 [==============================] - 3s 2ms/step - loss: 1.0327 - accuracy: 0.6746 - val_loss: 1.1290 - val_accuracy: 0.6464\n",
      "Epoch 47/350\n",
      "1313/1313 [==============================] - 3s 2ms/step - loss: 1.0245 - accuracy: 0.6770 - val_loss: 1.0878 - val_accuracy: 0.6598\n",
      "Epoch 48/350\n",
      "1313/1313 [==============================] - 3s 2ms/step - loss: 1.0281 - accuracy: 0.6772 - val_loss: 1.0983 - val_accuracy: 0.6552\n",
      "Epoch 49/350\n",
      "1313/1313 [==============================] - 3s 2ms/step - loss: 1.0159 - accuracy: 0.6812 - val_loss: 1.0981 - val_accuracy: 0.6619\n",
      "Epoch 50/350\n",
      "1313/1313 [==============================] - 3s 2ms/step - loss: 1.0179 - accuracy: 0.6816 - val_loss: 1.0678 - val_accuracy: 0.6641\n",
      "Epoch 51/350\n",
      "1313/1313 [==============================] - 3s 2ms/step - loss: 1.0212 - accuracy: 0.6775 - val_loss: 1.0363 - val_accuracy: 0.6832\n",
      "Epoch 52/350\n",
      "1313/1313 [==============================] - 3s 2ms/step - loss: 1.0151 - accuracy: 0.6818 - val_loss: 1.0252 - val_accuracy: 0.6841\n",
      "Epoch 53/350\n",
      "1313/1313 [==============================] - 3s 2ms/step - loss: 1.0141 - accuracy: 0.6828 - val_loss: 1.1123 - val_accuracy: 0.6522\n",
      "Epoch 54/350\n",
      "1313/1313 [==============================] - 3s 2ms/step - loss: 1.0240 - accuracy: 0.6784 - val_loss: 1.0342 - val_accuracy: 0.6846\n",
      "Epoch 55/350\n",
      "1313/1313 [==============================] - 3s 2ms/step - loss: 1.0085 - accuracy: 0.6840 - val_loss: 1.0568 - val_accuracy: 0.6750\n",
      "Epoch 56/350\n",
      "1313/1313 [==============================] - 3s 2ms/step - loss: 1.0221 - accuracy: 0.6795 - val_loss: 1.0374 - val_accuracy: 0.6817\n",
      "Epoch 57/350\n",
      "1313/1313 [==============================] - 3s 2ms/step - loss: 1.0104 - accuracy: 0.6809 - val_loss: 1.0437 - val_accuracy: 0.6749\n",
      "Epoch 58/350\n",
      "1313/1313 [==============================] - 3s 2ms/step - loss: 1.0107 - accuracy: 0.6820 - val_loss: 1.0245 - val_accuracy: 0.6841\n",
      "Epoch 59/350\n",
      "1313/1313 [==============================] - 3s 2ms/step - loss: 1.0111 - accuracy: 0.6829 - val_loss: 1.0873 - val_accuracy: 0.6615\n",
      "Epoch 60/350\n",
      "1313/1313 [==============================] - 3s 2ms/step - loss: 1.0101 - accuracy: 0.6827 - val_loss: 1.0772 - val_accuracy: 0.6688\n",
      "Epoch 61/350\n",
      "1313/1313 [==============================] - 3s 2ms/step - loss: 1.0036 - accuracy: 0.6834 - val_loss: 1.0702 - val_accuracy: 0.6715\n",
      "Epoch 62/350\n",
      "1313/1313 [==============================] - 3s 2ms/step - loss: 1.0107 - accuracy: 0.6811 - val_loss: 1.0373 - val_accuracy: 0.6792\n",
      "Epoch 63/350\n",
      "1313/1313 [==============================] - 3s 2ms/step - loss: 1.0084 - accuracy: 0.6822 - val_loss: 1.0448 - val_accuracy: 0.6789\n",
      "Epoch 64/350\n",
      "1313/1313 [==============================] - 3s 2ms/step - loss: 1.0023 - accuracy: 0.6852 - val_loss: 1.0462 - val_accuracy: 0.6789\n",
      "Epoch 65/350\n",
      "1313/1313 [==============================] - 3s 2ms/step - loss: 1.0029 - accuracy: 0.6861 - val_loss: 1.0455 - val_accuracy: 0.6733\n",
      "Epoch 66/350\n",
      "1313/1313 [==============================] - 3s 2ms/step - loss: 1.0081 - accuracy: 0.6839 - val_loss: 1.1105 - val_accuracy: 0.6538\n",
      "Epoch 67/350\n",
      "1313/1313 [==============================] - 3s 2ms/step - loss: 1.0090 - accuracy: 0.6824 - val_loss: 1.0784 - val_accuracy: 0.6670\n",
      "Epoch 68/350\n",
      "1313/1313 [==============================] - 3s 2ms/step - loss: 0.9961 - accuracy: 0.6862 - val_loss: 1.0632 - val_accuracy: 0.6709\n",
      "Epoch 69/350\n",
      "1313/1313 [==============================] - 3s 3ms/step - loss: 1.0057 - accuracy: 0.6840 - val_loss: 1.0346 - val_accuracy: 0.6827\n",
      "Epoch 70/350\n",
      "1313/1313 [==============================] - 3s 3ms/step - loss: 1.0034 - accuracy: 0.6844 - val_loss: 1.0532 - val_accuracy: 0.6755\n",
      "Epoch 71/350\n",
      "1313/1313 [==============================] - 3s 2ms/step - loss: 1.0030 - accuracy: 0.6860 - val_loss: 1.1805 - val_accuracy: 0.6374\n",
      "Epoch 72/350\n",
      "1313/1313 [==============================] - 3s 2ms/step - loss: 0.9960 - accuracy: 0.6860 - val_loss: 1.1252 - val_accuracy: 0.6526\n",
      "Epoch 73/350\n",
      "1313/1313 [==============================] - 3s 2ms/step - loss: 1.0118 - accuracy: 0.6807 - val_loss: 1.0736 - val_accuracy: 0.6727\n",
      "Epoch 74/350\n",
      "1313/1313 [==============================] - 3s 2ms/step - loss: 0.9954 - accuracy: 0.6876 - val_loss: 1.0557 - val_accuracy: 0.6798\n",
      "Epoch 75/350\n",
      "1313/1313 [==============================] - 3s 2ms/step - loss: 1.0044 - accuracy: 0.6855 - val_loss: 1.0433 - val_accuracy: 0.6779\n",
      "Epoch 76/350\n",
      "1313/1313 [==============================] - 3s 2ms/step - loss: 0.9911 - accuracy: 0.6869 - val_loss: 1.0534 - val_accuracy: 0.6781\n",
      "Epoch 77/350\n",
      "1313/1313 [==============================] - 3s 2ms/step - loss: 0.9965 - accuracy: 0.6868 - val_loss: 1.0430 - val_accuracy: 0.6803\n",
      "Epoch 78/350\n",
      "1313/1313 [==============================] - 3s 2ms/step - loss: 1.0012 - accuracy: 0.6850 - val_loss: 1.0684 - val_accuracy: 0.6648\n",
      "Epoch 79/350\n",
      "1313/1313 [==============================] - 3s 2ms/step - loss: 0.9940 - accuracy: 0.6884 - val_loss: 1.1965 - val_accuracy: 0.6327\n",
      "Epoch 80/350\n",
      "1313/1313 [==============================] - 3s 2ms/step - loss: 0.9975 - accuracy: 0.6891 - val_loss: 1.0745 - val_accuracy: 0.6712\n",
      "Epoch 81/350\n",
      "1313/1313 [==============================] - 3s 3ms/step - loss: 0.9985 - accuracy: 0.6874 - val_loss: 1.0772 - val_accuracy: 0.6634\n",
      "Epoch 82/350\n",
      "1313/1313 [==============================] - 3s 2ms/step - loss: 0.9914 - accuracy: 0.6874 - val_loss: 1.0656 - val_accuracy: 0.6742\n",
      "Epoch 83/350\n",
      "1313/1313 [==============================] - 3s 2ms/step - loss: 0.9938 - accuracy: 0.6869 - val_loss: 1.0163 - val_accuracy: 0.6838\n",
      "Epoch 84/350\n",
      "1313/1313 [==============================] - 3s 2ms/step - loss: 0.9875 - accuracy: 0.6895 - val_loss: 1.0828 - val_accuracy: 0.6619\n",
      "Epoch 85/350\n",
      "1313/1313 [==============================] - 3s 2ms/step - loss: 0.9946 - accuracy: 0.6877 - val_loss: 1.0865 - val_accuracy: 0.6621\n",
      "Epoch 86/350\n",
      "1313/1313 [==============================] - 3s 2ms/step - loss: 0.9892 - accuracy: 0.6887 - val_loss: 1.1663 - val_accuracy: 0.6426\n",
      "Epoch 87/350\n",
      "1313/1313 [==============================] - 3s 2ms/step - loss: 0.9957 - accuracy: 0.6894 - val_loss: 1.0503 - val_accuracy: 0.6733\n",
      "Epoch 88/350\n",
      "1313/1313 [==============================] - 3s 2ms/step - loss: 0.9882 - accuracy: 0.6883 - val_loss: 1.0980 - val_accuracy: 0.6625\n",
      "Epoch 89/350\n",
      "1313/1313 [==============================] - 3s 2ms/step - loss: 0.9948 - accuracy: 0.6881 - val_loss: 1.0740 - val_accuracy: 0.6701\n",
      "Epoch 90/350\n",
      "1313/1313 [==============================] - 3s 3ms/step - loss: 1.0015 - accuracy: 0.6863 - val_loss: 1.0280 - val_accuracy: 0.6834\n",
      "Epoch 91/350\n",
      "1313/1313 [==============================] - 3s 2ms/step - loss: 0.9917 - accuracy: 0.6899 - val_loss: 1.0478 - val_accuracy: 0.6748\n",
      "Epoch 92/350\n",
      "1313/1313 [==============================] - 3s 2ms/step - loss: 0.9863 - accuracy: 0.6890 - val_loss: 1.0349 - val_accuracy: 0.6816\n",
      "Epoch 93/350\n",
      "1313/1313 [==============================] - 3s 2ms/step - loss: 0.9858 - accuracy: 0.6897 - val_loss: 1.0400 - val_accuracy: 0.6775\n",
      "Epoch 94/350\n",
      "1313/1313 [==============================] - 3s 2ms/step - loss: 0.9997 - accuracy: 0.6872 - val_loss: 1.0284 - val_accuracy: 0.6833\n",
      "Epoch 95/350\n",
      "1313/1313 [==============================] - 3s 2ms/step - loss: 0.9847 - accuracy: 0.6903 - val_loss: 1.0288 - val_accuracy: 0.6841\n",
      "Epoch 96/350\n",
      "1313/1313 [==============================] - 3s 2ms/step - loss: 0.9887 - accuracy: 0.6871 - val_loss: 1.1059 - val_accuracy: 0.6599\n",
      "Epoch 97/350\n",
      "1313/1313 [==============================] - 3s 2ms/step - loss: 0.9839 - accuracy: 0.6914 - val_loss: 1.0913 - val_accuracy: 0.6539\n",
      "Epoch 98/350\n",
      "1313/1313 [==============================] - 3s 2ms/step - loss: 0.9919 - accuracy: 0.6877 - val_loss: 1.0226 - val_accuracy: 0.6853\n",
      "Epoch 99/350\n",
      "1313/1313 [==============================] - 3s 2ms/step - loss: 0.9815 - accuracy: 0.6920 - val_loss: 1.0709 - val_accuracy: 0.6708\n",
      "Epoch 100/350\n",
      "1313/1313 [==============================] - 3s 2ms/step - loss: 0.9842 - accuracy: 0.6900 - val_loss: 1.0077 - val_accuracy: 0.6899\n",
      "Epoch 101/350\n",
      "1313/1313 [==============================] - 3s 2ms/step - loss: 0.9873 - accuracy: 0.6881 - val_loss: 1.0447 - val_accuracy: 0.6783\n",
      "Epoch 102/350\n",
      "1313/1313 [==============================] - 3s 2ms/step - loss: 0.9866 - accuracy: 0.6906 - val_loss: 1.0510 - val_accuracy: 0.6757\n",
      "Epoch 103/350\n",
      "1313/1313 [==============================] - 3s 2ms/step - loss: 0.9846 - accuracy: 0.6904 - val_loss: 1.0905 - val_accuracy: 0.6638\n",
      "Epoch 104/350\n",
      "1313/1313 [==============================] - 3s 2ms/step - loss: 1.0107 - accuracy: 0.6854 - val_loss: 1.1195 - val_accuracy: 0.6521\n",
      "Epoch 105/350\n",
      "1313/1313 [==============================] - 3s 2ms/step - loss: 0.9775 - accuracy: 0.6945 - val_loss: 1.0483 - val_accuracy: 0.6735\n",
      "Epoch 106/350\n",
      "1313/1313 [==============================] - 3s 2ms/step - loss: 0.9838 - accuracy: 0.6912 - val_loss: 1.0280 - val_accuracy: 0.6814\n",
      "Epoch 107/350\n",
      "1313/1313 [==============================] - 3s 2ms/step - loss: 0.9812 - accuracy: 0.6935 - val_loss: 1.0319 - val_accuracy: 0.6847\n",
      "Epoch 108/350\n",
      "1313/1313 [==============================] - 3s 2ms/step - loss: 0.9854 - accuracy: 0.6927 - val_loss: 1.0572 - val_accuracy: 0.6708\n",
      "Epoch 109/350\n",
      "1313/1313 [==============================] - 3s 2ms/step - loss: 0.9809 - accuracy: 0.6934 - val_loss: 1.0584 - val_accuracy: 0.6734\n",
      "Epoch 110/350\n",
      "1313/1313 [==============================] - 4s 3ms/step - loss: 0.9823 - accuracy: 0.6925 - val_loss: 1.0689 - val_accuracy: 0.6697\n",
      "Epoch 111/350\n",
      "1313/1313 [==============================] - 4s 3ms/step - loss: 0.9881 - accuracy: 0.6885 - val_loss: 1.0731 - val_accuracy: 0.6618\n",
      "Epoch 112/350\n",
      "1313/1313 [==============================] - 4s 3ms/step - loss: 0.9812 - accuracy: 0.6939 - val_loss: 1.0531 - val_accuracy: 0.6732\n",
      "Epoch 113/350\n",
      "1313/1313 [==============================] - 3s 3ms/step - loss: 0.9805 - accuracy: 0.6918 - val_loss: 1.0707 - val_accuracy: 0.6689\n",
      "Epoch 114/350\n",
      "1313/1313 [==============================] - 3s 3ms/step - loss: 0.9834 - accuracy: 0.6911 - val_loss: 1.1205 - val_accuracy: 0.6501\n",
      "Epoch 115/350\n",
      "1313/1313 [==============================] - 4s 3ms/step - loss: 0.9807 - accuracy: 0.6911 - val_loss: 1.0312 - val_accuracy: 0.6827\n",
      "Epoch 116/350\n",
      "1313/1313 [==============================] - 4s 3ms/step - loss: 0.9816 - accuracy: 0.6910 - val_loss: 1.0596 - val_accuracy: 0.6739\n",
      "Epoch 117/350\n",
      "1313/1313 [==============================] - 3s 3ms/step - loss: 0.9741 - accuracy: 0.6930 - val_loss: 1.0493 - val_accuracy: 0.6736\n",
      "Epoch 118/350\n",
      "1313/1313 [==============================] - 3s 2ms/step - loss: 1.0089 - accuracy: 0.6843 - val_loss: 1.0771 - val_accuracy: 0.6667\n",
      "Epoch 119/350\n",
      "1313/1313 [==============================] - 3s 2ms/step - loss: 1.0068 - accuracy: 0.6866 - val_loss: 1.1367 - val_accuracy: 0.6447\n",
      "Epoch 120/350\n",
      "1313/1313 [==============================] - 3s 2ms/step - loss: 0.9836 - accuracy: 0.6910 - val_loss: 1.0488 - val_accuracy: 0.6799\n",
      "Epoch 121/350\n",
      "1313/1313 [==============================] - 3s 2ms/step - loss: 0.9863 - accuracy: 0.6913 - val_loss: 1.0169 - val_accuracy: 0.6897\n",
      "Epoch 122/350\n",
      "1313/1313 [==============================] - 3s 2ms/step - loss: 0.9816 - accuracy: 0.6906 - val_loss: 1.1123 - val_accuracy: 0.6564\n",
      "Epoch 123/350\n",
      "1313/1313 [==============================] - 3s 2ms/step - loss: 0.9790 - accuracy: 0.6918 - val_loss: 1.0520 - val_accuracy: 0.6817\n",
      "Epoch 124/350\n",
      "1313/1313 [==============================] - 3s 3ms/step - loss: 0.9820 - accuracy: 0.6910 - val_loss: 1.0313 - val_accuracy: 0.6833\n",
      "Epoch 125/350\n",
      "1313/1313 [==============================] - 3s 3ms/step - loss: 0.9791 - accuracy: 0.6916 - val_loss: 1.0305 - val_accuracy: 0.6842\n",
      "Epoch 126/350\n",
      "1313/1313 [==============================] - 3s 2ms/step - loss: 0.9759 - accuracy: 0.6928 - val_loss: 1.0336 - val_accuracy: 0.6819\n",
      "Epoch 127/350\n",
      "1313/1313 [==============================] - 3s 2ms/step - loss: 0.9787 - accuracy: 0.6929 - val_loss: 1.0512 - val_accuracy: 0.6801\n",
      "Epoch 128/350\n",
      "1313/1313 [==============================] - 3s 2ms/step - loss: 0.9740 - accuracy: 0.6939 - val_loss: 1.0335 - val_accuracy: 0.6868\n",
      "Epoch 129/350\n",
      "1313/1313 [==============================] - 3s 3ms/step - loss: 0.9752 - accuracy: 0.6933 - val_loss: 1.0719 - val_accuracy: 0.6669\n",
      "Epoch 130/350\n",
      "1313/1313 [==============================] - 3s 3ms/step - loss: 0.9751 - accuracy: 0.6939 - val_loss: 1.0538 - val_accuracy: 0.6722\n",
      "Epoch 131/350\n",
      "1313/1313 [==============================] - 3s 3ms/step - loss: 0.9794 - accuracy: 0.6939 - val_loss: 1.0454 - val_accuracy: 0.6811\n",
      "Epoch 132/350\n",
      "1313/1313 [==============================] - 3s 3ms/step - loss: 0.9787 - accuracy: 0.6939 - val_loss: 1.0732 - val_accuracy: 0.6660\n",
      "Epoch 133/350\n",
      "1313/1313 [==============================] - 3s 3ms/step - loss: 0.9751 - accuracy: 0.6934 - val_loss: 1.0383 - val_accuracy: 0.6762\n",
      "Epoch 134/350\n",
      "1313/1313 [==============================] - 5s 4ms/step - loss: 1.0148 - accuracy: 0.6820 - val_loss: 1.0669 - val_accuracy: 0.6703\n",
      "Epoch 135/350\n",
      "1313/1313 [==============================] - 6s 5ms/step - loss: 0.9910 - accuracy: 0.6895 - val_loss: 1.0209 - val_accuracy: 0.6884\n",
      "Epoch 136/350\n",
      "1313/1313 [==============================] - 4s 3ms/step - loss: 0.9721 - accuracy: 0.6958 - val_loss: 1.0282 - val_accuracy: 0.6798\n",
      "Epoch 137/350\n",
      "1313/1313 [==============================] - 3s 2ms/step - loss: 0.9726 - accuracy: 0.6955 - val_loss: 1.0292 - val_accuracy: 0.6831\n",
      "Epoch 138/350\n",
      "1313/1313 [==============================] - 3s 2ms/step - loss: 0.9869 - accuracy: 0.6906 - val_loss: 1.0484 - val_accuracy: 0.6759\n",
      "Epoch 139/350\n",
      "1313/1313 [==============================] - 3s 2ms/step - loss: 0.9744 - accuracy: 0.6959 - val_loss: 1.0320 - val_accuracy: 0.6842\n",
      "Epoch 140/350\n",
      "1313/1313 [==============================] - 3s 2ms/step - loss: 0.9669 - accuracy: 0.6944 - val_loss: 1.0459 - val_accuracy: 0.6757\n",
      "Epoch 141/350\n",
      "1313/1313 [==============================] - 3s 2ms/step - loss: 0.9785 - accuracy: 0.6947 - val_loss: 1.0203 - val_accuracy: 0.6888\n",
      "Epoch 142/350\n",
      "1313/1313 [==============================] - 3s 2ms/step - loss: 0.9828 - accuracy: 0.6912 - val_loss: 1.0520 - val_accuracy: 0.6773\n",
      "Epoch 143/350\n",
      "1313/1313 [==============================] - 3s 2ms/step - loss: 0.9756 - accuracy: 0.6944 - val_loss: 1.0654 - val_accuracy: 0.6702\n",
      "Epoch 144/350\n",
      "1313/1313 [==============================] - 3s 2ms/step - loss: 0.9732 - accuracy: 0.6954 - val_loss: 1.0588 - val_accuracy: 0.6782\n",
      "Epoch 145/350\n",
      "1313/1313 [==============================] - 3s 3ms/step - loss: 0.9754 - accuracy: 0.6950 - val_loss: 1.0329 - val_accuracy: 0.6812\n",
      "Epoch 146/350\n",
      "1313/1313 [==============================] - 3s 3ms/step - loss: 0.9728 - accuracy: 0.6964 - val_loss: 1.0603 - val_accuracy: 0.6748\n",
      "Epoch 147/350\n",
      "1313/1313 [==============================] - 3s 3ms/step - loss: 0.9771 - accuracy: 0.6937 - val_loss: 1.0522 - val_accuracy: 0.6774\n",
      "Epoch 148/350\n",
      "1313/1313 [==============================] - 3s 2ms/step - loss: 0.9686 - accuracy: 0.6962 - val_loss: 1.0568 - val_accuracy: 0.6781\n",
      "Epoch 149/350\n",
      "1313/1313 [==============================] - 3s 3ms/step - loss: 0.9767 - accuracy: 0.6956 - val_loss: 1.0390 - val_accuracy: 0.6812\n",
      "Epoch 150/350\n",
      "1313/1313 [==============================] - 3s 3ms/step - loss: 0.9660 - accuracy: 0.6961 - val_loss: 1.0225 - val_accuracy: 0.6873\n",
      "Epoch 151/350\n",
      "1313/1313 [==============================] - 3s 3ms/step - loss: 0.9800 - accuracy: 0.6905 - val_loss: 1.0800 - val_accuracy: 0.6651\n",
      "Epoch 152/350\n",
      "1313/1313 [==============================] - 3s 3ms/step - loss: 0.9756 - accuracy: 0.6953 - val_loss: 1.0073 - val_accuracy: 0.6853\n",
      "Epoch 153/350\n",
      "1313/1313 [==============================] - 3s 2ms/step - loss: 0.9657 - accuracy: 0.6976 - val_loss: 1.0388 - val_accuracy: 0.6802\n",
      "Epoch 154/350\n",
      "1313/1313 [==============================] - 3s 2ms/step - loss: 0.9695 - accuracy: 0.6945 - val_loss: 1.0269 - val_accuracy: 0.6852\n",
      "Epoch 155/350\n",
      "1313/1313 [==============================] - 3s 3ms/step - loss: 0.9661 - accuracy: 0.6976 - val_loss: 1.0469 - val_accuracy: 0.6815\n",
      "Epoch 156/350\n",
      "1313/1313 [==============================] - 3s 3ms/step - loss: 0.9744 - accuracy: 0.6934 - val_loss: 1.1105 - val_accuracy: 0.6527\n",
      "Epoch 157/350\n",
      "1313/1313 [==============================] - 3s 2ms/step - loss: 0.9747 - accuracy: 0.6950 - val_loss: 1.0305 - val_accuracy: 0.6823\n",
      "Epoch 158/350\n",
      "1313/1313 [==============================] - 3s 3ms/step - loss: 0.9658 - accuracy: 0.6961 - val_loss: 1.0359 - val_accuracy: 0.6843\n",
      "Epoch 159/350\n",
      "1313/1313 [==============================] - 3s 2ms/step - loss: 0.9733 - accuracy: 0.6963 - val_loss: 1.0432 - val_accuracy: 0.6793\n",
      "Epoch 160/350\n",
      "1313/1313 [==============================] - 3s 2ms/step - loss: 0.9736 - accuracy: 0.6956 - val_loss: 1.0136 - val_accuracy: 0.6871\n",
      "Epoch 161/350\n",
      "1313/1313 [==============================] - 3s 3ms/step - loss: 0.9675 - accuracy: 0.6967 - val_loss: 1.0213 - val_accuracy: 0.6866\n",
      "Epoch 162/350\n",
      "1313/1313 [==============================] - 4s 3ms/step - loss: 0.9771 - accuracy: 0.6944 - val_loss: 1.0491 - val_accuracy: 0.6786\n",
      "Epoch 163/350\n",
      "1313/1313 [==============================] - 4s 3ms/step - loss: 0.9643 - accuracy: 0.6983 - val_loss: 1.1319 - val_accuracy: 0.6488\n",
      "Epoch 164/350\n",
      "1313/1313 [==============================] - 4s 3ms/step - loss: 0.9669 - accuracy: 0.6977 - val_loss: 1.0338 - val_accuracy: 0.6802\n",
      "Epoch 165/350\n",
      "1313/1313 [==============================] - 3s 3ms/step - loss: 0.9652 - accuracy: 0.6959 - val_loss: 1.0479 - val_accuracy: 0.6799\n",
      "Epoch 166/350\n",
      "1313/1313 [==============================] - 3s 3ms/step - loss: 0.9698 - accuracy: 0.6966 - val_loss: 1.0457 - val_accuracy: 0.6814\n",
      "Epoch 167/350\n",
      "1313/1313 [==============================] - 4s 3ms/step - loss: 0.9751 - accuracy: 0.6955 - val_loss: 1.0780 - val_accuracy: 0.6767\n",
      "Epoch 168/350\n",
      "1313/1313 [==============================] - 3s 3ms/step - loss: 0.9676 - accuracy: 0.6981 - val_loss: 1.1290 - val_accuracy: 0.6640\n",
      "Epoch 169/350\n",
      "1313/1313 [==============================] - 3s 2ms/step - loss: 0.9653 - accuracy: 0.6968 - val_loss: 1.0150 - val_accuracy: 0.6884\n",
      "Epoch 170/350\n",
      "1313/1313 [==============================] - 3s 3ms/step - loss: 0.9708 - accuracy: 0.6978 - val_loss: 1.0220 - val_accuracy: 0.6888\n",
      "Epoch 171/350\n",
      "1313/1313 [==============================] - 3s 2ms/step - loss: 0.9650 - accuracy: 0.6976 - val_loss: 1.0087 - val_accuracy: 0.6911\n",
      "Epoch 172/350\n",
      "1313/1313 [==============================] - 3s 2ms/step - loss: 0.9640 - accuracy: 0.6973 - val_loss: 1.0739 - val_accuracy: 0.6779\n",
      "Epoch 173/350\n",
      "1313/1313 [==============================] - 3s 2ms/step - loss: 0.9656 - accuracy: 0.6964 - val_loss: 1.0404 - val_accuracy: 0.6848\n",
      "Epoch 174/350\n",
      "1313/1313 [==============================] - 3s 2ms/step - loss: 0.9896 - accuracy: 0.6903 - val_loss: 1.0608 - val_accuracy: 0.6745\n",
      "Epoch 175/350\n",
      "1313/1313 [==============================] - 3s 2ms/step - loss: 0.9635 - accuracy: 0.6987 - val_loss: 1.0592 - val_accuracy: 0.6778\n",
      "Epoch 176/350\n",
      "1313/1313 [==============================] - 3s 3ms/step - loss: 0.9753 - accuracy: 0.6931 - val_loss: 1.0149 - val_accuracy: 0.6901\n",
      "Epoch 177/350\n",
      "1313/1313 [==============================] - 3s 3ms/step - loss: 0.9740 - accuracy: 0.6953 - val_loss: 1.0622 - val_accuracy: 0.6656\n",
      "Epoch 178/350\n",
      "1313/1313 [==============================] - 3s 2ms/step - loss: 0.9639 - accuracy: 0.6969 - val_loss: 1.0566 - val_accuracy: 0.6803\n",
      "Epoch 179/350\n",
      "1313/1313 [==============================] - 3s 3ms/step - loss: 0.9854 - accuracy: 0.6873 - val_loss: 1.0695 - val_accuracy: 0.6722\n",
      "Epoch 180/350\n",
      "1313/1313 [==============================] - 3s 2ms/step - loss: 0.9640 - accuracy: 0.6969 - val_loss: 1.0521 - val_accuracy: 0.6783\n",
      "Epoch 181/350\n",
      "1313/1313 [==============================] - 3s 2ms/step - loss: 0.9721 - accuracy: 0.6924 - val_loss: 1.0535 - val_accuracy: 0.6834\n",
      "Epoch 182/350\n",
      "1313/1313 [==============================] - 3s 2ms/step - loss: 0.9598 - accuracy: 0.6975 - val_loss: 1.0408 - val_accuracy: 0.6868\n",
      "Epoch 183/350\n",
      "1313/1313 [==============================] - 3s 2ms/step - loss: 0.9690 - accuracy: 0.6966 - val_loss: 1.0206 - val_accuracy: 0.6857\n",
      "Epoch 184/350\n",
      "1313/1313 [==============================] - 3s 3ms/step - loss: 0.9661 - accuracy: 0.6985 - val_loss: 1.0308 - val_accuracy: 0.6836\n",
      "Epoch 185/350\n",
      "1313/1313 [==============================] - 3s 3ms/step - loss: 0.9617 - accuracy: 0.6984 - val_loss: 1.0535 - val_accuracy: 0.6770\n",
      "Epoch 186/350\n",
      "1313/1313 [==============================] - 3s 2ms/step - loss: 0.9688 - accuracy: 0.6965 - val_loss: 1.0296 - val_accuracy: 0.6857\n",
      "Epoch 187/350\n",
      "1313/1313 [==============================] - 3s 2ms/step - loss: 0.9597 - accuracy: 0.6996 - val_loss: 1.0646 - val_accuracy: 0.6717\n",
      "Epoch 188/350\n",
      "1313/1313 [==============================] - 3s 2ms/step - loss: 0.9843 - accuracy: 0.6922 - val_loss: 1.0598 - val_accuracy: 0.6762\n",
      "Epoch 189/350\n",
      "1313/1313 [==============================] - 3s 2ms/step - loss: 0.9726 - accuracy: 0.6961 - val_loss: 1.0270 - val_accuracy: 0.6859\n",
      "Epoch 190/350\n",
      "1313/1313 [==============================] - 3s 2ms/step - loss: 0.9637 - accuracy: 0.6962 - val_loss: 1.1653 - val_accuracy: 0.6411\n",
      "Epoch 191/350\n",
      "1313/1313 [==============================] - 3s 3ms/step - loss: 0.9658 - accuracy: 0.6965 - val_loss: 1.0636 - val_accuracy: 0.6744\n",
      "Epoch 192/350\n",
      "1313/1313 [==============================] - 3s 2ms/step - loss: 0.9643 - accuracy: 0.6968 - val_loss: 1.0030 - val_accuracy: 0.6912\n",
      "Epoch 193/350\n",
      "1313/1313 [==============================] - 3s 3ms/step - loss: 0.9654 - accuracy: 0.6989 - val_loss: 1.0328 - val_accuracy: 0.6848\n",
      "Epoch 194/350\n",
      "1313/1313 [==============================] - 3s 3ms/step - loss: 0.9668 - accuracy: 0.6985 - val_loss: 1.0696 - val_accuracy: 0.6682\n",
      "Epoch 195/350\n",
      "1313/1313 [==============================] - 3s 2ms/step - loss: 0.9661 - accuracy: 0.6978 - val_loss: 1.0762 - val_accuracy: 0.6684\n",
      "Epoch 196/350\n",
      "1313/1313 [==============================] - 3s 3ms/step - loss: 0.9634 - accuracy: 0.6966 - val_loss: 1.0172 - val_accuracy: 0.6957\n",
      "Epoch 197/350\n",
      "1313/1313 [==============================] - 3s 2ms/step - loss: 0.9690 - accuracy: 0.6967 - val_loss: 1.0355 - val_accuracy: 0.6812\n",
      "Epoch 198/350\n",
      "1313/1313 [==============================] - 3s 3ms/step - loss: 0.9688 - accuracy: 0.6953 - val_loss: 1.0467 - val_accuracy: 0.6814\n",
      "Epoch 199/350\n",
      "1313/1313 [==============================] - 3s 3ms/step - loss: 0.9530 - accuracy: 0.6993 - val_loss: 1.0427 - val_accuracy: 0.6782\n",
      "Epoch 200/350\n",
      "1313/1313 [==============================] - 3s 3ms/step - loss: 0.9622 - accuracy: 0.6981 - val_loss: 1.0485 - val_accuracy: 0.6728\n",
      "Epoch 201/350\n",
      "1313/1313 [==============================] - 3s 3ms/step - loss: 0.9670 - accuracy: 0.6968 - val_loss: 1.0288 - val_accuracy: 0.6811\n",
      "Epoch 202/350\n",
      "1313/1313 [==============================] - 4s 3ms/step - loss: 0.9704 - accuracy: 0.6967 - val_loss: 1.0747 - val_accuracy: 0.6726\n",
      "Epoch 203/350\n",
      "1313/1313 [==============================] - 4s 3ms/step - loss: 0.9525 - accuracy: 0.7005 - val_loss: 1.0220 - val_accuracy: 0.6888\n",
      "Epoch 204/350\n",
      "1313/1313 [==============================] - 4s 3ms/step - loss: 0.9659 - accuracy: 0.6971 - val_loss: 1.0562 - val_accuracy: 0.6706\n",
      "Epoch 205/350\n",
      "1313/1313 [==============================] - 4s 3ms/step - loss: 0.9667 - accuracy: 0.6962 - val_loss: 1.0368 - val_accuracy: 0.6809\n",
      "Epoch 206/350\n",
      "1313/1313 [==============================] - 4s 3ms/step - loss: 0.9552 - accuracy: 0.7021 - val_loss: 1.0368 - val_accuracy: 0.6834\n",
      "Epoch 207/350\n",
      "1313/1313 [==============================] - 3s 3ms/step - loss: 0.9572 - accuracy: 0.6998 - val_loss: 1.0283 - val_accuracy: 0.6829\n",
      "Epoch 208/350\n",
      "1313/1313 [==============================] - 3s 3ms/step - loss: 0.9624 - accuracy: 0.6951 - val_loss: 1.0278 - val_accuracy: 0.6868\n",
      "Epoch 209/350\n",
      "1313/1313 [==============================] - 3s 3ms/step - loss: 0.9601 - accuracy: 0.6988 - val_loss: 1.0900 - val_accuracy: 0.6705\n",
      "Epoch 210/350\n",
      "1313/1313 [==============================] - 3s 3ms/step - loss: 0.9602 - accuracy: 0.6975 - val_loss: 1.0192 - val_accuracy: 0.6888\n",
      "Epoch 211/350\n",
      "1313/1313 [==============================] - 3s 3ms/step - loss: 0.9721 - accuracy: 0.6945 - val_loss: 1.0212 - val_accuracy: 0.6842\n",
      "Epoch 212/350\n",
      "1313/1313 [==============================] - 3s 2ms/step - loss: 0.9586 - accuracy: 0.7009 - val_loss: 1.1046 - val_accuracy: 0.6610\n",
      "Epoch 213/350\n",
      "1313/1313 [==============================] - 3s 3ms/step - loss: 0.9580 - accuracy: 0.7011 - val_loss: 1.0665 - val_accuracy: 0.6751\n",
      "Epoch 214/350\n",
      "1313/1313 [==============================] - 3s 3ms/step - loss: 0.9660 - accuracy: 0.6982 - val_loss: 1.0332 - val_accuracy: 0.6806\n",
      "Epoch 215/350\n",
      "1313/1313 [==============================] - 3s 2ms/step - loss: 0.9680 - accuracy: 0.6968 - val_loss: 1.0114 - val_accuracy: 0.6919\n",
      "Epoch 216/350\n",
      "1313/1313 [==============================] - 3s 2ms/step - loss: 0.9550 - accuracy: 0.6995 - val_loss: 1.0162 - val_accuracy: 0.6884\n",
      "Epoch 217/350\n",
      "1313/1313 [==============================] - 3s 3ms/step - loss: 0.9645 - accuracy: 0.6954 - val_loss: 1.0430 - val_accuracy: 0.6774\n",
      "Epoch 218/350\n",
      "1313/1313 [==============================] - 3s 3ms/step - loss: 0.9712 - accuracy: 0.6970 - val_loss: 1.0255 - val_accuracy: 0.6863\n",
      "Epoch 219/350\n",
      "1313/1313 [==============================] - 3s 3ms/step - loss: 0.9574 - accuracy: 0.6998 - val_loss: 1.0138 - val_accuracy: 0.6885\n",
      "Epoch 220/350\n",
      "1313/1313 [==============================] - 3s 3ms/step - loss: 0.9535 - accuracy: 0.7022 - val_loss: 1.0316 - val_accuracy: 0.6836\n",
      "Epoch 221/350\n",
      "1313/1313 [==============================] - 3s 3ms/step - loss: 0.9712 - accuracy: 0.6961 - val_loss: 1.0289 - val_accuracy: 0.6835\n",
      "Epoch 222/350\n",
      "1313/1313 [==============================] - 3s 3ms/step - loss: 0.9545 - accuracy: 0.6995 - val_loss: 1.0646 - val_accuracy: 0.6769\n",
      "Epoch 223/350\n",
      "1313/1313 [==============================] - 3s 3ms/step - loss: 0.9544 - accuracy: 0.7003 - val_loss: 1.0227 - val_accuracy: 0.6834\n",
      "Epoch 224/350\n",
      "1313/1313 [==============================] - 3s 3ms/step - loss: 0.9590 - accuracy: 0.6999 - val_loss: 1.0516 - val_accuracy: 0.6780\n",
      "Epoch 225/350\n",
      "1313/1313 [==============================] - 3s 2ms/step - loss: 0.9578 - accuracy: 0.6999 - val_loss: 1.1191 - val_accuracy: 0.6508\n",
      "Epoch 226/350\n",
      "1313/1313 [==============================] - 3s 3ms/step - loss: 0.9642 - accuracy: 0.6983 - val_loss: 1.0183 - val_accuracy: 0.6903\n",
      "Epoch 227/350\n",
      "1313/1313 [==============================] - 3s 2ms/step - loss: 0.9662 - accuracy: 0.6972 - val_loss: 1.0768 - val_accuracy: 0.6678\n",
      "Epoch 228/350\n",
      "1313/1313 [==============================] - 3s 2ms/step - loss: 0.9586 - accuracy: 0.6981 - val_loss: 1.0197 - val_accuracy: 0.6842\n",
      "Epoch 229/350\n",
      "1313/1313 [==============================] - 3s 2ms/step - loss: 0.9552 - accuracy: 0.7007 - val_loss: 1.0397 - val_accuracy: 0.6854\n",
      "Epoch 230/350\n",
      "1313/1313 [==============================] - 3s 2ms/step - loss: 0.9710 - accuracy: 0.6956 - val_loss: 1.0229 - val_accuracy: 0.6877\n",
      "Epoch 231/350\n",
      "1313/1313 [==============================] - 3s 2ms/step - loss: 0.9638 - accuracy: 0.6985 - val_loss: 1.0512 - val_accuracy: 0.6778\n",
      "Epoch 232/350\n",
      "1313/1313 [==============================] - 3s 2ms/step - loss: 0.9703 - accuracy: 0.6974 - val_loss: 1.0695 - val_accuracy: 0.6716\n",
      "Epoch 233/350\n",
      "1313/1313 [==============================] - 4s 3ms/step - loss: 0.9529 - accuracy: 0.7026 - val_loss: 1.0424 - val_accuracy: 0.6904\n",
      "Epoch 234/350\n",
      "1313/1313 [==============================] - 4s 3ms/step - loss: 0.9564 - accuracy: 0.7009 - val_loss: 1.2869 - val_accuracy: 0.6549\n",
      "Epoch 235/350\n",
      "1313/1313 [==============================] - 4s 3ms/step - loss: 0.9633 - accuracy: 0.7002 - val_loss: 1.0147 - val_accuracy: 0.6894\n",
      "Epoch 236/350\n",
      "1313/1313 [==============================] - 4s 3ms/step - loss: 0.9662 - accuracy: 0.6987 - val_loss: 1.0108 - val_accuracy: 0.6918\n",
      "Epoch 237/350\n",
      "1313/1313 [==============================] - 3s 3ms/step - loss: 0.9531 - accuracy: 0.7016 - val_loss: 1.0555 - val_accuracy: 0.6774\n",
      "Epoch 238/350\n",
      "1313/1313 [==============================] - 3s 3ms/step - loss: 0.9523 - accuracy: 0.7008 - val_loss: 1.0232 - val_accuracy: 0.6882\n",
      "Epoch 239/350\n",
      "1313/1313 [==============================] - 4s 3ms/step - loss: 0.9609 - accuracy: 0.6997 - val_loss: 1.0461 - val_accuracy: 0.6826\n",
      "Epoch 240/350\n",
      "1313/1313 [==============================] - 4s 3ms/step - loss: 0.9581 - accuracy: 0.6996 - val_loss: 1.0425 - val_accuracy: 0.6795\n",
      "Epoch 241/350\n",
      "1313/1313 [==============================] - 4s 3ms/step - loss: 0.9589 - accuracy: 0.7003 - val_loss: 1.0558 - val_accuracy: 0.6826\n",
      "Epoch 242/350\n",
      "1313/1313 [==============================] - 3s 3ms/step - loss: 0.9863 - accuracy: 0.6899 - val_loss: 1.0684 - val_accuracy: 0.6711\n",
      "Epoch 243/350\n",
      "1313/1313 [==============================] - 3s 3ms/step - loss: 0.9598 - accuracy: 0.6998 - val_loss: 1.0264 - val_accuracy: 0.6831\n",
      "Epoch 244/350\n",
      "1313/1313 [==============================] - 3s 3ms/step - loss: 0.9584 - accuracy: 0.6998 - val_loss: 1.0259 - val_accuracy: 0.6827\n",
      "Epoch 245/350\n",
      "1313/1313 [==============================] - 3s 3ms/step - loss: 0.9515 - accuracy: 0.7028 - val_loss: 1.0388 - val_accuracy: 0.6814\n",
      "Epoch 246/350\n",
      "1313/1313 [==============================] - 4s 3ms/step - loss: 0.9540 - accuracy: 0.7009 - val_loss: 1.0558 - val_accuracy: 0.6793\n",
      "Epoch 247/350\n",
      "1313/1313 [==============================] - 4s 3ms/step - loss: 0.9512 - accuracy: 0.7029 - val_loss: 1.0005 - val_accuracy: 0.6924\n",
      "Epoch 248/350\n",
      "1313/1313 [==============================] - 4s 3ms/step - loss: 0.9654 - accuracy: 0.7000 - val_loss: 1.0240 - val_accuracy: 0.6898\n",
      "Epoch 249/350\n",
      "1313/1313 [==============================] - 4s 3ms/step - loss: 0.9538 - accuracy: 0.7016 - val_loss: 1.0738 - val_accuracy: 0.6768\n",
      "Epoch 250/350\n",
      "1313/1313 [==============================] - 3s 3ms/step - loss: 0.9557 - accuracy: 0.7014 - val_loss: 1.0078 - val_accuracy: 0.6952\n",
      "Epoch 251/350\n",
      "1313/1313 [==============================] - 3s 3ms/step - loss: 0.9464 - accuracy: 0.7047 - val_loss: 1.0289 - val_accuracy: 0.6891\n",
      "Epoch 252/350\n",
      "1313/1313 [==============================] - 3s 3ms/step - loss: 0.9531 - accuracy: 0.7025 - val_loss: 1.0450 - val_accuracy: 0.6759\n",
      "Epoch 253/350\n",
      "1313/1313 [==============================] - 3s 2ms/step - loss: 0.9620 - accuracy: 0.6985 - val_loss: 1.0309 - val_accuracy: 0.6842\n",
      "Epoch 254/350\n",
      "1313/1313 [==============================] - 3s 3ms/step - loss: 0.9565 - accuracy: 0.7007 - val_loss: 1.0192 - val_accuracy: 0.6830\n",
      "Epoch 255/350\n",
      "1313/1313 [==============================] - 3s 3ms/step - loss: 0.9616 - accuracy: 0.6980 - val_loss: 1.0149 - val_accuracy: 0.6848\n",
      "Epoch 256/350\n",
      "1313/1313 [==============================] - 3s 3ms/step - loss: 0.9478 - accuracy: 0.7025 - val_loss: 1.0427 - val_accuracy: 0.6844\n",
      "Epoch 257/350\n",
      "1313/1313 [==============================] - 3s 3ms/step - loss: 0.9545 - accuracy: 0.7003 - val_loss: 1.0981 - val_accuracy: 0.6648\n",
      "Epoch 258/350\n",
      "1313/1313 [==============================] - 3s 3ms/step - loss: 0.9512 - accuracy: 0.7024 - val_loss: 1.0623 - val_accuracy: 0.6727\n",
      "Epoch 259/350\n",
      "1313/1313 [==============================] - 3s 3ms/step - loss: 0.9549 - accuracy: 0.6996 - val_loss: 1.0473 - val_accuracy: 0.6803\n",
      "Epoch 260/350\n",
      "1313/1313 [==============================] - 3s 3ms/step - loss: 0.9693 - accuracy: 0.6963 - val_loss: 1.0874 - val_accuracy: 0.6673\n",
      "Epoch 261/350\n",
      "1313/1313 [==============================] - 3s 3ms/step - loss: 0.9566 - accuracy: 0.7004 - val_loss: 1.0319 - val_accuracy: 0.6852\n",
      "Epoch 262/350\n",
      "1313/1313 [==============================] - 3s 3ms/step - loss: 0.9564 - accuracy: 0.7016 - val_loss: 1.0199 - val_accuracy: 0.6922\n",
      "Epoch 263/350\n",
      "1313/1313 [==============================] - 4s 3ms/step - loss: 0.9518 - accuracy: 0.7017 - val_loss: 1.0383 - val_accuracy: 0.6894\n",
      "Epoch 264/350\n",
      "1313/1313 [==============================] - 3s 3ms/step - loss: 0.9720 - accuracy: 0.6966 - val_loss: 1.0289 - val_accuracy: 0.6832\n",
      "Epoch 265/350\n",
      "1313/1313 [==============================] - 3s 3ms/step - loss: 0.9498 - accuracy: 0.7039 - val_loss: 1.0799 - val_accuracy: 0.6715\n",
      "Epoch 266/350\n",
      "1313/1313 [==============================] - 3s 3ms/step - loss: 0.9473 - accuracy: 0.7022 - val_loss: 1.0144 - val_accuracy: 0.6916\n",
      "Epoch 267/350\n",
      "1313/1313 [==============================] - 3s 3ms/step - loss: 0.9666 - accuracy: 0.6963 - val_loss: 1.0680 - val_accuracy: 0.6654\n",
      "Epoch 268/350\n",
      "1313/1313 [==============================] - 3s 3ms/step - loss: 0.9513 - accuracy: 0.7017 - val_loss: 1.0685 - val_accuracy: 0.6696\n",
      "Epoch 269/350\n",
      "1313/1313 [==============================] - 3s 2ms/step - loss: 0.9521 - accuracy: 0.7009 - val_loss: 1.0230 - val_accuracy: 0.6876\n",
      "Epoch 270/350\n",
      "1313/1313 [==============================] - 3s 3ms/step - loss: 0.9572 - accuracy: 0.7007 - val_loss: 1.0520 - val_accuracy: 0.6723\n",
      "Epoch 271/350\n",
      "1313/1313 [==============================] - 3s 3ms/step - loss: 0.9489 - accuracy: 0.7033 - val_loss: 1.0134 - val_accuracy: 0.6892\n",
      "Epoch 272/350\n",
      "1313/1313 [==============================] - 3s 3ms/step - loss: 0.9506 - accuracy: 0.7003 - val_loss: 1.0385 - val_accuracy: 0.6807\n",
      "Epoch 273/350\n",
      "1313/1313 [==============================] - 3s 3ms/step - loss: 0.9496 - accuracy: 0.7027 - val_loss: 1.0344 - val_accuracy: 0.6837\n",
      "Epoch 274/350\n",
      "1313/1313 [==============================] - 3s 3ms/step - loss: 0.9466 - accuracy: 0.7032 - val_loss: 1.0171 - val_accuracy: 0.6888\n",
      "Epoch 275/350\n",
      "1313/1313 [==============================] - 3s 3ms/step - loss: 0.9534 - accuracy: 0.7025 - val_loss: 1.0493 - val_accuracy: 0.6766\n",
      "Epoch 276/350\n",
      "1313/1313 [==============================] - 4s 3ms/step - loss: 0.9542 - accuracy: 0.6980 - val_loss: 1.0405 - val_accuracy: 0.6816\n",
      "Epoch 277/350\n",
      "1313/1313 [==============================] - 3s 3ms/step - loss: 0.9489 - accuracy: 0.7041 - val_loss: 1.0386 - val_accuracy: 0.6796\n",
      "Epoch 278/350\n",
      "1313/1313 [==============================] - 3s 3ms/step - loss: 0.9549 - accuracy: 0.7020 - val_loss: 1.0167 - val_accuracy: 0.6901\n",
      "Epoch 279/350\n",
      "1313/1313 [==============================] - 3s 3ms/step - loss: 0.9563 - accuracy: 0.7011 - val_loss: 1.0218 - val_accuracy: 0.6832\n",
      "Epoch 280/350\n",
      "1313/1313 [==============================] - 3s 3ms/step - loss: 0.9495 - accuracy: 0.7025 - val_loss: 1.0553 - val_accuracy: 0.6764\n",
      "Epoch 281/350\n",
      "1313/1313 [==============================] - 3s 3ms/step - loss: 0.9490 - accuracy: 0.7040 - val_loss: 1.0732 - val_accuracy: 0.6656\n",
      "Epoch 282/350\n",
      "1313/1313 [==============================] - 3s 3ms/step - loss: 0.9528 - accuracy: 0.7006 - val_loss: 1.0298 - val_accuracy: 0.6872\n",
      "Epoch 283/350\n",
      "1313/1313 [==============================] - 4s 3ms/step - loss: 0.9452 - accuracy: 0.7065 - val_loss: 1.0384 - val_accuracy: 0.6769\n",
      "Epoch 284/350\n",
      "1313/1313 [==============================] - 3s 3ms/step - loss: 0.9609 - accuracy: 0.7005 - val_loss: 1.0256 - val_accuracy: 0.6819\n",
      "Epoch 285/350\n",
      "1313/1313 [==============================] - 3s 3ms/step - loss: 0.9508 - accuracy: 0.7013 - val_loss: 1.0126 - val_accuracy: 0.6926\n",
      "Epoch 286/350\n",
      "1313/1313 [==============================] - 3s 3ms/step - loss: 0.9526 - accuracy: 0.7016 - val_loss: 1.0113 - val_accuracy: 0.6907\n",
      "Epoch 287/350\n",
      "1313/1313 [==============================] - 3s 3ms/step - loss: 0.9458 - accuracy: 0.7018 - val_loss: 1.0219 - val_accuracy: 0.6858\n",
      "Epoch 288/350\n",
      "1313/1313 [==============================] - 3s 3ms/step - loss: 0.9945 - accuracy: 0.6878 - val_loss: 1.0087 - val_accuracy: 0.6864\n",
      "Epoch 289/350\n",
      "1313/1313 [==============================] - 3s 2ms/step - loss: 0.9516 - accuracy: 0.7027 - val_loss: 1.0176 - val_accuracy: 0.6865\n",
      "Epoch 290/350\n",
      "1313/1313 [==============================] - 3s 2ms/step - loss: 0.9507 - accuracy: 0.7010 - val_loss: 1.0151 - val_accuracy: 0.6858\n",
      "Epoch 291/350\n",
      "1313/1313 [==============================] - 3s 2ms/step - loss: 0.9488 - accuracy: 0.7023 - val_loss: 1.0305 - val_accuracy: 0.6872\n",
      "Epoch 292/350\n",
      "1313/1313 [==============================] - 3s 3ms/step - loss: 0.9484 - accuracy: 0.7017 - val_loss: 1.1103 - val_accuracy: 0.6553\n",
      "Epoch 293/350\n",
      "1313/1313 [==============================] - 4s 3ms/step - loss: 0.9503 - accuracy: 0.7013 - val_loss: 1.0110 - val_accuracy: 0.6922\n",
      "Epoch 294/350\n",
      "1313/1313 [==============================] - 4s 3ms/step - loss: 0.9462 - accuracy: 0.7025 - val_loss: 1.0247 - val_accuracy: 0.6850\n",
      "Epoch 295/350\n",
      "1313/1313 [==============================] - 5s 4ms/step - loss: 0.9513 - accuracy: 0.7000 - val_loss: 1.0361 - val_accuracy: 0.6822\n",
      "Epoch 296/350\n",
      "1313/1313 [==============================] - 8s 6ms/step - loss: 0.9502 - accuracy: 0.7024 - val_loss: 1.0430 - val_accuracy: 0.6817\n",
      "Epoch 297/350\n",
      "1313/1313 [==============================] - 4s 3ms/step - loss: 0.9451 - accuracy: 0.7041 - val_loss: 1.0202 - val_accuracy: 0.6893\n",
      "Epoch 298/350\n",
      "1313/1313 [==============================] - 4s 3ms/step - loss: 0.9512 - accuracy: 0.7025 - val_loss: 1.0384 - val_accuracy: 0.6831\n",
      "Epoch 299/350\n",
      "1313/1313 [==============================] - 4s 3ms/step - loss: 0.9444 - accuracy: 0.7045 - val_loss: 1.0327 - val_accuracy: 0.6808\n",
      "Epoch 300/350\n",
      "1313/1313 [==============================] - 4s 3ms/step - loss: 0.9563 - accuracy: 0.7014 - val_loss: 1.0614 - val_accuracy: 0.6774\n",
      "Epoch 301/350\n",
      "1313/1313 [==============================] - 4s 3ms/step - loss: 0.9573 - accuracy: 0.7006 - val_loss: 1.0120 - val_accuracy: 0.6863\n",
      "Epoch 302/350\n",
      "1313/1313 [==============================] - 3s 3ms/step - loss: 0.9519 - accuracy: 0.7024 - val_loss: 1.0310 - val_accuracy: 0.6831\n",
      "Epoch 303/350\n",
      "1313/1313 [==============================] - 3s 3ms/step - loss: 0.9497 - accuracy: 0.7040 - val_loss: 1.0168 - val_accuracy: 0.6878\n",
      "Epoch 304/350\n",
      "1313/1313 [==============================] - 3s 3ms/step - loss: 0.9482 - accuracy: 0.7045 - val_loss: 1.0192 - val_accuracy: 0.6894\n",
      "Epoch 305/350\n",
      "1313/1313 [==============================] - 4s 3ms/step - loss: 0.9540 - accuracy: 0.7010 - val_loss: 1.0709 - val_accuracy: 0.6676\n",
      "Epoch 306/350\n",
      "1313/1313 [==============================] - 3s 3ms/step - loss: 0.9393 - accuracy: 0.7067 - val_loss: 1.0285 - val_accuracy: 0.6916\n",
      "Epoch 307/350\n",
      "1313/1313 [==============================] - 4s 3ms/step - loss: 0.9484 - accuracy: 0.7031 - val_loss: 1.0664 - val_accuracy: 0.6660\n",
      "Epoch 308/350\n",
      "1313/1313 [==============================] - 4s 3ms/step - loss: 0.9479 - accuracy: 0.7038 - val_loss: 1.0174 - val_accuracy: 0.6872\n",
      "Epoch 309/350\n",
      "1313/1313 [==============================] - 4s 3ms/step - loss: 0.9476 - accuracy: 0.7025 - val_loss: 1.0601 - val_accuracy: 0.6803\n",
      "Epoch 310/350\n",
      "1313/1313 [==============================] - 3s 3ms/step - loss: 0.9484 - accuracy: 0.7042 - val_loss: 1.0425 - val_accuracy: 0.6796\n",
      "Epoch 311/350\n",
      "1313/1313 [==============================] - 3s 3ms/step - loss: 0.9620 - accuracy: 0.6988 - val_loss: 1.0302 - val_accuracy: 0.6851\n",
      "Epoch 312/350\n",
      "1313/1313 [==============================] - 3s 3ms/step - loss: 0.9443 - accuracy: 0.7050 - val_loss: 1.0345 - val_accuracy: 0.6797\n",
      "Epoch 313/350\n",
      "1313/1313 [==============================] - 4s 3ms/step - loss: 0.9532 - accuracy: 0.7001 - val_loss: 1.0902 - val_accuracy: 0.6622\n",
      "Epoch 314/350\n",
      "1313/1313 [==============================] - 4s 3ms/step - loss: 0.9498 - accuracy: 0.7011 - val_loss: 1.0200 - val_accuracy: 0.6866\n",
      "Epoch 315/350\n",
      "1313/1313 [==============================] - 3s 3ms/step - loss: 0.9455 - accuracy: 0.7038 - val_loss: 1.0703 - val_accuracy: 0.6702\n",
      "Epoch 316/350\n",
      "1313/1313 [==============================] - 3s 3ms/step - loss: 0.9473 - accuracy: 0.7035 - val_loss: 1.1467 - val_accuracy: 0.6433\n",
      "Epoch 317/350\n",
      "1313/1313 [==============================] - 3s 3ms/step - loss: 0.9542 - accuracy: 0.6996 - val_loss: 1.0178 - val_accuracy: 0.6847\n",
      "Epoch 318/350\n",
      "1313/1313 [==============================] - 3s 3ms/step - loss: 0.9419 - accuracy: 0.7069 - val_loss: 1.0045 - val_accuracy: 0.6920\n",
      "Epoch 319/350\n",
      "1313/1313 [==============================] - 3s 3ms/step - loss: 0.9452 - accuracy: 0.7040 - val_loss: 1.0466 - val_accuracy: 0.6824\n",
      "Epoch 320/350\n",
      "1313/1313 [==============================] - 4s 3ms/step - loss: 0.9561 - accuracy: 0.7016 - val_loss: 1.0007 - val_accuracy: 0.6937\n",
      "Epoch 321/350\n",
      "1313/1313 [==============================] - 4s 3ms/step - loss: 0.9475 - accuracy: 0.7039 - val_loss: 1.0876 - val_accuracy: 0.6658\n",
      "Epoch 322/350\n",
      "1313/1313 [==============================] - 4s 3ms/step - loss: 0.9517 - accuracy: 0.7019 - val_loss: 1.0220 - val_accuracy: 0.6902\n",
      "Epoch 323/350\n",
      "1313/1313 [==============================] - 3s 3ms/step - loss: 0.9581 - accuracy: 0.7009 - val_loss: 1.0431 - val_accuracy: 0.6824\n",
      "Epoch 324/350\n",
      "1313/1313 [==============================] - 3s 3ms/step - loss: 0.9421 - accuracy: 0.7054 - val_loss: 1.0199 - val_accuracy: 0.6886\n",
      "Epoch 325/350\n",
      "1313/1313 [==============================] - 3s 3ms/step - loss: 0.9482 - accuracy: 0.7037 - val_loss: 1.0675 - val_accuracy: 0.6693\n",
      "Epoch 326/350\n",
      "1313/1313 [==============================] - 3s 3ms/step - loss: 0.9438 - accuracy: 0.7045 - val_loss: 1.0458 - val_accuracy: 0.6809\n",
      "Epoch 327/350\n",
      "1313/1313 [==============================] - 4s 3ms/step - loss: 0.9478 - accuracy: 0.7039 - val_loss: 1.0509 - val_accuracy: 0.6833\n",
      "Epoch 328/350\n",
      "1313/1313 [==============================] - 3s 3ms/step - loss: 0.9531 - accuracy: 0.7025 - val_loss: 1.0598 - val_accuracy: 0.6786\n",
      "Epoch 329/350\n",
      "1313/1313 [==============================] - 3s 3ms/step - loss: 0.9652 - accuracy: 0.6988 - val_loss: 1.0574 - val_accuracy: 0.6747\n",
      "Epoch 330/350\n",
      "1313/1313 [==============================] - 3s 3ms/step - loss: 0.9412 - accuracy: 0.7058 - val_loss: 1.0323 - val_accuracy: 0.6884\n",
      "Epoch 331/350\n",
      "1313/1313 [==============================] - 3s 3ms/step - loss: 0.9427 - accuracy: 0.7053 - val_loss: 1.0505 - val_accuracy: 0.6819\n",
      "Epoch 332/350\n",
      "1313/1313 [==============================] - 4s 3ms/step - loss: 0.9526 - accuracy: 0.7018 - val_loss: 1.0273 - val_accuracy: 0.6864\n",
      "Epoch 333/350\n",
      "1313/1313 [==============================] - 3s 3ms/step - loss: 0.9496 - accuracy: 0.7023 - val_loss: 1.0251 - val_accuracy: 0.6887\n",
      "Epoch 334/350\n",
      "1313/1313 [==============================] - 3s 3ms/step - loss: 0.9457 - accuracy: 0.7044 - val_loss: 0.9916 - val_accuracy: 0.6939\n",
      "Epoch 335/350\n",
      "1313/1313 [==============================] - 3s 3ms/step - loss: 0.9448 - accuracy: 0.7058 - val_loss: 1.0174 - val_accuracy: 0.6897\n",
      "Epoch 336/350\n",
      "1313/1313 [==============================] - 4s 3ms/step - loss: 0.9414 - accuracy: 0.7047 - val_loss: 1.0324 - val_accuracy: 0.6826\n",
      "Epoch 337/350\n",
      "1313/1313 [==============================] - 4s 3ms/step - loss: 0.9429 - accuracy: 0.7039 - val_loss: 1.0532 - val_accuracy: 0.6757\n",
      "Epoch 338/350\n",
      "1313/1313 [==============================] - 3s 3ms/step - loss: 0.9493 - accuracy: 0.7031 - val_loss: 1.0163 - val_accuracy: 0.6936\n",
      "Epoch 339/350\n",
      "1313/1313 [==============================] - 3s 3ms/step - loss: 0.9390 - accuracy: 0.7064 - val_loss: 1.0069 - val_accuracy: 0.6909\n",
      "Epoch 340/350\n",
      "1313/1313 [==============================] - 3s 3ms/step - loss: 0.9430 - accuracy: 0.7048 - val_loss: 1.0613 - val_accuracy: 0.6727\n",
      "Epoch 341/350\n",
      "1313/1313 [==============================] - 3s 3ms/step - loss: 0.9609 - accuracy: 0.6996 - val_loss: 1.0443 - val_accuracy: 0.6804\n",
      "Epoch 342/350\n",
      "1313/1313 [==============================] - 3s 3ms/step - loss: 0.9529 - accuracy: 0.7031 - val_loss: 1.0427 - val_accuracy: 0.6828\n",
      "Epoch 343/350\n",
      "1313/1313 [==============================] - 3s 3ms/step - loss: 0.9383 - accuracy: 0.7068 - val_loss: 1.0166 - val_accuracy: 0.6897\n",
      "Epoch 344/350\n",
      "1313/1313 [==============================] - 3s 3ms/step - loss: 0.9395 - accuracy: 0.7076 - val_loss: 1.0325 - val_accuracy: 0.6900\n",
      "Epoch 345/350\n",
      "1313/1313 [==============================] - 3s 3ms/step - loss: 0.9530 - accuracy: 0.7022 - val_loss: 1.0134 - val_accuracy: 0.6926\n",
      "Epoch 346/350\n",
      "1313/1313 [==============================] - 3s 3ms/step - loss: 0.9559 - accuracy: 0.7011 - val_loss: 1.0440 - val_accuracy: 0.6853\n",
      "Epoch 347/350\n",
      "1313/1313 [==============================] - 3s 3ms/step - loss: 0.9433 - accuracy: 0.7037 - val_loss: 1.0468 - val_accuracy: 0.6785\n",
      "Epoch 348/350\n",
      "1313/1313 [==============================] - 3s 3ms/step - loss: 0.9585 - accuracy: 0.6997 - val_loss: 1.0003 - val_accuracy: 0.6955\n",
      "Epoch 349/350\n",
      "1313/1313 [==============================] - 3s 3ms/step - loss: 0.9534 - accuracy: 0.7013 - val_loss: 1.0172 - val_accuracy: 0.6889\n",
      "Epoch 350/350\n",
      "1313/1313 [==============================] - 3s 3ms/step - loss: 0.9565 - accuracy: 0.7024 - val_loss: 1.0164 - val_accuracy: 0.6901\n"
     ]
    }
   ],
   "source": [
    "history_w_bn_dl = model_w_bn_dl.fit(X_train, y_train, epochs = 350, verbose = 1, validation_data=(X_test, y_test))"
   ]
  },
  {
   "cell_type": "code",
   "execution_count": 16,
   "metadata": {
    "colab": {
     "base_uri": "https://localhost:8080/"
    },
    "id": "LsWDD4Q2sIF6",
    "outputId": "8c4c14f8-24c0-48c7-dbe3-623fa08e6342"
   },
   "outputs": [
    {
     "name": "stdout",
     "output_type": "stream",
     "text": [
      "1875/1875 [==============================] - 3s 1ms/step - loss: 0.9394 - accuracy: 0.7074\n"
     ]
    },
    {
     "data": {
      "text/plain": [
       "[0.9393710494041443, 0.7073500156402588]"
      ]
     },
     "execution_count": 16,
     "metadata": {
      "tags": []
     },
     "output_type": "execute_result"
    }
   ],
   "source": [
    "model_w_bn_dl.evaluate(X_val.reshape(X_val.shape[0],-1), y_val)"
   ]
  },
  {
   "cell_type": "code",
   "execution_count": 72,
   "metadata": {
    "colab": {
     "base_uri": "https://localhost:8080/",
     "height": 295
    },
    "id": "Hf4SYxeeajGL",
    "outputId": "92946686-2af9-46c2-ca45-1152d8e97649"
   },
   "outputs": [
    {
     "data": {
      "image/png": "[encoded data removed]",
      "text/plain": [
       "<Figure size 432x288 with 1 Axes>"
      ]
     },
     "metadata": {
      "needs_background": "light",
      "tags": []
     },
     "output_type": "display_data"
    }
   ],
   "source": [
    "# summarize history for accuracy\n",
    "plt.plot(history_w_bn_dl.history['accuracy'])\n",
    "plt.plot(history_w_bn_dl.history['val_accuracy'])\n",
    "plt.title('model loss without batch norm and dropout')\n",
    "plt.ylabel('accuracy')\n",
    "plt.xlabel('epoch')\n",
    "plt.legend(['train', 'test'], loc='upper left')\n",
    "plt.show()\n"
   ]
  },
  {
   "cell_type": "code",
   "execution_count": 73,
   "metadata": {
    "colab": {
     "base_uri": "https://localhost:8080/",
     "height": 295
    },
    "id": "m_sr0eznatZq",
    "outputId": "e24b3a69-9579-4eee-e1f1-dbdf2b1dd58f"
   },
   "outputs": [
    {
     "data": {
      "image/png": "[encoded data removed]",
      "text/plain": [
       "<Figure size 432x288 with 1 Axes>"
      ]
     },
     "metadata": {
      "needs_background": "light",
      "tags": []
     },
     "output_type": "display_data"
    }
   ],
   "source": [
    "# summarize history for loss\n",
    "plt.plot(history_w_bn_dl.history['loss'])\n",
    "plt.plot(history_w_bn_dl.history['val_loss'])\n",
    "plt.title('model loss without batch norm and dropout')\n",
    "plt.ylabel('loss')\n",
    "plt.xlabel('epoch')\n",
    "plt.legend(['train', 'test'], loc='upper left')\n",
    "plt.show()"
   ]
  },
  {
   "cell_type": "code",
   "execution_count": 17,
   "metadata": {
    "id": "oBl8lVSK9ikR"
   },
   "outputs": [],
   "source": [
    "model = Sequential()\n",
    "\n",
    "model.add(Dense(50, input_shape = (1024, )))\n",
    "model.add(BatchNormalization())\n",
    "model.add(Activation('relu'))\n",
    "model.add(Dropout(0.2))\n",
    "model.add(Dense(50))\n",
    "model.add(BatchNormalization())\n",
    "model.add(Activation('relu'))    \n",
    "model.add(Dropout(0.2))\n",
    "model.add(Dense(50))\n",
    "model.add(BatchNormalization())\n",
    "model.add(Activation('relu'))\n",
    "model.add(Dropout(0.2))\n",
    "model.add(Dense(50))\n",
    "model.add(BatchNormalization())\n",
    "model.add(Activation('relu'))\n",
    "model.add(Dropout(0.2))\n",
    "model.add(Dense(num_classes))\n",
    "model.add(Activation('softmax'))\n",
    "\n",
    "adam = optimizers.Adam(lr = 0.001)\n",
    "model.compile(optimizer = adam, loss = 'categorical_crossentropy', metrics = ['accuracy'])"
   ]
  },
  {
   "cell_type": "code",
   "execution_count": 18,
   "metadata": {
    "colab": {
     "base_uri": "https://localhost:8080/"
    },
    "id": "Ol5GPkygLn6L",
    "outputId": "c02a38be-415c-4009-da3d-5c2df4be174d"
   },
   "outputs": [
    {
     "name": "stdout",
     "output_type": "stream",
     "text": [
      "Model: \"sequential_1\"\n",
      "_________________________________________________________________\n",
      "Layer (type)                 Output Shape              Param #   \n",
      "=================================================================\n",
      "dense_5 (Dense)              (None, 50)                51250     \n",
      "_________________________________________________________________\n",
      "batch_normalization (BatchNo (None, 50)                200       \n",
      "_________________________________________________________________\n",
      "activation_5 (Activation)    (None, 50)                0         \n",
      "_________________________________________________________________\n",
      "dropout (Dropout)            (None, 50)                0         \n",
      "_________________________________________________________________\n",
      "dense_6 (Dense)              (None, 50)                2550      \n",
      "_________________________________________________________________\n",
      "batch_normalization_1 (Batch (None, 50)                200       \n",
      "_________________________________________________________________\n",
      "activation_6 (Activation)    (None, 50)                0         \n",
      "_________________________________________________________________\n",
      "dropout_1 (Dropout)          (None, 50)                0         \n",
      "_________________________________________________________________\n",
      "dense_7 (Dense)              (None, 50)                2550      \n",
      "_________________________________________________________________\n",
      "batch_normalization_2 (Batch (None, 50)                200       \n",
      "_________________________________________________________________\n",
      "activation_7 (Activation)    (None, 50)                0         \n",
      "_________________________________________________________________\n",
      "dropout_2 (Dropout)          (None, 50)                0         \n",
      "_________________________________________________________________\n",
      "dense_8 (Dense)              (None, 50)                2550      \n",
      "_________________________________________________________________\n",
      "batch_normalization_3 (Batch (None, 50)                200       \n",
      "_________________________________________________________________\n",
      "activation_8 (Activation)    (None, 50)                0         \n",
      "_________________________________________________________________\n",
      "dropout_3 (Dropout)          (None, 50)                0         \n",
      "_________________________________________________________________\n",
      "dense_9 (Dense)              (None, 10)                510       \n",
      "_________________________________________________________________\n",
      "activation_9 (Activation)    (None, 10)                0         \n",
      "=================================================================\n",
      "Total params: 60,210\n",
      "Trainable params: 59,810\n",
      "Non-trainable params: 400\n",
      "_________________________________________________________________\n"
     ]
    }
   ],
   "source": [
    "model.summary()"
   ]
  },
  {
   "cell_type": "code",
   "execution_count": 19,
   "metadata": {
    "colab": {
     "base_uri": "https://localhost:8080/"
    },
    "id": "nCcIq8ymLpef",
    "outputId": "b1a21be0-9614-48e8-d3ab-d1e6e7f0e16b",
    "scrolled": false
   },
   "outputs": [
    {
     "name": "stdout",
     "output_type": "stream",
     "text": [
      "Epoch 1/350\n",
      "1313/1313 [==============================] - 5s 3ms/step - loss: 2.1840 - accuracy: 0.1943 - val_loss: 1.8516 - val_accuracy: 0.3516\n",
      "Epoch 2/350\n",
      "1313/1313 [==============================] - 4s 3ms/step - loss: 1.7522 - accuracy: 0.3797 - val_loss: 1.8076 - val_accuracy: 0.3854\n",
      "Epoch 3/350\n",
      "1313/1313 [==============================] - 4s 3ms/step - loss: 1.5685 - accuracy: 0.4688 - val_loss: 1.4547 - val_accuracy: 0.4890\n",
      "Epoch 4/350\n",
      "1313/1313 [==============================] - 4s 3ms/step - loss: 1.4805 - accuracy: 0.5095 - val_loss: 1.4131 - val_accuracy: 0.5338\n",
      "Epoch 5/350\n",
      "1313/1313 [==============================] - 4s 3ms/step - loss: 1.4176 - accuracy: 0.5369 - val_loss: 1.3592 - val_accuracy: 0.5627\n",
      "Epoch 6/350\n",
      "1313/1313 [==============================] - 5s 4ms/step - loss: 1.3619 - accuracy: 0.5603 - val_loss: 1.7134 - val_accuracy: 0.4464\n",
      "Epoch 7/350\n",
      "1313/1313 [==============================] - 5s 3ms/step - loss: 1.3319 - accuracy: 0.5735 - val_loss: 1.1703 - val_accuracy: 0.6280\n",
      "Epoch 8/350\n",
      "1313/1313 [==============================] - 5s 3ms/step - loss: 1.3065 - accuracy: 0.5838 - val_loss: 1.0016 - val_accuracy: 0.7083\n",
      "Epoch 9/350\n",
      "1313/1313 [==============================] - 5s 4ms/step - loss: 1.2723 - accuracy: 0.5958 - val_loss: 1.0886 - val_accuracy: 0.6611\n",
      "Epoch 10/350\n",
      "1313/1313 [==============================] - 5s 4ms/step - loss: 1.2633 - accuracy: 0.5999 - val_loss: 1.2452 - val_accuracy: 0.6084\n",
      "Epoch 11/350\n",
      "1313/1313 [==============================] - 5s 4ms/step - loss: 1.2435 - accuracy: 0.6101 - val_loss: 1.0214 - val_accuracy: 0.6831\n",
      "Epoch 12/350\n",
      "1313/1313 [==============================] - 5s 4ms/step - loss: 1.2280 - accuracy: 0.6122 - val_loss: 1.0350 - val_accuracy: 0.6798\n",
      "Epoch 13/350\n",
      "1313/1313 [==============================] - 5s 3ms/step - loss: 1.2163 - accuracy: 0.6156 - val_loss: 1.0304 - val_accuracy: 0.6807\n",
      "Epoch 14/350\n",
      "1313/1313 [==============================] - 4s 3ms/step - loss: 1.2032 - accuracy: 0.6223 - val_loss: 0.9777 - val_accuracy: 0.7011\n",
      "Epoch 15/350\n",
      "1313/1313 [==============================] - 5s 3ms/step - loss: 1.1910 - accuracy: 0.6271 - val_loss: 1.0819 - val_accuracy: 0.6563\n",
      "Epoch 16/350\n",
      "1313/1313 [==============================] - 5s 4ms/step - loss: 1.1802 - accuracy: 0.6323 - val_loss: 0.9721 - val_accuracy: 0.6953\n",
      "Epoch 17/350\n",
      "1313/1313 [==============================] - 5s 4ms/step - loss: 1.1827 - accuracy: 0.6316 - val_loss: 0.9372 - val_accuracy: 0.7185\n",
      "Epoch 18/350\n",
      "1313/1313 [==============================] - 4s 3ms/step - loss: 1.1716 - accuracy: 0.6334 - val_loss: 1.0110 - val_accuracy: 0.6753\n",
      "Epoch 19/350\n",
      "1313/1313 [==============================] - 4s 3ms/step - loss: 1.1718 - accuracy: 0.6360 - val_loss: 1.0225 - val_accuracy: 0.6796\n",
      "Epoch 20/350\n",
      "1313/1313 [==============================] - 5s 3ms/step - loss: 1.1674 - accuracy: 0.6358 - val_loss: 1.0136 - val_accuracy: 0.6765\n",
      "Epoch 21/350\n",
      "1313/1313 [==============================] - 5s 4ms/step - loss: 1.1497 - accuracy: 0.6403 - val_loss: 0.9642 - val_accuracy: 0.6889\n",
      "Epoch 22/350\n",
      "1313/1313 [==============================] - 4s 3ms/step - loss: 1.1493 - accuracy: 0.6399 - val_loss: 0.8950 - val_accuracy: 0.7200\n",
      "Epoch 23/350\n",
      "1313/1313 [==============================] - 6s 4ms/step - loss: 1.1480 - accuracy: 0.6401 - val_loss: 1.1789 - val_accuracy: 0.6318\n",
      "Epoch 24/350\n",
      "1313/1313 [==============================] - 6s 5ms/step - loss: 1.1404 - accuracy: 0.6426 - val_loss: 0.9830 - val_accuracy: 0.7038\n",
      "Epoch 25/350\n",
      "1313/1313 [==============================] - 5s 4ms/step - loss: 1.1357 - accuracy: 0.6469 - val_loss: 0.7907 - val_accuracy: 0.7637\n",
      "Epoch 26/350\n",
      "1313/1313 [==============================] - 5s 4ms/step - loss: 1.1374 - accuracy: 0.6462 - val_loss: 0.9451 - val_accuracy: 0.7195\n",
      "Epoch 27/350\n",
      "1313/1313 [==============================] - 5s 4ms/step - loss: 1.1288 - accuracy: 0.6482 - val_loss: 0.8809 - val_accuracy: 0.7284\n",
      "Epoch 28/350\n",
      "1313/1313 [==============================] - 5s 3ms/step - loss: 1.1232 - accuracy: 0.6507 - val_loss: 0.8550 - val_accuracy: 0.7344\n",
      "Epoch 29/350\n",
      "1313/1313 [==============================] - 5s 4ms/step - loss: 1.1196 - accuracy: 0.6512 - val_loss: 0.8545 - val_accuracy: 0.7363\n",
      "Epoch 30/350\n",
      "1313/1313 [==============================] - 5s 4ms/step - loss: 1.1216 - accuracy: 0.6528 - val_loss: 0.9220 - val_accuracy: 0.6998\n",
      "Epoch 31/350\n",
      "1313/1313 [==============================] - 5s 3ms/step - loss: 1.1154 - accuracy: 0.6530 - val_loss: 0.8660 - val_accuracy: 0.7317\n",
      "Epoch 32/350\n",
      "1313/1313 [==============================] - 5s 3ms/step - loss: 1.1187 - accuracy: 0.6529 - val_loss: 0.9179 - val_accuracy: 0.7171\n",
      "Epoch 33/350\n",
      "1313/1313 [==============================] - 5s 3ms/step - loss: 1.1054 - accuracy: 0.6577 - val_loss: 0.8070 - val_accuracy: 0.7615\n",
      "Epoch 34/350\n",
      "1313/1313 [==============================] - 5s 3ms/step - loss: 1.1065 - accuracy: 0.6553 - val_loss: 0.8959 - val_accuracy: 0.7158\n",
      "Epoch 35/350\n",
      "1313/1313 [==============================] - 5s 3ms/step - loss: 1.0919 - accuracy: 0.6625 - val_loss: 0.8327 - val_accuracy: 0.7428\n",
      "Epoch 36/350\n",
      "1313/1313 [==============================] - 5s 4ms/step - loss: 1.1009 - accuracy: 0.6574 - val_loss: 0.8815 - val_accuracy: 0.7257\n",
      "Epoch 37/350\n",
      "1313/1313 [==============================] - 5s 4ms/step - loss: 1.1044 - accuracy: 0.6569 - val_loss: 0.8643 - val_accuracy: 0.7348\n",
      "Epoch 38/350\n",
      "1313/1313 [==============================] - 5s 4ms/step - loss: 1.0902 - accuracy: 0.6605 - val_loss: 0.9448 - val_accuracy: 0.7022\n",
      "Epoch 39/350\n",
      "1313/1313 [==============================] - 5s 3ms/step - loss: 1.0960 - accuracy: 0.6582 - val_loss: 0.8556 - val_accuracy: 0.7338\n",
      "Epoch 40/350\n",
      "1313/1313 [==============================] - 4s 3ms/step - loss: 1.0926 - accuracy: 0.6620 - val_loss: 0.8407 - val_accuracy: 0.7406\n",
      "Epoch 41/350\n",
      "1313/1313 [==============================] - 4s 3ms/step - loss: 1.0883 - accuracy: 0.6613 - val_loss: 0.9175 - val_accuracy: 0.7144\n",
      "Epoch 42/350\n",
      "1313/1313 [==============================] - 5s 4ms/step - loss: 1.0862 - accuracy: 0.6624 - val_loss: 0.8190 - val_accuracy: 0.7497\n",
      "Epoch 43/350\n",
      "1313/1313 [==============================] - 4s 3ms/step - loss: 1.0867 - accuracy: 0.6616 - val_loss: 0.9445 - val_accuracy: 0.6999\n",
      "Epoch 44/350\n",
      "1313/1313 [==============================] - 4s 3ms/step - loss: 1.0905 - accuracy: 0.6610 - val_loss: 0.8526 - val_accuracy: 0.7377\n",
      "Epoch 45/350\n",
      "1313/1313 [==============================] - 5s 4ms/step - loss: 1.0766 - accuracy: 0.6635 - val_loss: 0.8042 - val_accuracy: 0.7563\n",
      "Epoch 46/350\n",
      "1313/1313 [==============================] - 4s 3ms/step - loss: 1.0801 - accuracy: 0.6641 - val_loss: 0.8594 - val_accuracy: 0.7338\n",
      "Epoch 47/350\n",
      "1313/1313 [==============================] - 4s 3ms/step - loss: 1.0791 - accuracy: 0.6650 - val_loss: 0.8718 - val_accuracy: 0.7245\n",
      "Epoch 48/350\n",
      "1313/1313 [==============================] - 5s 4ms/step - loss: 1.0707 - accuracy: 0.6666 - val_loss: 0.8796 - val_accuracy: 0.7283\n",
      "Epoch 49/350\n",
      "1313/1313 [==============================] - 5s 4ms/step - loss: 1.0732 - accuracy: 0.6687 - val_loss: 0.8160 - val_accuracy: 0.7484\n",
      "Epoch 50/350\n",
      "1313/1313 [==============================] - 5s 4ms/step - loss: 1.0758 - accuracy: 0.6676 - val_loss: 0.7674 - val_accuracy: 0.7681\n",
      "Epoch 51/350\n",
      "1313/1313 [==============================] - 5s 4ms/step - loss: 1.0653 - accuracy: 0.6676 - val_loss: 1.0135 - val_accuracy: 0.6782\n",
      "Epoch 52/350\n",
      "1313/1313 [==============================] - 5s 4ms/step - loss: 1.0657 - accuracy: 0.6677 - val_loss: 0.8389 - val_accuracy: 0.7466\n",
      "Epoch 53/350\n",
      "1313/1313 [==============================] - 5s 4ms/step - loss: 1.0662 - accuracy: 0.6680 - val_loss: 0.7816 - val_accuracy: 0.7607\n",
      "Epoch 54/350\n",
      "1313/1313 [==============================] - 5s 4ms/step - loss: 1.0725 - accuracy: 0.6676 - val_loss: 0.7964 - val_accuracy: 0.7575\n",
      "Epoch 55/350\n",
      "1313/1313 [==============================] - 5s 4ms/step - loss: 1.0673 - accuracy: 0.6693 - val_loss: 0.8114 - val_accuracy: 0.7519\n",
      "Epoch 56/350\n",
      "1313/1313 [==============================] - 5s 4ms/step - loss: 1.0571 - accuracy: 0.6727 - val_loss: 0.7879 - val_accuracy: 0.7598\n",
      "Epoch 57/350\n",
      "1313/1313 [==============================] - 5s 4ms/step - loss: 1.0654 - accuracy: 0.6700 - val_loss: 0.8296 - val_accuracy: 0.7533\n",
      "Epoch 58/350\n",
      "1313/1313 [==============================] - 5s 4ms/step - loss: 1.0577 - accuracy: 0.6706 - val_loss: 0.7609 - val_accuracy: 0.7711\n",
      "Epoch 59/350\n",
      "1313/1313 [==============================] - 5s 4ms/step - loss: 1.0564 - accuracy: 0.6699 - val_loss: 0.8773 - val_accuracy: 0.7342\n",
      "Epoch 60/350\n",
      "1313/1313 [==============================] - 5s 4ms/step - loss: 1.0562 - accuracy: 0.6706 - val_loss: 0.7894 - val_accuracy: 0.7591\n",
      "Epoch 61/350\n",
      "1313/1313 [==============================] - 5s 4ms/step - loss: 1.0575 - accuracy: 0.6720 - val_loss: 0.7651 - val_accuracy: 0.7704\n",
      "Epoch 62/350\n",
      "1313/1313 [==============================] - 5s 4ms/step - loss: 1.0528 - accuracy: 0.6733 - val_loss: 0.7836 - val_accuracy: 0.7676\n",
      "Epoch 63/350\n",
      "1313/1313 [==============================] - 5s 3ms/step - loss: 1.0544 - accuracy: 0.6716 - val_loss: 0.7729 - val_accuracy: 0.7638\n",
      "Epoch 64/350\n",
      "1313/1313 [==============================] - 5s 3ms/step - loss: 1.0611 - accuracy: 0.6721 - val_loss: 0.8209 - val_accuracy: 0.7429\n",
      "Epoch 65/350\n",
      "1313/1313 [==============================] - 5s 3ms/step - loss: 1.0500 - accuracy: 0.6739 - val_loss: 0.7966 - val_accuracy: 0.7546\n",
      "Epoch 66/350\n",
      "1313/1313 [==============================] - 5s 3ms/step - loss: 1.0421 - accuracy: 0.6761 - val_loss: 0.7961 - val_accuracy: 0.7533\n",
      "Epoch 67/350\n",
      "1313/1313 [==============================] - 4s 3ms/step - loss: 1.0523 - accuracy: 0.6732 - val_loss: 0.7774 - val_accuracy: 0.7612\n",
      "Epoch 68/350\n",
      "1313/1313 [==============================] - 5s 3ms/step - loss: 1.0415 - accuracy: 0.6778 - val_loss: 0.7904 - val_accuracy: 0.7616\n",
      "Epoch 69/350\n",
      "1313/1313 [==============================] - 5s 3ms/step - loss: 1.0365 - accuracy: 0.6786 - val_loss: 0.7640 - val_accuracy: 0.7661\n",
      "Epoch 70/350\n",
      "1313/1313 [==============================] - 5s 4ms/step - loss: 1.0511 - accuracy: 0.6750 - val_loss: 0.7964 - val_accuracy: 0.7506\n",
      "Epoch 71/350\n",
      "1313/1313 [==============================] - 5s 3ms/step - loss: 1.0507 - accuracy: 0.6731 - val_loss: 0.7808 - val_accuracy: 0.7648\n",
      "Epoch 72/350\n",
      "1313/1313 [==============================] - 4s 3ms/step - loss: 1.0423 - accuracy: 0.6750 - val_loss: 0.9862 - val_accuracy: 0.6860\n",
      "Epoch 73/350\n",
      "1313/1313 [==============================] - 5s 3ms/step - loss: 1.0344 - accuracy: 0.6768 - val_loss: 0.7777 - val_accuracy: 0.7590\n",
      "Epoch 74/350\n",
      "1313/1313 [==============================] - 5s 4ms/step - loss: 1.0359 - accuracy: 0.6812 - val_loss: 0.7570 - val_accuracy: 0.7710\n",
      "Epoch 75/350\n",
      "1313/1313 [==============================] - 5s 4ms/step - loss: 1.0365 - accuracy: 0.6791 - val_loss: 0.7767 - val_accuracy: 0.7629\n",
      "Epoch 76/350\n",
      "1313/1313 [==============================] - 5s 4ms/step - loss: 1.0390 - accuracy: 0.6767 - val_loss: 0.7851 - val_accuracy: 0.7635\n",
      "Epoch 77/350\n",
      "1313/1313 [==============================] - 5s 3ms/step - loss: 1.0346 - accuracy: 0.6795 - val_loss: 0.7671 - val_accuracy: 0.7660\n",
      "Epoch 78/350\n",
      "1313/1313 [==============================] - 5s 3ms/step - loss: 1.0308 - accuracy: 0.6794 - val_loss: 0.7831 - val_accuracy: 0.7590\n",
      "Epoch 79/350\n",
      "1313/1313 [==============================] - 5s 3ms/step - loss: 1.0371 - accuracy: 0.6807 - val_loss: 0.7915 - val_accuracy: 0.7564\n",
      "Epoch 80/350\n",
      "1313/1313 [==============================] - 5s 3ms/step - loss: 1.0316 - accuracy: 0.6802 - val_loss: 0.7532 - val_accuracy: 0.7688\n",
      "Epoch 81/350\n",
      "1313/1313 [==============================] - 5s 3ms/step - loss: 1.0358 - accuracy: 0.6791 - val_loss: 0.7386 - val_accuracy: 0.7745\n",
      "Epoch 82/350\n",
      "1313/1313 [==============================] - 4s 3ms/step - loss: 1.0224 - accuracy: 0.6824 - val_loss: 0.7559 - val_accuracy: 0.7694\n",
      "Epoch 83/350\n",
      "1313/1313 [==============================] - 4s 3ms/step - loss: 1.0314 - accuracy: 0.6798 - val_loss: 0.7747 - val_accuracy: 0.7613\n",
      "Epoch 84/350\n",
      "1313/1313 [==============================] - 5s 3ms/step - loss: 1.0342 - accuracy: 0.6798 - val_loss: 0.7474 - val_accuracy: 0.7753\n",
      "Epoch 85/350\n",
      "1313/1313 [==============================] - 4s 3ms/step - loss: 1.0253 - accuracy: 0.6821 - val_loss: 0.7052 - val_accuracy: 0.7854\n",
      "Epoch 86/350\n",
      "1313/1313 [==============================] - 4s 3ms/step - loss: 1.0278 - accuracy: 0.6812 - val_loss: 0.8299 - val_accuracy: 0.7426\n",
      "Epoch 87/350\n",
      "1313/1313 [==============================] - 4s 3ms/step - loss: 1.0278 - accuracy: 0.6798 - val_loss: 0.7314 - val_accuracy: 0.7801\n",
      "Epoch 88/350\n",
      "1313/1313 [==============================] - 4s 3ms/step - loss: 1.0264 - accuracy: 0.6809 - val_loss: 0.7298 - val_accuracy: 0.7793\n",
      "Epoch 89/350\n",
      "1313/1313 [==============================] - 5s 4ms/step - loss: 1.0228 - accuracy: 0.6823 - val_loss: 0.7417 - val_accuracy: 0.7739\n",
      "Epoch 90/350\n",
      "1313/1313 [==============================] - 5s 3ms/step - loss: 1.0312 - accuracy: 0.6811 - val_loss: 0.7716 - val_accuracy: 0.7613\n",
      "Epoch 91/350\n",
      "1313/1313 [==============================] - 5s 4ms/step - loss: 1.0311 - accuracy: 0.6797 - val_loss: 0.7640 - val_accuracy: 0.7651\n",
      "Epoch 92/350\n",
      "1313/1313 [==============================] - 5s 4ms/step - loss: 1.0293 - accuracy: 0.6797 - val_loss: 0.7136 - val_accuracy: 0.7859\n",
      "Epoch 93/350\n",
      "1313/1313 [==============================] - 5s 3ms/step - loss: 1.0190 - accuracy: 0.6856 - val_loss: 0.7189 - val_accuracy: 0.7830\n",
      "Epoch 94/350\n",
      "1313/1313 [==============================] - 4s 3ms/step - loss: 1.0216 - accuracy: 0.6825 - val_loss: 0.7627 - val_accuracy: 0.7724\n",
      "Epoch 95/350\n",
      "1313/1313 [==============================] - 4s 3ms/step - loss: 1.0263 - accuracy: 0.6804 - val_loss: 0.7362 - val_accuracy: 0.7746\n",
      "Epoch 96/350\n",
      "1313/1313 [==============================] - 4s 3ms/step - loss: 1.0238 - accuracy: 0.6837 - val_loss: 0.7423 - val_accuracy: 0.7773\n",
      "Epoch 97/350\n",
      "1313/1313 [==============================] - 4s 3ms/step - loss: 1.0074 - accuracy: 0.6873 - val_loss: 0.7333 - val_accuracy: 0.7788\n",
      "Epoch 98/350\n",
      "1313/1313 [==============================] - 4s 3ms/step - loss: 1.0205 - accuracy: 0.6834 - val_loss: 0.7832 - val_accuracy: 0.7571\n",
      "Epoch 99/350\n",
      "1313/1313 [==============================] - 4s 3ms/step - loss: 1.0170 - accuracy: 0.6842 - val_loss: 0.7506 - val_accuracy: 0.7701\n",
      "Epoch 100/350\n",
      "1313/1313 [==============================] - 4s 3ms/step - loss: 1.0194 - accuracy: 0.6860 - val_loss: 0.7828 - val_accuracy: 0.7577\n",
      "Epoch 101/350\n",
      "1313/1313 [==============================] - 4s 3ms/step - loss: 1.0150 - accuracy: 0.6843 - val_loss: 0.7197 - val_accuracy: 0.7813\n",
      "Epoch 102/350\n",
      "1313/1313 [==============================] - 4s 3ms/step - loss: 1.0174 - accuracy: 0.6818 - val_loss: 0.6945 - val_accuracy: 0.7919\n",
      "Epoch 103/350\n",
      "1313/1313 [==============================] - 4s 3ms/step - loss: 1.0214 - accuracy: 0.6827 - val_loss: 0.7683 - val_accuracy: 0.7646\n",
      "Epoch 104/350\n",
      "1313/1313 [==============================] - 4s 3ms/step - loss: 1.0144 - accuracy: 0.6844 - val_loss: 0.8498 - val_accuracy: 0.7331\n",
      "Epoch 105/350\n",
      "1313/1313 [==============================] - 5s 4ms/step - loss: 1.0121 - accuracy: 0.6854 - val_loss: 0.7139 - val_accuracy: 0.7854\n",
      "Epoch 106/350\n",
      "1313/1313 [==============================] - 4s 3ms/step - loss: 1.0122 - accuracy: 0.6845 - val_loss: 0.7082 - val_accuracy: 0.7862\n",
      "Epoch 107/350\n",
      "1313/1313 [==============================] - 4s 3ms/step - loss: 1.0163 - accuracy: 0.6865 - val_loss: 0.7260 - val_accuracy: 0.7808\n",
      "Epoch 108/350\n",
      "1313/1313 [==============================] - 4s 3ms/step - loss: 1.0229 - accuracy: 0.6831 - val_loss: 0.7604 - val_accuracy: 0.7696\n",
      "Epoch 109/350\n",
      "1313/1313 [==============================] - 4s 3ms/step - loss: 1.0096 - accuracy: 0.6884 - val_loss: 0.6755 - val_accuracy: 0.7972\n",
      "Epoch 110/350\n",
      "1313/1313 [==============================] - 4s 3ms/step - loss: 1.0178 - accuracy: 0.6852 - val_loss: 0.7315 - val_accuracy: 0.7792\n",
      "Epoch 111/350\n",
      "1313/1313 [==============================] - 6s 4ms/step - loss: 1.0058 - accuracy: 0.6888 - val_loss: 0.7313 - val_accuracy: 0.7778\n",
      "Epoch 112/350\n",
      "1313/1313 [==============================] - 4s 3ms/step - loss: 1.0121 - accuracy: 0.6885 - val_loss: 0.7431 - val_accuracy: 0.7762\n",
      "Epoch 113/350\n",
      "1313/1313 [==============================] - 4s 3ms/step - loss: 1.0099 - accuracy: 0.6877 - val_loss: 0.7483 - val_accuracy: 0.7713\n",
      "Epoch 114/350\n",
      "1313/1313 [==============================] - 5s 3ms/step - loss: 1.0107 - accuracy: 0.6860 - val_loss: 0.7620 - val_accuracy: 0.7698\n",
      "Epoch 115/350\n",
      "1313/1313 [==============================] - 5s 4ms/step - loss: 1.0140 - accuracy: 0.6835 - val_loss: 0.7358 - val_accuracy: 0.7750\n",
      "Epoch 116/350\n",
      "1313/1313 [==============================] - 5s 4ms/step - loss: 1.0004 - accuracy: 0.6920 - val_loss: 0.7068 - val_accuracy: 0.7866\n",
      "Epoch 117/350\n",
      "1313/1313 [==============================] - 4s 3ms/step - loss: 1.0095 - accuracy: 0.6870 - val_loss: 0.7809 - val_accuracy: 0.7592\n",
      "Epoch 118/350\n",
      "1313/1313 [==============================] - 4s 3ms/step - loss: 1.0116 - accuracy: 0.6851 - val_loss: 0.6813 - val_accuracy: 0.7983\n",
      "Epoch 119/350\n",
      "1313/1313 [==============================] - 4s 3ms/step - loss: 1.0094 - accuracy: 0.6861 - val_loss: 0.7685 - val_accuracy: 0.7619\n",
      "Epoch 120/350\n",
      "1313/1313 [==============================] - 5s 4ms/step - loss: 1.0015 - accuracy: 0.6905 - val_loss: 0.7448 - val_accuracy: 0.7712\n",
      "Epoch 121/350\n",
      "1313/1313 [==============================] - 5s 4ms/step - loss: 1.0092 - accuracy: 0.6872 - val_loss: 0.7102 - val_accuracy: 0.7859\n",
      "Epoch 122/350\n",
      "1313/1313 [==============================] - 5s 4ms/step - loss: 1.0092 - accuracy: 0.6875 - val_loss: 0.7368 - val_accuracy: 0.7776\n",
      "Epoch 123/350\n",
      "1313/1313 [==============================] - 5s 4ms/step - loss: 1.0050 - accuracy: 0.6863 - val_loss: 0.7060 - val_accuracy: 0.7866\n",
      "Epoch 124/350\n",
      "1313/1313 [==============================] - 5s 4ms/step - loss: 1.0097 - accuracy: 0.6862 - val_loss: 0.7099 - val_accuracy: 0.7796\n",
      "Epoch 125/350\n",
      "1313/1313 [==============================] - 5s 4ms/step - loss: 1.0024 - accuracy: 0.6895 - val_loss: 0.6786 - val_accuracy: 0.7981\n",
      "Epoch 126/350\n",
      "1313/1313 [==============================] - 5s 4ms/step - loss: 0.9971 - accuracy: 0.6897 - val_loss: 0.7496 - val_accuracy: 0.7708\n",
      "Epoch 127/350\n",
      "1313/1313 [==============================] - 5s 4ms/step - loss: 1.0026 - accuracy: 0.6907 - val_loss: 0.7549 - val_accuracy: 0.7634\n",
      "Epoch 128/350\n",
      "1313/1313 [==============================] - 5s 4ms/step - loss: 1.0041 - accuracy: 0.6880 - val_loss: 0.7627 - val_accuracy: 0.7682\n",
      "Epoch 129/350\n",
      "1313/1313 [==============================] - 5s 4ms/step - loss: 1.0015 - accuracy: 0.6920 - val_loss: 0.7131 - val_accuracy: 0.7815\n",
      "Epoch 130/350\n",
      "1313/1313 [==============================] - 5s 4ms/step - loss: 1.0088 - accuracy: 0.6874 - val_loss: 0.6661 - val_accuracy: 0.7997\n",
      "Epoch 131/350\n",
      "1313/1313 [==============================] - 5s 4ms/step - loss: 0.9983 - accuracy: 0.6902 - val_loss: 0.6849 - val_accuracy: 0.7948\n",
      "Epoch 132/350\n",
      "1313/1313 [==============================] - 5s 4ms/step - loss: 1.0108 - accuracy: 0.6866 - val_loss: 0.7032 - val_accuracy: 0.7889\n",
      "Epoch 133/350\n",
      "1313/1313 [==============================] - 5s 4ms/step - loss: 1.0062 - accuracy: 0.6854 - val_loss: 0.7064 - val_accuracy: 0.7849\n",
      "Epoch 134/350\n",
      "1313/1313 [==============================] - 5s 4ms/step - loss: 0.9959 - accuracy: 0.6907 - val_loss: 0.6964 - val_accuracy: 0.7892\n",
      "Epoch 135/350\n",
      "1313/1313 [==============================] - 5s 4ms/step - loss: 0.9935 - accuracy: 0.6916 - val_loss: 0.7251 - val_accuracy: 0.7809\n",
      "Epoch 136/350\n",
      "1313/1313 [==============================] - 5s 4ms/step - loss: 1.0118 - accuracy: 0.6882 - val_loss: 0.7116 - val_accuracy: 0.7833\n",
      "Epoch 137/350\n",
      "1313/1313 [==============================] - 5s 4ms/step - loss: 1.0033 - accuracy: 0.6876 - val_loss: 0.7434 - val_accuracy: 0.7733\n",
      "Epoch 138/350\n",
      "1313/1313 [==============================] - 5s 4ms/step - loss: 0.9988 - accuracy: 0.6919 - val_loss: 0.7027 - val_accuracy: 0.7905\n",
      "Epoch 139/350\n",
      "1313/1313 [==============================] - 5s 4ms/step - loss: 0.9974 - accuracy: 0.6917 - val_loss: 0.6865 - val_accuracy: 0.7941\n",
      "Epoch 140/350\n",
      "1313/1313 [==============================] - 5s 4ms/step - loss: 0.9927 - accuracy: 0.6902 - val_loss: 0.7333 - val_accuracy: 0.7772\n",
      "Epoch 141/350\n",
      "1313/1313 [==============================] - 5s 4ms/step - loss: 0.9995 - accuracy: 0.6903 - val_loss: 0.6850 - val_accuracy: 0.7952\n",
      "Epoch 142/350\n",
      "1313/1313 [==============================] - 5s 4ms/step - loss: 0.9896 - accuracy: 0.6924 - val_loss: 0.6625 - val_accuracy: 0.8005\n",
      "Epoch 143/350\n",
      "1313/1313 [==============================] - 5s 4ms/step - loss: 0.9963 - accuracy: 0.6896 - val_loss: 0.7105 - val_accuracy: 0.7840\n",
      "Epoch 144/350\n",
      "1313/1313 [==============================] - 5s 4ms/step - loss: 0.9991 - accuracy: 0.6899 - val_loss: 0.6719 - val_accuracy: 0.8009\n",
      "Epoch 145/350\n",
      "1313/1313 [==============================] - 5s 4ms/step - loss: 0.9994 - accuracy: 0.6908 - val_loss: 0.7330 - val_accuracy: 0.7754\n",
      "Epoch 146/350\n",
      "1313/1313 [==============================] - 5s 4ms/step - loss: 0.9988 - accuracy: 0.6899 - val_loss: 0.6793 - val_accuracy: 0.7966\n",
      "Epoch 147/350\n",
      "1313/1313 [==============================] - 5s 4ms/step - loss: 0.9953 - accuracy: 0.6894 - val_loss: 0.7095 - val_accuracy: 0.7848\n",
      "Epoch 148/350\n",
      "1313/1313 [==============================] - 5s 4ms/step - loss: 1.0018 - accuracy: 0.6893 - val_loss: 0.6674 - val_accuracy: 0.8017\n",
      "Epoch 149/350\n",
      "1313/1313 [==============================] - 5s 4ms/step - loss: 0.9877 - accuracy: 0.6937 - val_loss: 0.7099 - val_accuracy: 0.7813\n",
      "Epoch 150/350\n",
      "1313/1313 [==============================] - 5s 4ms/step - loss: 0.9961 - accuracy: 0.6880 - val_loss: 0.7148 - val_accuracy: 0.7801\n",
      "Epoch 151/350\n",
      "1313/1313 [==============================] - 5s 4ms/step - loss: 0.9974 - accuracy: 0.6913 - val_loss: 0.6792 - val_accuracy: 0.7966\n",
      "Epoch 152/350\n",
      "1313/1313 [==============================] - 5s 4ms/step - loss: 0.9941 - accuracy: 0.6916 - val_loss: 0.7056 - val_accuracy: 0.7902\n",
      "Epoch 153/350\n",
      "1313/1313 [==============================] - 5s 4ms/step - loss: 0.9861 - accuracy: 0.6952 - val_loss: 0.7429 - val_accuracy: 0.7722\n",
      "Epoch 154/350\n",
      "1313/1313 [==============================] - 5s 4ms/step - loss: 0.9973 - accuracy: 0.6892 - val_loss: 0.6838 - val_accuracy: 0.7945\n",
      "Epoch 155/350\n",
      "1313/1313 [==============================] - 6s 4ms/step - loss: 0.9969 - accuracy: 0.6904 - val_loss: 0.7015 - val_accuracy: 0.7917\n",
      "Epoch 156/350\n",
      "1313/1313 [==============================] - 5s 4ms/step - loss: 0.9962 - accuracy: 0.6884 - val_loss: 0.6630 - val_accuracy: 0.8003\n",
      "Epoch 157/350\n",
      "1313/1313 [==============================] - 6s 4ms/step - loss: 0.9955 - accuracy: 0.6919 - val_loss: 0.7190 - val_accuracy: 0.7842\n",
      "Epoch 158/350\n",
      "1313/1313 [==============================] - 6s 4ms/step - loss: 0.9915 - accuracy: 0.6930 - val_loss: 0.7259 - val_accuracy: 0.7791\n",
      "Epoch 159/350\n",
      "1313/1313 [==============================] - 6s 4ms/step - loss: 0.9985 - accuracy: 0.6879 - val_loss: 0.6889 - val_accuracy: 0.7922\n",
      "Epoch 160/350\n",
      "1313/1313 [==============================] - 6s 4ms/step - loss: 0.9926 - accuracy: 0.6903 - val_loss: 0.6980 - val_accuracy: 0.7894\n",
      "Epoch 161/350\n",
      "1313/1313 [==============================] - 5s 4ms/step - loss: 0.9926 - accuracy: 0.6910 - val_loss: 0.6780 - val_accuracy: 0.7953\n",
      "Epoch 162/350\n",
      "1313/1313 [==============================] - 5s 4ms/step - loss: 0.9952 - accuracy: 0.6921 - val_loss: 0.6627 - val_accuracy: 0.8048\n",
      "Epoch 163/350\n",
      "1313/1313 [==============================] - 5s 4ms/step - loss: 0.9856 - accuracy: 0.6930 - val_loss: 0.7565 - val_accuracy: 0.7680\n",
      "Epoch 164/350\n",
      "1313/1313 [==============================] - 5s 4ms/step - loss: 0.9918 - accuracy: 0.6921 - val_loss: 0.7002 - val_accuracy: 0.7887\n",
      "Epoch 165/350\n",
      "1313/1313 [==============================] - 5s 4ms/step - loss: 0.9826 - accuracy: 0.6939 - val_loss: 0.6760 - val_accuracy: 0.7967\n",
      "Epoch 166/350\n",
      "1313/1313 [==============================] - 5s 4ms/step - loss: 0.9892 - accuracy: 0.6925 - val_loss: 0.6765 - val_accuracy: 0.7967\n",
      "Epoch 167/350\n",
      "1313/1313 [==============================] - 5s 4ms/step - loss: 0.9899 - accuracy: 0.6915 - val_loss: 0.6660 - val_accuracy: 0.8004\n",
      "Epoch 168/350\n",
      "1313/1313 [==============================] - 5s 4ms/step - loss: 0.9955 - accuracy: 0.6909 - val_loss: 0.7025 - val_accuracy: 0.7888\n",
      "Epoch 169/350\n",
      "1313/1313 [==============================] - 5s 4ms/step - loss: 0.9906 - accuracy: 0.6937 - val_loss: 0.7325 - val_accuracy: 0.7726\n",
      "Epoch 170/350\n",
      "1313/1313 [==============================] - 5s 4ms/step - loss: 0.9929 - accuracy: 0.6915 - val_loss: 0.7220 - val_accuracy: 0.7832\n",
      "Epoch 171/350\n",
      "1313/1313 [==============================] - 5s 4ms/step - loss: 0.9902 - accuracy: 0.6917 - val_loss: 0.7614 - val_accuracy: 0.7679\n",
      "Epoch 172/350\n",
      "1313/1313 [==============================] - 5s 4ms/step - loss: 0.9811 - accuracy: 0.6935 - val_loss: 0.7758 - val_accuracy: 0.7644\n",
      "Epoch 173/350\n",
      "1313/1313 [==============================] - 4s 3ms/step - loss: 0.9892 - accuracy: 0.6897 - val_loss: 0.7233 - val_accuracy: 0.7863\n",
      "Epoch 174/350\n",
      "1313/1313 [==============================] - 4s 3ms/step - loss: 0.9790 - accuracy: 0.6970 - val_loss: 0.7317 - val_accuracy: 0.7747\n",
      "Epoch 175/350\n",
      "1313/1313 [==============================] - 5s 3ms/step - loss: 0.9793 - accuracy: 0.6974 - val_loss: 0.6841 - val_accuracy: 0.7940\n",
      "Epoch 176/350\n",
      "1313/1313 [==============================] - 5s 4ms/step - loss: 0.9937 - accuracy: 0.6915 - val_loss: 0.7374 - val_accuracy: 0.7800\n",
      "Epoch 177/350\n",
      "1313/1313 [==============================] - 5s 4ms/step - loss: 0.9929 - accuracy: 0.6925 - val_loss: 0.6926 - val_accuracy: 0.7930\n",
      "Epoch 178/350\n",
      "1313/1313 [==============================] - 5s 3ms/step - loss: 0.9835 - accuracy: 0.6939 - val_loss: 0.6865 - val_accuracy: 0.7907\n",
      "Epoch 179/350\n",
      "1313/1313 [==============================] - 5s 4ms/step - loss: 0.9918 - accuracy: 0.6937 - val_loss: 0.6996 - val_accuracy: 0.7910\n",
      "Epoch 180/350\n",
      "1313/1313 [==============================] - 5s 3ms/step - loss: 0.9765 - accuracy: 0.6959 - val_loss: 0.6796 - val_accuracy: 0.7935\n",
      "Epoch 181/350\n",
      "1313/1313 [==============================] - 5s 4ms/step - loss: 0.9904 - accuracy: 0.6926 - val_loss: 0.7046 - val_accuracy: 0.7859\n",
      "Epoch 182/350\n",
      "1313/1313 [==============================] - 5s 4ms/step - loss: 0.9831 - accuracy: 0.6955 - val_loss: 0.7079 - val_accuracy: 0.7813\n",
      "Epoch 183/350\n",
      "1313/1313 [==============================] - 5s 4ms/step - loss: 0.9899 - accuracy: 0.6929 - val_loss: 0.7021 - val_accuracy: 0.7879\n",
      "Epoch 184/350\n",
      "1313/1313 [==============================] - 5s 4ms/step - loss: 0.9927 - accuracy: 0.6923 - val_loss: 0.6674 - val_accuracy: 0.8007\n",
      "Epoch 185/350\n",
      "1313/1313 [==============================] - 5s 4ms/step - loss: 0.9780 - accuracy: 0.6964 - val_loss: 0.7567 - val_accuracy: 0.7706\n",
      "Epoch 186/350\n",
      "1313/1313 [==============================] - 5s 4ms/step - loss: 0.9807 - accuracy: 0.6943 - val_loss: 0.7705 - val_accuracy: 0.7632\n",
      "Epoch 187/350\n",
      "1313/1313 [==============================] - 5s 4ms/step - loss: 0.9782 - accuracy: 0.6966 - val_loss: 0.6528 - val_accuracy: 0.8076\n",
      "Epoch 188/350\n",
      "1313/1313 [==============================] - 5s 4ms/step - loss: 0.9743 - accuracy: 0.6974 - val_loss: 0.6678 - val_accuracy: 0.7982\n",
      "Epoch 189/350\n",
      "1313/1313 [==============================] - 5s 4ms/step - loss: 0.9832 - accuracy: 0.6942 - val_loss: 0.6699 - val_accuracy: 0.8040\n",
      "Epoch 190/350\n",
      "1313/1313 [==============================] - 5s 4ms/step - loss: 0.9857 - accuracy: 0.6948 - val_loss: 0.6862 - val_accuracy: 0.7896\n",
      "Epoch 191/350\n",
      "1313/1313 [==============================] - 5s 4ms/step - loss: 0.9891 - accuracy: 0.6934 - val_loss: 0.6865 - val_accuracy: 0.7917\n",
      "Epoch 192/350\n",
      "1313/1313 [==============================] - 5s 4ms/step - loss: 0.9775 - accuracy: 0.6952 - val_loss: 0.6456 - val_accuracy: 0.8088\n",
      "Epoch 193/350\n",
      "1313/1313 [==============================] - 5s 4ms/step - loss: 0.9831 - accuracy: 0.6959 - val_loss: 0.6568 - val_accuracy: 0.8044\n",
      "Epoch 194/350\n",
      "1313/1313 [==============================] - 5s 4ms/step - loss: 0.9822 - accuracy: 0.6979 - val_loss: 0.7292 - val_accuracy: 0.7764\n",
      "Epoch 195/350\n",
      "1313/1313 [==============================] - 5s 4ms/step - loss: 0.9886 - accuracy: 0.6921 - val_loss: 0.6489 - val_accuracy: 0.8079\n",
      "Epoch 196/350\n",
      "1313/1313 [==============================] - 5s 4ms/step - loss: 0.9714 - accuracy: 0.7010 - val_loss: 0.6701 - val_accuracy: 0.8004\n",
      "Epoch 197/350\n",
      "1313/1313 [==============================] - 5s 3ms/step - loss: 0.9816 - accuracy: 0.6943 - val_loss: 0.6573 - val_accuracy: 0.8024\n",
      "Epoch 198/350\n",
      "1313/1313 [==============================] - 5s 4ms/step - loss: 0.9803 - accuracy: 0.6952 - val_loss: 0.7066 - val_accuracy: 0.7824\n",
      "Epoch 199/350\n",
      "1313/1313 [==============================] - 5s 3ms/step - loss: 0.9802 - accuracy: 0.6965 - val_loss: 0.6709 - val_accuracy: 0.7988\n",
      "Epoch 200/350\n",
      "1313/1313 [==============================] - 5s 4ms/step - loss: 0.9846 - accuracy: 0.6957 - val_loss: 0.7019 - val_accuracy: 0.7833\n",
      "Epoch 201/350\n",
      "1313/1313 [==============================] - 5s 4ms/step - loss: 0.9793 - accuracy: 0.6952 - val_loss: 0.6871 - val_accuracy: 0.7944\n",
      "Epoch 202/350\n",
      "1313/1313 [==============================] - 5s 4ms/step - loss: 0.9723 - accuracy: 0.7012 - val_loss: 0.6506 - val_accuracy: 0.8061\n",
      "Epoch 203/350\n",
      "1313/1313 [==============================] - 5s 4ms/step - loss: 0.9836 - accuracy: 0.6938 - val_loss: 0.6846 - val_accuracy: 0.7924\n",
      "Epoch 204/350\n",
      "1313/1313 [==============================] - 5s 4ms/step - loss: 0.9764 - accuracy: 0.6980 - val_loss: 0.6815 - val_accuracy: 0.7932\n",
      "Epoch 205/350\n",
      "1313/1313 [==============================] - 5s 4ms/step - loss: 0.9823 - accuracy: 0.6984 - val_loss: 0.6634 - val_accuracy: 0.8021\n",
      "Epoch 206/350\n",
      "1313/1313 [==============================] - 5s 4ms/step - loss: 0.9843 - accuracy: 0.6939 - val_loss: 0.7021 - val_accuracy: 0.7875\n",
      "Epoch 207/350\n",
      "1313/1313 [==============================] - 5s 4ms/step - loss: 0.9771 - accuracy: 0.6977 - val_loss: 0.6427 - val_accuracy: 0.8094\n",
      "Epoch 208/350\n",
      "1313/1313 [==============================] - 5s 3ms/step - loss: 0.9750 - accuracy: 0.6978 - val_loss: 0.7491 - val_accuracy: 0.7701\n",
      "Epoch 209/350\n",
      "1313/1313 [==============================] - 5s 4ms/step - loss: 0.9712 - accuracy: 0.6985 - val_loss: 0.6461 - val_accuracy: 0.8088\n",
      "Epoch 210/350\n",
      "1313/1313 [==============================] - 5s 4ms/step - loss: 0.9794 - accuracy: 0.6966 - val_loss: 0.6857 - val_accuracy: 0.7935\n",
      "Epoch 211/350\n",
      "1313/1313 [==============================] - 5s 4ms/step - loss: 0.9794 - accuracy: 0.6974 - val_loss: 0.6594 - val_accuracy: 0.8003\n",
      "Epoch 212/350\n",
      "1313/1313 [==============================] - 5s 4ms/step - loss: 0.9785 - accuracy: 0.6964 - val_loss: 0.6788 - val_accuracy: 0.7941\n",
      "Epoch 213/350\n",
      "1313/1313 [==============================] - 5s 4ms/step - loss: 0.9804 - accuracy: 0.6956 - val_loss: 0.6394 - val_accuracy: 0.8131\n",
      "Epoch 214/350\n",
      "1313/1313 [==============================] - 5s 4ms/step - loss: 0.9789 - accuracy: 0.6953 - val_loss: 0.6996 - val_accuracy: 0.7893\n",
      "Epoch 215/350\n",
      "1313/1313 [==============================] - 5s 4ms/step - loss: 0.9795 - accuracy: 0.6953 - val_loss: 0.6960 - val_accuracy: 0.7843\n",
      "Epoch 216/350\n",
      "1313/1313 [==============================] - 5s 4ms/step - loss: 0.9809 - accuracy: 0.6955 - val_loss: 0.7072 - val_accuracy: 0.7888\n",
      "Epoch 217/350\n",
      "1313/1313 [==============================] - 5s 3ms/step - loss: 0.9799 - accuracy: 0.6954 - val_loss: 0.6961 - val_accuracy: 0.7876\n",
      "Epoch 218/350\n",
      "1313/1313 [==============================] - 5s 4ms/step - loss: 0.9688 - accuracy: 0.7009 - val_loss: 0.6584 - val_accuracy: 0.8054\n",
      "Epoch 219/350\n",
      "1313/1313 [==============================] - 6s 5ms/step - loss: 0.9839 - accuracy: 0.6930 - val_loss: 0.6798 - val_accuracy: 0.7948\n",
      "Epoch 220/350\n",
      "1313/1313 [==============================] - 5s 4ms/step - loss: 0.9745 - accuracy: 0.6971 - val_loss: 0.7031 - val_accuracy: 0.7839\n",
      "Epoch 221/350\n",
      "1313/1313 [==============================] - 5s 4ms/step - loss: 0.9717 - accuracy: 0.6984 - val_loss: 0.6591 - val_accuracy: 0.8034\n",
      "Epoch 222/350\n",
      "1313/1313 [==============================] - 5s 4ms/step - loss: 0.9732 - accuracy: 0.6965 - val_loss: 0.7425 - val_accuracy: 0.7744\n",
      "Epoch 223/350\n",
      "1313/1313 [==============================] - 5s 4ms/step - loss: 0.9773 - accuracy: 0.6973 - val_loss: 0.7035 - val_accuracy: 0.7862\n",
      "Epoch 224/350\n",
      "1313/1313 [==============================] - 6s 4ms/step - loss: 0.9766 - accuracy: 0.6965 - val_loss: 0.6946 - val_accuracy: 0.7853\n",
      "Epoch 225/350\n",
      "1313/1313 [==============================] - 6s 5ms/step - loss: 0.9670 - accuracy: 0.7008 - val_loss: 0.6682 - val_accuracy: 0.7942\n",
      "Epoch 226/350\n",
      "1313/1313 [==============================] - 5s 4ms/step - loss: 0.9799 - accuracy: 0.6950 - val_loss: 0.7289 - val_accuracy: 0.7699\n",
      "Epoch 227/350\n",
      "1313/1313 [==============================] - 5s 4ms/step - loss: 0.9575 - accuracy: 0.7004 - val_loss: 0.6903 - val_accuracy: 0.7909\n",
      "Epoch 228/350\n",
      "1313/1313 [==============================] - 5s 4ms/step - loss: 0.9722 - accuracy: 0.6991 - val_loss: 0.7415 - val_accuracy: 0.7709\n",
      "Epoch 229/350\n",
      "1313/1313 [==============================] - 5s 4ms/step - loss: 0.9767 - accuracy: 0.6957 - val_loss: 0.6916 - val_accuracy: 0.7962\n",
      "Epoch 230/350\n",
      "1313/1313 [==============================] - 5s 4ms/step - loss: 0.9769 - accuracy: 0.6982 - val_loss: 0.7668 - val_accuracy: 0.7598\n",
      "Epoch 231/350\n",
      "1313/1313 [==============================] - 5s 4ms/step - loss: 0.9797 - accuracy: 0.6968 - val_loss: 0.6529 - val_accuracy: 0.8047\n",
      "Epoch 232/350\n",
      "1313/1313 [==============================] - 5s 4ms/step - loss: 0.9756 - accuracy: 0.6974 - val_loss: 0.7359 - val_accuracy: 0.7752\n",
      "Epoch 233/350\n",
      "1313/1313 [==============================] - 5s 4ms/step - loss: 0.9720 - accuracy: 0.6979 - val_loss: 0.6612 - val_accuracy: 0.8038\n",
      "Epoch 234/350\n",
      "1313/1313 [==============================] - 5s 4ms/step - loss: 0.9724 - accuracy: 0.6972 - val_loss: 0.6545 - val_accuracy: 0.8052\n",
      "Epoch 235/350\n",
      "1313/1313 [==============================] - 5s 4ms/step - loss: 0.9683 - accuracy: 0.6982 - val_loss: 0.6948 - val_accuracy: 0.7901\n",
      "Epoch 236/350\n",
      "1313/1313 [==============================] - 5s 4ms/step - loss: 0.9777 - accuracy: 0.6951 - val_loss: 0.6900 - val_accuracy: 0.7878\n",
      "Epoch 237/350\n",
      "1313/1313 [==============================] - 5s 4ms/step - loss: 0.9716 - accuracy: 0.6974 - val_loss: 0.6707 - val_accuracy: 0.7998\n",
      "Epoch 238/350\n",
      "1313/1313 [==============================] - 5s 4ms/step - loss: 0.9743 - accuracy: 0.6962 - val_loss: 0.6346 - val_accuracy: 0.8132\n",
      "Epoch 239/350\n",
      "1313/1313 [==============================] - 5s 4ms/step - loss: 0.9722 - accuracy: 0.6979 - val_loss: 0.6769 - val_accuracy: 0.7954\n",
      "Epoch 240/350\n",
      "1313/1313 [==============================] - 5s 4ms/step - loss: 0.9756 - accuracy: 0.6980 - val_loss: 0.6726 - val_accuracy: 0.7999\n",
      "Epoch 241/350\n",
      "1313/1313 [==============================] - 5s 4ms/step - loss: 0.9785 - accuracy: 0.6982 - val_loss: 0.7113 - val_accuracy: 0.7814\n",
      "Epoch 242/350\n",
      "1313/1313 [==============================] - 5s 4ms/step - loss: 0.9651 - accuracy: 0.6992 - val_loss: 0.7095 - val_accuracy: 0.7850\n",
      "Epoch 243/350\n",
      "1313/1313 [==============================] - 5s 4ms/step - loss: 0.9747 - accuracy: 0.6973 - val_loss: 0.6506 - val_accuracy: 0.8066\n",
      "Epoch 244/350\n",
      "1313/1313 [==============================] - 5s 4ms/step - loss: 0.9651 - accuracy: 0.7004 - val_loss: 0.7091 - val_accuracy: 0.7837\n",
      "Epoch 245/350\n",
      "1313/1313 [==============================] - 5s 4ms/step - loss: 0.9671 - accuracy: 0.7001 - val_loss: 0.7606 - val_accuracy: 0.7708\n",
      "Epoch 246/350\n",
      "1313/1313 [==============================] - 5s 4ms/step - loss: 0.9684 - accuracy: 0.7005 - val_loss: 0.7884 - val_accuracy: 0.7616\n",
      "Epoch 247/350\n",
      "1313/1313 [==============================] - 5s 4ms/step - loss: 0.9677 - accuracy: 0.6985 - val_loss: 0.6536 - val_accuracy: 0.8028\n",
      "Epoch 248/350\n",
      "1313/1313 [==============================] - 5s 3ms/step - loss: 0.9734 - accuracy: 0.6990 - val_loss: 0.6708 - val_accuracy: 0.8004\n",
      "Epoch 249/350\n",
      "1313/1313 [==============================] - 5s 4ms/step - loss: 0.9677 - accuracy: 0.6980 - val_loss: 0.7059 - val_accuracy: 0.7838\n",
      "Epoch 250/350\n",
      "1313/1313 [==============================] - 5s 4ms/step - loss: 0.9743 - accuracy: 0.6962 - val_loss: 0.6737 - val_accuracy: 0.7993\n",
      "Epoch 251/350\n",
      "1313/1313 [==============================] - 5s 4ms/step - loss: 0.9769 - accuracy: 0.6967 - val_loss: 0.6326 - val_accuracy: 0.8088\n",
      "Epoch 252/350\n",
      "1313/1313 [==============================] - 5s 4ms/step - loss: 0.9708 - accuracy: 0.6989 - val_loss: 0.7033 - val_accuracy: 0.7881\n",
      "Epoch 253/350\n",
      "1313/1313 [==============================] - 5s 4ms/step - loss: 0.9758 - accuracy: 0.6985 - val_loss: 0.6768 - val_accuracy: 0.7957\n",
      "Epoch 254/350\n",
      "1313/1313 [==============================] - 5s 4ms/step - loss: 0.9670 - accuracy: 0.6998 - val_loss: 0.6485 - val_accuracy: 0.8066\n",
      "Epoch 255/350\n",
      "1313/1313 [==============================] - 5s 4ms/step - loss: 0.9696 - accuracy: 0.6986 - val_loss: 0.6559 - val_accuracy: 0.8041\n",
      "Epoch 256/350\n",
      "1313/1313 [==============================] - 5s 4ms/step - loss: 0.9669 - accuracy: 0.7002 - val_loss: 0.6692 - val_accuracy: 0.8010\n",
      "Epoch 257/350\n",
      "1313/1313 [==============================] - 5s 4ms/step - loss: 0.9628 - accuracy: 0.7007 - val_loss: 0.6467 - val_accuracy: 0.8062\n",
      "Epoch 258/350\n",
      "1313/1313 [==============================] - 5s 4ms/step - loss: 0.9729 - accuracy: 0.6970 - val_loss: 0.6535 - val_accuracy: 0.8058\n",
      "Epoch 259/350\n",
      "1313/1313 [==============================] - 5s 4ms/step - loss: 0.9667 - accuracy: 0.6994 - val_loss: 0.6419 - val_accuracy: 0.8072\n",
      "Epoch 260/350\n",
      "1313/1313 [==============================] - 5s 4ms/step - loss: 0.9681 - accuracy: 0.6996 - val_loss: 0.6594 - val_accuracy: 0.8001\n",
      "Epoch 261/350\n",
      "1313/1313 [==============================] - 5s 4ms/step - loss: 0.9640 - accuracy: 0.7006 - val_loss: 0.6898 - val_accuracy: 0.7971\n",
      "Epoch 262/350\n",
      "1313/1313 [==============================] - 5s 4ms/step - loss: 0.9646 - accuracy: 0.6992 - val_loss: 0.6690 - val_accuracy: 0.7956\n",
      "Epoch 263/350\n",
      "1313/1313 [==============================] - 5s 4ms/step - loss: 0.9640 - accuracy: 0.7003 - val_loss: 0.6664 - val_accuracy: 0.7980\n",
      "Epoch 264/350\n",
      "1313/1313 [==============================] - 5s 4ms/step - loss: 0.9718 - accuracy: 0.6990 - val_loss: 0.6567 - val_accuracy: 0.8041\n",
      "Epoch 265/350\n",
      "1313/1313 [==============================] - 5s 4ms/step - loss: 0.9720 - accuracy: 0.6979 - val_loss: 0.7208 - val_accuracy: 0.7811\n",
      "Epoch 266/350\n",
      "1313/1313 [==============================] - 5s 4ms/step - loss: 0.9657 - accuracy: 0.6990 - val_loss: 0.6748 - val_accuracy: 0.7942\n",
      "Epoch 267/350\n",
      "1313/1313 [==============================] - 5s 4ms/step - loss: 0.9687 - accuracy: 0.7001 - val_loss: 0.6867 - val_accuracy: 0.7957\n",
      "Epoch 268/350\n",
      "1313/1313 [==============================] - 5s 4ms/step - loss: 0.9630 - accuracy: 0.7002 - val_loss: 0.6876 - val_accuracy: 0.7912\n",
      "Epoch 269/350\n",
      "1313/1313 [==============================] - 5s 4ms/step - loss: 0.9653 - accuracy: 0.6994 - val_loss: 0.6608 - val_accuracy: 0.8071\n",
      "Epoch 270/350\n",
      "1313/1313 [==============================] - 5s 4ms/step - loss: 0.9663 - accuracy: 0.6999 - val_loss: 0.6839 - val_accuracy: 0.7877\n",
      "Epoch 271/350\n",
      "1313/1313 [==============================] - 5s 4ms/step - loss: 0.9624 - accuracy: 0.7001 - val_loss: 0.7303 - val_accuracy: 0.7772\n",
      "Epoch 272/350\n",
      "1313/1313 [==============================] - 5s 4ms/step - loss: 0.9655 - accuracy: 0.7003 - val_loss: 0.6636 - val_accuracy: 0.7984\n",
      "Epoch 273/350\n",
      "1313/1313 [==============================] - 5s 4ms/step - loss: 0.9621 - accuracy: 0.7002 - val_loss: 0.6785 - val_accuracy: 0.7987\n",
      "Epoch 274/350\n",
      "1313/1313 [==============================] - 5s 4ms/step - loss: 0.9677 - accuracy: 0.6993 - val_loss: 0.6970 - val_accuracy: 0.7882\n",
      "Epoch 275/350\n",
      "1313/1313 [==============================] - 5s 4ms/step - loss: 0.9619 - accuracy: 0.7006 - val_loss: 0.6236 - val_accuracy: 0.8168\n",
      "Epoch 276/350\n",
      "1313/1313 [==============================] - 5s 4ms/step - loss: 0.9615 - accuracy: 0.7012 - val_loss: 0.6750 - val_accuracy: 0.7943\n",
      "Epoch 277/350\n",
      "1313/1313 [==============================] - 6s 4ms/step - loss: 0.9716 - accuracy: 0.6989 - val_loss: 0.6729 - val_accuracy: 0.8010\n",
      "Epoch 278/350\n",
      "1313/1313 [==============================] - 6s 4ms/step - loss: 0.9595 - accuracy: 0.7029 - val_loss: 0.6439 - val_accuracy: 0.8061\n",
      "Epoch 279/350\n",
      "1313/1313 [==============================] - 5s 4ms/step - loss: 0.9669 - accuracy: 0.6980 - val_loss: 0.6522 - val_accuracy: 0.8031\n",
      "Epoch 280/350\n",
      "1313/1313 [==============================] - 5s 4ms/step - loss: 0.9643 - accuracy: 0.7030 - val_loss: 0.6848 - val_accuracy: 0.7936\n",
      "Epoch 281/350\n",
      "1313/1313 [==============================] - 6s 4ms/step - loss: 0.9628 - accuracy: 0.7010 - val_loss: 0.6565 - val_accuracy: 0.8039\n",
      "Epoch 282/350\n",
      "1313/1313 [==============================] - 6s 5ms/step - loss: 0.9640 - accuracy: 0.6996 - val_loss: 0.6976 - val_accuracy: 0.7862\n",
      "Epoch 283/350\n",
      "1313/1313 [==============================] - 5s 4ms/step - loss: 0.9699 - accuracy: 0.6981 - val_loss: 0.6802 - val_accuracy: 0.7952\n",
      "Epoch 284/350\n",
      "1313/1313 [==============================] - 5s 4ms/step - loss: 0.9534 - accuracy: 0.7039 - val_loss: 0.6793 - val_accuracy: 0.7960\n",
      "Epoch 285/350\n",
      "1313/1313 [==============================] - 5s 4ms/step - loss: 0.9705 - accuracy: 0.6990 - val_loss: 0.6713 - val_accuracy: 0.7994\n",
      "Epoch 286/350\n",
      "1313/1313 [==============================] - 5s 4ms/step - loss: 0.9583 - accuracy: 0.7030 - val_loss: 0.6367 - val_accuracy: 0.8111\n",
      "Epoch 287/350\n",
      "1313/1313 [==============================] - 5s 4ms/step - loss: 0.9546 - accuracy: 0.7040 - val_loss: 0.6627 - val_accuracy: 0.7997\n",
      "Epoch 288/350\n",
      "1313/1313 [==============================] - 7s 5ms/step - loss: 0.9636 - accuracy: 0.7014 - val_loss: 0.7186 - val_accuracy: 0.7749\n",
      "Epoch 289/350\n",
      "1313/1313 [==============================] - 6s 5ms/step - loss: 0.9677 - accuracy: 0.6997 - val_loss: 0.6428 - val_accuracy: 0.8068\n",
      "Epoch 290/350\n",
      "1313/1313 [==============================] - 5s 4ms/step - loss: 0.9644 - accuracy: 0.7011 - val_loss: 0.6679 - val_accuracy: 0.7989\n",
      "Epoch 291/350\n",
      "1313/1313 [==============================] - 5s 4ms/step - loss: 0.9554 - accuracy: 0.7011 - val_loss: 0.6476 - val_accuracy: 0.8058\n",
      "Epoch 292/350\n",
      "1313/1313 [==============================] - 5s 4ms/step - loss: 0.9646 - accuracy: 0.7008 - val_loss: 0.7528 - val_accuracy: 0.7698\n",
      "Epoch 293/350\n",
      "1313/1313 [==============================] - 5s 4ms/step - loss: 0.9603 - accuracy: 0.7033 - val_loss: 0.6345 - val_accuracy: 0.8141\n",
      "Epoch 294/350\n",
      "1313/1313 [==============================] - 5s 4ms/step - loss: 0.9597 - accuracy: 0.7018 - val_loss: 0.6786 - val_accuracy: 0.7933\n",
      "Epoch 295/350\n",
      "1313/1313 [==============================] - 5s 4ms/step - loss: 0.9603 - accuracy: 0.7042 - val_loss: 0.6529 - val_accuracy: 0.8022\n",
      "Epoch 296/350\n",
      "1313/1313 [==============================] - 5s 4ms/step - loss: 0.9564 - accuracy: 0.7031 - val_loss: 0.6474 - val_accuracy: 0.8057\n",
      "Epoch 297/350\n",
      "1313/1313 [==============================] - 5s 4ms/step - loss: 0.9602 - accuracy: 0.7031 - val_loss: 0.6814 - val_accuracy: 0.7911\n",
      "Epoch 298/350\n",
      "1313/1313 [==============================] - 5s 4ms/step - loss: 0.9596 - accuracy: 0.7025 - val_loss: 0.6919 - val_accuracy: 0.7868\n",
      "Epoch 299/350\n",
      "1313/1313 [==============================] - 5s 4ms/step - loss: 0.9609 - accuracy: 0.7011 - val_loss: 0.7256 - val_accuracy: 0.7812\n",
      "Epoch 300/350\n",
      "1313/1313 [==============================] - 5s 4ms/step - loss: 0.9596 - accuracy: 0.7015 - val_loss: 0.7144 - val_accuracy: 0.7877\n",
      "Epoch 301/350\n",
      "1313/1313 [==============================] - 5s 4ms/step - loss: 0.9651 - accuracy: 0.7004 - val_loss: 0.6395 - val_accuracy: 0.8127\n",
      "Epoch 302/350\n",
      "1313/1313 [==============================] - 5s 4ms/step - loss: 0.9582 - accuracy: 0.7010 - val_loss: 0.6594 - val_accuracy: 0.8051\n",
      "Epoch 303/350\n",
      "1313/1313 [==============================] - 5s 4ms/step - loss: 0.9643 - accuracy: 0.7015 - val_loss: 0.6643 - val_accuracy: 0.8001\n",
      "Epoch 304/350\n",
      "1313/1313 [==============================] - 5s 4ms/step - loss: 0.9719 - accuracy: 0.7012 - val_loss: 0.6946 - val_accuracy: 0.7912\n",
      "Epoch 305/350\n",
      "1313/1313 [==============================] - 5s 4ms/step - loss: 0.9560 - accuracy: 0.7042 - val_loss: 0.6916 - val_accuracy: 0.7898\n",
      "Epoch 306/350\n",
      "1313/1313 [==============================] - 5s 4ms/step - loss: 0.9613 - accuracy: 0.7028 - val_loss: 0.6377 - val_accuracy: 0.8091\n",
      "Epoch 307/350\n",
      "1313/1313 [==============================] - 5s 4ms/step - loss: 0.9604 - accuracy: 0.7025 - val_loss: 0.6513 - val_accuracy: 0.8031\n",
      "Epoch 308/350\n",
      "1313/1313 [==============================] - 5s 4ms/step - loss: 0.9651 - accuracy: 0.7028 - val_loss: 0.6406 - val_accuracy: 0.8083\n",
      "Epoch 309/350\n",
      "1313/1313 [==============================] - 5s 4ms/step - loss: 0.9532 - accuracy: 0.7057 - val_loss: 0.6610 - val_accuracy: 0.8027\n",
      "Epoch 310/350\n",
      "1313/1313 [==============================] - 5s 4ms/step - loss: 0.9575 - accuracy: 0.7035 - val_loss: 0.6653 - val_accuracy: 0.8006\n",
      "Epoch 311/350\n",
      "1313/1313 [==============================] - 5s 4ms/step - loss: 0.9559 - accuracy: 0.7019 - val_loss: 0.6296 - val_accuracy: 0.8132\n",
      "Epoch 312/350\n",
      "1313/1313 [==============================] - 5s 4ms/step - loss: 0.9575 - accuracy: 0.7022 - val_loss: 0.6447 - val_accuracy: 0.8073\n",
      "Epoch 313/350\n",
      "1313/1313 [==============================] - 5s 4ms/step - loss: 0.9616 - accuracy: 0.7034 - val_loss: 0.6210 - val_accuracy: 0.8165\n",
      "Epoch 314/350\n",
      "1313/1313 [==============================] - 5s 4ms/step - loss: 0.9569 - accuracy: 0.7040 - val_loss: 0.6743 - val_accuracy: 0.7994\n",
      "Epoch 315/350\n",
      "1313/1313 [==============================] - 5s 4ms/step - loss: 0.9624 - accuracy: 0.7004 - val_loss: 0.6774 - val_accuracy: 0.7948\n",
      "Epoch 316/350\n",
      "1313/1313 [==============================] - 5s 4ms/step - loss: 0.9558 - accuracy: 0.7048 - val_loss: 0.6856 - val_accuracy: 0.7946\n",
      "Epoch 317/350\n",
      "1313/1313 [==============================] - 5s 4ms/step - loss: 0.9531 - accuracy: 0.7022 - val_loss: 0.7381 - val_accuracy: 0.7736\n",
      "Epoch 318/350\n",
      "1313/1313 [==============================] - 5s 4ms/step - loss: 0.9506 - accuracy: 0.7045 - val_loss: 0.6275 - val_accuracy: 0.8146\n",
      "Epoch 319/350\n",
      "1313/1313 [==============================] - 5s 4ms/step - loss: 0.9655 - accuracy: 0.7011 - val_loss: 0.7064 - val_accuracy: 0.7846\n",
      "Epoch 320/350\n",
      "1313/1313 [==============================] - 5s 4ms/step - loss: 0.9582 - accuracy: 0.7024 - val_loss: 0.6668 - val_accuracy: 0.7973\n",
      "Epoch 321/350\n",
      "1313/1313 [==============================] - 5s 4ms/step - loss: 0.9531 - accuracy: 0.7024 - val_loss: 0.6931 - val_accuracy: 0.7864\n",
      "Epoch 322/350\n",
      "1313/1313 [==============================] - 5s 4ms/step - loss: 0.9546 - accuracy: 0.7040 - val_loss: 0.6505 - val_accuracy: 0.8058\n",
      "Epoch 323/350\n",
      "1313/1313 [==============================] - 5s 4ms/step - loss: 0.9629 - accuracy: 0.7028 - val_loss: 0.6835 - val_accuracy: 0.7926\n",
      "Epoch 324/350\n",
      "1313/1313 [==============================] - 5s 4ms/step - loss: 0.9524 - accuracy: 0.7032 - val_loss: 0.6649 - val_accuracy: 0.7991\n",
      "Epoch 325/350\n",
      "1313/1313 [==============================] - 5s 4ms/step - loss: 0.9605 - accuracy: 0.7012 - val_loss: 0.6795 - val_accuracy: 0.7991\n",
      "Epoch 326/350\n",
      "1313/1313 [==============================] - 5s 4ms/step - loss: 0.9604 - accuracy: 0.7016 - val_loss: 0.6178 - val_accuracy: 0.8164\n",
      "Epoch 327/350\n",
      "1313/1313 [==============================] - 5s 4ms/step - loss: 0.9548 - accuracy: 0.7041 - val_loss: 0.6586 - val_accuracy: 0.8006\n",
      "Epoch 328/350\n",
      "1313/1313 [==============================] - 5s 4ms/step - loss: 0.9626 - accuracy: 0.7008 - val_loss: 0.6407 - val_accuracy: 0.8084\n",
      "Epoch 329/350\n",
      "1313/1313 [==============================] - 5s 4ms/step - loss: 0.9596 - accuracy: 0.7002 - val_loss: 0.6334 - val_accuracy: 0.8134\n",
      "Epoch 330/350\n",
      "1313/1313 [==============================] - 5s 4ms/step - loss: 0.9536 - accuracy: 0.7048 - val_loss: 0.6861 - val_accuracy: 0.7909\n",
      "Epoch 331/350\n",
      "1313/1313 [==============================] - 5s 4ms/step - loss: 0.9654 - accuracy: 0.6989 - val_loss: 0.6509 - val_accuracy: 0.8060\n",
      "Epoch 332/350\n",
      "1313/1313 [==============================] - 5s 4ms/step - loss: 0.9554 - accuracy: 0.7030 - val_loss: 0.6534 - val_accuracy: 0.8036\n",
      "Epoch 333/350\n",
      "1313/1313 [==============================] - 5s 4ms/step - loss: 0.9573 - accuracy: 0.7030 - val_loss: 0.6398 - val_accuracy: 0.8110\n",
      "Epoch 334/350\n",
      "1313/1313 [==============================] - 5s 4ms/step - loss: 0.9537 - accuracy: 0.7043 - val_loss: 0.6878 - val_accuracy: 0.7965\n",
      "Epoch 335/350\n",
      "1313/1313 [==============================] - 5s 4ms/step - loss: 0.9592 - accuracy: 0.6997 - val_loss: 0.6835 - val_accuracy: 0.7944\n",
      "Epoch 336/350\n",
      "1313/1313 [==============================] - 5s 4ms/step - loss: 0.9515 - accuracy: 0.7044 - val_loss: 0.6927 - val_accuracy: 0.7862\n",
      "Epoch 337/350\n",
      "1313/1313 [==============================] - 5s 3ms/step - loss: 0.9565 - accuracy: 0.7038 - val_loss: 0.6792 - val_accuracy: 0.7908\n",
      "Epoch 338/350\n",
      "1313/1313 [==============================] - 5s 4ms/step - loss: 0.9549 - accuracy: 0.7033 - val_loss: 0.6723 - val_accuracy: 0.7972\n",
      "Epoch 339/350\n",
      "1313/1313 [==============================] - 5s 3ms/step - loss: 0.9537 - accuracy: 0.7035 - val_loss: 0.6522 - val_accuracy: 0.8058\n",
      "Epoch 340/350\n",
      "1313/1313 [==============================] - 5s 4ms/step - loss: 0.9520 - accuracy: 0.7033 - val_loss: 0.6362 - val_accuracy: 0.8123\n",
      "Epoch 341/350\n",
      "1313/1313 [==============================] - 5s 4ms/step - loss: 0.9544 - accuracy: 0.7029 - val_loss: 0.6440 - val_accuracy: 0.8084\n",
      "Epoch 342/350\n",
      "1313/1313 [==============================] - 7s 6ms/step - loss: 0.9596 - accuracy: 0.7017 - val_loss: 0.6927 - val_accuracy: 0.7897\n",
      "Epoch 343/350\n",
      "1313/1313 [==============================] - 7s 6ms/step - loss: 0.9553 - accuracy: 0.7031 - val_loss: 0.6550 - val_accuracy: 0.8073\n",
      "Epoch 344/350\n",
      "1313/1313 [==============================] - 5s 4ms/step - loss: 0.9577 - accuracy: 0.7018 - val_loss: 0.6881 - val_accuracy: 0.7936\n",
      "Epoch 345/350\n",
      "1313/1313 [==============================] - 5s 3ms/step - loss: 0.9532 - accuracy: 0.7020 - val_loss: 0.6866 - val_accuracy: 0.7963\n",
      "Epoch 346/350\n",
      "1313/1313 [==============================] - 5s 4ms/step - loss: 0.9518 - accuracy: 0.7030 - val_loss: 0.6660 - val_accuracy: 0.8019\n",
      "Epoch 347/350\n",
      "1313/1313 [==============================] - 5s 4ms/step - loss: 0.9510 - accuracy: 0.7023 - val_loss: 0.6425 - val_accuracy: 0.8049\n",
      "Epoch 348/350\n",
      "1313/1313 [==============================] - 5s 4ms/step - loss: 0.9489 - accuracy: 0.7056 - val_loss: 0.6518 - val_accuracy: 0.8057\n",
      "Epoch 349/350\n",
      "1313/1313 [==============================] - 5s 4ms/step - loss: 0.9531 - accuracy: 0.7065 - val_loss: 0.6564 - val_accuracy: 0.8006\n",
      "Epoch 350/350\n",
      "1313/1313 [==============================] - 6s 5ms/step - loss: 0.9532 - accuracy: 0.7031 - val_loss: 0.6375 - val_accuracy: 0.8087\n"
     ]
    }
   ],
   "source": [
    "history = model.fit(X_train, y_train, epochs = 350, verbose = 1, validation_data=(X_test, y_test))"
   ]
  },
  {
   "cell_type": "code",
   "execution_count": 20,
   "metadata": {
    "colab": {
     "base_uri": "https://localhost:8080/"
    },
    "id": "xnGKmVyRVOMl",
    "outputId": "329ba58f-4af5-4614-91a4-ac48c631e9fa"
   },
   "outputs": [
    {
     "name": "stdout",
     "output_type": "stream",
     "text": [
      "1875/1875 [==============================] - 4s 2ms/step - loss: 0.5775 - accuracy: 0.8294\n"
     ]
    },
    {
     "data": {
      "text/plain": [
       "[0.5775313973426819, 0.8293833136558533]"
      ]
     },
     "execution_count": 20,
     "metadata": {
      "tags": []
     },
     "output_type": "execute_result"
    }
   ],
   "source": [
    "model.evaluate(X_val.reshape(X_val.shape[0],-1), y_val)"
   ]
  },
  {
   "cell_type": "code",
   "execution_count": 74,
   "metadata": {
    "colab": {
     "base_uri": "https://localhost:8080/",
     "height": 295
    },
    "id": "NdZ9hAQiVnmX",
    "outputId": "56360e5c-1acc-42c4-debd-bf4b3c469df9"
   },
   "outputs": [
    {
     "data": {
      "image/png": "[encoded data removed]",
      "text/plain": [
       "<Figure size 432x288 with 1 Axes>"
      ]
     },
     "metadata": {
      "needs_background": "light",
      "tags": []
     },
     "output_type": "display_data"
    }
   ],
   "source": [
    "# summarize history for accuracy\n",
    "plt.plot(history.history['accuracy'])\n",
    "plt.plot(history.history['val_accuracy'])\n",
    "plt.title('model accuracy with batch norm and dropout')\n",
    "plt.ylabel('accuracy')\n",
    "plt.xlabel('epoch')\n",
    "plt.legend(['train', 'test'], loc='upper left')\n",
    "plt.show()\n"
   ]
  },
  {
   "cell_type": "code",
   "execution_count": 75,
   "metadata": {
    "colab": {
     "base_uri": "https://localhost:8080/",
     "height": 295
    },
    "id": "jaiVUxOnxQng",
    "outputId": "514a9270-900f-4827-fda7-9d4dab225ff0"
   },
   "outputs": [
    {
     "data": {
      "image/png": "[encoded data removed]",
      "text/plain": [
       "<Figure size 432x288 with 1 Axes>"
      ]
     },
     "metadata": {
      "needs_background": "light",
      "tags": []
     },
     "output_type": "display_data"
    }
   ],
   "source": [
    "# summarize history for loss\n",
    "plt.plot(history.history['loss'])\n",
    "plt.plot(history.history['val_loss'])\n",
    "plt.title('model loss with batch norm and dropout')\n",
    "plt.ylabel('loss')\n",
    "plt.xlabel('epoch')\n",
    "plt.legend(['train', 'test'], loc='upper left')\n",
    "plt.show()"
   ]
  },
  {
   "cell_type": "code",
   "execution_count": 25,
   "metadata": {
    "id": "yqX6vEh3R2iI"
   },
   "outputs": [],
   "source": [
    "def fromCatToOrg(data):\n",
    "  return_list = list()\n",
    "  org_vals = tf.argmax(data, axis=1)\n",
    "  for val in org_vals:\n",
    "    return_list.append(val.numpy())\n",
    "  return return_list"
   ]
  },
  {
   "cell_type": "code",
   "execution_count": 32,
   "metadata": {
    "id": "6uaeg9wvS183"
   },
   "outputs": [],
   "source": [
    "actual_y_val = fromCatToOrg(y_val)\n",
    "actual_y_tst = fromCatToOrg(y_test)\n",
    "actual_y_trn = fromCatToOrg(y_train)"
   ]
  },
  {
   "cell_type": "code",
   "execution_count": 61,
   "metadata": {
    "id": "yl38kcgVV0uS"
   },
   "outputs": [],
   "source": [
    "eval_pred_w_bn_dl = model_w_bn_dl.predict(X_val.reshape(X_val.shape[0], -1))"
   ]
  },
  {
   "cell_type": "code",
   "execution_count": 62,
   "metadata": {
    "id": "C1QOp6b9XwcO"
   },
   "outputs": [],
   "source": [
    "eval_pred_w_bn_dl_org = fromCatToOrg(eval_pred_w_bn_dl)"
   ]
  },
  {
   "cell_type": "code",
   "execution_count": 65,
   "metadata": {
    "colab": {
     "base_uri": "https://localhost:8080/"
    },
    "id": "sB0J6x82X9ah",
    "outputId": "fe5839cf-df0f-4607-d3a8-ea60f9ae3b1d"
   },
   "outputs": [
    {
     "name": "stdout",
     "output_type": "stream",
     "text": [
      "ANN WITHOUT BATCH_NORMALISATION AND DROPOUT CLASSIFACTION REPORT\n",
      "\n",
      "\n",
      "              precision    recall  f1-score   support\n",
      "\n",
      "           0       0.71      0.76      0.73      6000\n",
      "           1       0.68      0.75      0.71      6000\n",
      "           2       0.74      0.73      0.74      6000\n",
      "           3       0.75      0.56      0.64      6000\n",
      "           4       0.74      0.79      0.77      6000\n",
      "           5       0.57      0.75      0.65      6000\n",
      "           6       0.71      0.70      0.71      6000\n",
      "           7       0.73      0.74      0.74      6000\n",
      "           8       0.81      0.59      0.68      6000\n",
      "           9       0.70      0.71      0.70      6000\n",
      "\n",
      "    accuracy                           0.71     60000\n",
      "   macro avg       0.72      0.71      0.71     60000\n",
      "weighted avg       0.72      0.71      0.71     60000\n",
      "\n"
     ]
    }
   ],
   "source": [
    "print(\"ANN WITHOUT BATCH_NORMALISATION AND DROPOUT CLASSIFACTION REPORT\")\n",
    "print(\"\\n\")\n",
    "print(classification_report(actual_y_val, eval_pred_w_bn_dl_org))"
   ]
  },
  {
   "cell_type": "code",
   "execution_count": 78,
   "metadata": {
    "colab": {
     "base_uri": "https://localhost:8080/",
     "height": 496
    },
    "id": "fqZjMxG_ZGPZ",
    "outputId": "3a3b9131-714a-4f5f-8c1c-71db8777d956"
   },
   "outputs": [
    {
     "name": "stdout",
     "output_type": "stream",
     "text": [
      "CONFUSION MATRIX FOR ANN WITHOUT BATCH_NORMALISATION AND DROPOUT\n",
      "\n",
      "\n"
     ]
    },
    {
     "data": {
      "text/plain": [
       "<matplotlib.axes._subplots.AxesSubplot at 0x7fa52471e240>"
      ]
     },
     "execution_count": 78,
     "metadata": {
      "tags": []
     },
     "output_type": "execute_result"
    },
    {
     "data": {
      "image/png": "[encoded data removed]",
      "text/plain": [
       "<Figure size 720x504 with 2 Axes>"
      ]
     },
     "metadata": {
      "needs_background": "light",
      "tags": []
     },
     "output_type": "display_data"
    }
   ],
   "source": [
    "print(\"CONFUSION MATRIX FOR ANN WITHOUT BATCH_NORMALISATION AND DROPOUT\")\n",
    "print(\"\\n\")\n",
    "confusion_matrix_ann1 = confusion_matrix(actual_y_val, eval_pred_w_bn_dl_org)\n",
    "confusion_matrix_ann1_df = pd.DataFrame(confusion_matrix_ann1)\n",
    "plt.figure(figsize = (10,7))\n",
    "sns.heatmap(confusion_matrix_ann1_df, annot=True, cmap='Blues', fmt='g')"
   ]
  },
  {
   "cell_type": "code",
   "execution_count": 66,
   "metadata": {
    "id": "q0E8ghLZYDi7"
   },
   "outputs": [],
   "source": [
    "eval_pred = model.predict(X_val.reshape(X_val.shape[0], -1))"
   ]
  },
  {
   "cell_type": "code",
   "execution_count": 67,
   "metadata": {
    "id": "nAV73jlRY96W"
   },
   "outputs": [],
   "source": [
    "eval_pred_org = fromCatToOrg(eval_pred)"
   ]
  },
  {
   "cell_type": "code",
   "execution_count": 68,
   "metadata": {
    "colab": {
     "base_uri": "https://localhost:8080/"
    },
    "id": "p1ThVxx_Yy2b",
    "outputId": "dc4357ab-cfd7-4fcc-a571-6642bc826092"
   },
   "outputs": [
    {
     "name": "stdout",
     "output_type": "stream",
     "text": [
      "ANN WITH BATCH_NORMALISATION AND DROPOUT CLASSIFACTION REPORT\n",
      "\n",
      "\n",
      "              precision    recall  f1-score   support\n",
      "\n",
      "           0       0.87      0.86      0.87      6000\n",
      "           1       0.79      0.87      0.83      6000\n",
      "           2       0.89      0.83      0.86      6000\n",
      "           3       0.77      0.79      0.78      6000\n",
      "           4       0.91      0.84      0.87      6000\n",
      "           5       0.80      0.81      0.81      6000\n",
      "           6       0.87      0.78      0.82      6000\n",
      "           7       0.82      0.89      0.85      6000\n",
      "           8       0.82      0.77      0.80      6000\n",
      "           9       0.78      0.84      0.81      6000\n",
      "\n",
      "    accuracy                           0.83     60000\n",
      "   macro avg       0.83      0.83      0.83     60000\n",
      "weighted avg       0.83      0.83      0.83     60000\n",
      "\n"
     ]
    }
   ],
   "source": [
    "print(\"ANN WITH BATCH_NORMALISATION AND DROPOUT CLASSIFACTION REPORT\")\n",
    "print(\"\\n\")\n",
    "print(classification_report(actual_y_val, eval_pred_org))"
   ]
  },
  {
   "cell_type": "code",
   "execution_count": 80,
   "metadata": {
    "colab": {
     "base_uri": "https://localhost:8080/",
     "height": 496
    },
    "id": "NqToYE69ZD5C",
    "outputId": "76f26c8b-c62a-40f4-9305-719baf2ba4b3"
   },
   "outputs": [
    {
     "name": "stdout",
     "output_type": "stream",
     "text": [
      "CONFUSION MATRIX FOR ANN WIT BATCH_NORMALISATION AND DROPOUT\n",
      "\n",
      "\n"
     ]
    },
    {
     "data": {
      "text/plain": [
       "<matplotlib.axes._subplots.AxesSubplot at 0x7fa52257bef0>"
      ]
     },
     "execution_count": 80,
     "metadata": {
      "tags": []
     },
     "output_type": "execute_result"
    },
    {
     "data": {
      "image/png": "[encoded data removed]",
      "text/plain": [
       "<Figure size 720x504 with 2 Axes>"
      ]
     },
     "metadata": {
      "needs_background": "light",
      "tags": []
     },
     "output_type": "display_data"
    }
   ],
   "source": [
    "print(\"CONFUSION MATRIX FOR ANN WIT BATCH_NORMALISATION AND DROPOUT\")\n",
    "print(\"\\n\")\n",
    "confusion_matrix_ann = confusion_matrix(actual_y_val, eval_pred_org)\n",
    "confusion_matrix_ann_df = pd.DataFrame(confusion_matrix_ann)\n",
    "plt.figure(figsize = (10,7))\n",
    "sns.heatmap(confusion_matrix_ann_df, annot=True, cmap='Blues', fmt='g')"
   ]
  },
  {
   "cell_type": "markdown",
   "metadata": {
    "id": "F4bGyPOxfIyh"
   },
   "source": [
    "### **<u>Conclusion:</u>**\n",
    "<p>Looking at the accuracy precision recall  f1-score of both the models trained with and without batch normalisation and dropout layer, model with batch normalisation and dropout layer is good in compare with the model without batch normalisation and dropout layer.</p>"
   ]
  }
 ],
 "metadata": {
  "colab": {
   "collapsed_sections": [],
   "name": "NeuralNetworkProject",
   "provenance": []
  },
  "kernelspec": {
   "display_name": "Python 3",
   "language": "python",
   "name": "python3"
  },
  "language_info": {
   "codemirror_mode": {
    "name": "ipython",
    "version": 3
   },
   "file_extension": ".py",
   "mimetype": "text/x-python",
   "name": "python",
   "nbconvert_exporter": "python",
   "pygments_lexer": "ipython3",
   "version": "3.7.0"
  }
 },
 "nbformat": 4,
 "nbformat_minor": 1
}
