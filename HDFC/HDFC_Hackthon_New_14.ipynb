{
  "nbformat": 4,
  "nbformat_minor": 0,
  "metadata": {
    "colab": {
      "name": "HDFC-Hackthon_New.ipynb",
      "provenance": [],
      "collapsed_sections": []
    },
    "kernelspec": {
      "name": "python3",
      "display_name": "Python 3"
    },
    "accelerator": "GPU"
  },
  "cells": [
    {
      "cell_type": "code",
      "metadata": {
        "id": "Rc4qwqBKJmNb"
      },
      "source": [
        "import tensorflow as tf\n",
        "from tensorflow.keras.preprocessing.image import ImageDataGenerator\n",
        "from tensorflow.keras.layers import Conv2D, Activation\n",
        "from tensorflow.keras.layers import Dense, Dropout, Flatten, MaxPool2D\n",
        "from tensorflow.keras.models import Sequential\n",
        "from tensorflow.keras import backend as bk\n",
        "import numpy as np\n",
        "import glob\n",
        "import os\n",
        "import pandas as pd\n",
        "from tensorflow import keras\n",
        "import matplotlib.pyplot as plt\n",
        "import warnings\n",
        "warnings.filterwarnings('ignore')\n",
        "%matplotlib inline"
      ],
      "execution_count": 1,
      "outputs": []
    },
    {
      "cell_type": "code",
      "metadata": {
        "id": "mWicHUAvK22x"
      },
      "source": [
        "no_of_epoch = 40\n",
        "batch_size = 3\n",
        "target_size = (100, 100)\n",
        "input_shape = (100, 100, 3)"
      ],
      "execution_count": 2,
      "outputs": []
    },
    {
      "cell_type": "code",
      "metadata": {
        "id": "qjHX-AinK3gx"
      },
      "source": [
        "train_path = '/content/drive/MyDrive/GreatLearning/Hackthon/HDFCLife/train'\n",
        "test_path = '/content/drive/MyDrive/GreatLearning/Hackthon/HDFCLife/test'"
      ],
      "execution_count": 3,
      "outputs": []
    },
    {
      "cell_type": "code",
      "metadata": {
        "id": "3o8U5OnCLZEU"
      },
      "source": [
        "test_dataset = []\n",
        "file_ids = []\n",
        "testData =  glob.glob('{}/*.jpg'.format(test_path))\n",
        "for data in testData:\n",
        "  img = tf.keras.preprocessing.image\n",
        "  image = img.load_img(data, color_mode='rgb', target_size= target_size)\n",
        "  image = np.array(image)\n",
        "  file_id = os.path.basename(data).replace('.jpg', '')\n",
        "  test_dataset.append(image)\n",
        "  file_ids.append(int(file_id))"
      ],
      "execution_count": 4,
      "outputs": []
    },
    {
      "cell_type": "code",
      "metadata": {
        "colab": {
          "base_uri": "https://localhost:8080/"
        },
        "id": "pODTu93RLcf3",
        "outputId": "a215ab37-7aa0-4092-ea02-f8b0f4bf5664"
      },
      "source": [
        "imageDataGen = ImageDataGenerator(rescale= 1./ 255,\n",
        "                                 horizontal_flip=True, \n",
        "                                 validation_split=0.2)\n",
        "\n",
        "\n",
        "\n",
        "train_generator = imageDataGen.flow_from_directory(\n",
        "    train_path,\n",
        "    target_size=target_size,\n",
        "    batch_size=batch_size,\n",
        "    #class_mode='categorical',\n",
        "    subset='training') # set as training data\n",
        "\n",
        "validation_generator = imageDataGen.flow_from_directory(\n",
        "    train_path, # same directory as training data\n",
        "    target_size=target_size,\n",
        "    batch_size=batch_size,\n",
        "    #class_mode='categorical',\n",
        "    subset='validation') # set as validation data"
      ],
      "execution_count": 5,
      "outputs": [
        {
          "output_type": "stream",
          "text": [
            "Found 473 images belonging to 2 classes.\n",
            "Found 118 images belonging to 2 classes.\n"
          ],
          "name": "stdout"
        }
      ]
    },
    {
      "cell_type": "code",
      "metadata": {
        "id": "sMsdmur-M9fv"
      },
      "source": [
        "lables = train_generator.class_indices\n",
        "output_layer_len=len(lables)\n",
        "lables_list = list(train_generator.class_indices.keys())"
      ],
      "execution_count": 6,
      "outputs": []
    },
    {
      "cell_type": "code",
      "metadata": {
        "colab": {
          "base_uri": "https://localhost:8080/"
        },
        "id": "vYgTLih8Noqd",
        "outputId": "98bb088a-41b1-4b20-fb5b-eea4ce03d715"
      },
      "source": [
        "print(\"Length of Output layer: {}\".format(output_layer_len))\n",
        "print(\"Lable List: {}\".format(lables_list))"
      ],
      "execution_count": 7,
      "outputs": [
        {
          "output_type": "stream",
          "text": [
            "Length of Output layer: 2\n",
            "Lable List: ['Mask', 'NoMask']\n"
          ],
          "name": "stdout"
        }
      ]
    },
    {
      "cell_type": "code",
      "metadata": {
        "id": "lVK7orfnPS99"
      },
      "source": [
        "model = Sequential()\n",
        "model.add(Conv2D(100, kernel_size=(3,3), input_shape = input_shape, activation='relu'))\n",
        "model.add(MaxPool2D(pool_size=(2,2)))\n",
        "model.add(Conv2D(100, kernel_size=(3,3), activation='relu'))\n",
        "model.add(MaxPool2D(pool_size=(2,2)))\n",
        "model.add(Flatten())\n",
        "model.add(Dropout(0.2))\n",
        "model.add(Dense(50, activation='relu'))\n",
        "model.add(Dense(output_layer_len, activation='sigmoid'))"
      ],
      "execution_count": 8,
      "outputs": []
    },
    {
      "cell_type": "code",
      "metadata": {
        "id": "oI2ZwJm7i8P_"
      },
      "source": [
        "from keras.optimizers import SGD, Adam\n",
        "optimizer = SGD(learning_rate=0.1)"
      ],
      "execution_count": 9,
      "outputs": []
    },
    {
      "cell_type": "code",
      "metadata": {
        "id": "RQQIk6J3Pzfe"
      },
      "source": [
        "#model.compile(optimizer='adam', loss='categorical_crossentropy', metrics=['accuracy'])\n",
        "model.compile(optimizer=optimizer, loss='binary_crossentropy', metrics=['accuracy'])"
      ],
      "execution_count": 10,
      "outputs": []
    },
    {
      "cell_type": "code",
      "metadata": {
        "colab": {
          "base_uri": "https://localhost:8080/"
        },
        "id": "9XXqvvUwP3-g",
        "outputId": "86aa4ecb-44df-4e60-b591-9b96ef21b4c4"
      },
      "source": [
        "model.summary()"
      ],
      "execution_count": 11,
      "outputs": [
        {
          "output_type": "stream",
          "text": [
            "Model: \"sequential\"\n",
            "_________________________________________________________________\n",
            "Layer (type)                 Output Shape              Param #   \n",
            "=================================================================\n",
            "conv2d (Conv2D)              (None, 98, 98, 100)       2800      \n",
            "_________________________________________________________________\n",
            "max_pooling2d (MaxPooling2D) (None, 49, 49, 100)       0         \n",
            "_________________________________________________________________\n",
            "conv2d_1 (Conv2D)            (None, 47, 47, 100)       90100     \n",
            "_________________________________________________________________\n",
            "max_pooling2d_1 (MaxPooling2 (None, 23, 23, 100)       0         \n",
            "_________________________________________________________________\n",
            "flatten (Flatten)            (None, 52900)             0         \n",
            "_________________________________________________________________\n",
            "dropout (Dropout)            (None, 52900)             0         \n",
            "_________________________________________________________________\n",
            "dense (Dense)                (None, 50)                2645050   \n",
            "_________________________________________________________________\n",
            "dense_1 (Dense)              (None, 2)                 102       \n",
            "=================================================================\n",
            "Total params: 2,738,052\n",
            "Trainable params: 2,738,052\n",
            "Non-trainable params: 0\n",
            "_________________________________________________________________\n"
          ],
          "name": "stdout"
        }
      ]
    },
    {
      "cell_type": "code",
      "metadata": {
        "colab": {
          "base_uri": "https://localhost:8080/"
        },
        "id": "9PNzYrBcP9TK",
        "outputId": "ca319bdf-5483-4c9c-d474-a96d8ed7bc34"
      },
      "source": [
        "with tf.device('/device:GPU:0'):\n",
        "  model.fit(train_generator ,epochs=no_of_epoch, validation_data=validation_generator)"
      ],
      "execution_count": 12,
      "outputs": [
        {
          "output_type": "stream",
          "text": [
            "Epoch 1/40\n",
            "158/158 [==============================] - 6s 25ms/step - loss: 0.6593 - accuracy: 0.7663 - val_loss: 0.5283 - val_accuracy: 0.8136\n",
            "Epoch 2/40\n",
            "158/158 [==============================] - 4s 23ms/step - loss: 0.5247 - accuracy: 0.7981 - val_loss: 0.4795 - val_accuracy: 0.8136\n",
            "Epoch 3/40\n",
            "158/158 [==============================] - 4s 23ms/step - loss: 0.4615 - accuracy: 0.8302 - val_loss: 0.4772 - val_accuracy: 0.8136\n",
            "Epoch 4/40\n",
            "158/158 [==============================] - 4s 23ms/step - loss: 0.4553 - accuracy: 0.8335 - val_loss: 0.4811 - val_accuracy: 0.8136\n",
            "Epoch 5/40\n",
            "158/158 [==============================] - 4s 23ms/step - loss: 0.4905 - accuracy: 0.8087 - val_loss: 0.4768 - val_accuracy: 0.8136\n",
            "Epoch 6/40\n",
            "158/158 [==============================] - 4s 23ms/step - loss: 0.4684 - accuracy: 0.8222 - val_loss: 0.4796 - val_accuracy: 0.8136\n",
            "Epoch 7/40\n",
            "158/158 [==============================] - 4s 23ms/step - loss: 0.4731 - accuracy: 0.8174 - val_loss: 0.4851 - val_accuracy: 0.8136\n",
            "Epoch 8/40\n",
            "158/158 [==============================] - 4s 23ms/step - loss: 0.5017 - accuracy: 0.7926 - val_loss: 0.4807 - val_accuracy: 0.8136\n",
            "Epoch 9/40\n",
            "158/158 [==============================] - 4s 23ms/step - loss: 0.4662 - accuracy: 0.8227 - val_loss: 0.4869 - val_accuracy: 0.8136\n",
            "Epoch 10/40\n",
            "158/158 [==============================] - 4s 23ms/step - loss: 0.4411 - accuracy: 0.8353 - val_loss: 0.4767 - val_accuracy: 0.8136\n",
            "Epoch 11/40\n",
            "158/158 [==============================] - 4s 23ms/step - loss: 0.4824 - accuracy: 0.7993 - val_loss: 0.4869 - val_accuracy: 0.8136\n",
            "Epoch 12/40\n",
            "158/158 [==============================] - 4s 22ms/step - loss: 0.4646 - accuracy: 0.8075 - val_loss: 0.5404 - val_accuracy: 0.7966\n",
            "Epoch 13/40\n",
            "158/158 [==============================] - 4s 22ms/step - loss: 0.4352 - accuracy: 0.8377 - val_loss: 0.5621 - val_accuracy: 0.7373\n",
            "Epoch 14/40\n",
            "158/158 [==============================] - 4s 23ms/step - loss: 0.4157 - accuracy: 0.8366 - val_loss: 0.4763 - val_accuracy: 0.8136\n",
            "Epoch 15/40\n",
            "158/158 [==============================] - 4s 23ms/step - loss: 0.3708 - accuracy: 0.8588 - val_loss: 0.8484 - val_accuracy: 0.6102\n",
            "Epoch 16/40\n",
            "158/158 [==============================] - 4s 23ms/step - loss: 0.4397 - accuracy: 0.8234 - val_loss: 0.4899 - val_accuracy: 0.7712\n",
            "Epoch 17/40\n",
            "158/158 [==============================] - 4s 23ms/step - loss: 0.4134 - accuracy: 0.8317 - val_loss: 0.6755 - val_accuracy: 0.7797\n",
            "Epoch 18/40\n",
            "158/158 [==============================] - 4s 22ms/step - loss: 0.4238 - accuracy: 0.8447 - val_loss: 0.5095 - val_accuracy: 0.7966\n",
            "Epoch 19/40\n",
            "158/158 [==============================] - 4s 23ms/step - loss: 0.4189 - accuracy: 0.8361 - val_loss: 0.4458 - val_accuracy: 0.8136\n",
            "Epoch 20/40\n",
            "158/158 [==============================] - 4s 23ms/step - loss: 0.3640 - accuracy: 0.8632 - val_loss: 0.4979 - val_accuracy: 0.7627\n",
            "Epoch 21/40\n",
            "158/158 [==============================] - 4s 23ms/step - loss: 0.3576 - accuracy: 0.8507 - val_loss: 0.5742 - val_accuracy: 0.7203\n",
            "Epoch 22/40\n",
            "158/158 [==============================] - 4s 24ms/step - loss: 0.3895 - accuracy: 0.8524 - val_loss: 0.4906 - val_accuracy: 0.7712\n",
            "Epoch 23/40\n",
            "158/158 [==============================] - 4s 23ms/step - loss: 0.2663 - accuracy: 0.9020 - val_loss: 0.5647 - val_accuracy: 0.7966\n",
            "Epoch 24/40\n",
            "158/158 [==============================] - 4s 23ms/step - loss: 0.3084 - accuracy: 0.8759 - val_loss: 0.6101 - val_accuracy: 0.7542\n",
            "Epoch 25/40\n",
            "158/158 [==============================] - 4s 23ms/step - loss: 0.2439 - accuracy: 0.8958 - val_loss: 0.6153 - val_accuracy: 0.7458\n",
            "Epoch 26/40\n",
            "158/158 [==============================] - 4s 23ms/step - loss: 0.2464 - accuracy: 0.8899 - val_loss: 0.5105 - val_accuracy: 0.8136\n",
            "Epoch 27/40\n",
            "158/158 [==============================] - 4s 23ms/step - loss: 0.2431 - accuracy: 0.9042 - val_loss: 0.7551 - val_accuracy: 0.7881\n",
            "Epoch 28/40\n",
            "158/158 [==============================] - 4s 23ms/step - loss: 0.2445 - accuracy: 0.9121 - val_loss: 0.6286 - val_accuracy: 0.7712\n",
            "Epoch 29/40\n",
            "158/158 [==============================] - 4s 23ms/step - loss: 0.2261 - accuracy: 0.9090 - val_loss: 0.4866 - val_accuracy: 0.7966\n",
            "Epoch 30/40\n",
            "158/158 [==============================] - 4s 24ms/step - loss: 0.2230 - accuracy: 0.9242 - val_loss: 0.6102 - val_accuracy: 0.7627\n",
            "Epoch 31/40\n",
            "158/158 [==============================] - 4s 23ms/step - loss: 0.1951 - accuracy: 0.9239 - val_loss: 0.5116 - val_accuracy: 0.7881\n",
            "Epoch 32/40\n",
            "158/158 [==============================] - 4s 23ms/step - loss: 0.1404 - accuracy: 0.9366 - val_loss: 0.8341 - val_accuracy: 0.7712\n",
            "Epoch 33/40\n",
            "158/158 [==============================] - 4s 24ms/step - loss: 0.1055 - accuracy: 0.9668 - val_loss: 0.7425 - val_accuracy: 0.7627\n",
            "Epoch 34/40\n",
            "158/158 [==============================] - 4s 24ms/step - loss: 0.1576 - accuracy: 0.9587 - val_loss: 1.0205 - val_accuracy: 0.7881\n",
            "Epoch 35/40\n",
            "158/158 [==============================] - 4s 23ms/step - loss: 0.1081 - accuracy: 0.9579 - val_loss: 1.5424 - val_accuracy: 0.7627\n",
            "Epoch 36/40\n",
            "158/158 [==============================] - 4s 23ms/step - loss: 0.2279 - accuracy: 0.9332 - val_loss: 0.5805 - val_accuracy: 0.7966\n",
            "Epoch 37/40\n",
            "158/158 [==============================] - 4s 23ms/step - loss: 0.1353 - accuracy: 0.9626 - val_loss: 0.9881 - val_accuracy: 0.7203\n",
            "Epoch 38/40\n",
            "158/158 [==============================] - 4s 23ms/step - loss: 0.1453 - accuracy: 0.9536 - val_loss: 0.9514 - val_accuracy: 0.7881\n",
            "Epoch 39/40\n",
            "158/158 [==============================] - 4s 24ms/step - loss: 0.0455 - accuracy: 0.9789 - val_loss: 1.3082 - val_accuracy: 0.7627\n",
            "Epoch 40/40\n",
            "158/158 [==============================] - 4s 24ms/step - loss: 0.0925 - accuracy: 0.9783 - val_loss: 1.1095 - val_accuracy: 0.7542\n"
          ],
          "name": "stdout"
        }
      ]
    },
    {
      "cell_type": "code",
      "metadata": {
        "id": "HsSQD1JMVrwh"
      },
      "source": [
        "training_history_model = model.history"
      ],
      "execution_count": 13,
      "outputs": []
    },
    {
      "cell_type": "code",
      "metadata": {
        "colab": {
          "base_uri": "https://localhost:8080/",
          "height": 295
        },
        "id": "O0v6mCplQHs3",
        "outputId": "68b8cac3-96f1-4563-f398-bf4ee7f99666"
      },
      "source": [
        "plt.plot(training_history_model.history['accuracy'])\n",
        "plt.plot(training_history_model.history['val_accuracy'])\n",
        "plt.title('model accuracy chart')\n",
        "plt.ylabel('accuracy')\n",
        "plt.xlabel('epoch')\n",
        "plt.legend(['train', 'test'], loc='upper left')\n",
        "plt.show()"
      ],
      "execution_count": 14,
      "outputs": [
        {
          "output_type": "display_data",
          "data": {
            "image/png": "[encoded data removed]",
            "text/plain": [
              "<Figure size 432x288 with 1 Axes>"
            ]
          },
          "metadata": {
            "tags": [],
            "needs_background": "light"
          }
        }
      ]
    },
    {
      "cell_type": "code",
      "metadata": {
        "colab": {
          "base_uri": "https://localhost:8080/",
          "height": 295
        },
        "id": "QBSzCFDsWJ44",
        "outputId": "e0a5080a-715e-4649-b8be-c178296f4a87"
      },
      "source": [
        "# summarize history for loss\n",
        "plt.plot(training_history_model.history['loss'])\n",
        "plt.plot(training_history_model.history['val_loss'])\n",
        "plt.title('model loss chart')\n",
        "plt.ylabel('loss')\n",
        "plt.xlabel('epoch')\n",
        "plt.legend(['train', 'test'], loc='upper left')\n",
        "plt.show()"
      ],
      "execution_count": 15,
      "outputs": [
        {
          "output_type": "display_data",
          "data": {
            "image/png": "[encoded data removed]",
            "text/plain": [
              "<Figure size 432x288 with 1 Axes>"
            ]
          },
          "metadata": {
            "tags": [],
            "needs_background": "light"
          }
        }
      ]
    },
    {
      "cell_type": "code",
      "metadata": {
        "colab": {
          "base_uri": "https://localhost:8080/"
        },
        "id": "9phoN9vbV27k",
        "outputId": "ab491f42-d820-412b-abbb-aa8456fe4bfd"
      },
      "source": [
        "pred_test_result_m1 = []\n",
        "for file_id, img in zip(file_ids, test_dataset):\n",
        "  exp_img = np.expand_dims(img, axis=0)\n",
        "  val_dataset_pred = model.predict(exp_img)\n",
        "  pred_val = np.argmax(val_dataset_pred)\n",
        "  pred_val_lable = lables_list[pred_val]\n",
        "  val_dataset_pred_lable = None\n",
        "  if pred_val_lable == 'Mask':\n",
        "    val_dataset_pred_lable = 1\n",
        "  else:\n",
        "    val_dataset_pred_lable = 0\n",
        "  result = [file_id,  val_dataset_pred_lable, pred_val_lable]\n",
        "  print(result)\n",
        "  pred_test_result_m1.append(result)"
      ],
      "execution_count": 19,
      "outputs": [
        {
          "output_type": "stream",
          "text": [
            "[41, 1, 'Mask']\n",
            "[39, 1, 'Mask']\n",
            "[27, 1, 'Mask']\n",
            "[35, 1, 'Mask']\n",
            "[45, 1, 'Mask']\n",
            "[38, 1, 'Mask']\n",
            "[32, 1, 'Mask']\n",
            "[31, 0, 'NoMask']\n",
            "[29, 0, 'NoMask']\n",
            "[9, 1, 'Mask']\n",
            "[1, 0, 'NoMask']\n",
            "[26, 1, 'Mask']\n",
            "[24, 1, 'Mask']\n",
            "[21, 1, 'Mask']\n",
            "[28, 1, 'Mask']\n",
            "[7, 1, 'Mask']\n",
            "[42, 0, 'NoMask']\n",
            "[44, 1, 'Mask']\n",
            "[25, 1, 'Mask']\n",
            "[12, 1, 'Mask']\n",
            "[6, 1, 'Mask']\n",
            "[43, 1, 'Mask']\n",
            "[0, 1, 'Mask']\n",
            "[10, 1, 'Mask']\n",
            "[19, 1, 'Mask']\n",
            "[4, 1, 'Mask']\n",
            "[3, 1, 'Mask']\n",
            "[18, 1, 'Mask']\n",
            "[15, 1, 'Mask']\n",
            "[37, 0, 'NoMask']\n",
            "[14, 1, 'Mask']\n",
            "[16, 0, 'NoMask']\n",
            "[23, 1, 'Mask']\n",
            "[2, 1, 'Mask']\n",
            "[11, 1, 'Mask']\n",
            "[17, 1, 'Mask']\n",
            "[30, 1, 'Mask']\n",
            "[20, 1, 'Mask']\n",
            "[40, 0, 'NoMask']\n",
            "[13, 1, 'Mask']\n",
            "[22, 1, 'Mask']\n",
            "[33, 0, 'NoMask']\n",
            "[34, 1, 'Mask']\n",
            "[8, 1, 'Mask']\n",
            "[36, 1, 'Mask']\n",
            "[5, 1, 'Mask']\n"
          ],
          "name": "stdout"
        }
      ]
    },
    {
      "cell_type": "code",
      "metadata": {
        "colab": {
          "base_uri": "https://localhost:8080/",
          "height": 1000
        },
        "id": "KaawigByWd3E",
        "outputId": "85c86705-3a53-40a6-babb-6338838fee41"
      },
      "source": [
        "pred_test_result_m1_df = pd.DataFrame(pred_test_result_m1, columns=['file_id', 'label', 'label_value'])\n",
        "pred_test_result_m1_df.sort_values(by='file_id')"
      ],
      "execution_count": 21,
      "outputs": [
        {
          "output_type": "execute_result",
          "data": {
            "text/html": [
              "<div>\n",
              "<style scoped>\n",
              "    .dataframe tbody tr th:only-of-type {\n",
              "        vertical-align: middle;\n",
              "    }\n",
              "\n",
              "    .dataframe tbody tr th {\n",
              "        vertical-align: top;\n",
              "    }\n",
              "\n",
              "    .dataframe thead th {\n",
              "        text-align: right;\n",
              "    }\n",
              "</style>\n",
              "<table border=\"1\" class=\"dataframe\">\n",
              "  <thead>\n",
              "    <tr style=\"text-align: right;\">\n",
              "      <th></th>\n",
              "      <th>file_id</th>\n",
              "      <th>label</th>\n",
              "      <th>label_value</th>\n",
              "    </tr>\n",
              "  </thead>\n",
              "  <tbody>\n",
              "    <tr>\n",
              "      <th>22</th>\n",
              "      <td>0</td>\n",
              "      <td>1</td>\n",
              "      <td>Mask</td>\n",
              "    </tr>\n",
              "    <tr>\n",
              "      <th>10</th>\n",
              "      <td>1</td>\n",
              "      <td>0</td>\n",
              "      <td>NoMask</td>\n",
              "    </tr>\n",
              "    <tr>\n",
              "      <th>33</th>\n",
              "      <td>2</td>\n",
              "      <td>1</td>\n",
              "      <td>Mask</td>\n",
              "    </tr>\n",
              "    <tr>\n",
              "      <th>26</th>\n",
              "      <td>3</td>\n",
              "      <td>1</td>\n",
              "      <td>Mask</td>\n",
              "    </tr>\n",
              "    <tr>\n",
              "      <th>25</th>\n",
              "      <td>4</td>\n",
              "      <td>1</td>\n",
              "      <td>Mask</td>\n",
              "    </tr>\n",
              "    <tr>\n",
              "      <th>45</th>\n",
              "      <td>5</td>\n",
              "      <td>1</td>\n",
              "      <td>Mask</td>\n",
              "    </tr>\n",
              "    <tr>\n",
              "      <th>20</th>\n",
              "      <td>6</td>\n",
              "      <td>1</td>\n",
              "      <td>Mask</td>\n",
              "    </tr>\n",
              "    <tr>\n",
              "      <th>15</th>\n",
              "      <td>7</td>\n",
              "      <td>1</td>\n",
              "      <td>Mask</td>\n",
              "    </tr>\n",
              "    <tr>\n",
              "      <th>43</th>\n",
              "      <td>8</td>\n",
              "      <td>1</td>\n",
              "      <td>Mask</td>\n",
              "    </tr>\n",
              "    <tr>\n",
              "      <th>9</th>\n",
              "      <td>9</td>\n",
              "      <td>1</td>\n",
              "      <td>Mask</td>\n",
              "    </tr>\n",
              "    <tr>\n",
              "      <th>23</th>\n",
              "      <td>10</td>\n",
              "      <td>1</td>\n",
              "      <td>Mask</td>\n",
              "    </tr>\n",
              "    <tr>\n",
              "      <th>34</th>\n",
              "      <td>11</td>\n",
              "      <td>1</td>\n",
              "      <td>Mask</td>\n",
              "    </tr>\n",
              "    <tr>\n",
              "      <th>19</th>\n",
              "      <td>12</td>\n",
              "      <td>1</td>\n",
              "      <td>Mask</td>\n",
              "    </tr>\n",
              "    <tr>\n",
              "      <th>39</th>\n",
              "      <td>13</td>\n",
              "      <td>1</td>\n",
              "      <td>Mask</td>\n",
              "    </tr>\n",
              "    <tr>\n",
              "      <th>30</th>\n",
              "      <td>14</td>\n",
              "      <td>1</td>\n",
              "      <td>Mask</td>\n",
              "    </tr>\n",
              "    <tr>\n",
              "      <th>28</th>\n",
              "      <td>15</td>\n",
              "      <td>1</td>\n",
              "      <td>Mask</td>\n",
              "    </tr>\n",
              "    <tr>\n",
              "      <th>31</th>\n",
              "      <td>16</td>\n",
              "      <td>0</td>\n",
              "      <td>NoMask</td>\n",
              "    </tr>\n",
              "    <tr>\n",
              "      <th>35</th>\n",
              "      <td>17</td>\n",
              "      <td>1</td>\n",
              "      <td>Mask</td>\n",
              "    </tr>\n",
              "    <tr>\n",
              "      <th>27</th>\n",
              "      <td>18</td>\n",
              "      <td>1</td>\n",
              "      <td>Mask</td>\n",
              "    </tr>\n",
              "    <tr>\n",
              "      <th>24</th>\n",
              "      <td>19</td>\n",
              "      <td>1</td>\n",
              "      <td>Mask</td>\n",
              "    </tr>\n",
              "    <tr>\n",
              "      <th>37</th>\n",
              "      <td>20</td>\n",
              "      <td>1</td>\n",
              "      <td>Mask</td>\n",
              "    </tr>\n",
              "    <tr>\n",
              "      <th>13</th>\n",
              "      <td>21</td>\n",
              "      <td>1</td>\n",
              "      <td>Mask</td>\n",
              "    </tr>\n",
              "    <tr>\n",
              "      <th>40</th>\n",
              "      <td>22</td>\n",
              "      <td>1</td>\n",
              "      <td>Mask</td>\n",
              "    </tr>\n",
              "    <tr>\n",
              "      <th>32</th>\n",
              "      <td>23</td>\n",
              "      <td>1</td>\n",
              "      <td>Mask</td>\n",
              "    </tr>\n",
              "    <tr>\n",
              "      <th>12</th>\n",
              "      <td>24</td>\n",
              "      <td>1</td>\n",
              "      <td>Mask</td>\n",
              "    </tr>\n",
              "    <tr>\n",
              "      <th>18</th>\n",
              "      <td>25</td>\n",
              "      <td>1</td>\n",
              "      <td>Mask</td>\n",
              "    </tr>\n",
              "    <tr>\n",
              "      <th>11</th>\n",
              "      <td>26</td>\n",
              "      <td>1</td>\n",
              "      <td>Mask</td>\n",
              "    </tr>\n",
              "    <tr>\n",
              "      <th>2</th>\n",
              "      <td>27</td>\n",
              "      <td>1</td>\n",
              "      <td>Mask</td>\n",
              "    </tr>\n",
              "    <tr>\n",
              "      <th>14</th>\n",
              "      <td>28</td>\n",
              "      <td>1</td>\n",
              "      <td>Mask</td>\n",
              "    </tr>\n",
              "    <tr>\n",
              "      <th>8</th>\n",
              "      <td>29</td>\n",
              "      <td>0</td>\n",
              "      <td>NoMask</td>\n",
              "    </tr>\n",
              "    <tr>\n",
              "      <th>36</th>\n",
              "      <td>30</td>\n",
              "      <td>1</td>\n",
              "      <td>Mask</td>\n",
              "    </tr>\n",
              "    <tr>\n",
              "      <th>7</th>\n",
              "      <td>31</td>\n",
              "      <td>0</td>\n",
              "      <td>NoMask</td>\n",
              "    </tr>\n",
              "    <tr>\n",
              "      <th>6</th>\n",
              "      <td>32</td>\n",
              "      <td>1</td>\n",
              "      <td>Mask</td>\n",
              "    </tr>\n",
              "    <tr>\n",
              "      <th>41</th>\n",
              "      <td>33</td>\n",
              "      <td>0</td>\n",
              "      <td>NoMask</td>\n",
              "    </tr>\n",
              "    <tr>\n",
              "      <th>42</th>\n",
              "      <td>34</td>\n",
              "      <td>1</td>\n",
              "      <td>Mask</td>\n",
              "    </tr>\n",
              "    <tr>\n",
              "      <th>3</th>\n",
              "      <td>35</td>\n",
              "      <td>1</td>\n",
              "      <td>Mask</td>\n",
              "    </tr>\n",
              "    <tr>\n",
              "      <th>44</th>\n",
              "      <td>36</td>\n",
              "      <td>1</td>\n",
              "      <td>Mask</td>\n",
              "    </tr>\n",
              "    <tr>\n",
              "      <th>29</th>\n",
              "      <td>37</td>\n",
              "      <td>0</td>\n",
              "      <td>NoMask</td>\n",
              "    </tr>\n",
              "    <tr>\n",
              "      <th>5</th>\n",
              "      <td>38</td>\n",
              "      <td>1</td>\n",
              "      <td>Mask</td>\n",
              "    </tr>\n",
              "    <tr>\n",
              "      <th>1</th>\n",
              "      <td>39</td>\n",
              "      <td>1</td>\n",
              "      <td>Mask</td>\n",
              "    </tr>\n",
              "    <tr>\n",
              "      <th>38</th>\n",
              "      <td>40</td>\n",
              "      <td>0</td>\n",
              "      <td>NoMask</td>\n",
              "    </tr>\n",
              "    <tr>\n",
              "      <th>0</th>\n",
              "      <td>41</td>\n",
              "      <td>1</td>\n",
              "      <td>Mask</td>\n",
              "    </tr>\n",
              "    <tr>\n",
              "      <th>16</th>\n",
              "      <td>42</td>\n",
              "      <td>0</td>\n",
              "      <td>NoMask</td>\n",
              "    </tr>\n",
              "    <tr>\n",
              "      <th>21</th>\n",
              "      <td>43</td>\n",
              "      <td>1</td>\n",
              "      <td>Mask</td>\n",
              "    </tr>\n",
              "    <tr>\n",
              "      <th>17</th>\n",
              "      <td>44</td>\n",
              "      <td>1</td>\n",
              "      <td>Mask</td>\n",
              "    </tr>\n",
              "    <tr>\n",
              "      <th>4</th>\n",
              "      <td>45</td>\n",
              "      <td>1</td>\n",
              "      <td>Mask</td>\n",
              "    </tr>\n",
              "  </tbody>\n",
              "</table>\n",
              "</div>"
            ],
            "text/plain": [
              "    file_id  label label_value\n",
              "22        0      1        Mask\n",
              "10        1      0      NoMask\n",
              "33        2      1        Mask\n",
              "26        3      1        Mask\n",
              "25        4      1        Mask\n",
              "45        5      1        Mask\n",
              "20        6      1        Mask\n",
              "15        7      1        Mask\n",
              "43        8      1        Mask\n",
              "9         9      1        Mask\n",
              "23       10      1        Mask\n",
              "34       11      1        Mask\n",
              "19       12      1        Mask\n",
              "39       13      1        Mask\n",
              "30       14      1        Mask\n",
              "28       15      1        Mask\n",
              "31       16      0      NoMask\n",
              "35       17      1        Mask\n",
              "27       18      1        Mask\n",
              "24       19      1        Mask\n",
              "37       20      1        Mask\n",
              "13       21      1        Mask\n",
              "40       22      1        Mask\n",
              "32       23      1        Mask\n",
              "12       24      1        Mask\n",
              "18       25      1        Mask\n",
              "11       26      1        Mask\n",
              "2        27      1        Mask\n",
              "14       28      1        Mask\n",
              "8        29      0      NoMask\n",
              "36       30      1        Mask\n",
              "7        31      0      NoMask\n",
              "6        32      1        Mask\n",
              "41       33      0      NoMask\n",
              "42       34      1        Mask\n",
              "3        35      1        Mask\n",
              "44       36      1        Mask\n",
              "29       37      0      NoMask\n",
              "5        38      1        Mask\n",
              "1        39      1        Mask\n",
              "38       40      0      NoMask\n",
              "0        41      1        Mask\n",
              "16       42      0      NoMask\n",
              "21       43      1        Mask\n",
              "17       44      1        Mask\n",
              "4        45      1        Mask"
            ]
          },
          "metadata": {
            "tags": []
          },
          "execution_count": 21
        }
      ]
    },
    {
      "cell_type": "code",
      "metadata": {
        "id": "aG88vsA7Wlj7"
      },
      "source": [
        "subbmit_m1 = pred_test_result_m1_df.drop(['label_value'], axis=1)\n",
        "subbmit_m1.to_csv('HDFC_Hackthon_Submit_14.csv', index=False)"
      ],
      "execution_count": 22,
      "outputs": []
    },
    {
      "cell_type": "code",
      "metadata": {
        "id": "mI9qG51_bv6j"
      },
      "source": [
        ""
      ],
      "execution_count": null,
      "outputs": []
    }
  ]
}