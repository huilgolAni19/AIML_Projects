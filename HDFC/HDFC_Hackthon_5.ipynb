{
  "nbformat": 4,
  "nbformat_minor": 0,
  "metadata": {
    "colab": {
      "name": "HDFC-Hackthon.ipynb",
      "provenance": [],
      "collapsed_sections": []
    },
    "kernelspec": {
      "name": "python3",
      "display_name": "Python 3"
    },
    "accelerator": "GPU"
  },
  "cells": [
    {
      "cell_type": "code",
      "metadata": {
        "id": "YkHSh06zBYSM"
      },
      "source": [
        "import pandas as pd\n",
        "import tensorflow as tf\n",
        "from tensorflow.keras.preprocessing.image import ImageDataGenerator\n",
        "from tensorflow.keras.layers import Conv2D, Activation\n",
        "from tensorflow.keras.layers import Dense, Dropout, Flatten, MaxPool2D\n",
        "from tensorflow.keras.models import Sequential\n",
        "from keras.applications.vgg16 import VGG16 as PTM, preprocess_input\n",
        "from tensorflow.keras import backend as bk\n",
        "import numpy as np\n",
        "from tensorflow import keras\n",
        "import glob\n",
        "import os\n",
        "import matplotlib.pyplot as plt\n",
        "import warnings\n",
        "warnings.filterwarnings('ignore')\n",
        "%matplotlib inline"
      ],
      "execution_count": 1,
      "outputs": []
    },
    {
      "cell_type": "code",
      "metadata": {
        "id": "TUnqz76qMFaP"
      },
      "source": [
        "train_path = '/content/drive/MyDrive/GreatLearning/Hackthon/HDFCLife/train'\n",
        "test_path = '/content/drive/MyDrive/GreatLearning/Hackthon/HDFCLife/test'\n",
        "gt_path = '/content/drive/MyDrive/GreatLearning/Hackthon/HDFCLife/GroundTruth/Gt.csv'"
      ],
      "execution_count": 2,
      "outputs": []
    },
    {
      "cell_type": "code",
      "metadata": {
        "id": "luF1W8IciZFD"
      },
      "source": [
        "target_size= (128,128)\n",
        "batch_size = 5\n",
        "epochs = 10 * 2"
      ],
      "execution_count": 3,
      "outputs": []
    },
    {
      "cell_type": "code",
      "metadata": {
        "id": "fcF848kAb10k"
      },
      "source": [
        "test_dataset = []\n",
        "file_ids = []\n",
        "testData =  glob.glob('{}/*.jpg'.format(test_path))\n",
        "for data in testData:\n",
        "  img = tf.keras.preprocessing.image\n",
        "  image = img.load_img(data, color_mode='rgb', target_size= target_size)\n",
        "  image = np.array(image)\n",
        "  file_id = os.path.basename(data).replace('.jpg', '')\n",
        "  test_dataset.append(image)\n",
        "  file_ids.append(int(file_id))"
      ],
      "execution_count": 4,
      "outputs": []
    },
    {
      "cell_type": "code",
      "metadata": {
        "id": "NKiwzJhtr8Mx",
        "colab": {
          "base_uri": "https://localhost:8080/"
        },
        "outputId": "c35b03b7-84de-492c-a8c9-fd560130a6a2"
      },
      "source": [
        "file_ids[10]"
      ],
      "execution_count": 5,
      "outputs": [
        {
          "output_type": "execute_result",
          "data": {
            "text/plain": [
              "1"
            ]
          },
          "metadata": {
            "tags": []
          },
          "execution_count": 5
        }
      ]
    },
    {
      "cell_type": "code",
      "metadata": {
        "id": "Zasj2nbZj-2D",
        "colab": {
          "base_uri": "https://localhost:8080/"
        },
        "outputId": "23c4d05c-8ce5-44fa-8a6b-95fcfa81193a"
      },
      "source": [
        "imageDataGen = ImageDataGenerator(rescale= 1./ 255,\n",
        "                                 shear_range= 0.2,\n",
        "                                 zoom_range=0.2, \n",
        "                                 horizontal_flip=True, \n",
        "                                 validation_split=0.2,\n",
        "                                 width_shift_range=0.2,\n",
        "                                 height_shift_range=0.2,\n",
        "                                 fill_mode=\"nearest\",\n",
        "                                 preprocessing_function=preprocess_input)\n",
        "\n",
        "\n",
        "\n",
        "train_generator = imageDataGen.flow_from_directory(\n",
        "    train_path,\n",
        "    target_size=target_size,\n",
        "    batch_size=batch_size,\n",
        "    class_mode='categorical',\n",
        "    subset='training') # set as training data\n",
        "\n",
        "validation_generator = imageDataGen.flow_from_directory(\n",
        "    train_path, # same directory as training data\n",
        "    target_size=target_size,\n",
        "    batch_size=batch_size,\n",
        "    class_mode='categorical',\n",
        "    subset='validation') # set as validation data\n"
      ],
      "execution_count": 6,
      "outputs": [
        {
          "output_type": "stream",
          "text": [
            "Found 473 images belonging to 2 classes.\n",
            "Found 118 images belonging to 2 classes.\n"
          ],
          "name": "stdout"
        }
      ]
    },
    {
      "cell_type": "code",
      "metadata": {
        "id": "YLA-FFz8nOhT",
        "colab": {
          "base_uri": "https://localhost:8080/"
        },
        "outputId": "38750f70-425b-4f1f-babd-184d3ce914a5"
      },
      "source": [
        "train_generator.class_indices"
      ],
      "execution_count": 7,
      "outputs": [
        {
          "output_type": "execute_result",
          "data": {
            "text/plain": [
              "{'Mask': 0, 'NoMask': 1}"
            ]
          },
          "metadata": {
            "tags": []
          },
          "execution_count": 7
        }
      ]
    },
    {
      "cell_type": "code",
      "metadata": {
        "id": "DSzsdks3nhtH",
        "colab": {
          "base_uri": "https://localhost:8080/"
        },
        "outputId": "a3ab5c14-3e5c-42af-e027-6a877ec77fca"
      },
      "source": [
        "pd.DataFrame(train_generator.classes, columns=['Classes']).value_counts()"
      ],
      "execution_count": 8,
      "outputs": [
        {
          "output_type": "execute_result",
          "data": {
            "text/plain": [
              "Classes\n",
              "0          384\n",
              "1           89\n",
              "dtype: int64"
            ]
          },
          "metadata": {
            "tags": []
          },
          "execution_count": 8
        }
      ]
    },
    {
      "cell_type": "code",
      "metadata": {
        "id": "WdsCUfiKpOj3",
        "colab": {
          "base_uri": "https://localhost:8080/"
        },
        "outputId": "81985679-c134-4341-96ea-38a337bf6763"
      },
      "source": [
        "pd.DataFrame(validation_generator.classes, columns=['Classes']).value_counts()"
      ],
      "execution_count": 9,
      "outputs": [
        {
          "output_type": "execute_result",
          "data": {
            "text/plain": [
              "Classes\n",
              "0          96\n",
              "1          22\n",
              "dtype: int64"
            ]
          },
          "metadata": {
            "tags": []
          },
          "execution_count": 9
        }
      ]
    },
    {
      "cell_type": "code",
      "metadata": {
        "id": "UllaRapKqDhF"
      },
      "source": [
        "ptm = PTM(input_shape=tuple(list(target_size)+[3]),\n",
        "            weights='imagenet', \n",
        "            include_top=False)\n",
        "ptm.trainable = False "
      ],
      "execution_count": 10,
      "outputs": []
    },
    {
      "cell_type": "code",
      "metadata": {
        "id": "CkunglS8_lHD",
        "colab": {
          "base_uri": "https://localhost:8080/"
        },
        "outputId": "95d944d6-ea91-4c03-8bd1-a5f46ff96b93"
      },
      "source": [
        "ptm.summary()"
      ],
      "execution_count": 11,
      "outputs": [
        {
          "output_type": "stream",
          "text": [
            "Model: \"vgg16\"\n",
            "_________________________________________________________________\n",
            "Layer (type)                 Output Shape              Param #   \n",
            "=================================================================\n",
            "input_1 (InputLayer)         [(None, 128, 128, 3)]     0         \n",
            "_________________________________________________________________\n",
            "block1_conv1 (Conv2D)        (None, 128, 128, 64)      1792      \n",
            "_________________________________________________________________\n",
            "block1_conv2 (Conv2D)        (None, 128, 128, 64)      36928     \n",
            "_________________________________________________________________\n",
            "block1_pool (MaxPooling2D)   (None, 64, 64, 64)        0         \n",
            "_________________________________________________________________\n",
            "block2_conv1 (Conv2D)        (None, 64, 64, 128)       73856     \n",
            "_________________________________________________________________\n",
            "block2_conv2 (Conv2D)        (None, 64, 64, 128)       147584    \n",
            "_________________________________________________________________\n",
            "block2_pool (MaxPooling2D)   (None, 32, 32, 128)       0         \n",
            "_________________________________________________________________\n",
            "block3_conv1 (Conv2D)        (None, 32, 32, 256)       295168    \n",
            "_________________________________________________________________\n",
            "block3_conv2 (Conv2D)        (None, 32, 32, 256)       590080    \n",
            "_________________________________________________________________\n",
            "block3_conv3 (Conv2D)        (None, 32, 32, 256)       590080    \n",
            "_________________________________________________________________\n",
            "block3_pool (MaxPooling2D)   (None, 16, 16, 256)       0         \n",
            "_________________________________________________________________\n",
            "block4_conv1 (Conv2D)        (None, 16, 16, 512)       1180160   \n",
            "_________________________________________________________________\n",
            "block4_conv2 (Conv2D)        (None, 16, 16, 512)       2359808   \n",
            "_________________________________________________________________\n",
            "block4_conv3 (Conv2D)        (None, 16, 16, 512)       2359808   \n",
            "_________________________________________________________________\n",
            "block4_pool (MaxPooling2D)   (None, 8, 8, 512)         0         \n",
            "_________________________________________________________________\n",
            "block5_conv1 (Conv2D)        (None, 8, 8, 512)         2359808   \n",
            "_________________________________________________________________\n",
            "block5_conv2 (Conv2D)        (None, 8, 8, 512)         2359808   \n",
            "_________________________________________________________________\n",
            "block5_conv3 (Conv2D)        (None, 8, 8, 512)         2359808   \n",
            "_________________________________________________________________\n",
            "block5_pool (MaxPooling2D)   (None, 4, 4, 512)         0         \n",
            "=================================================================\n",
            "Total params: 14,714,688\n",
            "Trainable params: 0\n",
            "Non-trainable params: 14,714,688\n",
            "_________________________________________________________________\n"
          ],
          "name": "stdout"
        }
      ]
    },
    {
      "cell_type": "code",
      "metadata": {
        "id": "Wx5ehi9d_nGQ"
      },
      "source": [
        "model = Sequential()\n",
        "model.add(ptm)\n",
        "model.add(Flatten())\n",
        "model.add(Dense(1024,activation='relu'))\n",
        "model.add(Dropout(.5))\n",
        "model.add(Dense(512,activation='relu')) \n",
        "model.add(Dropout(.5))\n",
        "model.add(Dense(256,activation='relu')) \n",
        "model.add(Dropout(.3))\n",
        "model.add(Dense(128,activation='relu'))\n",
        "model.add(Dropout(.2))\n",
        "model.add(Dense(2,activation='softmax'))"
      ],
      "execution_count": 12,
      "outputs": []
    },
    {
      "cell_type": "code",
      "metadata": {
        "id": "i_Sh1_R_FKk2",
        "colab": {
          "base_uri": "https://localhost:8080/"
        },
        "outputId": "24c7043c-871b-4216-d353-c60bb1d41467"
      },
      "source": [
        "model.summary()"
      ],
      "execution_count": 13,
      "outputs": [
        {
          "output_type": "stream",
          "text": [
            "Model: \"sequential\"\n",
            "_________________________________________________________________\n",
            "Layer (type)                 Output Shape              Param #   \n",
            "=================================================================\n",
            "vgg16 (Functional)           (None, 4, 4, 512)         14714688  \n",
            "_________________________________________________________________\n",
            "flatten (Flatten)            (None, 8192)              0         \n",
            "_________________________________________________________________\n",
            "dense (Dense)                (None, 1024)              8389632   \n",
            "_________________________________________________________________\n",
            "dropout (Dropout)            (None, 1024)              0         \n",
            "_________________________________________________________________\n",
            "dense_1 (Dense)              (None, 512)               524800    \n",
            "_________________________________________________________________\n",
            "dropout_1 (Dropout)          (None, 512)               0         \n",
            "_________________________________________________________________\n",
            "dense_2 (Dense)              (None, 256)               131328    \n",
            "_________________________________________________________________\n",
            "dropout_2 (Dropout)          (None, 256)               0         \n",
            "_________________________________________________________________\n",
            "dense_3 (Dense)              (None, 128)               32896     \n",
            "_________________________________________________________________\n",
            "dropout_3 (Dropout)          (None, 128)               0         \n",
            "_________________________________________________________________\n",
            "dense_4 (Dense)              (None, 2)                 258       \n",
            "=================================================================\n",
            "Total params: 23,793,602\n",
            "Trainable params: 9,078,914\n",
            "Non-trainable params: 14,714,688\n",
            "_________________________________________________________________\n"
          ],
          "name": "stdout"
        }
      ]
    },
    {
      "cell_type": "code",
      "metadata": {
        "id": "jxVbEzbPFNgz"
      },
      "source": [
        "model.compile(optimizer='adam', \n",
        "              loss='categorical_crossentropy',\n",
        "              metrics=['accuracy'])"
      ],
      "execution_count": 14,
      "outputs": []
    },
    {
      "cell_type": "code",
      "metadata": {
        "id": "QfIU1NWTHRfs",
        "colab": {
          "base_uri": "https://localhost:8080/"
        },
        "outputId": "6eeb20ff-26cb-4a80-e46e-ea12e67afd48"
      },
      "source": [
        "with tf.device('/device:GPU:0'):\n",
        "  training_history = model.fit(train_generator,steps_per_epoch=len(train_generator) ,epochs=epochs, validation_data=validation_generator, validation_steps=len(validation_generator), verbose=1)"
      ],
      "execution_count": 15,
      "outputs": [
        {
          "output_type": "stream",
          "text": [
            "Epoch 1/20\n",
            "95/95 [==============================] - 10s 69ms/step - loss: 1.8036 - accuracy: 0.6997 - val_loss: 0.8791 - val_accuracy: 0.1864\n",
            "Epoch 2/20\n",
            "95/95 [==============================] - 6s 65ms/step - loss: 0.7780 - accuracy: 0.7043 - val_loss: 0.5028 - val_accuracy: 0.8136\n",
            "Epoch 3/20\n",
            "95/95 [==============================] - 6s 63ms/step - loss: 0.5244 - accuracy: 0.8050 - val_loss: 0.4528 - val_accuracy: 0.8136\n",
            "Epoch 4/20\n",
            "95/95 [==============================] - 6s 63ms/step - loss: 0.5234 - accuracy: 0.8228 - val_loss: 0.5539 - val_accuracy: 0.8136\n",
            "Epoch 5/20\n",
            "95/95 [==============================] - 6s 64ms/step - loss: 0.4586 - accuracy: 0.8229 - val_loss: 0.4395 - val_accuracy: 0.8136\n",
            "Epoch 6/20\n",
            "95/95 [==============================] - 6s 63ms/step - loss: 0.4203 - accuracy: 0.8343 - val_loss: 0.4291 - val_accuracy: 0.8136\n",
            "Epoch 7/20\n",
            "95/95 [==============================] - 6s 63ms/step - loss: 0.4255 - accuracy: 0.8152 - val_loss: 0.5137 - val_accuracy: 0.7712\n",
            "Epoch 8/20\n",
            "95/95 [==============================] - 6s 63ms/step - loss: 0.4596 - accuracy: 0.7939 - val_loss: 0.4063 - val_accuracy: 0.8305\n",
            "Epoch 9/20\n",
            "95/95 [==============================] - 6s 63ms/step - loss: 0.4040 - accuracy: 0.8443 - val_loss: 0.4660 - val_accuracy: 0.7966\n",
            "Epoch 10/20\n",
            "95/95 [==============================] - 6s 63ms/step - loss: 0.4372 - accuracy: 0.8133 - val_loss: 0.4429 - val_accuracy: 0.8136\n",
            "Epoch 11/20\n",
            "95/95 [==============================] - 6s 63ms/step - loss: 0.3734 - accuracy: 0.8577 - val_loss: 0.3826 - val_accuracy: 0.8136\n",
            "Epoch 12/20\n",
            "95/95 [==============================] - 6s 62ms/step - loss: 0.3849 - accuracy: 0.8190 - val_loss: 0.4593 - val_accuracy: 0.7373\n",
            "Epoch 13/20\n",
            "95/95 [==============================] - 6s 64ms/step - loss: 0.3798 - accuracy: 0.8548 - val_loss: 0.4068 - val_accuracy: 0.8390\n",
            "Epoch 14/20\n",
            "95/95 [==============================] - 6s 64ms/step - loss: 0.3868 - accuracy: 0.8434 - val_loss: 0.4559 - val_accuracy: 0.7881\n",
            "Epoch 15/20\n",
            "95/95 [==============================] - 6s 63ms/step - loss: 0.3978 - accuracy: 0.8171 - val_loss: 0.4266 - val_accuracy: 0.8051\n",
            "Epoch 16/20\n",
            "95/95 [==============================] - 6s 63ms/step - loss: 0.3860 - accuracy: 0.8669 - val_loss: 0.3192 - val_accuracy: 0.8305\n",
            "Epoch 17/20\n",
            "95/95 [==============================] - 6s 63ms/step - loss: 0.3324 - accuracy: 0.8499 - val_loss: 0.3897 - val_accuracy: 0.8220\n",
            "Epoch 18/20\n",
            "95/95 [==============================] - 6s 63ms/step - loss: 0.3124 - accuracy: 0.8731 - val_loss: 0.3328 - val_accuracy: 0.8475\n",
            "Epoch 19/20\n",
            "95/95 [==============================] - 6s 63ms/step - loss: 0.2816 - accuracy: 0.8976 - val_loss: 0.4437 - val_accuracy: 0.7966\n",
            "Epoch 20/20\n",
            "95/95 [==============================] - 6s 62ms/step - loss: 0.2740 - accuracy: 0.8871 - val_loss: 0.3304 - val_accuracy: 0.8390\n"
          ],
          "name": "stdout"
        }
      ]
    },
    {
      "cell_type": "code",
      "metadata": {
        "id": "gVomLkU0ILBd",
        "colab": {
          "base_uri": "https://localhost:8080/",
          "height": 295
        },
        "outputId": "1fabb605-a8ed-40a8-b6e4-d5fe4fc9443c"
      },
      "source": [
        "# summarize history for accuracy\n",
        "plt.plot(training_history.history['accuracy'])\n",
        "plt.plot(training_history.history['val_accuracy'])\n",
        "plt.title('model accuracy with batch norm and dropout')\n",
        "plt.ylabel('accuracy')\n",
        "plt.xlabel('epoch')\n",
        "plt.legend(['train', 'test'], loc='upper left')\n",
        "plt.show()"
      ],
      "execution_count": 16,
      "outputs": [
        {
          "output_type": "display_data",
          "data": {
            "image/png": "[encoded data removed]",
            "text/plain": [
              "<Figure size 432x288 with 1 Axes>"
            ]
          },
          "metadata": {
            "tags": [],
            "needs_background": "light"
          }
        }
      ]
    },
    {
      "cell_type": "code",
      "metadata": {
        "colab": {
          "base_uri": "https://localhost:8080/",
          "height": 295
        },
        "id": "itSoyeJsOWx_",
        "outputId": "b4ce896d-00f9-426d-b437-bdd611629810"
      },
      "source": [
        "# summarize history for loss\n",
        "plt.plot(training_history.history['loss'])\n",
        "plt.plot(training_history.history['val_loss'])\n",
        "plt.title('model loss with batch norm and dropout')\n",
        "plt.ylabel('loss')\n",
        "plt.xlabel('epoch')\n",
        "plt.legend(['train', 'test'], loc='upper left')\n",
        "plt.show()"
      ],
      "execution_count": 17,
      "outputs": [
        {
          "output_type": "display_data",
          "data": {
            "image/png": "[encoded data removed]",
            "text/plain": [
              "<Figure size 432x288 with 1 Axes>"
            ]
          },
          "metadata": {
            "tags": [],
            "needs_background": "light"
          }
        }
      ]
    },
    {
      "cell_type": "code",
      "metadata": {
        "colab": {
          "base_uri": "https://localhost:8080/"
        },
        "id": "r-s6opfQOguX",
        "outputId": "f81c5f25-faa6-45ff-e102-d60e2115191c"
      },
      "source": [
        "val_dataset_lables = validation_generator.labels\n",
        "val_dataset_lables"
      ],
      "execution_count": 18,
      "outputs": [
        {
          "output_type": "execute_result",
          "data": {
            "text/plain": [
              "array([0, 0, 0, 0, 0, 0, 0, 0, 0, 0, 0, 0, 0, 0, 0, 0, 0, 0, 0, 0, 0, 0,\n",
              "       0, 0, 0, 0, 0, 0, 0, 0, 0, 0, 0, 0, 0, 0, 0, 0, 0, 0, 0, 0, 0, 0,\n",
              "       0, 0, 0, 0, 0, 0, 0, 0, 0, 0, 0, 0, 0, 0, 0, 0, 0, 0, 0, 0, 0, 0,\n",
              "       0, 0, 0, 0, 0, 0, 0, 0, 0, 0, 0, 0, 0, 0, 0, 0, 0, 0, 0, 0, 0, 0,\n",
              "       0, 0, 0, 0, 0, 0, 0, 0, 1, 1, 1, 1, 1, 1, 1, 1, 1, 1, 1, 1, 1, 1,\n",
              "       1, 1, 1, 1, 1, 1, 1, 1], dtype=int32)"
            ]
          },
          "metadata": {
            "tags": []
          },
          "execution_count": 18
        }
      ]
    },
    {
      "cell_type": "code",
      "metadata": {
        "colab": {
          "base_uri": "https://localhost:8080/"
        },
        "id": "yoLS_tzmQLgM",
        "outputId": "e8997aa1-7428-4990-ac9c-8d05b6a58ce1"
      },
      "source": [
        "classes = train_generator.class_indices\n",
        "classes = classes.keys()\n",
        "classes = list(classes)\n",
        "classes"
      ],
      "execution_count": 19,
      "outputs": [
        {
          "output_type": "execute_result",
          "data": {
            "text/plain": [
              "['Mask', 'NoMask']"
            ]
          },
          "metadata": {
            "tags": []
          },
          "execution_count": 19
        }
      ]
    },
    {
      "cell_type": "code",
      "metadata": {
        "colab": {
          "base_uri": "https://localhost:8080/"
        },
        "id": "Pi3SmguCSLQh",
        "outputId": "e0699dcf-4934-406e-c65e-57bc35dbf5f6"
      },
      "source": [
        "file_ids"
      ],
      "execution_count": 20,
      "outputs": [
        {
          "output_type": "execute_result",
          "data": {
            "text/plain": [
              "[41,\n",
              " 39,\n",
              " 27,\n",
              " 35,\n",
              " 45,\n",
              " 38,\n",
              " 32,\n",
              " 31,\n",
              " 29,\n",
              " 9,\n",
              " 1,\n",
              " 26,\n",
              " 24,\n",
              " 21,\n",
              " 28,\n",
              " 7,\n",
              " 42,\n",
              " 44,\n",
              " 25,\n",
              " 12,\n",
              " 6,\n",
              " 43,\n",
              " 0,\n",
              " 10,\n",
              " 19,\n",
              " 4,\n",
              " 3,\n",
              " 18,\n",
              " 15,\n",
              " 37,\n",
              " 14,\n",
              " 16,\n",
              " 23,\n",
              " 2,\n",
              " 11,\n",
              " 17,\n",
              " 30,\n",
              " 20,\n",
              " 40,\n",
              " 13,\n",
              " 22,\n",
              " 33,\n",
              " 34,\n",
              " 8,\n",
              " 36,\n",
              " 5]"
            ]
          },
          "metadata": {
            "tags": []
          },
          "execution_count": 20
        }
      ]
    },
    {
      "cell_type": "code",
      "metadata": {
        "colab": {
          "base_uri": "https://localhost:8080/"
        },
        "id": "lUt3wmPFOrQr",
        "outputId": "3c32f86a-6424-4fae-8124-caaf09e018db"
      },
      "source": [
        "pred_test_result = []\n",
        "for file_id, img in zip(file_ids, test_dataset):\n",
        "  exp_img = np.expand_dims(img, axis=0)\n",
        "  val_dataset_pred = model.predict(exp_img)\n",
        "  pred_val = np.argmax(val_dataset_pred)\n",
        "  pred_val_lable = classes[pred_val]\n",
        "  val_dataset_pred_lable = None\n",
        "  if pred_val_lable == 'Mask':\n",
        "    val_dataset_pred_lable = 1\n",
        "  else:\n",
        "    val_dataset_pred_lable = 0\n",
        "  result = [file_id,  val_dataset_pred_lable, pred_val_lable]\n",
        "  #print(val_dataset_pred)\n",
        "  print(result)\n",
        "  pred_test_result.append(result)\n",
        "  print(\"\\n\")"
      ],
      "execution_count": 21,
      "outputs": [
        {
          "output_type": "stream",
          "text": [
            "[41, 1, 'Mask']\n",
            "\n",
            "\n",
            "[39, 1, 'Mask']\n",
            "\n",
            "\n",
            "[27, 1, 'Mask']\n",
            "\n",
            "\n",
            "[35, 1, 'Mask']\n",
            "\n",
            "\n",
            "[45, 1, 'Mask']\n",
            "\n",
            "\n",
            "[38, 1, 'Mask']\n",
            "\n",
            "\n",
            "[32, 1, 'Mask']\n",
            "\n",
            "\n",
            "[31, 1, 'Mask']\n",
            "\n",
            "\n",
            "[29, 1, 'Mask']\n",
            "\n",
            "\n",
            "[9, 1, 'Mask']\n",
            "\n",
            "\n",
            "[1, 1, 'Mask']\n",
            "\n",
            "\n",
            "[26, 1, 'Mask']\n",
            "\n",
            "\n",
            "[24, 1, 'Mask']\n",
            "\n",
            "\n",
            "[21, 1, 'Mask']\n",
            "\n",
            "\n",
            "[28, 1, 'Mask']\n",
            "\n",
            "\n",
            "[7, 1, 'Mask']\n",
            "\n",
            "\n",
            "[42, 1, 'Mask']\n",
            "\n",
            "\n",
            "[44, 0, 'NoMask']\n",
            "\n",
            "\n",
            "[25, 1, 'Mask']\n",
            "\n",
            "\n",
            "[12, 1, 'Mask']\n",
            "\n",
            "\n",
            "[6, 1, 'Mask']\n",
            "\n",
            "\n",
            "[43, 1, 'Mask']\n",
            "\n",
            "\n",
            "[0, 1, 'Mask']\n",
            "\n",
            "\n",
            "[10, 1, 'Mask']\n",
            "\n",
            "\n",
            "[19, 1, 'Mask']\n",
            "\n",
            "\n",
            "[4, 1, 'Mask']\n",
            "\n",
            "\n",
            "[3, 1, 'Mask']\n",
            "\n",
            "\n",
            "[18, 1, 'Mask']\n",
            "\n",
            "\n",
            "[15, 1, 'Mask']\n",
            "\n",
            "\n",
            "[37, 1, 'Mask']\n",
            "\n",
            "\n",
            "[14, 1, 'Mask']\n",
            "\n",
            "\n",
            "[16, 1, 'Mask']\n",
            "\n",
            "\n",
            "[23, 1, 'Mask']\n",
            "\n",
            "\n",
            "[2, 1, 'Mask']\n",
            "\n",
            "\n",
            "[11, 1, 'Mask']\n",
            "\n",
            "\n",
            "[17, 1, 'Mask']\n",
            "\n",
            "\n",
            "[30, 1, 'Mask']\n",
            "\n",
            "\n",
            "[20, 1, 'Mask']\n",
            "\n",
            "\n",
            "[40, 1, 'Mask']\n",
            "\n",
            "\n",
            "[13, 1, 'Mask']\n",
            "\n",
            "\n",
            "[22, 1, 'Mask']\n",
            "\n",
            "\n",
            "[33, 1, 'Mask']\n",
            "\n",
            "\n",
            "[34, 1, 'Mask']\n",
            "\n",
            "\n",
            "[8, 1, 'Mask']\n",
            "\n",
            "\n",
            "[36, 0, 'NoMask']\n",
            "\n",
            "\n",
            "[5, 1, 'Mask']\n",
            "\n",
            "\n"
          ],
          "name": "stdout"
        }
      ]
    },
    {
      "cell_type": "code",
      "metadata": {
        "colab": {
          "base_uri": "https://localhost:8080/",
          "height": 1000
        },
        "id": "bPgsl-vlRUK5",
        "outputId": "d1048e83-8f7f-4544-9716-6b086c50e20f"
      },
      "source": [
        "pred_test_result_df = pd.DataFrame(pred_test_result, columns=['file_id', 'label', 'label_value'])\n",
        "pred_test_result_df.sort_values(by='file_id')"
      ],
      "execution_count": 22,
      "outputs": [
        {
          "output_type": "execute_result",
          "data": {
            "text/html": [
              "<div>\n",
              "<style scoped>\n",
              "    .dataframe tbody tr th:only-of-type {\n",
              "        vertical-align: middle;\n",
              "    }\n",
              "\n",
              "    .dataframe tbody tr th {\n",
              "        vertical-align: top;\n",
              "    }\n",
              "\n",
              "    .dataframe thead th {\n",
              "        text-align: right;\n",
              "    }\n",
              "</style>\n",
              "<table border=\"1\" class=\"dataframe\">\n",
              "  <thead>\n",
              "    <tr style=\"text-align: right;\">\n",
              "      <th></th>\n",
              "      <th>file_id</th>\n",
              "      <th>label</th>\n",
              "      <th>label_value</th>\n",
              "    </tr>\n",
              "  </thead>\n",
              "  <tbody>\n",
              "    <tr>\n",
              "      <th>22</th>\n",
              "      <td>0</td>\n",
              "      <td>1</td>\n",
              "      <td>Mask</td>\n",
              "    </tr>\n",
              "    <tr>\n",
              "      <th>10</th>\n",
              "      <td>1</td>\n",
              "      <td>1</td>\n",
              "      <td>Mask</td>\n",
              "    </tr>\n",
              "    <tr>\n",
              "      <th>33</th>\n",
              "      <td>2</td>\n",
              "      <td>1</td>\n",
              "      <td>Mask</td>\n",
              "    </tr>\n",
              "    <tr>\n",
              "      <th>26</th>\n",
              "      <td>3</td>\n",
              "      <td>1</td>\n",
              "      <td>Mask</td>\n",
              "    </tr>\n",
              "    <tr>\n",
              "      <th>25</th>\n",
              "      <td>4</td>\n",
              "      <td>1</td>\n",
              "      <td>Mask</td>\n",
              "    </tr>\n",
              "    <tr>\n",
              "      <th>45</th>\n",
              "      <td>5</td>\n",
              "      <td>1</td>\n",
              "      <td>Mask</td>\n",
              "    </tr>\n",
              "    <tr>\n",
              "      <th>20</th>\n",
              "      <td>6</td>\n",
              "      <td>1</td>\n",
              "      <td>Mask</td>\n",
              "    </tr>\n",
              "    <tr>\n",
              "      <th>15</th>\n",
              "      <td>7</td>\n",
              "      <td>1</td>\n",
              "      <td>Mask</td>\n",
              "    </tr>\n",
              "    <tr>\n",
              "      <th>43</th>\n",
              "      <td>8</td>\n",
              "      <td>1</td>\n",
              "      <td>Mask</td>\n",
              "    </tr>\n",
              "    <tr>\n",
              "      <th>9</th>\n",
              "      <td>9</td>\n",
              "      <td>1</td>\n",
              "      <td>Mask</td>\n",
              "    </tr>\n",
              "    <tr>\n",
              "      <th>23</th>\n",
              "      <td>10</td>\n",
              "      <td>1</td>\n",
              "      <td>Mask</td>\n",
              "    </tr>\n",
              "    <tr>\n",
              "      <th>34</th>\n",
              "      <td>11</td>\n",
              "      <td>1</td>\n",
              "      <td>Mask</td>\n",
              "    </tr>\n",
              "    <tr>\n",
              "      <th>19</th>\n",
              "      <td>12</td>\n",
              "      <td>1</td>\n",
              "      <td>Mask</td>\n",
              "    </tr>\n",
              "    <tr>\n",
              "      <th>39</th>\n",
              "      <td>13</td>\n",
              "      <td>1</td>\n",
              "      <td>Mask</td>\n",
              "    </tr>\n",
              "    <tr>\n",
              "      <th>30</th>\n",
              "      <td>14</td>\n",
              "      <td>1</td>\n",
              "      <td>Mask</td>\n",
              "    </tr>\n",
              "    <tr>\n",
              "      <th>28</th>\n",
              "      <td>15</td>\n",
              "      <td>1</td>\n",
              "      <td>Mask</td>\n",
              "    </tr>\n",
              "    <tr>\n",
              "      <th>31</th>\n",
              "      <td>16</td>\n",
              "      <td>1</td>\n",
              "      <td>Mask</td>\n",
              "    </tr>\n",
              "    <tr>\n",
              "      <th>35</th>\n",
              "      <td>17</td>\n",
              "      <td>1</td>\n",
              "      <td>Mask</td>\n",
              "    </tr>\n",
              "    <tr>\n",
              "      <th>27</th>\n",
              "      <td>18</td>\n",
              "      <td>1</td>\n",
              "      <td>Mask</td>\n",
              "    </tr>\n",
              "    <tr>\n",
              "      <th>24</th>\n",
              "      <td>19</td>\n",
              "      <td>1</td>\n",
              "      <td>Mask</td>\n",
              "    </tr>\n",
              "    <tr>\n",
              "      <th>37</th>\n",
              "      <td>20</td>\n",
              "      <td>1</td>\n",
              "      <td>Mask</td>\n",
              "    </tr>\n",
              "    <tr>\n",
              "      <th>13</th>\n",
              "      <td>21</td>\n",
              "      <td>1</td>\n",
              "      <td>Mask</td>\n",
              "    </tr>\n",
              "    <tr>\n",
              "      <th>40</th>\n",
              "      <td>22</td>\n",
              "      <td>1</td>\n",
              "      <td>Mask</td>\n",
              "    </tr>\n",
              "    <tr>\n",
              "      <th>32</th>\n",
              "      <td>23</td>\n",
              "      <td>1</td>\n",
              "      <td>Mask</td>\n",
              "    </tr>\n",
              "    <tr>\n",
              "      <th>12</th>\n",
              "      <td>24</td>\n",
              "      <td>1</td>\n",
              "      <td>Mask</td>\n",
              "    </tr>\n",
              "    <tr>\n",
              "      <th>18</th>\n",
              "      <td>25</td>\n",
              "      <td>1</td>\n",
              "      <td>Mask</td>\n",
              "    </tr>\n",
              "    <tr>\n",
              "      <th>11</th>\n",
              "      <td>26</td>\n",
              "      <td>1</td>\n",
              "      <td>Mask</td>\n",
              "    </tr>\n",
              "    <tr>\n",
              "      <th>2</th>\n",
              "      <td>27</td>\n",
              "      <td>1</td>\n",
              "      <td>Mask</td>\n",
              "    </tr>\n",
              "    <tr>\n",
              "      <th>14</th>\n",
              "      <td>28</td>\n",
              "      <td>1</td>\n",
              "      <td>Mask</td>\n",
              "    </tr>\n",
              "    <tr>\n",
              "      <th>8</th>\n",
              "      <td>29</td>\n",
              "      <td>1</td>\n",
              "      <td>Mask</td>\n",
              "    </tr>\n",
              "    <tr>\n",
              "      <th>36</th>\n",
              "      <td>30</td>\n",
              "      <td>1</td>\n",
              "      <td>Mask</td>\n",
              "    </tr>\n",
              "    <tr>\n",
              "      <th>7</th>\n",
              "      <td>31</td>\n",
              "      <td>1</td>\n",
              "      <td>Mask</td>\n",
              "    </tr>\n",
              "    <tr>\n",
              "      <th>6</th>\n",
              "      <td>32</td>\n",
              "      <td>1</td>\n",
              "      <td>Mask</td>\n",
              "    </tr>\n",
              "    <tr>\n",
              "      <th>41</th>\n",
              "      <td>33</td>\n",
              "      <td>1</td>\n",
              "      <td>Mask</td>\n",
              "    </tr>\n",
              "    <tr>\n",
              "      <th>42</th>\n",
              "      <td>34</td>\n",
              "      <td>1</td>\n",
              "      <td>Mask</td>\n",
              "    </tr>\n",
              "    <tr>\n",
              "      <th>3</th>\n",
              "      <td>35</td>\n",
              "      <td>1</td>\n",
              "      <td>Mask</td>\n",
              "    </tr>\n",
              "    <tr>\n",
              "      <th>44</th>\n",
              "      <td>36</td>\n",
              "      <td>0</td>\n",
              "      <td>NoMask</td>\n",
              "    </tr>\n",
              "    <tr>\n",
              "      <th>29</th>\n",
              "      <td>37</td>\n",
              "      <td>1</td>\n",
              "      <td>Mask</td>\n",
              "    </tr>\n",
              "    <tr>\n",
              "      <th>5</th>\n",
              "      <td>38</td>\n",
              "      <td>1</td>\n",
              "      <td>Mask</td>\n",
              "    </tr>\n",
              "    <tr>\n",
              "      <th>1</th>\n",
              "      <td>39</td>\n",
              "      <td>1</td>\n",
              "      <td>Mask</td>\n",
              "    </tr>\n",
              "    <tr>\n",
              "      <th>38</th>\n",
              "      <td>40</td>\n",
              "      <td>1</td>\n",
              "      <td>Mask</td>\n",
              "    </tr>\n",
              "    <tr>\n",
              "      <th>0</th>\n",
              "      <td>41</td>\n",
              "      <td>1</td>\n",
              "      <td>Mask</td>\n",
              "    </tr>\n",
              "    <tr>\n",
              "      <th>16</th>\n",
              "      <td>42</td>\n",
              "      <td>1</td>\n",
              "      <td>Mask</td>\n",
              "    </tr>\n",
              "    <tr>\n",
              "      <th>21</th>\n",
              "      <td>43</td>\n",
              "      <td>1</td>\n",
              "      <td>Mask</td>\n",
              "    </tr>\n",
              "    <tr>\n",
              "      <th>17</th>\n",
              "      <td>44</td>\n",
              "      <td>0</td>\n",
              "      <td>NoMask</td>\n",
              "    </tr>\n",
              "    <tr>\n",
              "      <th>4</th>\n",
              "      <td>45</td>\n",
              "      <td>1</td>\n",
              "      <td>Mask</td>\n",
              "    </tr>\n",
              "  </tbody>\n",
              "</table>\n",
              "</div>"
            ],
            "text/plain": [
              "    file_id  label label_value\n",
              "22        0      1        Mask\n",
              "10        1      1        Mask\n",
              "33        2      1        Mask\n",
              "26        3      1        Mask\n",
              "25        4      1        Mask\n",
              "45        5      1        Mask\n",
              "20        6      1        Mask\n",
              "15        7      1        Mask\n",
              "43        8      1        Mask\n",
              "9         9      1        Mask\n",
              "23       10      1        Mask\n",
              "34       11      1        Mask\n",
              "19       12      1        Mask\n",
              "39       13      1        Mask\n",
              "30       14      1        Mask\n",
              "28       15      1        Mask\n",
              "31       16      1        Mask\n",
              "35       17      1        Mask\n",
              "27       18      1        Mask\n",
              "24       19      1        Mask\n",
              "37       20      1        Mask\n",
              "13       21      1        Mask\n",
              "40       22      1        Mask\n",
              "32       23      1        Mask\n",
              "12       24      1        Mask\n",
              "18       25      1        Mask\n",
              "11       26      1        Mask\n",
              "2        27      1        Mask\n",
              "14       28      1        Mask\n",
              "8        29      1        Mask\n",
              "36       30      1        Mask\n",
              "7        31      1        Mask\n",
              "6        32      1        Mask\n",
              "41       33      1        Mask\n",
              "42       34      1        Mask\n",
              "3        35      1        Mask\n",
              "44       36      0      NoMask\n",
              "29       37      1        Mask\n",
              "5        38      1        Mask\n",
              "1        39      1        Mask\n",
              "38       40      1        Mask\n",
              "0        41      1        Mask\n",
              "16       42      1        Mask\n",
              "21       43      1        Mask\n",
              "17       44      0      NoMask\n",
              "4        45      1        Mask"
            ]
          },
          "metadata": {
            "tags": []
          },
          "execution_count": 22
        }
      ]
    },
    {
      "cell_type": "code",
      "metadata": {
        "id": "9mdjbiX8YisS"
      },
      "source": [
        "subbmit = pred_test_result_df.drop(['label_value'], axis=1)\n",
        "subbmit.to_csv('HDFC_Hackthon_Submit_5.csv', index=False)"
      ],
      "execution_count": 24,
      "outputs": []
    },
    {
      "cell_type": "code",
      "metadata": {
        "id": "f-vJH5RTaXgH"
      },
      "source": [
        "class DataSet:\n",
        "\n",
        "  def __init__(self):\n",
        "    self.training_generator = None\n",
        "    self.validation_generator = None\n",
        "    self.testing_set = None\n",
        "    self.file_ids = None\n",
        "    self.ground_truth = None\n",
        "\n",
        "  def put_training_validation_generator(self, training_generator, validation_generator):\n",
        "    self.training_generator = training_generator\n",
        "    self.validation_generator = validation_generator\n",
        "\n",
        "  def put_file_ids(self, file_ids):\n",
        "    self.file_ids = file_ids\n",
        "  \n",
        "  def put_ground_truth(self, ground_truth):\n",
        "    self.ground_truth = ground_truth\n",
        "  \n",
        "  def load_training_validation_data(self):\n",
        "    return (self.training_generator, self.validation_generator)\n",
        "  \n",
        "  def load_file_ids(self):\n",
        "    return self.file_ids\n",
        "  \n",
        "  def load_ground_truth(self):\n",
        "    return self.ground_truth\n",
        "\n",
        "  def to_csv(self, dataFrame, versionCode):\n",
        "    dfc = dataFrame.columns\n",
        "    if len(dfc) > 2:\n",
        "      newDataFrame = None\n",
        "      for c in dfc:\n",
        "        if c != 'file_id' or c != 'label':\n",
        "          newDataFrame = dataFrame.drop([c], axis=1)\n",
        "      newDataFrame.to_csv('HDFC_Hackthon_Submit_{}.csv'.format(versionCode), index=False)\n",
        "    else:\n",
        "      dataFrame.to_csv('HDFC_Hackthon_Submit_{}.csv'.format(versionCode), index=False)"
      ],
      "execution_count": null,
      "outputs": []
    },
    {
      "cell_type": "code",
      "metadata": {
        "id": "Ng4LoRzspify"
      },
      "source": [
        "import pickle "
      ],
      "execution_count": null,
      "outputs": []
    },
    {
      "cell_type": "code",
      "metadata": {
        "id": "LLB-Q9ZVnXjl"
      },
      "source": [
        "from tensorflow.keras.applications import MobileNetV3Small, MobileNetV2, MobileNetV3Large"
      ],
      "execution_count": null,
      "outputs": []
    },
    {
      "cell_type": "code",
      "metadata": {
        "id": "yFnsAUi2sue0"
      },
      "source": [
        "mn = MobileNetV2(input_shape=tuple(list(target_size)+[3]),\n",
        "            weights='imagenet', \n",
        "            include_top=False)\n",
        "mn.trainable = False"
      ],
      "execution_count": null,
      "outputs": []
    },
    {
      "cell_type": "code",
      "metadata": {
        "id": "XrnxmXAgt5aU"
      },
      "source": [
        "mn.summary()"
      ],
      "execution_count": null,
      "outputs": []
    },
    {
      "cell_type": "code",
      "metadata": {
        "id": "kqfHONwXt8qH"
      },
      "source": [
        "model_mn = Sequential()\n",
        "model_mn.add(mn)\n",
        "model_mn.add(Flatten())\n",
        "model_mn.add(Dense(1024,activation='relu'))\n",
        "model.add(Dropout(.3))\n",
        "model_mn.add(Dense(512,activation='relu')) \n",
        "model.add(Dropout(.3))\n",
        "model.add(Dense(256,activation='relu')) \n",
        "model.add(Dropout(.3))\n",
        "model.add(Dense(128,activation='relu'))\n",
        "model.add(Dropout(.2))\n",
        "model_mn.add(Dense(2,activation='softmax'))"
      ],
      "execution_count": null,
      "outputs": []
    },
    {
      "cell_type": "code",
      "metadata": {
        "id": "n6g8JM3huYrF"
      },
      "source": [
        "model_mn.summary()"
      ],
      "execution_count": null,
      "outputs": []
    },
    {
      "cell_type": "code",
      "metadata": {
        "id": "MDpZBEN_uefo"
      },
      "source": [
        "model_mn.compile(optimizer='adam', \n",
        "              loss='categorical_crossentropy',\n",
        "              metrics=['accuracy'])"
      ],
      "execution_count": null,
      "outputs": []
    },
    {
      "cell_type": "code",
      "metadata": {
        "id": "NISan7iIvQqz"
      },
      "source": [
        "with tf.device('/device:GPU:0'):\n",
        "  training_history_mn = model_mn.fit(train_generator,steps_per_epoch=len(train_generator) ,epochs=epochs, validation_data=validation_generator, validation_steps=len(validation_generator), verbose=1)"
      ],
      "execution_count": null,
      "outputs": []
    },
    {
      "cell_type": "code",
      "metadata": {
        "id": "BgJQv1IMvUSz"
      },
      "source": [
        "pred_test_result_mn = []\n",
        "for file_id, img in zip(file_ids, test_dataset):\n",
        "  exp_img = np.expand_dims(img, axis=0)\n",
        "  val_dataset_pred = model.predict(exp_img)\n",
        "  pred_val = np.argmax(val_dataset_pred)\n",
        "  pred_val_lable = classes[pred_val]\n",
        "  val_dataset_pred_lable = None\n",
        "  if pred_val_lable == 'Mask':\n",
        "    val_dataset_pred_lable = 1\n",
        "  else:\n",
        "    val_dataset_pred_lable = 0\n",
        "  result = [file_id,  val_dataset_pred_lable, pred_val_lable]\n",
        "  #print(val_dataset_pred)\n",
        "  print(result)\n",
        "  pred_test_result_mn.append(result)\n",
        "  print(\"\\n\")"
      ],
      "execution_count": null,
      "outputs": []
    },
    {
      "cell_type": "code",
      "metadata": {
        "id": "scvuXXACxiix"
      },
      "source": [
        "pred_test_result_mn_df = pd.DataFrame(pred_test_result_mn, columns=['file_id', 'label', 'label_value'])\n",
        "pred_test_result_mn_df.sort_values(by='file_id')"
      ],
      "execution_count": null,
      "outputs": []
    },
    {
      "cell_type": "code",
      "metadata": {
        "id": "5PcDtTVcxstN"
      },
      "source": [
        "subbmit = pred_test_result_mn_df.drop(['label_value'], axis=1)\n",
        "subbmit.to_csv('HDFC_Hackthon_Submit_6.csv', index=False)"
      ],
      "execution_count": null,
      "outputs": []
    },
    {
      "cell_type": "code",
      "metadata": {
        "id": "0XDihWl2x4AL"
      },
      "source": [
        ""
      ],
      "execution_count": null,
      "outputs": []
    }
  ]
}