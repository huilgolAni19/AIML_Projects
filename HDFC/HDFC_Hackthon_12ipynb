{
  "nbformat": 4,
  "nbformat_minor": 0,
  "metadata": {
    "colab": {
      "name": "HDFC-Hackthon_New.ipynb",
      "provenance": [],
      "collapsed_sections": []
    },
    "kernelspec": {
      "name": "python3",
      "display_name": "Python 3"
    },
    "accelerator": "GPU"
  },
  "cells": [
    {
      "cell_type": "code",
      "metadata": {
        "id": "Rc4qwqBKJmNb"
      },
      "source": [
        "import tensorflow as tf\n",
        "from tensorflow.keras.preprocessing.image import ImageDataGenerator\n",
        "from tensorflow.keras.layers import Conv2D, Activation\n",
        "from tensorflow.keras.layers import Dense, Dropout, Flatten, MaxPool2D\n",
        "from tensorflow.keras.models import Sequential\n",
        "from tensorflow.keras import backend as bk\n",
        "import numpy as np\n",
        "import glob\n",
        "import os\n",
        "import pandas as pd\n",
        "from tensorflow import keras\n",
        "import matplotlib.pyplot as plt\n",
        "import warnings\n",
        "warnings.filterwarnings('ignore')\n",
        "%matplotlib inline"
      ],
      "execution_count": 1,
      "outputs": []
    },
    {
      "cell_type": "code",
      "metadata": {
        "id": "mWicHUAvK22x"
      },
      "source": [
        "no_of_epoch = 40\n",
        "batch_size = 10\n",
        "target_size = (50, 50)\n",
        "input_shape = (50, 50, 3)"
      ],
      "execution_count": 2,
      "outputs": []
    },
    {
      "cell_type": "code",
      "metadata": {
        "id": "qjHX-AinK3gx"
      },
      "source": [
        "train_path = '/content/drive/MyDrive/GreatLearning/Hackthon/HDFCLife/train'\n",
        "test_path = '/content/drive/MyDrive/GreatLearning/Hackthon/HDFCLife/test'"
      ],
      "execution_count": 3,
      "outputs": []
    },
    {
      "cell_type": "code",
      "metadata": {
        "id": "3o8U5OnCLZEU"
      },
      "source": [
        "test_dataset = []\n",
        "file_ids = []\n",
        "testData =  glob.glob('{}/*.jpg'.format(test_path))\n",
        "for data in testData:\n",
        "  img = tf.keras.preprocessing.image\n",
        "  image = img.load_img(data, color_mode='rgb', target_size= target_size)\n",
        "  image = np.array(image)\n",
        "  file_id = os.path.basename(data).replace('.jpg', '')\n",
        "  test_dataset.append(image)\n",
        "  file_ids.append(int(file_id))"
      ],
      "execution_count": 4,
      "outputs": []
    },
    {
      "cell_type": "code",
      "metadata": {
        "colab": {
          "base_uri": "https://localhost:8080/"
        },
        "id": "pODTu93RLcf3",
        "outputId": "60266d4f-87e2-4b79-ee90-4f89b0068e41"
      },
      "source": [
        "imageDataGen = ImageDataGenerator(rescale= 1./ 255,\n",
        "                                 shear_range= 0.2,\n",
        "                                 zoom_range=0.2, \n",
        "                                 horizontal_flip=True, \n",
        "                                 validation_split=0.2)\n",
        "\n",
        "\n",
        "\n",
        "train_generator = imageDataGen.flow_from_directory(\n",
        "    train_path,\n",
        "    target_size=target_size,\n",
        "    batch_size=batch_size,\n",
        "    class_mode='categorical',\n",
        "    subset='training') # set as training data\n",
        "\n",
        "validation_generator = imageDataGen.flow_from_directory(\n",
        "    train_path, # same directory as training data\n",
        "    target_size=target_size,\n",
        "    batch_size=batch_size,\n",
        "    class_mode='categorical',\n",
        "    subset='validation') # set as validation data"
      ],
      "execution_count": 5,
      "outputs": [
        {
          "output_type": "stream",
          "text": [
            "Found 473 images belonging to 2 classes.\n",
            "Found 118 images belonging to 2 classes.\n"
          ],
          "name": "stdout"
        }
      ]
    },
    {
      "cell_type": "code",
      "metadata": {
        "id": "sMsdmur-M9fv"
      },
      "source": [
        "lables = train_generator.class_indices\n",
        "output_layer_len=len(lables)\n",
        "lables_list = list(train_generator.class_indices.keys())"
      ],
      "execution_count": 6,
      "outputs": []
    },
    {
      "cell_type": "code",
      "metadata": {
        "colab": {
          "base_uri": "https://localhost:8080/"
        },
        "id": "vYgTLih8Noqd",
        "outputId": "a6f6f404-1549-40a9-9d00-b1ae63ed6d72"
      },
      "source": [
        "print(\"Length of Output layer: {}\".format(output_layer_len))\n",
        "print(\"Lable List: {}\".format(lables_list))"
      ],
      "execution_count": 7,
      "outputs": [
        {
          "output_type": "stream",
          "text": [
            "Length of Output layer: 2\n",
            "Lable List: ['Mask', 'NoMask']\n"
          ],
          "name": "stdout"
        }
      ]
    },
    {
      "cell_type": "code",
      "metadata": {
        "id": "lVK7orfnPS99"
      },
      "source": [
        "model = Sequential()\n",
        "model.add(Conv2D(32, kernel_size=(3,3), input_shape = input_shape, activation='relu'))\n",
        "model.add(MaxPool2D(pool_size=(2,2)))\n",
        "model.add(Conv2D(32, kernel_size=(3,3), activation='relu'))\n",
        "model.add(MaxPool2D(pool_size=(2,2)))\n",
        "model.add(Flatten())\n",
        "model.add(Dropout(0.3))\n",
        "model.add(Dense(128, activation='relu'))\n",
        "model.add(Dense(output_layer_len, activation='softmax'))"
      ],
      "execution_count": 8,
      "outputs": []
    },
    {
      "cell_type": "code",
      "metadata": {
        "id": "RQQIk6J3Pzfe"
      },
      "source": [
        "model.compile(optimizer='adam', loss='categorical_crossentropy', metrics=['accuracy'])"
      ],
      "execution_count": 9,
      "outputs": []
    },
    {
      "cell_type": "code",
      "metadata": {
        "colab": {
          "base_uri": "https://localhost:8080/"
        },
        "id": "9XXqvvUwP3-g",
        "outputId": "8055fb97-2b44-447f-ed46-0274264cb328"
      },
      "source": [
        "model.summary()"
      ],
      "execution_count": 10,
      "outputs": [
        {
          "output_type": "stream",
          "text": [
            "Model: \"sequential\"\n",
            "_________________________________________________________________\n",
            "Layer (type)                 Output Shape              Param #   \n",
            "=================================================================\n",
            "conv2d (Conv2D)              (None, 48, 48, 32)        896       \n",
            "_________________________________________________________________\n",
            "max_pooling2d (MaxPooling2D) (None, 24, 24, 32)        0         \n",
            "_________________________________________________________________\n",
            "conv2d_1 (Conv2D)            (None, 22, 22, 32)        9248      \n",
            "_________________________________________________________________\n",
            "max_pooling2d_1 (MaxPooling2 (None, 11, 11, 32)        0         \n",
            "_________________________________________________________________\n",
            "flatten (Flatten)            (None, 3872)              0         \n",
            "_________________________________________________________________\n",
            "dropout (Dropout)            (None, 3872)              0         \n",
            "_________________________________________________________________\n",
            "dense (Dense)                (None, 128)               495744    \n",
            "_________________________________________________________________\n",
            "dense_1 (Dense)              (None, 2)                 258       \n",
            "=================================================================\n",
            "Total params: 506,146\n",
            "Trainable params: 506,146\n",
            "Non-trainable params: 0\n",
            "_________________________________________________________________\n"
          ],
          "name": "stdout"
        }
      ]
    },
    {
      "cell_type": "code",
      "metadata": {
        "colab": {
          "base_uri": "https://localhost:8080/"
        },
        "id": "9PNzYrBcP9TK",
        "outputId": "f7f6bff6-0b4b-4bcb-cb37-aa0e17626169"
      },
      "source": [
        "with tf.device('/device:GPU:0'):\n",
        "  model.fit(train_generator ,epochs=no_of_epoch, validation_data=validation_generator)"
      ],
      "execution_count": 11,
      "outputs": [
        {
          "output_type": "stream",
          "text": [
            "Epoch 1/40\n",
            "48/48 [==============================] - 6s 84ms/step - loss: 0.6967 - accuracy: 0.8055 - val_loss: 0.4466 - val_accuracy: 0.8136\n",
            "Epoch 2/40\n",
            "48/48 [==============================] - 4s 77ms/step - loss: 0.4888 - accuracy: 0.8099 - val_loss: 0.4434 - val_accuracy: 0.8136\n",
            "Epoch 3/40\n",
            "48/48 [==============================] - 4s 77ms/step - loss: 0.4720 - accuracy: 0.8114 - val_loss: 0.4644 - val_accuracy: 0.8136\n",
            "Epoch 4/40\n",
            "48/48 [==============================] - 4s 76ms/step - loss: 0.4815 - accuracy: 0.7995 - val_loss: 0.4516 - val_accuracy: 0.8136\n",
            "Epoch 5/40\n",
            "48/48 [==============================] - 4s 76ms/step - loss: 0.4654 - accuracy: 0.8128 - val_loss: 0.4635 - val_accuracy: 0.8136\n",
            "Epoch 6/40\n",
            "48/48 [==============================] - 4s 76ms/step - loss: 0.4015 - accuracy: 0.8299 - val_loss: 0.4811 - val_accuracy: 0.8136\n",
            "Epoch 7/40\n",
            "48/48 [==============================] - 4s 76ms/step - loss: 0.4518 - accuracy: 0.7985 - val_loss: 0.4553 - val_accuracy: 0.8136\n",
            "Epoch 8/40\n",
            "48/48 [==============================] - 4s 76ms/step - loss: 0.4066 - accuracy: 0.8049 - val_loss: 0.4389 - val_accuracy: 0.8136\n",
            "Epoch 9/40\n",
            "48/48 [==============================] - 4s 76ms/step - loss: 0.4071 - accuracy: 0.8209 - val_loss: 0.5016 - val_accuracy: 0.8305\n",
            "Epoch 10/40\n",
            "48/48 [==============================] - 4s 76ms/step - loss: 0.3719 - accuracy: 0.8331 - val_loss: 0.4571 - val_accuracy: 0.8305\n",
            "Epoch 11/40\n",
            "48/48 [==============================] - 4s 76ms/step - loss: 0.3350 - accuracy: 0.8497 - val_loss: 0.4569 - val_accuracy: 0.8305\n",
            "Epoch 12/40\n",
            "48/48 [==============================] - 4s 77ms/step - loss: 0.3156 - accuracy: 0.8628 - val_loss: 0.4980 - val_accuracy: 0.8390\n",
            "Epoch 13/40\n",
            "48/48 [==============================] - 4s 75ms/step - loss: 0.3807 - accuracy: 0.8094 - val_loss: 0.4573 - val_accuracy: 0.8305\n",
            "Epoch 14/40\n",
            "48/48 [==============================] - 4s 76ms/step - loss: 0.3412 - accuracy: 0.8621 - val_loss: 0.4964 - val_accuracy: 0.7966\n",
            "Epoch 15/40\n",
            "48/48 [==============================] - 4s 77ms/step - loss: 0.3479 - accuracy: 0.8367 - val_loss: 0.5072 - val_accuracy: 0.8305\n",
            "Epoch 16/40\n",
            "48/48 [==============================] - 4s 76ms/step - loss: 0.2985 - accuracy: 0.8698 - val_loss: 0.4763 - val_accuracy: 0.8220\n",
            "Epoch 17/40\n",
            "48/48 [==============================] - 4s 75ms/step - loss: 0.3015 - accuracy: 0.8765 - val_loss: 0.6017 - val_accuracy: 0.8475\n",
            "Epoch 18/40\n",
            "48/48 [==============================] - 4s 75ms/step - loss: 0.3093 - accuracy: 0.8515 - val_loss: 0.5194 - val_accuracy: 0.7881\n",
            "Epoch 19/40\n",
            "48/48 [==============================] - 4s 80ms/step - loss: 0.2661 - accuracy: 0.8927 - val_loss: 0.5292 - val_accuracy: 0.7797\n",
            "Epoch 20/40\n",
            "48/48 [==============================] - 4s 77ms/step - loss: 0.2413 - accuracy: 0.9110 - val_loss: 0.5655 - val_accuracy: 0.7966\n",
            "Epoch 21/40\n",
            "48/48 [==============================] - 4s 75ms/step - loss: 0.2788 - accuracy: 0.8889 - val_loss: 0.5524 - val_accuracy: 0.8051\n",
            "Epoch 22/40\n",
            "48/48 [==============================] - 4s 74ms/step - loss: 0.2194 - accuracy: 0.8968 - val_loss: 0.5353 - val_accuracy: 0.6949\n",
            "Epoch 23/40\n",
            "48/48 [==============================] - 4s 75ms/step - loss: 0.2457 - accuracy: 0.8902 - val_loss: 0.5732 - val_accuracy: 0.8305\n",
            "Epoch 24/40\n",
            "48/48 [==============================] - 4s 74ms/step - loss: 0.2054 - accuracy: 0.9312 - val_loss: 0.5590 - val_accuracy: 0.8051\n",
            "Epoch 25/40\n",
            "48/48 [==============================] - 4s 78ms/step - loss: 0.2161 - accuracy: 0.9050 - val_loss: 0.5702 - val_accuracy: 0.8051\n",
            "Epoch 26/40\n",
            "48/48 [==============================] - 4s 83ms/step - loss: 0.2054 - accuracy: 0.9414 - val_loss: 0.6815 - val_accuracy: 0.8559\n",
            "Epoch 27/40\n",
            "48/48 [==============================] - 4s 82ms/step - loss: 0.2155 - accuracy: 0.9163 - val_loss: 0.6317 - val_accuracy: 0.8305\n",
            "Epoch 28/40\n",
            "48/48 [==============================] - 4s 78ms/step - loss: 0.2078 - accuracy: 0.9152 - val_loss: 0.6640 - val_accuracy: 0.8220\n",
            "Epoch 29/40\n",
            "48/48 [==============================] - 4s 75ms/step - loss: 0.1624 - accuracy: 0.9426 - val_loss: 0.5367 - val_accuracy: 0.8220\n",
            "Epoch 30/40\n",
            "48/48 [==============================] - 4s 75ms/step - loss: 0.1640 - accuracy: 0.9356 - val_loss: 0.7413 - val_accuracy: 0.8051\n",
            "Epoch 31/40\n",
            "48/48 [==============================] - 4s 76ms/step - loss: 0.1482 - accuracy: 0.9312 - val_loss: 0.6751 - val_accuracy: 0.7458\n",
            "Epoch 32/40\n",
            "48/48 [==============================] - 4s 76ms/step - loss: 0.1016 - accuracy: 0.9625 - val_loss: 0.7804 - val_accuracy: 0.7966\n",
            "Epoch 33/40\n",
            "48/48 [==============================] - 4s 77ms/step - loss: 0.1324 - accuracy: 0.9394 - val_loss: 0.8645 - val_accuracy: 0.7881\n",
            "Epoch 34/40\n",
            "48/48 [==============================] - 4s 78ms/step - loss: 0.0979 - accuracy: 0.9640 - val_loss: 0.7846 - val_accuracy: 0.7881\n",
            "Epoch 35/40\n",
            "48/48 [==============================] - 4s 75ms/step - loss: 0.0742 - accuracy: 0.9748 - val_loss: 1.0796 - val_accuracy: 0.7712\n",
            "Epoch 36/40\n",
            "48/48 [==============================] - 4s 75ms/step - loss: 0.1229 - accuracy: 0.9618 - val_loss: 0.7257 - val_accuracy: 0.8220\n",
            "Epoch 37/40\n",
            "48/48 [==============================] - 4s 74ms/step - loss: 0.0931 - accuracy: 0.9623 - val_loss: 0.7220 - val_accuracy: 0.8051\n",
            "Epoch 38/40\n",
            "48/48 [==============================] - 4s 74ms/step - loss: 0.0928 - accuracy: 0.9722 - val_loss: 0.6392 - val_accuracy: 0.7966\n",
            "Epoch 39/40\n",
            "48/48 [==============================] - 4s 75ms/step - loss: 0.0629 - accuracy: 0.9854 - val_loss: 0.6722 - val_accuracy: 0.7458\n",
            "Epoch 40/40\n",
            "48/48 [==============================] - 4s 75ms/step - loss: 0.0888 - accuracy: 0.9734 - val_loss: 0.8525 - val_accuracy: 0.8390\n"
          ],
          "name": "stdout"
        }
      ]
    },
    {
      "cell_type": "code",
      "metadata": {
        "id": "HsSQD1JMVrwh"
      },
      "source": [
        "training_history_model = model.history"
      ],
      "execution_count": 12,
      "outputs": []
    },
    {
      "cell_type": "code",
      "metadata": {
        "colab": {
          "base_uri": "https://localhost:8080/",
          "height": 295
        },
        "id": "O0v6mCplQHs3",
        "outputId": "a5d45f77-cf5e-4f94-da31-8f03ef4c3ad0"
      },
      "source": [
        "plt.plot(training_history_model.history['accuracy'])\n",
        "plt.plot(training_history_model.history['val_accuracy'])\n",
        "plt.title('model accuracy chart')\n",
        "plt.ylabel('accuracy')\n",
        "plt.xlabel('epoch')\n",
        "plt.legend(['train', 'test'], loc='upper left')\n",
        "plt.show()"
      ],
      "execution_count": 13,
      "outputs": [
        {
          "output_type": "display_data",
          "data": {
            "image/png": "[encoded data removed]",
            "text/plain": [
              "<Figure size 432x288 with 1 Axes>"
            ]
          },
          "metadata": {
            "tags": [],
            "needs_background": "light"
          }
        }
      ]
    },
    {
      "cell_type": "code",
      "metadata": {
        "colab": {
          "base_uri": "https://localhost:8080/",
          "height": 295
        },
        "id": "QBSzCFDsWJ44",
        "outputId": "d97d01d4-1fa5-4aa5-ec1b-59b86ca7b16e"
      },
      "source": [
        "# summarize history for loss\n",
        "plt.plot(training_history_model.history['loss'])\n",
        "plt.plot(training_history_model.history['val_loss'])\n",
        "plt.title('model loss chart')\n",
        "plt.ylabel('loss')\n",
        "plt.xlabel('epoch')\n",
        "plt.legend(['train', 'test'], loc='upper left')\n",
        "plt.show()"
      ],
      "execution_count": 14,
      "outputs": [
        {
          "output_type": "display_data",
          "data": {
            "image/png": "[encoded data removed]",
            "text/plain": [
              "<Figure size 432x288 with 1 Axes>"
            ]
          },
          "metadata": {
            "tags": [],
            "needs_background": "light"
          }
        }
      ]
    },
    {
      "cell_type": "code",
      "metadata": {
        "colab": {
          "base_uri": "https://localhost:8080/"
        },
        "id": "9phoN9vbV27k",
        "outputId": "d955d412-f905-429c-eda1-e6e659eaaaba"
      },
      "source": [
        "pred_test_result_m1 = []\n",
        "for file_id, img in zip(file_ids, test_dataset):\n",
        "  exp_img = np.expand_dims(img, axis=0)\n",
        "  val_dataset_pred = model.predict(exp_img)\n",
        "  pred_val = np.argmax(val_dataset_pred)\n",
        "  pred_val_lable = lables_list[pred_val]\n",
        "  val_dataset_pred_lable = None\n",
        "  if pred_val_lable == 'Mask':\n",
        "    val_dataset_pred_lable = 1\n",
        "  else:\n",
        "    val_dataset_pred_lable = 0\n",
        "  result = [file_id,  val_dataset_pred_lable, pred_val_lable]\n",
        "  print(result)\n",
        "  pred_test_result_m1.append(result)"
      ],
      "execution_count": 15,
      "outputs": [
        {
          "output_type": "stream",
          "text": [
            "[41, 1, 'Mask']\n",
            "[39, 1, 'Mask']\n",
            "[27, 0, 'NoMask']\n",
            "[35, 1, 'Mask']\n",
            "[45, 1, 'Mask']\n",
            "[38, 1, 'Mask']\n",
            "[32, 1, 'Mask']\n",
            "[31, 0, 'NoMask']\n",
            "[29, 0, 'NoMask']\n",
            "[9, 1, 'Mask']\n",
            "[1, 1, 'Mask']\n",
            "[26, 1, 'Mask']\n",
            "[24, 1, 'Mask']\n",
            "[21, 1, 'Mask']\n",
            "[28, 1, 'Mask']\n",
            "[7, 1, 'Mask']\n",
            "[42, 1, 'Mask']\n",
            "[44, 0, 'NoMask']\n",
            "[25, 1, 'Mask']\n",
            "[12, 1, 'Mask']\n",
            "[6, 1, 'Mask']\n",
            "[43, 1, 'Mask']\n",
            "[0, 1, 'Mask']\n",
            "[10, 1, 'Mask']\n",
            "[19, 1, 'Mask']\n",
            "[4, 1, 'Mask']\n",
            "[3, 1, 'Mask']\n",
            "[18, 1, 'Mask']\n",
            "[15, 1, 'Mask']\n",
            "[37, 0, 'NoMask']\n",
            "[14, 1, 'Mask']\n",
            "[16, 0, 'NoMask']\n",
            "[23, 1, 'Mask']\n",
            "[2, 1, 'Mask']\n",
            "[11, 1, 'Mask']\n",
            "[17, 1, 'Mask']\n",
            "[30, 1, 'Mask']\n",
            "[20, 1, 'Mask']\n",
            "[40, 1, 'Mask']\n",
            "[13, 1, 'Mask']\n",
            "[22, 1, 'Mask']\n",
            "[33, 0, 'NoMask']\n",
            "[34, 0, 'NoMask']\n",
            "[8, 1, 'Mask']\n",
            "[36, 1, 'Mask']\n",
            "[5, 1, 'Mask']\n"
          ],
          "name": "stdout"
        }
      ]
    },
    {
      "cell_type": "code",
      "metadata": {
        "colab": {
          "base_uri": "https://localhost:8080/",
          "height": 1000
        },
        "id": "KaawigByWd3E",
        "outputId": "146db9af-db97-4041-a1cc-0fdc4da452f9"
      },
      "source": [
        "pred_test_result_m1_df = pd.DataFrame(pred_test_result_m1, columns=['file_id', 'label', 'label_value'])\n",
        "pred_test_result_m1_df.sort_values(by='file_id')"
      ],
      "execution_count": 16,
      "outputs": [
        {
          "output_type": "execute_result",
          "data": {
            "text/html": [
              "<div>\n",
              "<style scoped>\n",
              "    .dataframe tbody tr th:only-of-type {\n",
              "        vertical-align: middle;\n",
              "    }\n",
              "\n",
              "    .dataframe tbody tr th {\n",
              "        vertical-align: top;\n",
              "    }\n",
              "\n",
              "    .dataframe thead th {\n",
              "        text-align: right;\n",
              "    }\n",
              "</style>\n",
              "<table border=\"1\" class=\"dataframe\">\n",
              "  <thead>\n",
              "    <tr style=\"text-align: right;\">\n",
              "      <th></th>\n",
              "      <th>file_id</th>\n",
              "      <th>label</th>\n",
              "      <th>label_value</th>\n",
              "    </tr>\n",
              "  </thead>\n",
              "  <tbody>\n",
              "    <tr>\n",
              "      <th>22</th>\n",
              "      <td>0</td>\n",
              "      <td>1</td>\n",
              "      <td>Mask</td>\n",
              "    </tr>\n",
              "    <tr>\n",
              "      <th>10</th>\n",
              "      <td>1</td>\n",
              "      <td>1</td>\n",
              "      <td>Mask</td>\n",
              "    </tr>\n",
              "    <tr>\n",
              "      <th>33</th>\n",
              "      <td>2</td>\n",
              "      <td>1</td>\n",
              "      <td>Mask</td>\n",
              "    </tr>\n",
              "    <tr>\n",
              "      <th>26</th>\n",
              "      <td>3</td>\n",
              "      <td>1</td>\n",
              "      <td>Mask</td>\n",
              "    </tr>\n",
              "    <tr>\n",
              "      <th>25</th>\n",
              "      <td>4</td>\n",
              "      <td>1</td>\n",
              "      <td>Mask</td>\n",
              "    </tr>\n",
              "    <tr>\n",
              "      <th>45</th>\n",
              "      <td>5</td>\n",
              "      <td>1</td>\n",
              "      <td>Mask</td>\n",
              "    </tr>\n",
              "    <tr>\n",
              "      <th>20</th>\n",
              "      <td>6</td>\n",
              "      <td>1</td>\n",
              "      <td>Mask</td>\n",
              "    </tr>\n",
              "    <tr>\n",
              "      <th>15</th>\n",
              "      <td>7</td>\n",
              "      <td>1</td>\n",
              "      <td>Mask</td>\n",
              "    </tr>\n",
              "    <tr>\n",
              "      <th>43</th>\n",
              "      <td>8</td>\n",
              "      <td>1</td>\n",
              "      <td>Mask</td>\n",
              "    </tr>\n",
              "    <tr>\n",
              "      <th>9</th>\n",
              "      <td>9</td>\n",
              "      <td>1</td>\n",
              "      <td>Mask</td>\n",
              "    </tr>\n",
              "    <tr>\n",
              "      <th>23</th>\n",
              "      <td>10</td>\n",
              "      <td>1</td>\n",
              "      <td>Mask</td>\n",
              "    </tr>\n",
              "    <tr>\n",
              "      <th>34</th>\n",
              "      <td>11</td>\n",
              "      <td>1</td>\n",
              "      <td>Mask</td>\n",
              "    </tr>\n",
              "    <tr>\n",
              "      <th>19</th>\n",
              "      <td>12</td>\n",
              "      <td>1</td>\n",
              "      <td>Mask</td>\n",
              "    </tr>\n",
              "    <tr>\n",
              "      <th>39</th>\n",
              "      <td>13</td>\n",
              "      <td>1</td>\n",
              "      <td>Mask</td>\n",
              "    </tr>\n",
              "    <tr>\n",
              "      <th>30</th>\n",
              "      <td>14</td>\n",
              "      <td>1</td>\n",
              "      <td>Mask</td>\n",
              "    </tr>\n",
              "    <tr>\n",
              "      <th>28</th>\n",
              "      <td>15</td>\n",
              "      <td>1</td>\n",
              "      <td>Mask</td>\n",
              "    </tr>\n",
              "    <tr>\n",
              "      <th>31</th>\n",
              "      <td>16</td>\n",
              "      <td>0</td>\n",
              "      <td>NoMask</td>\n",
              "    </tr>\n",
              "    <tr>\n",
              "      <th>35</th>\n",
              "      <td>17</td>\n",
              "      <td>1</td>\n",
              "      <td>Mask</td>\n",
              "    </tr>\n",
              "    <tr>\n",
              "      <th>27</th>\n",
              "      <td>18</td>\n",
              "      <td>1</td>\n",
              "      <td>Mask</td>\n",
              "    </tr>\n",
              "    <tr>\n",
              "      <th>24</th>\n",
              "      <td>19</td>\n",
              "      <td>1</td>\n",
              "      <td>Mask</td>\n",
              "    </tr>\n",
              "    <tr>\n",
              "      <th>37</th>\n",
              "      <td>20</td>\n",
              "      <td>1</td>\n",
              "      <td>Mask</td>\n",
              "    </tr>\n",
              "    <tr>\n",
              "      <th>13</th>\n",
              "      <td>21</td>\n",
              "      <td>1</td>\n",
              "      <td>Mask</td>\n",
              "    </tr>\n",
              "    <tr>\n",
              "      <th>40</th>\n",
              "      <td>22</td>\n",
              "      <td>1</td>\n",
              "      <td>Mask</td>\n",
              "    </tr>\n",
              "    <tr>\n",
              "      <th>32</th>\n",
              "      <td>23</td>\n",
              "      <td>1</td>\n",
              "      <td>Mask</td>\n",
              "    </tr>\n",
              "    <tr>\n",
              "      <th>12</th>\n",
              "      <td>24</td>\n",
              "      <td>1</td>\n",
              "      <td>Mask</td>\n",
              "    </tr>\n",
              "    <tr>\n",
              "      <th>18</th>\n",
              "      <td>25</td>\n",
              "      <td>1</td>\n",
              "      <td>Mask</td>\n",
              "    </tr>\n",
              "    <tr>\n",
              "      <th>11</th>\n",
              "      <td>26</td>\n",
              "      <td>1</td>\n",
              "      <td>Mask</td>\n",
              "    </tr>\n",
              "    <tr>\n",
              "      <th>2</th>\n",
              "      <td>27</td>\n",
              "      <td>0</td>\n",
              "      <td>NoMask</td>\n",
              "    </tr>\n",
              "    <tr>\n",
              "      <th>14</th>\n",
              "      <td>28</td>\n",
              "      <td>1</td>\n",
              "      <td>Mask</td>\n",
              "    </tr>\n",
              "    <tr>\n",
              "      <th>8</th>\n",
              "      <td>29</td>\n",
              "      <td>0</td>\n",
              "      <td>NoMask</td>\n",
              "    </tr>\n",
              "    <tr>\n",
              "      <th>36</th>\n",
              "      <td>30</td>\n",
              "      <td>1</td>\n",
              "      <td>Mask</td>\n",
              "    </tr>\n",
              "    <tr>\n",
              "      <th>7</th>\n",
              "      <td>31</td>\n",
              "      <td>0</td>\n",
              "      <td>NoMask</td>\n",
              "    </tr>\n",
              "    <tr>\n",
              "      <th>6</th>\n",
              "      <td>32</td>\n",
              "      <td>1</td>\n",
              "      <td>Mask</td>\n",
              "    </tr>\n",
              "    <tr>\n",
              "      <th>41</th>\n",
              "      <td>33</td>\n",
              "      <td>0</td>\n",
              "      <td>NoMask</td>\n",
              "    </tr>\n",
              "    <tr>\n",
              "      <th>42</th>\n",
              "      <td>34</td>\n",
              "      <td>0</td>\n",
              "      <td>NoMask</td>\n",
              "    </tr>\n",
              "    <tr>\n",
              "      <th>3</th>\n",
              "      <td>35</td>\n",
              "      <td>1</td>\n",
              "      <td>Mask</td>\n",
              "    </tr>\n",
              "    <tr>\n",
              "      <th>44</th>\n",
              "      <td>36</td>\n",
              "      <td>1</td>\n",
              "      <td>Mask</td>\n",
              "    </tr>\n",
              "    <tr>\n",
              "      <th>29</th>\n",
              "      <td>37</td>\n",
              "      <td>0</td>\n",
              "      <td>NoMask</td>\n",
              "    </tr>\n",
              "    <tr>\n",
              "      <th>5</th>\n",
              "      <td>38</td>\n",
              "      <td>1</td>\n",
              "      <td>Mask</td>\n",
              "    </tr>\n",
              "    <tr>\n",
              "      <th>1</th>\n",
              "      <td>39</td>\n",
              "      <td>1</td>\n",
              "      <td>Mask</td>\n",
              "    </tr>\n",
              "    <tr>\n",
              "      <th>38</th>\n",
              "      <td>40</td>\n",
              "      <td>1</td>\n",
              "      <td>Mask</td>\n",
              "    </tr>\n",
              "    <tr>\n",
              "      <th>0</th>\n",
              "      <td>41</td>\n",
              "      <td>1</td>\n",
              "      <td>Mask</td>\n",
              "    </tr>\n",
              "    <tr>\n",
              "      <th>16</th>\n",
              "      <td>42</td>\n",
              "      <td>1</td>\n",
              "      <td>Mask</td>\n",
              "    </tr>\n",
              "    <tr>\n",
              "      <th>21</th>\n",
              "      <td>43</td>\n",
              "      <td>1</td>\n",
              "      <td>Mask</td>\n",
              "    </tr>\n",
              "    <tr>\n",
              "      <th>17</th>\n",
              "      <td>44</td>\n",
              "      <td>0</td>\n",
              "      <td>NoMask</td>\n",
              "    </tr>\n",
              "    <tr>\n",
              "      <th>4</th>\n",
              "      <td>45</td>\n",
              "      <td>1</td>\n",
              "      <td>Mask</td>\n",
              "    </tr>\n",
              "  </tbody>\n",
              "</table>\n",
              "</div>"
            ],
            "text/plain": [
              "    file_id  label label_value\n",
              "22        0      1        Mask\n",
              "10        1      1        Mask\n",
              "33        2      1        Mask\n",
              "26        3      1        Mask\n",
              "25        4      1        Mask\n",
              "45        5      1        Mask\n",
              "20        6      1        Mask\n",
              "15        7      1        Mask\n",
              "43        8      1        Mask\n",
              "9         9      1        Mask\n",
              "23       10      1        Mask\n",
              "34       11      1        Mask\n",
              "19       12      1        Mask\n",
              "39       13      1        Mask\n",
              "30       14      1        Mask\n",
              "28       15      1        Mask\n",
              "31       16      0      NoMask\n",
              "35       17      1        Mask\n",
              "27       18      1        Mask\n",
              "24       19      1        Mask\n",
              "37       20      1        Mask\n",
              "13       21      1        Mask\n",
              "40       22      1        Mask\n",
              "32       23      1        Mask\n",
              "12       24      1        Mask\n",
              "18       25      1        Mask\n",
              "11       26      1        Mask\n",
              "2        27      0      NoMask\n",
              "14       28      1        Mask\n",
              "8        29      0      NoMask\n",
              "36       30      1        Mask\n",
              "7        31      0      NoMask\n",
              "6        32      1        Mask\n",
              "41       33      0      NoMask\n",
              "42       34      0      NoMask\n",
              "3        35      1        Mask\n",
              "44       36      1        Mask\n",
              "29       37      0      NoMask\n",
              "5        38      1        Mask\n",
              "1        39      1        Mask\n",
              "38       40      1        Mask\n",
              "0        41      1        Mask\n",
              "16       42      1        Mask\n",
              "21       43      1        Mask\n",
              "17       44      0      NoMask\n",
              "4        45      1        Mask"
            ]
          },
          "metadata": {
            "tags": []
          },
          "execution_count": 16
        }
      ]
    },
    {
      "cell_type": "code",
      "metadata": {
        "id": "aG88vsA7Wlj7"
      },
      "source": [
        "subbmit_m1 = pred_test_result_m1_df.drop(['label_value'], axis=1)\n",
        "subbmit_m1.to_csv('HDFC_Hackthon_Submit_12.csv', index=False)"
      ],
      "execution_count": 17,
      "outputs": []
    },
    {
      "cell_type": "code",
      "metadata": {
        "id": "mI9qG51_bv6j"
      },
      "source": [
        ""
      ],
      "execution_count": null,
      "outputs": []
    }
  ]
}