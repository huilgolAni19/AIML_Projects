{
  "nbformat": 4,
  "nbformat_minor": 0,
  "metadata": {
    "colab": {
      "name": "HDFC-Hackthon.ipynb",
      "provenance": [],
      "collapsed_sections": []
    },
    "kernelspec": {
      "name": "python3",
      "display_name": "Python 3"
    },
    "accelerator": "GPU"
  },
  "cells": [
    {
      "cell_type": "code",
      "metadata": {
        "id": "YkHSh06zBYSM"
      },
      "source": [
        "import pandas as pd\n",
        "import tensorflow as tf\n",
        "from tensorflow.keras.preprocessing.image import ImageDataGenerator\n",
        "from tensorflow.keras.layers import Conv2D, Activation\n",
        "from tensorflow.keras.layers import Dense, Dropout, Flatten, MaxPool2D\n",
        "from tensorflow.keras.models import Sequential\n",
        "from keras.applications.vgg16 import VGG16 as PTM, preprocess_input\n",
        "from tensorflow.keras import backend as bk\n",
        "import numpy as np\n",
        "from tensorflow import keras\n",
        "import glob\n",
        "import os\n",
        "import matplotlib.pyplot as plt\n",
        "import warnings\n",
        "warnings.filterwarnings('ignore')\n",
        "%matplotlib inline"
      ],
      "execution_count": 1,
      "outputs": []
    },
    {
      "cell_type": "code",
      "metadata": {
        "id": "TUnqz76qMFaP"
      },
      "source": [
        "train_path = '/content/drive/MyDrive/GreatLearning/Hackthon/HDFCLife/train'\n",
        "test_path = '/content/drive/MyDrive/GreatLearning/Hackthon/HDFCLife/test'\n",
        "gt_path = '/content/drive/MyDrive/GreatLearning/Hackthon/HDFCLife/GroundTruth/Gt.csv'"
      ],
      "execution_count": 2,
      "outputs": []
    },
    {
      "cell_type": "code",
      "metadata": {
        "id": "luF1W8IciZFD"
      },
      "source": [
        "target_size= (128,128)\n",
        "batch_size = 5\n",
        "epochs = 10 * 10"
      ],
      "execution_count": 3,
      "outputs": []
    },
    {
      "cell_type": "code",
      "metadata": {
        "id": "fcF848kAb10k"
      },
      "source": [
        "test_dataset = []\n",
        "file_ids = []\n",
        "testData =  glob.glob('{}/*.jpg'.format(test_path))\n",
        "for data in testData:\n",
        "  img = tf.keras.preprocessing.image\n",
        "  image = img.load_img(data, color_mode='rgb', target_size= target_size)\n",
        "  image = np.array(image)\n",
        "  file_id = os.path.basename(data).replace('.jpg', '')\n",
        "  test_dataset.append(image)\n",
        "  file_ids.append(int(file_id))"
      ],
      "execution_count": 35,
      "outputs": []
    },
    {
      "cell_type": "code",
      "metadata": {
        "id": "NKiwzJhtr8Mx",
        "colab": {
          "base_uri": "https://localhost:8080/"
        },
        "outputId": "1a4fe27e-1046-421c-e237-7793cc4bd3fc"
      },
      "source": [
        "file_ids[10]"
      ],
      "execution_count": 5,
      "outputs": [
        {
          "output_type": "execute_result",
          "data": {
            "text/plain": [
              "10"
            ]
          },
          "metadata": {
            "tags": []
          },
          "execution_count": 5
        }
      ]
    },
    {
      "cell_type": "code",
      "metadata": {
        "id": "Zasj2nbZj-2D",
        "colab": {
          "base_uri": "https://localhost:8080/"
        },
        "outputId": "25af1aac-9954-4213-d877-ad1b0142a300"
      },
      "source": [
        "imageDataGen = ImageDataGenerator(rescale= 1./ 255,\n",
        "                                 shear_range= 0.2,\n",
        "                                 zoom_range=0.2, \n",
        "                                 horizontal_flip=True, \n",
        "                                 validation_split=0.2,\n",
        "                                 width_shift_range=0.2,\n",
        "                                 height_shift_range=0.2,\n",
        "                                 fill_mode=\"nearest\",\n",
        "                                  preprocessing_function=preprocess_input)\n",
        "\n",
        "\n",
        "\n",
        "train_generator = imageDataGen.flow_from_directory(\n",
        "    train_path,\n",
        "    target_size=target_size,\n",
        "    batch_size=batch_size,\n",
        "    class_mode='categorical',\n",
        "    subset='training') # set as training data\n",
        "\n",
        "validation_generator = imageDataGen.flow_from_directory(\n",
        "    train_path, # same directory as training data\n",
        "    target_size=target_size,\n",
        "    batch_size=batch_size,\n",
        "    class_mode='categorical',\n",
        "    subset='validation') # set as validation data\n"
      ],
      "execution_count": 6,
      "outputs": [
        {
          "output_type": "stream",
          "text": [
            "Found 473 images belonging to 2 classes.\n",
            "Found 118 images belonging to 2 classes.\n"
          ],
          "name": "stdout"
        }
      ]
    },
    {
      "cell_type": "code",
      "metadata": {
        "id": "YLA-FFz8nOhT",
        "colab": {
          "base_uri": "https://localhost:8080/"
        },
        "outputId": "84d57b63-2398-4dba-abba-94241782d719"
      },
      "source": [
        "train_generator.class_indices"
      ],
      "execution_count": 7,
      "outputs": [
        {
          "output_type": "execute_result",
          "data": {
            "text/plain": [
              "{'Mask': 0, 'NoMask': 1}"
            ]
          },
          "metadata": {
            "tags": []
          },
          "execution_count": 7
        }
      ]
    },
    {
      "cell_type": "code",
      "metadata": {
        "id": "DSzsdks3nhtH",
        "colab": {
          "base_uri": "https://localhost:8080/"
        },
        "outputId": "4e096051-dc38-4331-cc2f-23edbd6488ed"
      },
      "source": [
        "pd.DataFrame(train_generator.classes, columns=['Classes']).value_counts()"
      ],
      "execution_count": 8,
      "outputs": [
        {
          "output_type": "execute_result",
          "data": {
            "text/plain": [
              "Classes\n",
              "0          384\n",
              "1           89\n",
              "dtype: int64"
            ]
          },
          "metadata": {
            "tags": []
          },
          "execution_count": 8
        }
      ]
    },
    {
      "cell_type": "code",
      "metadata": {
        "id": "WdsCUfiKpOj3",
        "colab": {
          "base_uri": "https://localhost:8080/"
        },
        "outputId": "0a3173c0-9ecc-4a93-fa53-17046b5fb18d"
      },
      "source": [
        "pd.DataFrame(validation_generator.classes, columns=['Classes']).value_counts()"
      ],
      "execution_count": 9,
      "outputs": [
        {
          "output_type": "execute_result",
          "data": {
            "text/plain": [
              "Classes\n",
              "0          96\n",
              "1          22\n",
              "dtype: int64"
            ]
          },
          "metadata": {
            "tags": []
          },
          "execution_count": 9
        }
      ]
    },
    {
      "cell_type": "code",
      "metadata": {
        "id": "UllaRapKqDhF"
      },
      "source": [
        "ptm = PTM(input_shape=tuple(list(target_size)+[3]),\n",
        "            weights='imagenet', \n",
        "            include_top=False)\n",
        "ptm.trainable = False "
      ],
      "execution_count": 10,
      "outputs": []
    },
    {
      "cell_type": "code",
      "metadata": {
        "id": "CkunglS8_lHD",
        "colab": {
          "base_uri": "https://localhost:8080/"
        },
        "outputId": "97b8029d-5ec4-45bb-e506-c76d87a14747"
      },
      "source": [
        "ptm.summary()"
      ],
      "execution_count": 11,
      "outputs": [
        {
          "output_type": "stream",
          "text": [
            "Model: \"vgg16\"\n",
            "_________________________________________________________________\n",
            "Layer (type)                 Output Shape              Param #   \n",
            "=================================================================\n",
            "input_1 (InputLayer)         [(None, 128, 128, 3)]     0         \n",
            "_________________________________________________________________\n",
            "block1_conv1 (Conv2D)        (None, 128, 128, 64)      1792      \n",
            "_________________________________________________________________\n",
            "block1_conv2 (Conv2D)        (None, 128, 128, 64)      36928     \n",
            "_________________________________________________________________\n",
            "block1_pool (MaxPooling2D)   (None, 64, 64, 64)        0         \n",
            "_________________________________________________________________\n",
            "block2_conv1 (Conv2D)        (None, 64, 64, 128)       73856     \n",
            "_________________________________________________________________\n",
            "block2_conv2 (Conv2D)        (None, 64, 64, 128)       147584    \n",
            "_________________________________________________________________\n",
            "block2_pool (MaxPooling2D)   (None, 32, 32, 128)       0         \n",
            "_________________________________________________________________\n",
            "block3_conv1 (Conv2D)        (None, 32, 32, 256)       295168    \n",
            "_________________________________________________________________\n",
            "block3_conv2 (Conv2D)        (None, 32, 32, 256)       590080    \n",
            "_________________________________________________________________\n",
            "block3_conv3 (Conv2D)        (None, 32, 32, 256)       590080    \n",
            "_________________________________________________________________\n",
            "block3_pool (MaxPooling2D)   (None, 16, 16, 256)       0         \n",
            "_________________________________________________________________\n",
            "block4_conv1 (Conv2D)        (None, 16, 16, 512)       1180160   \n",
            "_________________________________________________________________\n",
            "block4_conv2 (Conv2D)        (None, 16, 16, 512)       2359808   \n",
            "_________________________________________________________________\n",
            "block4_conv3 (Conv2D)        (None, 16, 16, 512)       2359808   \n",
            "_________________________________________________________________\n",
            "block4_pool (MaxPooling2D)   (None, 8, 8, 512)         0         \n",
            "_________________________________________________________________\n",
            "block5_conv1 (Conv2D)        (None, 8, 8, 512)         2359808   \n",
            "_________________________________________________________________\n",
            "block5_conv2 (Conv2D)        (None, 8, 8, 512)         2359808   \n",
            "_________________________________________________________________\n",
            "block5_conv3 (Conv2D)        (None, 8, 8, 512)         2359808   \n",
            "_________________________________________________________________\n",
            "block5_pool (MaxPooling2D)   (None, 4, 4, 512)         0         \n",
            "=================================================================\n",
            "Total params: 14,714,688\n",
            "Trainable params: 0\n",
            "Non-trainable params: 14,714,688\n",
            "_________________________________________________________________\n"
          ],
          "name": "stdout"
        }
      ]
    },
    {
      "cell_type": "code",
      "metadata": {
        "id": "Wx5ehi9d_nGQ"
      },
      "source": [
        "model = Sequential()\n",
        "model.add(ptm)\n",
        "model.add(Flatten())\n",
        "model.add(Dense(1024,activation='relu'))\n",
        "model.add(Dense(512,activation='relu')) \n",
        "model.add(Dense(256,activation='relu')) \n",
        "model.add(Dropout(.3))\n",
        "model.add(Dense(128,activation='relu'))\n",
        "model.add(Dropout(.2))\n",
        "model.add(Dense(2,activation='softmax'))"
      ],
      "execution_count": 12,
      "outputs": []
    },
    {
      "cell_type": "code",
      "metadata": {
        "id": "i_Sh1_R_FKk2",
        "colab": {
          "base_uri": "https://localhost:8080/"
        },
        "outputId": "7861a729-ca4c-4739-96b5-912beb367ba1"
      },
      "source": [
        "model.summary()"
      ],
      "execution_count": 13,
      "outputs": [
        {
          "output_type": "stream",
          "text": [
            "Model: \"sequential\"\n",
            "_________________________________________________________________\n",
            "Layer (type)                 Output Shape              Param #   \n",
            "=================================================================\n",
            "vgg16 (Functional)           (None, 4, 4, 512)         14714688  \n",
            "_________________________________________________________________\n",
            "flatten (Flatten)            (None, 8192)              0         \n",
            "_________________________________________________________________\n",
            "dense (Dense)                (None, 1024)              8389632   \n",
            "_________________________________________________________________\n",
            "dense_1 (Dense)              (None, 512)               524800    \n",
            "_________________________________________________________________\n",
            "dense_2 (Dense)              (None, 256)               131328    \n",
            "_________________________________________________________________\n",
            "dropout (Dropout)            (None, 256)               0         \n",
            "_________________________________________________________________\n",
            "dense_3 (Dense)              (None, 128)               32896     \n",
            "_________________________________________________________________\n",
            "dropout_1 (Dropout)          (None, 128)               0         \n",
            "_________________________________________________________________\n",
            "dense_4 (Dense)              (None, 2)                 258       \n",
            "=================================================================\n",
            "Total params: 23,793,602\n",
            "Trainable params: 9,078,914\n",
            "Non-trainable params: 14,714,688\n",
            "_________________________________________________________________\n"
          ],
          "name": "stdout"
        }
      ]
    },
    {
      "cell_type": "code",
      "metadata": {
        "id": "jxVbEzbPFNgz"
      },
      "source": [
        "model.compile(optimizer='adam', \n",
        "              loss='categorical_crossentropy',\n",
        "              metrics=['accuracy'])"
      ],
      "execution_count": 14,
      "outputs": []
    },
    {
      "cell_type": "code",
      "metadata": {
        "id": "QfIU1NWTHRfs",
        "colab": {
          "base_uri": "https://localhost:8080/"
        },
        "outputId": "f2fbe495-670b-4f1f-92f2-36974e0ae570"
      },
      "source": [
        "with tf.device('/device:GPU:0'):\n",
        "  training_history = model.fit(train_generator,steps_per_epoch=len(train_generator) ,epochs=epochs, validation_data=validation_generator, validation_steps=len(validation_generator), verbose=1)"
      ],
      "execution_count": 15,
      "outputs": [
        {
          "output_type": "stream",
          "text": [
            "Epoch 1/100\n",
            "95/95 [==============================] - 9s 66ms/step - loss: 0.9750 - accuracy: 0.7698 - val_loss: 0.4421 - val_accuracy: 0.8136\n",
            "Epoch 2/100\n",
            "95/95 [==============================] - 6s 60ms/step - loss: 0.4081 - accuracy: 0.7983 - val_loss: 0.4528 - val_accuracy: 0.7797\n",
            "Epoch 3/100\n",
            "95/95 [==============================] - 6s 61ms/step - loss: 0.3688 - accuracy: 0.8589 - val_loss: 0.4473 - val_accuracy: 0.8220\n",
            "Epoch 4/100\n",
            "95/95 [==============================] - 6s 60ms/step - loss: 0.3837 - accuracy: 0.8532 - val_loss: 0.3912 - val_accuracy: 0.8136\n",
            "Epoch 5/100\n",
            "95/95 [==============================] - 6s 61ms/step - loss: 0.3492 - accuracy: 0.8805 - val_loss: 0.3612 - val_accuracy: 0.8475\n",
            "Epoch 6/100\n",
            "95/95 [==============================] - 6s 59ms/step - loss: 0.3016 - accuracy: 0.8541 - val_loss: 0.3697 - val_accuracy: 0.8559\n",
            "Epoch 7/100\n",
            "95/95 [==============================] - 6s 59ms/step - loss: 0.3152 - accuracy: 0.8729 - val_loss: 0.3391 - val_accuracy: 0.8559\n",
            "Epoch 8/100\n",
            "95/95 [==============================] - 6s 60ms/step - loss: 0.2559 - accuracy: 0.8945 - val_loss: 0.2978 - val_accuracy: 0.8559\n",
            "Epoch 9/100\n",
            "95/95 [==============================] - 6s 61ms/step - loss: 0.2820 - accuracy: 0.8847 - val_loss: 0.3844 - val_accuracy: 0.8475\n",
            "Epoch 10/100\n",
            "95/95 [==============================] - 6s 60ms/step - loss: 0.2188 - accuracy: 0.9293 - val_loss: 0.5223 - val_accuracy: 0.8136\n",
            "Epoch 11/100\n",
            "95/95 [==============================] - 6s 61ms/step - loss: 0.2306 - accuracy: 0.9089 - val_loss: 0.3726 - val_accuracy: 0.8390\n",
            "Epoch 12/100\n",
            "95/95 [==============================] - 6s 60ms/step - loss: 0.3764 - accuracy: 0.8594 - val_loss: 0.3785 - val_accuracy: 0.8390\n",
            "Epoch 13/100\n",
            "95/95 [==============================] - 6s 60ms/step - loss: 0.1842 - accuracy: 0.9234 - val_loss: 0.2943 - val_accuracy: 0.8983\n",
            "Epoch 14/100\n",
            "95/95 [==============================] - 6s 60ms/step - loss: 0.1611 - accuracy: 0.9407 - val_loss: 0.2849 - val_accuracy: 0.8814\n",
            "Epoch 15/100\n",
            "95/95 [==============================] - 6s 61ms/step - loss: 0.1318 - accuracy: 0.9530 - val_loss: 0.3439 - val_accuracy: 0.8475\n",
            "Epoch 16/100\n",
            "95/95 [==============================] - 6s 60ms/step - loss: 0.2366 - accuracy: 0.9173 - val_loss: 0.3448 - val_accuracy: 0.8644\n",
            "Epoch 17/100\n",
            "95/95 [==============================] - 6s 61ms/step - loss: 0.1788 - accuracy: 0.9494 - val_loss: 0.4007 - val_accuracy: 0.8220\n",
            "Epoch 18/100\n",
            "95/95 [==============================] - 6s 61ms/step - loss: 0.1400 - accuracy: 0.9391 - val_loss: 0.5187 - val_accuracy: 0.8305\n",
            "Epoch 19/100\n",
            "95/95 [==============================] - 6s 61ms/step - loss: 0.1422 - accuracy: 0.9357 - val_loss: 0.3215 - val_accuracy: 0.8475\n",
            "Epoch 20/100\n",
            "95/95 [==============================] - 6s 60ms/step - loss: 0.2031 - accuracy: 0.9096 - val_loss: 0.5051 - val_accuracy: 0.8475\n",
            "Epoch 21/100\n",
            "95/95 [==============================] - 6s 60ms/step - loss: 0.1715 - accuracy: 0.9293 - val_loss: 0.6608 - val_accuracy: 0.8305\n",
            "Epoch 22/100\n",
            "95/95 [==============================] - 6s 60ms/step - loss: 0.1393 - accuracy: 0.9522 - val_loss: 0.4086 - val_accuracy: 0.8983\n",
            "Epoch 23/100\n",
            "95/95 [==============================] - 6s 59ms/step - loss: 0.1591 - accuracy: 0.9475 - val_loss: 0.4722 - val_accuracy: 0.8051\n",
            "Epoch 24/100\n",
            "95/95 [==============================] - 6s 60ms/step - loss: 0.1158 - accuracy: 0.9554 - val_loss: 0.4622 - val_accuracy: 0.8644\n",
            "Epoch 25/100\n",
            "95/95 [==============================] - 6s 61ms/step - loss: 0.0864 - accuracy: 0.9740 - val_loss: 0.4578 - val_accuracy: 0.8220\n",
            "Epoch 26/100\n",
            "95/95 [==============================] - 6s 60ms/step - loss: 0.1201 - accuracy: 0.9664 - val_loss: 0.5447 - val_accuracy: 0.8220\n",
            "Epoch 27/100\n",
            "95/95 [==============================] - 6s 60ms/step - loss: 0.1611 - accuracy: 0.9396 - val_loss: 0.4647 - val_accuracy: 0.8390\n",
            "Epoch 28/100\n",
            "95/95 [==============================] - 6s 60ms/step - loss: 0.1173 - accuracy: 0.9565 - val_loss: 0.4858 - val_accuracy: 0.8051\n",
            "Epoch 29/100\n",
            "95/95 [==============================] - 6s 60ms/step - loss: 0.1673 - accuracy: 0.9475 - val_loss: 0.2863 - val_accuracy: 0.8898\n",
            "Epoch 30/100\n",
            "95/95 [==============================] - 6s 60ms/step - loss: 0.1264 - accuracy: 0.9807 - val_loss: 0.2575 - val_accuracy: 0.9068\n",
            "Epoch 31/100\n",
            "95/95 [==============================] - 6s 60ms/step - loss: 0.0855 - accuracy: 0.9669 - val_loss: 0.6997 - val_accuracy: 0.7627\n",
            "Epoch 32/100\n",
            "95/95 [==============================] - 6s 60ms/step - loss: 0.1061 - accuracy: 0.9587 - val_loss: 0.6061 - val_accuracy: 0.8475\n",
            "Epoch 33/100\n",
            "95/95 [==============================] - 6s 61ms/step - loss: 0.0686 - accuracy: 0.9800 - val_loss: 0.3768 - val_accuracy: 0.8644\n",
            "Epoch 34/100\n",
            "95/95 [==============================] - 6s 60ms/step - loss: 0.1117 - accuracy: 0.9463 - val_loss: 0.6256 - val_accuracy: 0.8136\n",
            "Epoch 35/100\n",
            "95/95 [==============================] - 6s 61ms/step - loss: 0.0908 - accuracy: 0.9474 - val_loss: 0.3393 - val_accuracy: 0.8559\n",
            "Epoch 36/100\n",
            "95/95 [==============================] - 6s 61ms/step - loss: 0.1644 - accuracy: 0.9591 - val_loss: 0.4973 - val_accuracy: 0.8390\n",
            "Epoch 37/100\n",
            "95/95 [==============================] - 6s 60ms/step - loss: 0.0515 - accuracy: 0.9774 - val_loss: 0.6360 - val_accuracy: 0.8644\n",
            "Epoch 38/100\n",
            "95/95 [==============================] - 6s 60ms/step - loss: 0.1458 - accuracy: 0.9470 - val_loss: 0.5344 - val_accuracy: 0.8475\n",
            "Epoch 39/100\n",
            "95/95 [==============================] - 6s 60ms/step - loss: 0.1240 - accuracy: 0.9594 - val_loss: 0.6204 - val_accuracy: 0.8644\n",
            "Epoch 40/100\n",
            "95/95 [==============================] - 6s 60ms/step - loss: 0.0702 - accuracy: 0.9842 - val_loss: 0.7262 - val_accuracy: 0.8475\n",
            "Epoch 41/100\n",
            "95/95 [==============================] - 6s 60ms/step - loss: 0.0886 - accuracy: 0.9714 - val_loss: 0.4686 - val_accuracy: 0.8559\n",
            "Epoch 42/100\n",
            "95/95 [==============================] - 6s 60ms/step - loss: 0.1383 - accuracy: 0.9685 - val_loss: 0.7373 - val_accuracy: 0.8390\n",
            "Epoch 43/100\n",
            "95/95 [==============================] - 6s 62ms/step - loss: 0.0679 - accuracy: 0.9783 - val_loss: 0.6162 - val_accuracy: 0.8559\n",
            "Epoch 44/100\n",
            "95/95 [==============================] - 6s 63ms/step - loss: 0.0413 - accuracy: 0.9913 - val_loss: 0.6406 - val_accuracy: 0.8220\n",
            "Epoch 45/100\n",
            "95/95 [==============================] - 6s 62ms/step - loss: 0.0759 - accuracy: 0.9709 - val_loss: 0.5099 - val_accuracy: 0.8475\n",
            "Epoch 46/100\n",
            "95/95 [==============================] - 6s 61ms/step - loss: 0.0627 - accuracy: 0.9841 - val_loss: 0.8803 - val_accuracy: 0.8390\n",
            "Epoch 47/100\n",
            "95/95 [==============================] - 6s 61ms/step - loss: 0.1852 - accuracy: 0.9266 - val_loss: 0.7425 - val_accuracy: 0.8475\n",
            "Epoch 48/100\n",
            "95/95 [==============================] - 6s 60ms/step - loss: 0.0824 - accuracy: 0.9642 - val_loss: 0.5912 - val_accuracy: 0.8475\n",
            "Epoch 49/100\n",
            "95/95 [==============================] - 6s 61ms/step - loss: 0.0285 - accuracy: 0.9940 - val_loss: 1.1459 - val_accuracy: 0.8305\n",
            "Epoch 50/100\n",
            "95/95 [==============================] - 6s 61ms/step - loss: 0.0495 - accuracy: 0.9869 - val_loss: 0.7257 - val_accuracy: 0.8475\n",
            "Epoch 51/100\n",
            "95/95 [==============================] - 6s 61ms/step - loss: 0.0744 - accuracy: 0.9775 - val_loss: 0.8144 - val_accuracy: 0.8136\n",
            "Epoch 52/100\n",
            "95/95 [==============================] - 6s 60ms/step - loss: 0.0458 - accuracy: 0.9844 - val_loss: 0.5208 - val_accuracy: 0.8475\n",
            "Epoch 53/100\n",
            "95/95 [==============================] - 6s 60ms/step - loss: 0.0344 - accuracy: 0.9880 - val_loss: 0.3989 - val_accuracy: 0.8305\n",
            "Epoch 54/100\n",
            "95/95 [==============================] - 6s 60ms/step - loss: 0.0413 - accuracy: 0.9874 - val_loss: 0.4870 - val_accuracy: 0.8390\n",
            "Epoch 55/100\n",
            "95/95 [==============================] - 6s 61ms/step - loss: 0.0353 - accuracy: 0.9838 - val_loss: 1.2061 - val_accuracy: 0.8475\n",
            "Epoch 56/100\n",
            "95/95 [==============================] - 6s 60ms/step - loss: 0.0954 - accuracy: 0.9748 - val_loss: 0.7295 - val_accuracy: 0.8559\n",
            "Epoch 57/100\n",
            "95/95 [==============================] - 6s 62ms/step - loss: 0.0345 - accuracy: 0.9858 - val_loss: 0.5760 - val_accuracy: 0.8305\n",
            "Epoch 58/100\n",
            "95/95 [==============================] - 6s 61ms/step - loss: 0.0942 - accuracy: 0.9722 - val_loss: 0.4016 - val_accuracy: 0.8644\n",
            "Epoch 59/100\n",
            "95/95 [==============================] - 6s 61ms/step - loss: 0.0559 - accuracy: 0.9798 - val_loss: 0.6265 - val_accuracy: 0.8220\n",
            "Epoch 60/100\n",
            "95/95 [==============================] - 6s 60ms/step - loss: 0.0633 - accuracy: 0.9797 - val_loss: 0.7377 - val_accuracy: 0.8136\n",
            "Epoch 61/100\n",
            "95/95 [==============================] - 6s 60ms/step - loss: 0.0894 - accuracy: 0.9614 - val_loss: 0.4888 - val_accuracy: 0.8305\n",
            "Epoch 62/100\n",
            "95/95 [==============================] - 6s 61ms/step - loss: 0.0383 - accuracy: 0.9914 - val_loss: 0.4894 - val_accuracy: 0.8814\n",
            "Epoch 63/100\n",
            "95/95 [==============================] - 6s 60ms/step - loss: 0.0656 - accuracy: 0.9676 - val_loss: 0.7134 - val_accuracy: 0.8220\n",
            "Epoch 64/100\n",
            "95/95 [==============================] - 6s 60ms/step - loss: 0.0353 - accuracy: 0.9880 - val_loss: 0.8260 - val_accuracy: 0.8136\n",
            "Epoch 65/100\n",
            "95/95 [==============================] - 6s 61ms/step - loss: 0.0995 - accuracy: 0.9763 - val_loss: 0.4970 - val_accuracy: 0.8305\n",
            "Epoch 66/100\n",
            "95/95 [==============================] - 6s 60ms/step - loss: 0.0281 - accuracy: 0.9928 - val_loss: 0.8903 - val_accuracy: 0.8475\n",
            "Epoch 67/100\n",
            "95/95 [==============================] - 6s 59ms/step - loss: 0.0546 - accuracy: 0.9765 - val_loss: 0.5488 - val_accuracy: 0.8729\n",
            "Epoch 68/100\n",
            "95/95 [==============================] - 6s 59ms/step - loss: 0.0736 - accuracy: 0.9814 - val_loss: 0.5498 - val_accuracy: 0.8898\n",
            "Epoch 69/100\n",
            "95/95 [==============================] - 6s 59ms/step - loss: 0.0128 - accuracy: 0.9950 - val_loss: 1.5773 - val_accuracy: 0.8559\n",
            "Epoch 70/100\n",
            "95/95 [==============================] - 6s 61ms/step - loss: 0.1059 - accuracy: 0.9628 - val_loss: 0.5572 - val_accuracy: 0.8136\n",
            "Epoch 71/100\n",
            "95/95 [==============================] - 6s 61ms/step - loss: 0.0743 - accuracy: 0.9722 - val_loss: 0.6495 - val_accuracy: 0.8644\n",
            "Epoch 72/100\n",
            "95/95 [==============================] - 6s 61ms/step - loss: 0.0531 - accuracy: 0.9864 - val_loss: 0.5941 - val_accuracy: 0.8729\n",
            "Epoch 73/100\n",
            "95/95 [==============================] - 6s 61ms/step - loss: 0.0490 - accuracy: 0.9723 - val_loss: 1.0304 - val_accuracy: 0.8475\n",
            "Epoch 74/100\n",
            "95/95 [==============================] - 6s 61ms/step - loss: 0.0573 - accuracy: 0.9753 - val_loss: 0.5635 - val_accuracy: 0.8644\n",
            "Epoch 75/100\n",
            "95/95 [==============================] - 6s 60ms/step - loss: 0.0314 - accuracy: 0.9868 - val_loss: 0.8602 - val_accuracy: 0.8220\n",
            "Epoch 76/100\n",
            "95/95 [==============================] - 6s 61ms/step - loss: 0.0551 - accuracy: 0.9850 - val_loss: 0.6967 - val_accuracy: 0.8390\n",
            "Epoch 77/100\n",
            "95/95 [==============================] - 6s 60ms/step - loss: 0.0406 - accuracy: 0.9862 - val_loss: 1.0180 - val_accuracy: 0.8475\n",
            "Epoch 78/100\n",
            "95/95 [==============================] - 6s 60ms/step - loss: 0.0725 - accuracy: 0.9752 - val_loss: 0.5446 - val_accuracy: 0.8475\n",
            "Epoch 79/100\n",
            "95/95 [==============================] - 6s 61ms/step - loss: 0.0569 - accuracy: 0.9884 - val_loss: 0.4113 - val_accuracy: 0.8729\n",
            "Epoch 80/100\n",
            "95/95 [==============================] - 6s 60ms/step - loss: 0.0737 - accuracy: 0.9801 - val_loss: 0.8891 - val_accuracy: 0.8220\n",
            "Epoch 81/100\n",
            "95/95 [==============================] - 6s 61ms/step - loss: 0.0740 - accuracy: 0.9743 - val_loss: 0.5686 - val_accuracy: 0.8390\n",
            "Epoch 82/100\n",
            "95/95 [==============================] - 6s 61ms/step - loss: 0.0459 - accuracy: 0.9848 - val_loss: 0.7803 - val_accuracy: 0.8390\n",
            "Epoch 83/100\n",
            "95/95 [==============================] - 6s 60ms/step - loss: 0.0503 - accuracy: 0.9891 - val_loss: 0.6044 - val_accuracy: 0.8729\n",
            "Epoch 84/100\n",
            "95/95 [==============================] - 6s 61ms/step - loss: 0.0607 - accuracy: 0.9711 - val_loss: 0.4285 - val_accuracy: 0.8898\n",
            "Epoch 85/100\n",
            "95/95 [==============================] - 6s 60ms/step - loss: 0.0449 - accuracy: 0.9745 - val_loss: 0.9089 - val_accuracy: 0.8475\n",
            "Epoch 86/100\n",
            "95/95 [==============================] - 6s 61ms/step - loss: 0.0041 - accuracy: 0.9990 - val_loss: 1.4609 - val_accuracy: 0.8644\n",
            "Epoch 87/100\n",
            "95/95 [==============================] - 6s 62ms/step - loss: 0.0818 - accuracy: 0.9921 - val_loss: 0.9660 - val_accuracy: 0.8220\n",
            "Epoch 88/100\n",
            "95/95 [==============================] - 6s 61ms/step - loss: 0.2617 - accuracy: 0.9512 - val_loss: 0.5862 - val_accuracy: 0.8644\n",
            "Epoch 89/100\n",
            "95/95 [==============================] - 6s 60ms/step - loss: 0.0628 - accuracy: 0.9895 - val_loss: 0.7017 - val_accuracy: 0.8475\n",
            "Epoch 90/100\n",
            "95/95 [==============================] - 6s 59ms/step - loss: 0.0582 - accuracy: 0.9817 - val_loss: 0.6855 - val_accuracy: 0.8390\n",
            "Epoch 91/100\n",
            "95/95 [==============================] - 6s 61ms/step - loss: 0.0459 - accuracy: 0.9912 - val_loss: 0.5994 - val_accuracy: 0.8644\n",
            "Epoch 92/100\n",
            "95/95 [==============================] - 6s 60ms/step - loss: 0.0324 - accuracy: 0.9915 - val_loss: 0.9551 - val_accuracy: 0.8644\n",
            "Epoch 93/100\n",
            "95/95 [==============================] - 6s 60ms/step - loss: 0.0144 - accuracy: 0.9899 - val_loss: 0.9892 - val_accuracy: 0.8644\n",
            "Epoch 94/100\n",
            "95/95 [==============================] - 6s 60ms/step - loss: 0.2070 - accuracy: 0.9565 - val_loss: 0.2919 - val_accuracy: 0.9068\n",
            "Epoch 95/100\n",
            "95/95 [==============================] - 6s 61ms/step - loss: 0.0547 - accuracy: 0.9760 - val_loss: 0.5849 - val_accuracy: 0.8220\n",
            "Epoch 96/100\n",
            "95/95 [==============================] - 6s 60ms/step - loss: 0.0339 - accuracy: 0.9882 - val_loss: 0.7461 - val_accuracy: 0.8475\n",
            "Epoch 97/100\n",
            "95/95 [==============================] - 6s 62ms/step - loss: 0.0207 - accuracy: 0.9953 - val_loss: 1.0602 - val_accuracy: 0.8475\n",
            "Epoch 98/100\n",
            "95/95 [==============================] - 6s 62ms/step - loss: 0.0423 - accuracy: 0.9909 - val_loss: 0.5726 - val_accuracy: 0.9322\n",
            "Epoch 99/100\n",
            "95/95 [==============================] - 6s 60ms/step - loss: 0.0879 - accuracy: 0.9824 - val_loss: 0.5551 - val_accuracy: 0.8475\n",
            "Epoch 100/100\n",
            "95/95 [==============================] - 6s 60ms/step - loss: 0.1041 - accuracy: 0.9723 - val_loss: 0.6523 - val_accuracy: 0.8729\n"
          ],
          "name": "stdout"
        }
      ]
    },
    {
      "cell_type": "code",
      "metadata": {
        "id": "gVomLkU0ILBd",
        "colab": {
          "base_uri": "https://localhost:8080/",
          "height": 295
        },
        "outputId": "8cb51b2c-0a68-4d05-8ebc-204801618215"
      },
      "source": [
        "# summarize history for accuracy\n",
        "plt.plot(training_history.history['accuracy'])\n",
        "plt.plot(training_history.history['val_accuracy'])\n",
        "plt.title('model accuracy with batch norm and dropout')\n",
        "plt.ylabel('accuracy')\n",
        "plt.xlabel('epoch')\n",
        "plt.legend(['train', 'test'], loc='upper left')\n",
        "plt.show()"
      ],
      "execution_count": 16,
      "outputs": [
        {
          "output_type": "display_data",
          "data": {
            "image/png": "[encoded data removed]",
            "text/plain": [
              "<Figure size 432x288 with 1 Axes>"
            ]
          },
          "metadata": {
            "tags": [],
            "needs_background": "light"
          }
        }
      ]
    },
    {
      "cell_type": "code",
      "metadata": {
        "colab": {
          "base_uri": "https://localhost:8080/",
          "height": 295
        },
        "id": "itSoyeJsOWx_",
        "outputId": "3414f468-da51-4d8a-c0be-98f75949b78e"
      },
      "source": [
        "# summarize history for loss\n",
        "plt.plot(training_history.history['loss'])\n",
        "plt.plot(training_history.history['val_loss'])\n",
        "plt.title('model loss with batch norm and dropout')\n",
        "plt.ylabel('loss')\n",
        "plt.xlabel('epoch')\n",
        "plt.legend(['train', 'test'], loc='upper left')\n",
        "plt.show()"
      ],
      "execution_count": 17,
      "outputs": [
        {
          "output_type": "display_data",
          "data": {
            "image/png": "[encoded data removed]",
            "text/plain": [
              "<Figure size 432x288 with 1 Axes>"
            ]
          },
          "metadata": {
            "tags": [],
            "needs_background": "light"
          }
        }
      ]
    },
    {
      "cell_type": "code",
      "metadata": {
        "colab": {
          "base_uri": "https://localhost:8080/"
        },
        "id": "r-s6opfQOguX",
        "outputId": "14787013-cef4-4eab-b3e7-c5cd07d46227"
      },
      "source": [
        "val_dataset_lables = validation_generator.labels\n",
        "val_dataset_lables"
      ],
      "execution_count": 40,
      "outputs": [
        {
          "output_type": "execute_result",
          "data": {
            "text/plain": [
              "array([0, 0, 0, 0, 0, 0, 0, 0, 0, 0, 0, 0, 0, 0, 0, 0, 0, 0, 0, 0, 0, 0,\n",
              "       0, 0, 0, 0, 0, 0, 0, 0, 0, 0, 0, 0, 0, 0, 0, 0, 0, 0, 0, 0, 0, 0,\n",
              "       0, 0, 0, 0, 0, 0, 0, 0, 0, 0, 0, 0, 0, 0, 0, 0, 0, 0, 0, 0, 0, 0,\n",
              "       0, 0, 0, 0, 0, 0, 0, 0, 0, 0, 0, 0, 0, 0, 0, 0, 0, 0, 0, 0, 0, 0,\n",
              "       0, 0, 0, 0, 0, 0, 0, 0, 1, 1, 1, 1, 1, 1, 1, 1, 1, 1, 1, 1, 1, 1,\n",
              "       1, 1, 1, 1, 1, 1, 1, 1], dtype=int32)"
            ]
          },
          "metadata": {
            "tags": []
          },
          "execution_count": 40
        }
      ]
    },
    {
      "cell_type": "code",
      "metadata": {
        "colab": {
          "base_uri": "https://localhost:8080/"
        },
        "id": "yoLS_tzmQLgM",
        "outputId": "f4773428-6ddb-42ec-f980-149b970aada3"
      },
      "source": [
        "classes = train_generator.class_indices\n",
        "classes = classes.keys()\n",
        "classes = list(classes)\n",
        "classes"
      ],
      "execution_count": 30,
      "outputs": [
        {
          "output_type": "execute_result",
          "data": {
            "text/plain": [
              "['Mask', 'NoMask']"
            ]
          },
          "metadata": {
            "tags": []
          },
          "execution_count": 30
        }
      ]
    },
    {
      "cell_type": "code",
      "metadata": {
        "colab": {
          "base_uri": "https://localhost:8080/"
        },
        "id": "Pi3SmguCSLQh",
        "outputId": "425e5f15-aa06-4307-e97d-ba55aab087a7"
      },
      "source": [
        "file_ids"
      ],
      "execution_count": 36,
      "outputs": [
        {
          "output_type": "execute_result",
          "data": {
            "text/plain": [
              "[41,\n",
              " 39,\n",
              " 27,\n",
              " 35,\n",
              " 45,\n",
              " 38,\n",
              " 32,\n",
              " 31,\n",
              " 29,\n",
              " 9,\n",
              " 1,\n",
              " 26,\n",
              " 24,\n",
              " 21,\n",
              " 28,\n",
              " 7,\n",
              " 42,\n",
              " 44,\n",
              " 25,\n",
              " 12,\n",
              " 6,\n",
              " 43,\n",
              " 0,\n",
              " 10,\n",
              " 19,\n",
              " 4,\n",
              " 3,\n",
              " 18,\n",
              " 15,\n",
              " 37,\n",
              " 14,\n",
              " 16,\n",
              " 23,\n",
              " 2,\n",
              " 11,\n",
              " 17,\n",
              " 30,\n",
              " 20,\n",
              " 40,\n",
              " 13,\n",
              " 22,\n",
              " 33,\n",
              " 34,\n",
              " 8,\n",
              " 36,\n",
              " 5]"
            ]
          },
          "metadata": {
            "tags": []
          },
          "execution_count": 36
        }
      ]
    },
    {
      "cell_type": "code",
      "metadata": {
        "colab": {
          "base_uri": "https://localhost:8080/"
        },
        "id": "lUt3wmPFOrQr",
        "outputId": "e54db980-2f8a-4e94-bba5-b5f64dffdcb1"
      },
      "source": [
        "pred_test_result = []\n",
        "for file_id, img in zip(file_ids, test_dataset):\n",
        "  exp_img = np.expand_dims(img, axis=0)\n",
        "  val_dataset_pred = model.predict(exp_img)\n",
        "  pred_val = np.argmax(val_dataset_pred)\n",
        "  pred_val_lable = classes[pred_val]\n",
        "  val_dataset_pred_lable = None\n",
        "  if pred_val_lable == 'Mask':\n",
        "    val_dataset_pred_lable = 1\n",
        "  else:\n",
        "    val_dataset_pred_lable = 0\n",
        "  result = [file_id,  val_dataset_pred_lable, pred_val_lable]\n",
        "  #print(val_dataset_pred)\n",
        "  print(result)\n",
        "  pred_test_result.append(result)\n",
        "  print(\"\\n\")"
      ],
      "execution_count": 41,
      "outputs": [
        {
          "output_type": "stream",
          "text": [
            "[41, 1, 'Mask']\n",
            "\n",
            "\n",
            "[39, 1, 'Mask']\n",
            "\n",
            "\n",
            "[27, 0, 'NoMask']\n",
            "\n",
            "\n",
            "[35, 0, 'NoMask']\n",
            "\n",
            "\n",
            "[45, 1, 'Mask']\n",
            "\n",
            "\n",
            "[38, 1, 'Mask']\n",
            "\n",
            "\n",
            "[32, 1, 'Mask']\n",
            "\n",
            "\n",
            "[31, 1, 'Mask']\n",
            "\n",
            "\n",
            "[29, 1, 'Mask']\n",
            "\n",
            "\n",
            "[9, 1, 'Mask']\n",
            "\n",
            "\n",
            "[1, 1, 'Mask']\n",
            "\n",
            "\n",
            "[26, 1, 'Mask']\n",
            "\n",
            "\n",
            "[24, 1, 'Mask']\n",
            "\n",
            "\n",
            "[21, 1, 'Mask']\n",
            "\n",
            "\n",
            "[28, 1, 'Mask']\n",
            "\n",
            "\n",
            "[7, 1, 'Mask']\n",
            "\n",
            "\n",
            "[42, 1, 'Mask']\n",
            "\n",
            "\n",
            "[44, 1, 'Mask']\n",
            "\n",
            "\n",
            "[25, 1, 'Mask']\n",
            "\n",
            "\n",
            "[12, 1, 'Mask']\n",
            "\n",
            "\n",
            "[6, 1, 'Mask']\n",
            "\n",
            "\n",
            "[43, 0, 'NoMask']\n",
            "\n",
            "\n",
            "[0, 1, 'Mask']\n",
            "\n",
            "\n",
            "[10, 1, 'Mask']\n",
            "\n",
            "\n",
            "[19, 1, 'Mask']\n",
            "\n",
            "\n",
            "[4, 1, 'Mask']\n",
            "\n",
            "\n",
            "[3, 1, 'Mask']\n",
            "\n",
            "\n",
            "[18, 1, 'Mask']\n",
            "\n",
            "\n",
            "[15, 1, 'Mask']\n",
            "\n",
            "\n",
            "[37, 0, 'NoMask']\n",
            "\n",
            "\n",
            "[14, 1, 'Mask']\n",
            "\n",
            "\n",
            "[16, 1, 'Mask']\n",
            "\n",
            "\n",
            "[23, 1, 'Mask']\n",
            "\n",
            "\n",
            "[2, 1, 'Mask']\n",
            "\n",
            "\n",
            "[11, 1, 'Mask']\n",
            "\n",
            "\n",
            "[17, 1, 'Mask']\n",
            "\n",
            "\n",
            "[30, 1, 'Mask']\n",
            "\n",
            "\n",
            "[20, 1, 'Mask']\n",
            "\n",
            "\n",
            "[40, 1, 'Mask']\n",
            "\n",
            "\n",
            "[13, 1, 'Mask']\n",
            "\n",
            "\n",
            "[22, 1, 'Mask']\n",
            "\n",
            "\n",
            "[33, 1, 'Mask']\n",
            "\n",
            "\n",
            "[34, 0, 'NoMask']\n",
            "\n",
            "\n",
            "[8, 1, 'Mask']\n",
            "\n",
            "\n",
            "[36, 0, 'NoMask']\n",
            "\n",
            "\n",
            "[5, 1, 'Mask']\n",
            "\n",
            "\n"
          ],
          "name": "stdout"
        }
      ]
    },
    {
      "cell_type": "code",
      "metadata": {
        "colab": {
          "base_uri": "https://localhost:8080/",
          "height": 1000
        },
        "id": "bPgsl-vlRUK5",
        "outputId": "f3b9d3f8-dfaa-4e4a-b7d0-d38dfaf8ef98"
      },
      "source": [
        "pred_test_result_df = pd.DataFrame(pred_test_result, columns=['file_id', 'label', 'label_value'])\n",
        "pred_test_result_df.sort_values(by='file_id')"
      ],
      "execution_count": 44,
      "outputs": [
        {
          "output_type": "execute_result",
          "data": {
            "text/html": [
              "<div>\n",
              "<style scoped>\n",
              "    .dataframe tbody tr th:only-of-type {\n",
              "        vertical-align: middle;\n",
              "    }\n",
              "\n",
              "    .dataframe tbody tr th {\n",
              "        vertical-align: top;\n",
              "    }\n",
              "\n",
              "    .dataframe thead th {\n",
              "        text-align: right;\n",
              "    }\n",
              "</style>\n",
              "<table border=\"1\" class=\"dataframe\">\n",
              "  <thead>\n",
              "    <tr style=\"text-align: right;\">\n",
              "      <th></th>\n",
              "      <th>file_id</th>\n",
              "      <th>label</th>\n",
              "      <th>label_value</th>\n",
              "    </tr>\n",
              "  </thead>\n",
              "  <tbody>\n",
              "    <tr>\n",
              "      <th>22</th>\n",
              "      <td>0</td>\n",
              "      <td>1</td>\n",
              "      <td>Mask</td>\n",
              "    </tr>\n",
              "    <tr>\n",
              "      <th>10</th>\n",
              "      <td>1</td>\n",
              "      <td>1</td>\n",
              "      <td>Mask</td>\n",
              "    </tr>\n",
              "    <tr>\n",
              "      <th>33</th>\n",
              "      <td>2</td>\n",
              "      <td>1</td>\n",
              "      <td>Mask</td>\n",
              "    </tr>\n",
              "    <tr>\n",
              "      <th>26</th>\n",
              "      <td>3</td>\n",
              "      <td>1</td>\n",
              "      <td>Mask</td>\n",
              "    </tr>\n",
              "    <tr>\n",
              "      <th>25</th>\n",
              "      <td>4</td>\n",
              "      <td>1</td>\n",
              "      <td>Mask</td>\n",
              "    </tr>\n",
              "    <tr>\n",
              "      <th>45</th>\n",
              "      <td>5</td>\n",
              "      <td>1</td>\n",
              "      <td>Mask</td>\n",
              "    </tr>\n",
              "    <tr>\n",
              "      <th>20</th>\n",
              "      <td>6</td>\n",
              "      <td>1</td>\n",
              "      <td>Mask</td>\n",
              "    </tr>\n",
              "    <tr>\n",
              "      <th>15</th>\n",
              "      <td>7</td>\n",
              "      <td>1</td>\n",
              "      <td>Mask</td>\n",
              "    </tr>\n",
              "    <tr>\n",
              "      <th>43</th>\n",
              "      <td>8</td>\n",
              "      <td>1</td>\n",
              "      <td>Mask</td>\n",
              "    </tr>\n",
              "    <tr>\n",
              "      <th>9</th>\n",
              "      <td>9</td>\n",
              "      <td>1</td>\n",
              "      <td>Mask</td>\n",
              "    </tr>\n",
              "    <tr>\n",
              "      <th>23</th>\n",
              "      <td>10</td>\n",
              "      <td>1</td>\n",
              "      <td>Mask</td>\n",
              "    </tr>\n",
              "    <tr>\n",
              "      <th>34</th>\n",
              "      <td>11</td>\n",
              "      <td>1</td>\n",
              "      <td>Mask</td>\n",
              "    </tr>\n",
              "    <tr>\n",
              "      <th>19</th>\n",
              "      <td>12</td>\n",
              "      <td>1</td>\n",
              "      <td>Mask</td>\n",
              "    </tr>\n",
              "    <tr>\n",
              "      <th>39</th>\n",
              "      <td>13</td>\n",
              "      <td>1</td>\n",
              "      <td>Mask</td>\n",
              "    </tr>\n",
              "    <tr>\n",
              "      <th>30</th>\n",
              "      <td>14</td>\n",
              "      <td>1</td>\n",
              "      <td>Mask</td>\n",
              "    </tr>\n",
              "    <tr>\n",
              "      <th>28</th>\n",
              "      <td>15</td>\n",
              "      <td>1</td>\n",
              "      <td>Mask</td>\n",
              "    </tr>\n",
              "    <tr>\n",
              "      <th>31</th>\n",
              "      <td>16</td>\n",
              "      <td>1</td>\n",
              "      <td>Mask</td>\n",
              "    </tr>\n",
              "    <tr>\n",
              "      <th>35</th>\n",
              "      <td>17</td>\n",
              "      <td>1</td>\n",
              "      <td>Mask</td>\n",
              "    </tr>\n",
              "    <tr>\n",
              "      <th>27</th>\n",
              "      <td>18</td>\n",
              "      <td>1</td>\n",
              "      <td>Mask</td>\n",
              "    </tr>\n",
              "    <tr>\n",
              "      <th>24</th>\n",
              "      <td>19</td>\n",
              "      <td>1</td>\n",
              "      <td>Mask</td>\n",
              "    </tr>\n",
              "    <tr>\n",
              "      <th>37</th>\n",
              "      <td>20</td>\n",
              "      <td>1</td>\n",
              "      <td>Mask</td>\n",
              "    </tr>\n",
              "    <tr>\n",
              "      <th>13</th>\n",
              "      <td>21</td>\n",
              "      <td>1</td>\n",
              "      <td>Mask</td>\n",
              "    </tr>\n",
              "    <tr>\n",
              "      <th>40</th>\n",
              "      <td>22</td>\n",
              "      <td>1</td>\n",
              "      <td>Mask</td>\n",
              "    </tr>\n",
              "    <tr>\n",
              "      <th>32</th>\n",
              "      <td>23</td>\n",
              "      <td>1</td>\n",
              "      <td>Mask</td>\n",
              "    </tr>\n",
              "    <tr>\n",
              "      <th>12</th>\n",
              "      <td>24</td>\n",
              "      <td>1</td>\n",
              "      <td>Mask</td>\n",
              "    </tr>\n",
              "    <tr>\n",
              "      <th>18</th>\n",
              "      <td>25</td>\n",
              "      <td>1</td>\n",
              "      <td>Mask</td>\n",
              "    </tr>\n",
              "    <tr>\n",
              "      <th>11</th>\n",
              "      <td>26</td>\n",
              "      <td>1</td>\n",
              "      <td>Mask</td>\n",
              "    </tr>\n",
              "    <tr>\n",
              "      <th>2</th>\n",
              "      <td>27</td>\n",
              "      <td>0</td>\n",
              "      <td>NoMask</td>\n",
              "    </tr>\n",
              "    <tr>\n",
              "      <th>14</th>\n",
              "      <td>28</td>\n",
              "      <td>1</td>\n",
              "      <td>Mask</td>\n",
              "    </tr>\n",
              "    <tr>\n",
              "      <th>8</th>\n",
              "      <td>29</td>\n",
              "      <td>1</td>\n",
              "      <td>Mask</td>\n",
              "    </tr>\n",
              "    <tr>\n",
              "      <th>36</th>\n",
              "      <td>30</td>\n",
              "      <td>1</td>\n",
              "      <td>Mask</td>\n",
              "    </tr>\n",
              "    <tr>\n",
              "      <th>7</th>\n",
              "      <td>31</td>\n",
              "      <td>1</td>\n",
              "      <td>Mask</td>\n",
              "    </tr>\n",
              "    <tr>\n",
              "      <th>6</th>\n",
              "      <td>32</td>\n",
              "      <td>1</td>\n",
              "      <td>Mask</td>\n",
              "    </tr>\n",
              "    <tr>\n",
              "      <th>41</th>\n",
              "      <td>33</td>\n",
              "      <td>1</td>\n",
              "      <td>Mask</td>\n",
              "    </tr>\n",
              "    <tr>\n",
              "      <th>42</th>\n",
              "      <td>34</td>\n",
              "      <td>0</td>\n",
              "      <td>NoMask</td>\n",
              "    </tr>\n",
              "    <tr>\n",
              "      <th>3</th>\n",
              "      <td>35</td>\n",
              "      <td>0</td>\n",
              "      <td>NoMask</td>\n",
              "    </tr>\n",
              "    <tr>\n",
              "      <th>44</th>\n",
              "      <td>36</td>\n",
              "      <td>0</td>\n",
              "      <td>NoMask</td>\n",
              "    </tr>\n",
              "    <tr>\n",
              "      <th>29</th>\n",
              "      <td>37</td>\n",
              "      <td>0</td>\n",
              "      <td>NoMask</td>\n",
              "    </tr>\n",
              "    <tr>\n",
              "      <th>5</th>\n",
              "      <td>38</td>\n",
              "      <td>1</td>\n",
              "      <td>Mask</td>\n",
              "    </tr>\n",
              "    <tr>\n",
              "      <th>1</th>\n",
              "      <td>39</td>\n",
              "      <td>1</td>\n",
              "      <td>Mask</td>\n",
              "    </tr>\n",
              "    <tr>\n",
              "      <th>38</th>\n",
              "      <td>40</td>\n",
              "      <td>1</td>\n",
              "      <td>Mask</td>\n",
              "    </tr>\n",
              "    <tr>\n",
              "      <th>0</th>\n",
              "      <td>41</td>\n",
              "      <td>1</td>\n",
              "      <td>Mask</td>\n",
              "    </tr>\n",
              "    <tr>\n",
              "      <th>16</th>\n",
              "      <td>42</td>\n",
              "      <td>1</td>\n",
              "      <td>Mask</td>\n",
              "    </tr>\n",
              "    <tr>\n",
              "      <th>21</th>\n",
              "      <td>43</td>\n",
              "      <td>0</td>\n",
              "      <td>NoMask</td>\n",
              "    </tr>\n",
              "    <tr>\n",
              "      <th>17</th>\n",
              "      <td>44</td>\n",
              "      <td>1</td>\n",
              "      <td>Mask</td>\n",
              "    </tr>\n",
              "    <tr>\n",
              "      <th>4</th>\n",
              "      <td>45</td>\n",
              "      <td>1</td>\n",
              "      <td>Mask</td>\n",
              "    </tr>\n",
              "  </tbody>\n",
              "</table>\n",
              "</div>"
            ],
            "text/plain": [
              "    file_id  label label_value\n",
              "22        0      1        Mask\n",
              "10        1      1        Mask\n",
              "33        2      1        Mask\n",
              "26        3      1        Mask\n",
              "25        4      1        Mask\n",
              "45        5      1        Mask\n",
              "20        6      1        Mask\n",
              "15        7      1        Mask\n",
              "43        8      1        Mask\n",
              "9         9      1        Mask\n",
              "23       10      1        Mask\n",
              "34       11      1        Mask\n",
              "19       12      1        Mask\n",
              "39       13      1        Mask\n",
              "30       14      1        Mask\n",
              "28       15      1        Mask\n",
              "31       16      1        Mask\n",
              "35       17      1        Mask\n",
              "27       18      1        Mask\n",
              "24       19      1        Mask\n",
              "37       20      1        Mask\n",
              "13       21      1        Mask\n",
              "40       22      1        Mask\n",
              "32       23      1        Mask\n",
              "12       24      1        Mask\n",
              "18       25      1        Mask\n",
              "11       26      1        Mask\n",
              "2        27      0      NoMask\n",
              "14       28      1        Mask\n",
              "8        29      1        Mask\n",
              "36       30      1        Mask\n",
              "7        31      1        Mask\n",
              "6        32      1        Mask\n",
              "41       33      1        Mask\n",
              "42       34      0      NoMask\n",
              "3        35      0      NoMask\n",
              "44       36      0      NoMask\n",
              "29       37      0      NoMask\n",
              "5        38      1        Mask\n",
              "1        39      1        Mask\n",
              "38       40      1        Mask\n",
              "0        41      1        Mask\n",
              "16       42      1        Mask\n",
              "21       43      0      NoMask\n",
              "17       44      1        Mask\n",
              "4        45      1        Mask"
            ]
          },
          "metadata": {
            "tags": []
          },
          "execution_count": 44
        }
      ]
    },
    {
      "cell_type": "code",
      "metadata": {
        "id": "9mdjbiX8YisS"
      },
      "source": [
        "subbmit =pred_test_result_df.drop(['label_value'], axis=1)\n",
        "subbmit.to_csv('HDFC_Hackthon_Submit_1.csv', index=False)"
      ],
      "execution_count": 68,
      "outputs": []
    },
    {
      "cell_type": "code",
      "metadata": {
        "id": "f-vJH5RTaXgH"
      },
      "source": [
        ""
      ],
      "execution_count": null,
      "outputs": []
    }
  ]
}